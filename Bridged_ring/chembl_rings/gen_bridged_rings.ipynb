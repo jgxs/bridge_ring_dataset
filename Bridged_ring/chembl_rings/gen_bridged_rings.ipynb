{
 "cells": [
  {
   "cell_type": "code",
   "execution_count": 16,
   "metadata": {},
   "outputs": [],
   "source": [
    "import psycopg2\n",
    "import psycopg2.extras\n",
    "# https://ftp.ebi.ac.uk/pub/databases/chembl/ChEMBLdb/latest/schema_documentation.html\n",
    "# key value table\n",
    "\n",
    "def getsmiles(compound_name):\n",
    "    with psycopg2.connect(dbname=\"chembl_29\", user=\"user\", password=\"user\", host=\"192.168.54.19\") as conn:\n",
    "        with conn.cursor(cursor_factory=psycopg2.extras.DictCursor) as cursor:\n",
    "            cursor.execute(\"select molregno, canonical_smiles from compound_structures;\")\n",
    "            Molrengno = cursor.fetchall()\n",
    "            with open(\"molregno_smis.csv\",\"w\") as smis:\n",
    "                for item in Molrengno:\n",
    "                    smis.write(f\"{item[0]:>8} {item[1]}\")\n",
    "        return Molrengno"
   ]
  },
  {
   "cell_type": "code",
   "execution_count": 88,
   "metadata": {},
   "outputs": [
    {
     "name": "stdout",
     "output_type": "stream",
     "text": [
      "[['PROTEIN NUCLEIC-ACID COMPLEX'], ['SELECTIVITY GROUP'], ['LIPID'], ['ADMET'], ['ORGANISM'], ['NO TARGET'], ['OLIGOSACCHARIDE'], ['NUCLEIC-ACID'], ['CELL-LINE'], ['SMALL MOLECULE'], ['TISSUE'], ['UNCHECKED'], ['PROTEIN FAMILY'], ['NON-MOLECULAR'], ['CHIMERIC PROTEIN'], ['PROTEIN COMPLEX'], ['PHENOTYPE'], ['SINGLE PROTEIN'], ['UNKNOWN'], ['PROTEIN-PROTEIN INTERACTION'], ['SUBCELLULAR'], ['MACROMOLECULE'], ['METAL'], ['PROTEIN COMPLEX GROUP']]\n",
      "[[2084724]]\n",
      "[['CHEMBL2096618', 'Bcr/Abl fusion protein', 'CHIMERIC PROTEIN', 'P00519'], ['CHEMBL2096618', 'Bcr/Abl fusion protein', 'CHIMERIC PROTEIN', 'P11274'], ['CHEMBL2111417', 'Muscarinic acetylcholine receptor M1/M5 chimeric protein', 'CHIMERIC PROTEIN', 'P11229'], ['CHEMBL2111417', 'Muscarinic acetylcholine receptor M1/M5 chimeric protein', 'CHIMERIC PROTEIN', 'P08912']]\n"
     ]
    }
   ],
   "source": [
    "with psycopg2.connect(dbname=\"chembl_29\", user=\"user\", password=\"user\", host=\"192.168.54.19\") as conn:\n",
    "    with conn.cursor(cursor_factory=psycopg2.extras.DictCursor) as cursor:\n",
    "        cursor.execute(\"select distinct target_type from target_dictionary\")\n",
    "        print(cursor.fetchall())\n",
    "        cursor.execute(\"select count(*) from compound_structures\")\n",
    "        print(cursor.fetchall())\n",
    "        cursor.execute(\"\"\"\n",
    "          SELECT t.chembl_id AS target_chembl_id,\n",
    "          t.pref_name        AS target_name,\n",
    "          t.target_type,\n",
    "          c.accession        AS protein_accession\n",
    "          FROM target_dictionary t\n",
    "          JOIN target_type tt ON t.target_type = tt.target_type\n",
    "          JOIN target_components tc ON t.tid = tc.tid\n",
    "          JOIN component_sequences c ON tc.component_id = c.component_id\n",
    "          AND tt.parent_type  = 'PROTEIN' limit 4;\n",
    "        \"\"\")\n",
    "        print(cursor.fetchall())\n"
   ]
  },
  {
   "cell_type": "code",
   "execution_count": 28,
   "metadata": {},
   "outputs": [],
   "source": [
    "import psycopg2\n",
    "import psycopg2.extras\n",
    "\n",
    "def get_target_bio(line):\n",
    "    Molrengno = line.split()[0]\n",
    "    print(Molrengno)\n",
    "    with psycopg2.connect(dbname=\"chembl_29\", user=\"user\", password=\"user\", host=\"192.168.54.19\") as conn:\n",
    "        with conn.cursor(cursor_factory=psycopg2.extras.DictCursor) as cursor:\n",
    "            cursor.execute(\"select assay_id from activities where molregno=%s;\",(molregno,))\n",
    "            assay_id = cursor.fetchall()[0][0]\n",
    "            cursor.execute(\"select tid from Assays where assay_id=%s;\", (assay_id,))\n",
    "            TID = cursor.fetchall()[0][0]\n",
    "            cursor.execute(\n",
    "                \"select pref_name from target_dictionary where TID=%s;\", (TID,)\n",
    "            )\n",
    "            TargetName = cursor.fetchall()[0][0]\n",
    "            if \"kinase\" in TargetName:\n",
    "                with open(\"/home/chengyj/kinase_work/Bridged_ring/chembl_rings/KI_all_smis.csv\",\"a\") as output:\n",
    "                    output.write(f\"{line} {TargetName}\\n\")\n",
    "            else:\n",
    "                print(\"No\")\n",
    "            return True"
   ]
  },
  {
   "cell_type": "code",
   "execution_count": 35,
   "metadata": {},
   "outputs": [
    {
     "name": "stdout",
     "output_type": "stream",
     "text": [
      "101260\n",
      "80224\n",
      "MCF7\n"
     ]
    },
    {
     "ename": "IndexError",
     "evalue": "list index out of range",
     "output_type": "error",
     "traceback": [
      "\u001b[0;31m---------------------------------------------------------------------------\u001b[0m",
      "\u001b[0;31mIndexError\u001b[0m                                Traceback (most recent call last)",
      "\u001b[0;32m/tmp/ipykernel_16463/4017405032.py\u001b[0m in \u001b[0;36m<module>\u001b[0;34m\u001b[0m\n\u001b[1;32m     22\u001b[0m         \u001b[0mprint\u001b[0m\u001b[0;34m(\u001b[0m\u001b[0mTargetType\u001b[0m\u001b[0;34m)\u001b[0m\u001b[0;34m\u001b[0m\u001b[0;34m\u001b[0m\u001b[0m\n\u001b[1;32m     23\u001b[0m         \u001b[0mcursor\u001b[0m\u001b[0;34m.\u001b[0m\u001b[0mexecute\u001b[0m\u001b[0;34m(\u001b[0m\u001b[0;34m\"select COMPONENT_ID from target_components where TID=%s;\"\u001b[0m\u001b[0;34m,\u001b[0m\u001b[0;34m(\u001b[0m\u001b[0mTID\u001b[0m\u001b[0;34m,\u001b[0m\u001b[0;34m)\u001b[0m\u001b[0;34m)\u001b[0m\u001b[0;34m\u001b[0m\u001b[0;34m\u001b[0m\u001b[0m\n\u001b[0;32m---> 24\u001b[0;31m         \u001b[0mcomponent_id\u001b[0m \u001b[0;34m=\u001b[0m \u001b[0mcursor\u001b[0m\u001b[0;34m.\u001b[0m\u001b[0mfetchall\u001b[0m\u001b[0;34m(\u001b[0m\u001b[0;34m)\u001b[0m\u001b[0;34m[\u001b[0m\u001b[0;36m0\u001b[0m\u001b[0;34m]\u001b[0m\u001b[0;34m[\u001b[0m\u001b[0;36m0\u001b[0m\u001b[0;34m]\u001b[0m\u001b[0;34m\u001b[0m\u001b[0;34m\u001b[0m\u001b[0m\n\u001b[0m\u001b[1;32m     25\u001b[0m         \u001b[0mprint\u001b[0m\u001b[0;34m(\u001b[0m\u001b[0mcomponent_id\u001b[0m\u001b[0;34m)\u001b[0m\u001b[0;34m\u001b[0m\u001b[0;34m\u001b[0m\u001b[0m\n\u001b[1;32m     26\u001b[0m         \u001b[0mcursor\u001b[0m\u001b[0;34m.\u001b[0m\u001b[0mexecute\u001b[0m\u001b[0;34m(\u001b[0m\u001b[0;34m\"select ACCESSION from COMPONENT_SEQUENCES where COMPONENT_ID=%s;\"\u001b[0m\u001b[0;34m,\u001b[0m\u001b[0;34m(\u001b[0m\u001b[0mCOMPONENT_ID\u001b[0m\u001b[0;34m,\u001b[0m\u001b[0;34m)\u001b[0m\u001b[0;34m,\u001b[0m\u001b[0;34m)\u001b[0m\u001b[0;34m\u001b[0m\u001b[0;34m\u001b[0m\u001b[0m\n",
      "\u001b[0;31mIndexError\u001b[0m: list index out of range"
     ]
    }
   ],
   "source": [
    "import psycopg2\n",
    "import psycopg2.extras\n",
    "\n",
    "with psycopg2.connect(dbname=\"chembl_29\", user=\"user\", password=\"user\", host=\"192.168.54.19\") as conn:\n",
    "    with conn.cursor(cursor_factory=psycopg2.extras.DictCursor) as cursor:\n",
    "        cursor.execute(\"select molregno from MOLECULE_DICTIONARY where chembl_id=%s;\",(\"CHEMBL255863\",))\n",
    "        molregno = cursor.fetchall()[0][0]\n",
    "        Chembl_id = \"86557\"\n",
    "\n",
    "        cursor.execute(\"select assay_id from activities where molregno=%s;\",(Chembl_id,))\n",
    "        assay_id = cursor.fetchall()[0][0]\n",
    "        print(assay_id)\n",
    "        cursor.execute(\"select tid from Assays where assay_id=%s;\", (assay_id,))\n",
    "        TID = cursor.fetchall()[0][0]\n",
    "        print(TID)\n",
    "        cursor.execute(\n",
    "                \"select pref_name from target_dictionary where TID=%s;\", (TID,)\n",
    "            )\n",
    "        TargetType = cursor.fetchall()[0][0]\n",
    "        if \"kinase\" in TargetType:\n",
    "            print(\"Yes\")\n",
    "        print(TargetType)\n",
    "        cursor.execute(\"select COMPONENT_ID from target_components where TID=%s;\",(TID,))\n",
    "        component_id = cursor.fetchall()[0][0]\n",
    "        print(component_id)\n",
    "        cursor.execute(\"select ACCESSION from COMPONENT_SEQUENCES where COMPONENT_ID=%s;\",(COMPONENT_ID,),)\n",
    "        UNIPROT = cursor.fetchall()[0][0]\n",
    "        print(UNIPROT)\n"
   ]
  },
  {
   "cell_type": "code",
   "execution_count": 3,
   "metadata": {},
   "outputs": [
    {
     "data": {
      "image/png": "[encoded data removed]",
      "text/plain": [
       "<PIL.PngImagePlugin.PngImageFile image mode=RGB size=300x300 at 0x7F67D0EB5C70>"
      ]
     },
     "execution_count": 3,
     "metadata": {},
     "output_type": "execute_result"
    }
   ],
   "source": [
    "smi=\"O=C(N[C@]12C[C@H]1CN(c1nc(Nc3cnn(CCO)c3)ncc1F)C2)C1CC1\"\n",
    "from rdkit import Chem\n",
    "from rdkit import rdBase\n",
    "from rdkit.Chem.Draw import MolToImage\n",
    "mol = Chem.MolFromSmiles(smi)\n",
    "MolToImage(mol)"
   ]
  },
  {
   "cell_type": "code",
   "execution_count": 56,
   "metadata": {},
   "outputs": [
    {
     "name": "stdout",
     "output_type": "stream",
     "text": [
      "2020.09.1\n",
      "((6,), (10,), (23,), (25,), (33,), (35,))\n",
      "[]\n"
     ]
    }
   ],
   "source": [
    "from rdkit import Chem\n",
    "from rdkit import rdBase\n",
    "from rdkit.Chem.Draw import rdMolDraw2D\n",
    "wrong_smi=\"CC1=C2NC(=O)/C=C\\C=C\\[C@H](C)[C@H](O)[C@@H](C)[C@@H](O)[C@@H](C)[C@H](O)[C@H](C)[C@@H](O)[C@@H](C)/C=C(\\C)C(=O)c3c(O)c(C)c(O)c(c3C1=O)C2=O\"\n",
    "smi=\"CC(C)[C@H]1C(=O)N2CCC[C@H]2C(=O)N(C)[C@H](Cc2ccccc2)C2=N[C@@H](CS2)C(=O)N[C@H](C)C2=N[C@@H](CS2)C(=O)N(C)[C@H](Cc2ccccc2)C(=O)N[C@H](C(C)C)C(=O)N[C@H](C)[C@@H](C)C(=O)O[C@@H](Cc2ccccc2)C(=O)N1C\"\n",
    "print(rdBase.rdkitVersion)\n",
    "m = Chem.MolFromSmiles(smi)\n",
    "patt = Chem.MolFromSmarts(\"[x3,x4]\")\n",
    "hit_at = m.GetSubstructMatches(patt)\n",
    "print(hit_at)\n",
    "hit_bonds = []\n",
    "for bond in patt.GetBonds():\n",
    "    aid1 = hit_at[bond.GetBeginAtomIdx()]\n",
    "    aid2 = hit_at[bond.GetEndAtomIdx()]\n",
    "    hit_bonds.append(m.GetBondBetweenAtoms(aid1,aid2).GetIdx())\n",
    "print(hit_bonds)\n",
    "hits = [int(item[0]) for item in hit_at]\n",
    "d = rdMolDraw2D.MolDraw2DCairo(500,500)\n",
    "rdMolDraw2D.PrepareAndDrawMolecule(d,m,highlightAtoms=hits)\n",
    "d.FinishDrawing()\n",
    "d.WriteDrawingText(\"res.png\")"
   ]
  },
  {
   "cell_type": "code",
   "execution_count": 58,
   "metadata": {},
   "outputs": [
    {
     "data": {
      "text/plain": [
       "1120.4529999999995"
      ]
     },
     "execution_count": 58,
     "metadata": {},
     "output_type": "execute_result"
    }
   ],
   "source": [
    "from rdkit.Chem import Descriptors\n",
    "m = Chem.MolFromSmiles(smi)\n",
    "Descriptors.MolWt(m)"
   ]
  },
  {
   "cell_type": "code",
   "execution_count": 43,
   "metadata": {},
   "outputs": [
    {
     "name": "stdout",
     "output_type": "stream",
     "text": [
      "False\n",
      "True\n"
     ]
    }
   ],
   "source": [
    "patt = Chem.MolFromSmarts(\"[x3]\")\n",
    "def check_bridgedrings(mol_check,):\n",
    "    hits = [item[0] for item in mol_check.GetSubstructMatches(patt)]\n",
    "    hits_number = len(hits)\n",
    "    for atom in hits:\n",
    "        for id_atm in mol_check.GetAtomWithIdx(atom).GetNeighbors():\n",
    "            if id_atm.GetIdx() in hits:\n",
    "                hits_number -= 1\n",
    "                break\n",
    "    return hits_number > 0\n",
    "\n",
    "wrong_smi=\"CC12CCC(O)CC1CCC1C2CCC2(C)[C@@H](C3=CC(=O)OC3)C(OC=O)CC12O\"\n",
    "smi=\"CC1(C)OC(=O)C=C[C@]2(C)[C@@H]3C[C@@]4(C)C(=O)[C@@]5(C)C[C@@H]6C(=O)OC[C@@]64O[C@@]3(CC[C@@H]12)C5\"\n",
    "wrong_mol = Chem.MolFromSmiles(wrong_smi)\n",
    "true_mol = Chem.MolFromSmiles(smi)\n",
    "print(check_bridgedrings(wrong_mol))\n",
    "print(check_bridgedrings(true_mol))"
   ]
  },
  {
   "cell_type": "code",
   "execution_count": 33,
   "metadata": {},
   "outputs": [
    {
     "name": "stdout",
     "output_type": "stream",
     "text": [
      "2\n"
     ]
    }
   ],
   "source": [
    "hits = [int(item[0]) for item in hit_at]\n",
    "num_atoms = len(hits)\n",
    "for atom in hits:\n",
    "    for id_atm in m.GetAtomWithIdx(atom).GetNeighbors():\n",
    "        if id_atm.GetIdx() in hits:\n",
    "            num_atoms -= 1\n",
    "            break\n",
    "print(num_atoms)\n",
    "    "
   ]
  }
 ],
 "metadata": {
  "kernelspec": {
   "display_name": "Python 3.6.8 64-bit",
   "language": "python",
   "name": "python3"
  },
  "language_info": {
   "codemirror_mode": {
    "name": "ipython",
    "version": 3
   },
   "file_extension": ".py",
   "mimetype": "text/x-python",
   "name": "python",
   "nbconvert_exporter": "python",
   "pygments_lexer": "ipython3",
   "version": "3.9.6"
  },
  "orig_nbformat": 4,
  "vscode": {
   "interpreter": {
    "hash": "916dbcbb3f70747c44a77c7bcd40155683ae19c65e1c03b4aa3499c5328201f1"
   }
  }
 },
 "nbformat": 4,
 "nbformat_minor": 2
}
