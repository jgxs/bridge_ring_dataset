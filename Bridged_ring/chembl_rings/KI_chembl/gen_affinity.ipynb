{
 "cells": [
  {
   "cell_type": "code",
   "execution_count": null,
   "metadata": {},
   "outputs": [],
   "source": [
    "import psycopg2\n",
    "import psycopg2.extras\n",
    "# https://ftp.ebi.ac.uk/pub/databases/chembl/ChEMBLdb/latest/schema_documentation.html\n",
    "# key value table\n",
    "\n",
    "def get_affinity(molrego):\n",
    "    with psycopg2.connect(dbname=\"chembl_29\", user=\"user\", password=\"user\", host=\"192.168.54.19\") as conn:\n",
    "        with conn.cursor(cursor_factory=psycopg2.extras.DictCursor) as cursor:\n",
    "            cursor.execute(\"select ACTIVITY_ID from ACTIVITIES where MOLREGNO = %s;\",(molrego,))\n",
    "            results = cursor.fetchall()\n",
    "        return results"
   ]
  }
 ],
 "metadata": {
  "interpreter": {
   "hash": "d0dde89e51fec503cb74275711d19eaeeb460448a8e1343133d627822a59156f"
  },
  "kernelspec": {
   "display_name": "Python 3.7.4 ('base')",
   "language": "python",
   "name": "python3"
  },
  "language_info": {
   "name": "python",
   "version": "3.7.4"
  },
  "orig_nbformat": 4
 },
 "nbformat": 4,
 "nbformat_minor": 2
}
