{
 "cells": [
  {
   "cell_type": "code",
   "execution_count": 8,
   "metadata": {},
   "outputs": [],
   "source": [
    "from rdkit import Chem\n",
    "from rdkit.Chem import AllChem\n",
    "from rdkit.Chem import rdFMCS\n",
    "from rdkit.Chem.Draw import IPythonConsole\n",
    "from rdkit.Chem import rdRGroupDecomposition as rdRGD\n",
    "# 显示图片\n",
    "\n",
    "import py3Dmol\n",
    "def drawit(m,p=None,confId=-1):\n",
    "        mb = Chem.MolToMolBlock(m,confId=confId)\n",
    "        if p is None:\n",
    "            p = py3Dmol.view(width=400,height=400)\n",
    "        p.removeAllModels()\n",
    "        p.addModel(mb,'sdf')\n",
    "        p.setStyle({'stick':{}})\n",
    "        p.setBackgroundColor('0xeeeeee')\n",
    "        p.zoomTo()\n",
    "        return p.show()\n",
    "\n",
    "def mol_with_atom_index(mol):\n",
    "    atoms = mol.GetNumAtoms()\n",
    "    for idx in range(atoms):\n",
    "        mol.GetAtomWithIdx(idx).SetProp('molAtomMapNumber',str(idx))\n",
    "    return mol"
   ]
  },
  {
   "cell_type": "code",
   "execution_count": 9,
   "metadata": {},
   "outputs": [
    {
     "data": {
      "application/3dmoljs_load.v0": "<div id=\"3dmolviewer_1668417882762746\"  style=\"position: relative; width: 400px; height: 400px\">\n        <p id=\"3dmolwarning_1668417882762746\" style=\"background-color:#ffcccc;color:black\">You appear to be running in JupyterLab (or JavaScript failed to load for some other reason).  You need to install the 3dmol extension: <br>\n        <tt>jupyter labextension install jupyterlab_3dmol</tt></p>\n        </div>\n<script>\n\nvar loadScriptAsync = function(uri){\n  return new Promise((resolve, reject) => {\n    var tag = document.createElement('script');\n    tag.src = uri;\n    tag.async = true;\n    tag.onload = () => {\n      resolve();\n    };\n  var firstScriptTag = document.getElementsByTagName('script')[0];\n  firstScriptTag.parentNode.insertBefore(tag, firstScriptTag);\n});\n};\n\nif(typeof $3Dmolpromise === 'undefined') {\n$3Dmolpromise = null;\n  $3Dmolpromise = loadScriptAsync('https://3dmol.csb.pitt.edu/build/3Dmol.js');\n}\n\nvar viewer_1668417882762746 = null;\nvar warn = document.getElementById(\"3dmolwarning_1668417882762746\");\nif(warn) {\n    warn.parentNode.removeChild(warn);\n}\n$3Dmolpromise.then(function() {\nviewer_1668417882762746 = $3Dmol.createViewer($(\"#3dmolviewer_1668417882762746\"),{backgroundColor:\"white\"});\n\tviewer_1668417882762746.removeAllModels();\n\tviewer_1668417882762746.addModel(\"\\n     RDKit          3D\\n\\n 23 25  0  0  0  0  0  0  0  0999 V2000\\n    0.0390   -7.3270  -25.4380 S   0  0  0  0  0  0  0  0  0  0  0  0\\n   -0.6730   -5.9030  -26.1160 C   0  0  2  0  0  0  0  0  0  0  0  0\\n    1.1400   -5.9170  -27.6260 N   0  0  0  0  0  0  0  0  0  0  0  0\\n    1.0450  -10.3910  -27.3980 O   0  0  0  0  0  0  0  0  0  0  0  0\\n    0.1550   -5.1350  -27.0380 C   0  0  1  0  0  0  0  0  0  0  0  0\\n    1.8540   -3.9640  -28.9460 N   0  0  0  0  0  0  0  0  0  0  0  0\\n    2.7560  -11.5610  -26.9500 O   0  0  0  0  0  0  0  0  0  0  0  0\\n    1.9680   -5.3070  -28.5600 C   0  0  1  0  0  0  0  0  0  0  0  0\\n    3.0520   -5.9570  -29.1740 N   0  0  0  0  0  0  0  0  0  0  0  0\\n    0.8580   -3.2420  -28.3460 C   0  0  0  0  0  0  0  0  0  0  0  0\\n    2.2400  -10.5930  -27.4650 N   0  0  0  0  0  0  0  0  0  0  0  0\\n   -0.0320   -3.7820  -27.3760 C   0  0  0  0  0  0  0  0  0  0  0  0\\n   -2.3020   -6.6090  -24.5910 N   0  0  0  0  0  0  0  0  0  0  0  0\\n    3.4490   -7.3080  -28.9750 C   0  0  1  0  0  0  0  0  0  0  0  0\\n    2.6850   -8.2640  -28.2400 C   0  0  0  0  0  0  0  0  0  0  0  0\\n    3.1000   -9.6000  -28.2100 C   0  0  0  0  0  0  0  0  0  0  0  0\\n    4.2690  -10.0350  -28.8690 C   0  0  0  0  0  0  0  0  0  0  0  0\\n    5.0420   -9.0750  -29.5760 C   0  0  0  0  0  0  0  0  0  0  0  0\\n    4.6480   -7.7280  -29.6360 C   0  0  0  0  0  0  0  0  0  0  0  0\\n   -1.9140   -5.6630  -25.5440 C   0  0  0  0  0  0  0  0  0  0  0  0\\n   -1.3430   -7.5200  -24.4560 C   0  0  0  0  0  0  0  0  0  0  0  0\\n   -1.4370   -8.6470  -23.4850 C   0  0  0  0  0  0  0  0  0  0  0  0\\n   -2.8820   -4.5590  -25.7310 C   0  0  0  0  0  0  0  0  0  0  0  0\\n  2  1  1  1\\n  5  3  1  0\\n  5  2  1  0\\n  8  3  1  0\\n  8  6  1  0\\n  8  9  1  1\\n 10  6  1  0\\n 11  7  1  0\\n 11  4  1  0\\n 12 10  1  0\\n  5 12  1  6\\n 14  9  1  6\\n 15 14  1  0\\n 16 15  1  0\\n 16 11  1  0\\n 17 16  1  0\\n 18 17  1  0\\n 19 18  1  0\\n 19 14  1  0\\n 20 13  1  0\\n 20  2  1  0\\n 21 13  1  0\\n 21  1  1  0\\n 22 21  1  0\\n 23 20  1  0\\nM  END\\n\",\"sdf\");\n\tviewer_1668417882762746.setStyle({\"stick\": {}});\n\tviewer_1668417882762746.setBackgroundColor(\"0xeeeeee\");\n\tviewer_1668417882762746.zoomTo();\nviewer_1668417882762746.render();\n});\n</script>",
      "text/html": [
       "<div id=\"3dmolviewer_1668417882762746\"  style=\"position: relative; width: 400px; height: 400px\">\n",
       "        <p id=\"3dmolwarning_1668417882762746\" style=\"background-color:#ffcccc;color:black\">You appear to be running in JupyterLab (or JavaScript failed to load for some other reason).  You need to install the 3dmol extension: <br>\n",
       "        <tt>jupyter labextension install jupyterlab_3dmol</tt></p>\n",
       "        </div>\n",
       "<script>\n",
       "\n",
       "var loadScriptAsync = function(uri){\n",
       "  return new Promise((resolve, reject) => {\n",
       "    var tag = document.createElement('script');\n",
       "    tag.src = uri;\n",
       "    tag.async = true;\n",
       "    tag.onload = () => {\n",
       "      resolve();\n",
       "    };\n",
       "  var firstScriptTag = document.getElementsByTagName('script')[0];\n",
       "  firstScriptTag.parentNode.insertBefore(tag, firstScriptTag);\n",
       "});\n",
       "};\n",
       "\n",
       "if(typeof $3Dmolpromise === 'undefined') {\n",
       "$3Dmolpromise = null;\n",
       "  $3Dmolpromise = loadScriptAsync('https://3dmol.csb.pitt.edu/build/3Dmol.js');\n",
       "}\n",
       "\n",
       "var viewer_1668417882762746 = null;\n",
       "var warn = document.getElementById(\"3dmolwarning_1668417882762746\");\n",
       "if(warn) {\n",
       "    warn.parentNode.removeChild(warn);\n",
       "}\n",
       "$3Dmolpromise.then(function() {\n",
       "viewer_1668417882762746 = $3Dmol.createViewer($(\"#3dmolviewer_1668417882762746\"),{backgroundColor:\"white\"});\n",
       "\tviewer_1668417882762746.removeAllModels();\n",
       "\tviewer_1668417882762746.addModel(\"\\n     RDKit          3D\\n\\n 23 25  0  0  0  0  0  0  0  0999 V2000\\n    0.0390   -7.3270  -25.4380 S   0  0  0  0  0  0  0  0  0  0  0  0\\n   -0.6730   -5.9030  -26.1160 C   0  0  2  0  0  0  0  0  0  0  0  0\\n    1.1400   -5.9170  -27.6260 N   0  0  0  0  0  0  0  0  0  0  0  0\\n    1.0450  -10.3910  -27.3980 O   0  0  0  0  0  0  0  0  0  0  0  0\\n    0.1550   -5.1350  -27.0380 C   0  0  1  0  0  0  0  0  0  0  0  0\\n    1.8540   -3.9640  -28.9460 N   0  0  0  0  0  0  0  0  0  0  0  0\\n    2.7560  -11.5610  -26.9500 O   0  0  0  0  0  0  0  0  0  0  0  0\\n    1.9680   -5.3070  -28.5600 C   0  0  1  0  0  0  0  0  0  0  0  0\\n    3.0520   -5.9570  -29.1740 N   0  0  0  0  0  0  0  0  0  0  0  0\\n    0.8580   -3.2420  -28.3460 C   0  0  0  0  0  0  0  0  0  0  0  0\\n    2.2400  -10.5930  -27.4650 N   0  0  0  0  0  0  0  0  0  0  0  0\\n   -0.0320   -3.7820  -27.3760 C   0  0  0  0  0  0  0  0  0  0  0  0\\n   -2.3020   -6.6090  -24.5910 N   0  0  0  0  0  0  0  0  0  0  0  0\\n    3.4490   -7.3080  -28.9750 C   0  0  1  0  0  0  0  0  0  0  0  0\\n    2.6850   -8.2640  -28.2400 C   0  0  0  0  0  0  0  0  0  0  0  0\\n    3.1000   -9.6000  -28.2100 C   0  0  0  0  0  0  0  0  0  0  0  0\\n    4.2690  -10.0350  -28.8690 C   0  0  0  0  0  0  0  0  0  0  0  0\\n    5.0420   -9.0750  -29.5760 C   0  0  0  0  0  0  0  0  0  0  0  0\\n    4.6480   -7.7280  -29.6360 C   0  0  0  0  0  0  0  0  0  0  0  0\\n   -1.9140   -5.6630  -25.5440 C   0  0  0  0  0  0  0  0  0  0  0  0\\n   -1.3430   -7.5200  -24.4560 C   0  0  0  0  0  0  0  0  0  0  0  0\\n   -1.4370   -8.6470  -23.4850 C   0  0  0  0  0  0  0  0  0  0  0  0\\n   -2.8820   -4.5590  -25.7310 C   0  0  0  0  0  0  0  0  0  0  0  0\\n  2  1  1  1\\n  5  3  1  0\\n  5  2  1  0\\n  8  3  1  0\\n  8  6  1  0\\n  8  9  1  1\\n 10  6  1  0\\n 11  7  1  0\\n 11  4  1  0\\n 12 10  1  0\\n  5 12  1  6\\n 14  9  1  6\\n 15 14  1  0\\n 16 15  1  0\\n 16 11  1  0\\n 17 16  1  0\\n 18 17  1  0\\n 19 18  1  0\\n 19 14  1  0\\n 20 13  1  0\\n 20  2  1  0\\n 21 13  1  0\\n 21  1  1  0\\n 22 21  1  0\\n 23 20  1  0\\nM  END\\n\",\"sdf\");\n",
       "\tviewer_1668417882762746.setStyle({\"stick\": {}});\n",
       "\tviewer_1668417882762746.setBackgroundColor(\"0xeeeeee\");\n",
       "\tviewer_1668417882762746.zoomTo();\n",
       "viewer_1668417882762746.render();\n",
       "});\n",
       "</script>"
      ]
     },
     "metadata": {},
     "output_type": "display_data"
    },
    {
     "data": {
      "application/3dmoljs_load.v0": "<div id=\"3dmolviewer_16684178827657397\"  style=\"position: relative; width: 400px; height: 400px\">\n        <p id=\"3dmolwarning_16684178827657397\" style=\"background-color:#ffcccc;color:black\">You appear to be running in JupyterLab (or JavaScript failed to load for some other reason).  You need to install the 3dmol extension: <br>\n        <tt>jupyter labextension install jupyterlab_3dmol</tt></p>\n        </div>\n<script>\n\nvar loadScriptAsync = function(uri){\n  return new Promise((resolve, reject) => {\n    var tag = document.createElement('script');\n    tag.src = uri;\n    tag.async = true;\n    tag.onload = () => {\n      resolve();\n    };\n  var firstScriptTag = document.getElementsByTagName('script')[0];\n  firstScriptTag.parentNode.insertBefore(tag, firstScriptTag);\n});\n};\n\nif(typeof $3Dmolpromise === 'undefined') {\n$3Dmolpromise = null;\n  $3Dmolpromise = loadScriptAsync('https://3dmol.csb.pitt.edu/build/3Dmol.js');\n}\n\nvar viewer_16684178827657397 = null;\nvar warn = document.getElementById(\"3dmolwarning_16684178827657397\");\nif(warn) {\n    warn.parentNode.removeChild(warn);\n}\n$3Dmolpromise.then(function() {\nviewer_16684178827657397 = $3Dmol.createViewer($(\"#3dmolviewer_16684178827657397\"),{backgroundColor:\"white\"});\n\tviewer_16684178827657397.removeAllModels();\n\tviewer_16684178827657397.addModel(\"\\n     RDKit          2D\\n\\n 23 25  0  0  0  0  0  0  0  0999 V2000\\n    3.9955   -1.6402    0.0000 C   0  0  0  0  0  0  0  0  0  0  0  0\\n    2.9918   -2.7549    0.0000 C   0  0  0  0  0  0  0  0  0  0  0  0\\n    1.5000   -2.5981    0.0000 C   0  0  0  0  0  0  0  0  0  0  0  0\\n    0.8899   -3.9684    0.0000 S   0  0  0  0  0  0  0  0  0  0  0  0\\n    2.0046   -4.9721    0.0000 C   0  0  0  0  0  0  0  0  0  0  0  0\\n    3.3037   -4.2221    0.0000 N   0  0  0  0  0  0  0  0  0  0  0  0\\n    1.8478   -6.4639    0.0000 C   0  0  0  0  0  0  0  0  0  0  0  0\\n    0.7500   -1.2990    0.0000 C   0  0  0  0  0  0  0  0  0  0  0  0\\n    1.5000    0.0000    0.0000 C   0  0  0  0  0  0  0  0  0  0  0  0\\n    0.7500    1.2990    0.0000 C   0  0  0  0  0  0  0  0  0  0  0  0\\n   -0.7500    1.2990    0.0000 N   0  0  0  0  0  0  0  0  0  0  0  0\\n   -1.5000    0.0000    0.0000 C   0  0  0  0  0  0  0  0  0  0  0  0\\n   -0.7500   -1.2990    0.0000 N   0  0  0  0  0  0  0  0  0  0  0  0\\n   -3.0000    0.0000    0.0000 N   0  0  0  0  0  0  0  0  0  0  0  0\\n   -3.7500    1.2990    0.0000 C   0  0  0  0  0  0  0  0  0  0  0  0\\n   -3.0000    2.5981    0.0000 C   0  0  0  0  0  0  0  0  0  0  0  0\\n   -3.7500    3.8971    0.0000 C   0  0  0  0  0  0  0  0  0  0  0  0\\n   -5.2500    3.8971    0.0000 C   0  0  0  0  0  0  0  0  0  0  0  0\\n   -6.0000    2.5981    0.0000 C   0  0  0  0  0  0  0  0  0  0  0  0\\n   -5.2500    1.2990    0.0000 C   0  0  0  0  0  0  0  0  0  0  0  0\\n   -7.5000    2.5981    0.0000 N   0  0  0  0  0  4  0  0  0  0  0  0\\n   -8.2500    1.2990    0.0000 O   0  0  0  0  0  0  0  0  0  0  0  0\\n   -8.2500    3.8971    0.0000 O   0  0  0  0  0  1  0  0  0  0  0  0\\n  1  2  1  0\\n  2  3  2  0\\n  3  4  1  0\\n  4  5  1  0\\n  5  6  2  0\\n  5  7  1  0\\n  3  8  1  0\\n  8  9  2  0\\n  9 10  1  0\\n 10 11  2  0\\n 11 12  1  0\\n 12 13  2  0\\n 12 14  1  0\\n 14 15  1  0\\n 15 16  2  0\\n 16 17  1  0\\n 17 18  2  0\\n 18 19  1  0\\n 19 20  2  0\\n 19 21  1  0\\n 21 22  2  0\\n 21 23  1  0\\n  6  2  1  0\\n 13  8  1  0\\n 20 15  1  0\\nM  CHG  2  21   1  23  -1\\nM  END\\n\",\"sdf\");\n\tviewer_16684178827657397.setStyle({\"stick\": {}});\n\tviewer_16684178827657397.setBackgroundColor(\"0xeeeeee\");\n\tviewer_16684178827657397.zoomTo();\nviewer_16684178827657397.render();\n});\n</script>",
      "text/html": [
       "<div id=\"3dmolviewer_16684178827657397\"  style=\"position: relative; width: 400px; height: 400px\">\n",
       "        <p id=\"3dmolwarning_16684178827657397\" style=\"background-color:#ffcccc;color:black\">You appear to be running in JupyterLab (or JavaScript failed to load for some other reason).  You need to install the 3dmol extension: <br>\n",
       "        <tt>jupyter labextension install jupyterlab_3dmol</tt></p>\n",
       "        </div>\n",
       "<script>\n",
       "\n",
       "var loadScriptAsync = function(uri){\n",
       "  return new Promise((resolve, reject) => {\n",
       "    var tag = document.createElement('script');\n",
       "    tag.src = uri;\n",
       "    tag.async = true;\n",
       "    tag.onload = () => {\n",
       "      resolve();\n",
       "    };\n",
       "  var firstScriptTag = document.getElementsByTagName('script')[0];\n",
       "  firstScriptTag.parentNode.insertBefore(tag, firstScriptTag);\n",
       "});\n",
       "};\n",
       "\n",
       "if(typeof $3Dmolpromise === 'undefined') {\n",
       "$3Dmolpromise = null;\n",
       "  $3Dmolpromise = loadScriptAsync('https://3dmol.csb.pitt.edu/build/3Dmol.js');\n",
       "}\n",
       "\n",
       "var viewer_16684178827657397 = null;\n",
       "var warn = document.getElementById(\"3dmolwarning_16684178827657397\");\n",
       "if(warn) {\n",
       "    warn.parentNode.removeChild(warn);\n",
       "}\n",
       "$3Dmolpromise.then(function() {\n",
       "viewer_16684178827657397 = $3Dmol.createViewer($(\"#3dmolviewer_16684178827657397\"),{backgroundColor:\"white\"});\n",
       "\tviewer_16684178827657397.removeAllModels();\n",
       "\tviewer_16684178827657397.addModel(\"\\n     RDKit          2D\\n\\n 23 25  0  0  0  0  0  0  0  0999 V2000\\n    3.9955   -1.6402    0.0000 C   0  0  0  0  0  0  0  0  0  0  0  0\\n    2.9918   -2.7549    0.0000 C   0  0  0  0  0  0  0  0  0  0  0  0\\n    1.5000   -2.5981    0.0000 C   0  0  0  0  0  0  0  0  0  0  0  0\\n    0.8899   -3.9684    0.0000 S   0  0  0  0  0  0  0  0  0  0  0  0\\n    2.0046   -4.9721    0.0000 C   0  0  0  0  0  0  0  0  0  0  0  0\\n    3.3037   -4.2221    0.0000 N   0  0  0  0  0  0  0  0  0  0  0  0\\n    1.8478   -6.4639    0.0000 C   0  0  0  0  0  0  0  0  0  0  0  0\\n    0.7500   -1.2990    0.0000 C   0  0  0  0  0  0  0  0  0  0  0  0\\n    1.5000    0.0000    0.0000 C   0  0  0  0  0  0  0  0  0  0  0  0\\n    0.7500    1.2990    0.0000 C   0  0  0  0  0  0  0  0  0  0  0  0\\n   -0.7500    1.2990    0.0000 N   0  0  0  0  0  0  0  0  0  0  0  0\\n   -1.5000    0.0000    0.0000 C   0  0  0  0  0  0  0  0  0  0  0  0\\n   -0.7500   -1.2990    0.0000 N   0  0  0  0  0  0  0  0  0  0  0  0\\n   -3.0000    0.0000    0.0000 N   0  0  0  0  0  0  0  0  0  0  0  0\\n   -3.7500    1.2990    0.0000 C   0  0  0  0  0  0  0  0  0  0  0  0\\n   -3.0000    2.5981    0.0000 C   0  0  0  0  0  0  0  0  0  0  0  0\\n   -3.7500    3.8971    0.0000 C   0  0  0  0  0  0  0  0  0  0  0  0\\n   -5.2500    3.8971    0.0000 C   0  0  0  0  0  0  0  0  0  0  0  0\\n   -6.0000    2.5981    0.0000 C   0  0  0  0  0  0  0  0  0  0  0  0\\n   -5.2500    1.2990    0.0000 C   0  0  0  0  0  0  0  0  0  0  0  0\\n   -7.5000    2.5981    0.0000 N   0  0  0  0  0  4  0  0  0  0  0  0\\n   -8.2500    1.2990    0.0000 O   0  0  0  0  0  0  0  0  0  0  0  0\\n   -8.2500    3.8971    0.0000 O   0  0  0  0  0  1  0  0  0  0  0  0\\n  1  2  1  0\\n  2  3  2  0\\n  3  4  1  0\\n  4  5  1  0\\n  5  6  2  0\\n  5  7  1  0\\n  3  8  1  0\\n  8  9  2  0\\n  9 10  1  0\\n 10 11  2  0\\n 11 12  1  0\\n 12 13  2  0\\n 12 14  1  0\\n 14 15  1  0\\n 15 16  2  0\\n 16 17  1  0\\n 17 18  2  0\\n 18 19  1  0\\n 19 20  2  0\\n 19 21  1  0\\n 21 22  2  0\\n 21 23  1  0\\n  6  2  1  0\\n 13  8  1  0\\n 20 15  1  0\\nM  CHG  2  21   1  23  -1\\nM  END\\n\",\"sdf\");\n",
       "\tviewer_16684178827657397.setStyle({\"stick\": {}});\n",
       "\tviewer_16684178827657397.setBackgroundColor(\"0xeeeeee\");\n",
       "\tviewer_16684178827657397.zoomTo();\n",
       "viewer_16684178827657397.render();\n",
       "});\n",
       "</script>"
      ]
     },
     "metadata": {},
     "output_type": "display_data"
    }
   ],
   "source": [
    "def pdb_2_lig_block(pdb_path,lig_id,smiles):\n",
    "    # 抽取pdbfile中的ligand部分\n",
    "    # rdkit可读字符串形式的pdbBlock\n",
    "    num = Chem.MolFromSmiles(smiles).GetNumAtoms()\n",
    "    ligand_lines = []\n",
    "    with open(pdb_path) as ent:\n",
    "        for line in ent:\n",
    "            if line[0:6] == \"HETATM\" and line[17:20] == lig_id:\n",
    "                ligand_lines.append(line)\n",
    "    ligand_start = 0\n",
    "    ligand_end = len(ligand_lines)\n",
    "    for i in range(1,len(ligand_lines)):\n",
    "        if ligand_lines[i][17:26] != ligand_lines[i-1][17:26]:\n",
    "            ligand_end = i\n",
    "            if ligand_end - ligand_start >= num:\n",
    "                break\n",
    "            else:\n",
    "                ligand_start = i\n",
    "                ligand_end = len(ligand_lines)\n",
    "        else:\n",
    "            pass\n",
    "    if ligand_end - ligand_start < 2*num:\n",
    "        lig_Block=\"\".join(ligand_lines[ligand_start:ligand_end])\n",
    "    else:\n",
    "        lig_Block=\"\".join(ligand_lines[ligand_start:ligand_start+num])\n",
    "    return lig_Block\n",
    "key='16K'\n",
    "pdb_id='4ek8'\n",
    "lig_smi=\"Cc1c(sc(n1)C)c2ccnc(n2)Nc3cccc(c3)[N+](=O)[O-]\"\n",
    "pdb_path = f\"/home/chengyj/kinase_work/dataset/Bridged_ring/PDB_rings/lig_in_pdb/pdb_dataset/pdb/pdb{pdb_id}.ent\"\n",
    "lig_block = pdb_2_lig_block(pdb_path,key,lig_smi)\n",
    "drawit(Chem.MolFromPDBBlock(lig_block))\n",
    "drawit(Chem.MolFromSmiles(lig_smi))\n"
   ]
  },
  {
   "cell_type": "code",
   "execution_count": 10,
   "metadata": {},
   "outputs": [],
   "source": [
    "def get_connect_atom_in_core(orimol,sidechain_atom_idxes):\n",
    "    # mol is the whole molecule, the sidechain_atom_idx is the a tuple of the atom idx of a sidechain;\n",
    "    # this function will get the atom connected with the .\n",
    "    connect_atoms_in_core = []\n",
    "    for idx in sidechain_atom_idxes:\n",
    "        for atom in orimol.GetAtomWithIdx(idx).GetNeighbors():\n",
    "            if atom.GetIdx() not in sidechain_atom_idxes:\n",
    "                connect_atoms_in_core.append(atom.GetIdx())\n",
    "    return connect_atoms_in_core"
   ]
  },
  {
   "cell_type": "code",
   "execution_count": 11,
   "metadata": {},
   "outputs": [],
   "source": [
    "def get_connect_atom_in_sidechain(orimol,core):\n",
    "    rings = orimol.GetRingInfo()\n",
    "    for r in rings.AtomRings():\n",
    "        count = 0\n",
    "        for idx in core:\n",
    "            if idx in set(r):\n",
    "                count += 1\n",
    "        if count == len(core) - 2:\n",
    "            core_atom_idx = set(r)\n",
    "            connect_atom_in_sidechain = set(core) - core_atom_idx\n",
    "    return list(connect_atom_in_sidechain)\n"
   ]
  },
  {
   "cell_type": "code",
   "execution_count": 12,
   "metadata": {},
   "outputs": [
    {
     "data": {
      "image/png": "[encoded data removed]",
      "text/plain": [
       "<rdkit.Chem.rdchem.Mol at 0x7f083044f220>"
      ]
     },
     "execution_count": 12,
     "metadata": {},
     "output_type": "execute_result"
    }
   ],
   "source": [
    "def phe2bch_test(smi):\n",
    "    # 用于将给定配体中的*间位苯环骨架*替换为*螺旋桨烷骨架*的脚本\n",
    "    # 用smi指定ligand的结构\n",
    "\n",
    "    # 读入分子\n",
    "    mol = Chem.MolFromSmiles(smi)\n",
    "    # 识别间位取代部分: * 匹配任意原子；'!:' 非芳香键； *!:ccc(!:*)ccc 含间位取代的苯环\n",
    "    patt = Chem.MolFromSmarts(\"*!:ccc(!:*)ccc\")\n",
    "    match = mol.GetSubstructMatches(patt)\n",
    "    \n",
    "    # 识别两个间位取代基与苯环的连接原子\n",
    "    connect_atoms = get_connect_atom_in_sidechain(mol,match[0])\n",
    "    # 识别需要被替换苯环原子\n",
    "    core = set(match[0])-set(connect_atoms)\n",
    "\n",
    "    # 记录第一部分的原子数目\n",
    "    mol1_Atom_num = mol.GetNumAtoms()\n",
    "\n",
    "    # 引入螺旋桨烷，并将其与原分子置于一处，使得其编号从·mol1_Atom_num+0·开始\n",
    "    re_pat = Chem.MolFromSmiles(\"C12CCCC(C2)C1\")\n",
    "    mid_mol = Chem.CombineMols(mol,re_pat)\n",
    "    mid_edited = Chem.EditableMol(mid_mol)\n",
    "\n",
    "    # 开始成键,螺旋桨烷烃的桥头碳分别为mol1_Atom_num和mol1_Atom_num+4\n",
    "    mid_edited.AddBond(connect_atoms[0],mol1_Atom_num,order=Chem.rdchem.BondType.SINGLE)\n",
    "    mid_edited.AddBond(connect_atoms[1],mol1_Atom_num+4,order=Chem.rdchem.BondType.SINGLE)\n",
    "    # 删除原来的苯环,每删除一个原子后原子序号都会发生改变，所以需要倒序删除。\n",
    "    phenyl_atoms = list(core)\n",
    "    phenyl_atoms.sort(reverse=True)\n",
    "    for i in phenyl_atoms:\n",
    "        mid_edited.RemoveAtom(i)\n",
    "    BCHep_mol = mid_edited.GetMol()\n",
    "    return BCHep_mol\n",
    "\n",
    "test = phe2bch_test(\"CN1C(=O)C=C(N=C1N)[C@H]2C[C@H]2c3cccc(c3)c4cccc(c4)OC\")\n",
    "mol_with_atom_index(test)"
   ]
  },
  {
   "cell_type": "code",
   "execution_count": 13,
   "metadata": {},
   "outputs": [],
   "source": [
    "def copy_partconf(refmol,refconf,partsmi,inpmol,inpconf,inpff):\n",
    "    # introduct a middle mol for \n",
    "    partmol = Chem.MolFromSmarts(partsmi)\n",
    "    partmol = Chem.AddHs(partmol)\n",
    "    AllChem.EmbedMolecule(partmol)\n",
    "    partmol = Chem.RemoveAllHs(partmol)\n",
    "    partconf = partmol.GetConformer()\n",
    "\n",
    "    # copy conf from refmol to middle mol\n",
    "    mcs_ref2part = rdFMCS.FindMCS([refmol, partmol],timeout=3)\n",
    "    for i, j in zip(refmol.GetSubstructMatch(mcs_ref2part),partmol.GetSubstructMatch(mcs_ref2part)):\n",
    "        partconf.SetAtomPosition(j,refconf.GetAtomPosition(i))\n",
    "    mcs_part2inp = rdFMCS.FindMCS([inpmol, partmol],timeout=3)\n",
    "    \n",
    "    # copy conf from middle mol to inpmol\n",
    "    for i, j in zip(partmol.GetSubstructMatch(mcs_part2inp),inpmol.GetSubstructMatch(mcs_part2inp)):\n",
    "        inpff.AddFixedPoint(j)\n",
    "        inpconf.SetAtomPosition(j,partconf.GetAtomPosition(i))\n",
    "    return 0\n",
    "\n"
   ]
  },
  {
   "cell_type": "code",
   "execution_count": 14,
   "metadata": {},
   "outputs": [],
   "source": [
    "def getpdb_test(refmol,inpmol,pdbfile):\n",
    "    \n",
    "    bonded_conf = refmol.GetConformer()\n",
    "    conf_res = inpmol.GetConformer()\n",
    "    inpmol_prop = Chem.rdForceFieldHelpers.MMFFGetMoleculeProperties(inpmol)\n",
    "    if inpmol_prop:\n",
    "        ff_mcs = Chem.rdForceFieldHelpers.MMFFGetMoleculeForceField(inpmol,inpmol_prop)\n",
    "    else:\n",
    "        ff_mcs = Chem.rdForceFieldHelpers.UFFGetMoleculeForceField(inpmol)\n",
    "\n",
    "\n",
    "    core = Chem.MolFromSmiles(\"C12CCCC(C2)C1\")\n",
    "    side_chains, unmatched = rdRGD.RGroupDecompose([core],[inpmol])\n",
    "    for R in ['R1','R2']:\n",
    "        sidechain = side_chains[0][R]\n",
    "        sidechain_conf = sidechain.GetConformer()\n",
    "\n",
    "        mcs_ref2mid = rdFMCS.FindMCS([refmol, sidechain],timeout=3,bondCompare=rdFMCS.BondCompare.CompareAny)\n",
    "        for i, j in zip(refmol.GetSubstructMatch(mcs_ref2mid.queryMol),sidechain.GetSubstructMatch(mcs_ref2mid.queryMol)):\n",
    "            sidechain_conf.SetAtomPosition(j, bonded_conf.GetAtomPosition(i))\n",
    "        \n",
    "        mcs_mid2inp = rdFMCS.FindMCS([inpmol, sidechain],timeout=3,bondCompare=rdFMCS.BondCompare.CompareOrderExact)\n",
    "        for i, j in zip(sidechain.GetSubstructMatch(mcs_mid2inp.queryMol),inpmol.GetSubstructMatch(mcs_mid2inp.queryMol)):\n",
    "            try:\n",
    "                ff_mcs.AddFixedPoint(j)\n",
    "                conf_res.SetAtomPosition(j, sidechain_conf.GetAtomPosition(i))\n",
    "            except:\n",
    "                print(f\"error {inpmol.GetAtomWithIdx(j).GetSymbol()}\")\n",
    "        \n",
    "        mcs1 = rdFMCS.FindMCS([refmol, sidechain],timeout=3,bondCompare=rdFMCS.BondCompare.CompareAny)\n",
    "        mcs3 = rdFMCS.FindMCS([inpmol, sidechain],timeout=3,bondCompare=rdFMCS.BondCompare.CompareOrderExact)\n",
    "        sidechain_ref = refmol.GetSubstructMatch(mcs1.queryMol)\n",
    "        sidechain_gen = inpmol.GetSubstructMatch(mcs3.queryMol)\n",
    "        atom_connect_sidechain_core_ref = get_connect_atom_in_core(refmol, sidechain_ref)[0]\n",
    "        atom_connect_sidechain_core_gen = get_connect_atom_in_core(inpmol, sidechain_gen)[0]\n",
    "        ff_mcs.AddFixedPoint(atom_connect_sidechain_core_gen)\n",
    "        conf_res.SetAtomPosition(atom_connect_sidechain_core_gen,bonded_conf.GetAtomPosition(atom_connect_sidechain_core_ref))\n",
    "        \n",
    "    for i in range(6):\n",
    "        try:\n",
    "            ff_mcs.Minimize()\n",
    "        except:\n",
    "            pass\n",
    "\n",
    "#    for i, j in zip(refmol.GetSubstructMatch(mcs.queryMol), inpmol.GetSubstructMatch(mcs.queryMol)):\n",
    "#        ff_mcs.AddFixedPoint(j)\n",
    "#        conf_res.SetAtomPosition(j, bonded_conf.GetAtomPosition(i))\n",
    "#    for i in range(10):\n",
    "#        try:\n",
    "#            ff_mcs.Minimize()\n",
    "#        except:\n",
    "#            pass\n",
    "    Chem.MolToPDBFile(inpmol, pdbfile)\n",
    "    return inpmol"
   ]
  },
  {
   "cell_type": "code",
   "execution_count": 15,
   "metadata": {},
   "outputs": [],
   "source": [
    "def phe2bch_topdb_test(smi0,refpdb,name):\n",
    "    mol = phe2bch_test(smi0)\n",
    "    smi = Chem.MolToSmiles(mol)\n",
    "    mol = Chem.MolFromSmiles(smi)\n",
    "    mol = Chem.AddHs(mol)\n",
    "    AllChem.EmbedMolecule(mol)\n",
    "    mol = Chem.RemoveAllHs(mol)\n",
    "\n",
    "    structure_from_pdb = Chem.MolFromPDBBlock(refpdb)\n",
    "    structure_from_pdb = Chem.RemoveAllHs(structure_from_pdb)\n",
    "    mol_tem = Chem.MolFromSmiles(smi0)\n",
    "    try:\n",
    "        structure_refine = AllChem.AssignBondOrdersFromTemplate(mol_tem,structure_from_pdb)\n",
    "    except:\n",
    "        structure_refine = structure_from_pdb\n",
    "    return getpdb_test(structure_refine,mol,f\"{name}\")"
   ]
  },
  {
   "cell_type": "code",
   "execution_count": 16,
   "metadata": {},
   "outputs": [
    {
     "data": {
      "application/3dmoljs_load.v0": "<div id=\"3dmolviewer_16684178836402025\"  style=\"position: relative; width: 400px; height: 400px\">\n        <p id=\"3dmolwarning_16684178836402025\" style=\"background-color:#ffcccc;color:black\">You appear to be running in JupyterLab (or JavaScript failed to load for some other reason).  You need to install the 3dmol extension: <br>\n        <tt>jupyter labextension install jupyterlab_3dmol</tt></p>\n        </div>\n<script>\n\nvar loadScriptAsync = function(uri){\n  return new Promise((resolve, reject) => {\n    var tag = document.createElement('script');\n    tag.src = uri;\n    tag.async = true;\n    tag.onload = () => {\n      resolve();\n    };\n  var firstScriptTag = document.getElementsByTagName('script')[0];\n  firstScriptTag.parentNode.insertBefore(tag, firstScriptTag);\n});\n};\n\nif(typeof $3Dmolpromise === 'undefined') {\n$3Dmolpromise = null;\n  $3Dmolpromise = loadScriptAsync('https://3dmol.csb.pitt.edu/build/3Dmol.js');\n}\n\nvar viewer_16684178836402025 = null;\nvar warn = document.getElementById(\"3dmolwarning_16684178836402025\");\nif(warn) {\n    warn.parentNode.removeChild(warn);\n}\n$3Dmolpromise.then(function() {\nviewer_16684178836402025 = $3Dmol.createViewer($(\"#3dmolviewer_16684178836402025\"),{backgroundColor:\"white\"});\n\tviewer_16684178836402025.removeAllModels();\n\tviewer_16684178836402025.addModel(\"\\n     RDKit          3D\\n\\n 19 19  0  0  0  0  0  0  0  0999 V2000\\n   -0.3230   21.4850    4.9720 F   0  0  0  0  0  0  0  0  0  0  0  0\\n   -0.3360   22.8110    4.8800 C   0  0  2  0  0  0  0  0  0  0  0  0\\n    0.2120   23.3210    5.9790 F   0  0  0  0  0  0  0  0  0  0  0  0\\n   -1.5910   23.2230    4.7790 F   0  0  0  0  0  0  0  0  0  0  0  0\\n    0.3940   23.2350    3.6450 C   0  0  0  0  0  0  0  0  0  0  0  0\\n    0.8510   22.2710    2.7640 C   0  0  0  0  0  0  0  0  0  0  0  0\\n    0.6070   24.5780    3.3620 C   0  0  0  0  0  0  0  0  0  0  0  0\\n    1.2780   24.9540    2.2050 C   0  0  0  0  0  0  0  0  0  0  0  0\\n    1.7350   23.9780    1.3290 C   0  0  0  0  0  0  0  0  0  0  0  0\\n    1.5080   22.6330    1.6010 C   0  0  0  0  0  0  0  0  0  0  0  0\\n    2.0060   21.5510    0.6950 C   0  0  0  0  0  0  0  0  0  0  0  0\\n    1.2010   20.7450   -0.0400 N   0  0  0  0  0  0  0  0  0  0  0  0\\n    0.1910   21.1080   -1.0070 C   0  0  0  0  0  0  0  0  0  0  0  0\\n   -1.0530   20.4940   -0.9440 C   0  0  0  0  0  0  0  0  0  0  0  0\\n   -2.0450   20.7930   -1.8700 C   0  0  0  0  0  0  0  0  0  0  0  0\\n   -3.3740   20.1190   -1.7710 C   0  0  0  0  0  0  0  0  0  0  0  0\\n   -4.2850   20.3730   -2.6050 O   0  0  0  0  0  0  0  0  0  0  0  0\\n   -3.5850   19.2880   -0.8480 O   0  0  0  0  0  0  0  0  0  0  0  0\\n   -1.7880   21.7160   -2.8760 C   0  0  0  0  0  0  0  0  0  0  0  0\\n  2  1  1  1\\n  3  2  1  0\\n  4  2  1  0\\n  5  2  1  0\\n  6  5  1  0\\n  7  5  1  0\\n  8  7  1  0\\n  9  8  1  0\\n 10  9  1  0\\n 10  6  1  0\\n 11 10  1  0\\n 12 11  1  0\\n 13 12  1  0\\n 14 13  1  0\\n 15 14  1  0\\n 16 15  1  0\\n 17 16  1  0\\n 18 16  1  0\\n 19 15  1  0\\nM  END\\n\",\"sdf\");\n\tviewer_16684178836402025.setStyle({\"stick\": {}});\n\tviewer_16684178836402025.setBackgroundColor(\"0xeeeeee\");\n\tviewer_16684178836402025.zoomTo();\nviewer_16684178836402025.render();\n});\n</script>",
      "text/html": [
       "<div id=\"3dmolviewer_16684178836402025\"  style=\"position: relative; width: 400px; height: 400px\">\n",
       "        <p id=\"3dmolwarning_16684178836402025\" style=\"background-color:#ffcccc;color:black\">You appear to be running in JupyterLab (or JavaScript failed to load for some other reason).  You need to install the 3dmol extension: <br>\n",
       "        <tt>jupyter labextension install jupyterlab_3dmol</tt></p>\n",
       "        </div>\n",
       "<script>\n",
       "\n",
       "var loadScriptAsync = function(uri){\n",
       "  return new Promise((resolve, reject) => {\n",
       "    var tag = document.createElement('script');\n",
       "    tag.src = uri;\n",
       "    tag.async = true;\n",
       "    tag.onload = () => {\n",
       "      resolve();\n",
       "    };\n",
       "  var firstScriptTag = document.getElementsByTagName('script')[0];\n",
       "  firstScriptTag.parentNode.insertBefore(tag, firstScriptTag);\n",
       "});\n",
       "};\n",
       "\n",
       "if(typeof $3Dmolpromise === 'undefined') {\n",
       "$3Dmolpromise = null;\n",
       "  $3Dmolpromise = loadScriptAsync('https://3dmol.csb.pitt.edu/build/3Dmol.js');\n",
       "}\n",
       "\n",
       "var viewer_16684178836402025 = null;\n",
       "var warn = document.getElementById(\"3dmolwarning_16684178836402025\");\n",
       "if(warn) {\n",
       "    warn.parentNode.removeChild(warn);\n",
       "}\n",
       "$3Dmolpromise.then(function() {\n",
       "viewer_16684178836402025 = $3Dmol.createViewer($(\"#3dmolviewer_16684178836402025\"),{backgroundColor:\"white\"});\n",
       "\tviewer_16684178836402025.removeAllModels();\n",
       "\tviewer_16684178836402025.addModel(\"\\n     RDKit          3D\\n\\n 19 19  0  0  0  0  0  0  0  0999 V2000\\n   -0.3230   21.4850    4.9720 F   0  0  0  0  0  0  0  0  0  0  0  0\\n   -0.3360   22.8110    4.8800 C   0  0  2  0  0  0  0  0  0  0  0  0\\n    0.2120   23.3210    5.9790 F   0  0  0  0  0  0  0  0  0  0  0  0\\n   -1.5910   23.2230    4.7790 F   0  0  0  0  0  0  0  0  0  0  0  0\\n    0.3940   23.2350    3.6450 C   0  0  0  0  0  0  0  0  0  0  0  0\\n    0.8510   22.2710    2.7640 C   0  0  0  0  0  0  0  0  0  0  0  0\\n    0.6070   24.5780    3.3620 C   0  0  0  0  0  0  0  0  0  0  0  0\\n    1.2780   24.9540    2.2050 C   0  0  0  0  0  0  0  0  0  0  0  0\\n    1.7350   23.9780    1.3290 C   0  0  0  0  0  0  0  0  0  0  0  0\\n    1.5080   22.6330    1.6010 C   0  0  0  0  0  0  0  0  0  0  0  0\\n    2.0060   21.5510    0.6950 C   0  0  0  0  0  0  0  0  0  0  0  0\\n    1.2010   20.7450   -0.0400 N   0  0  0  0  0  0  0  0  0  0  0  0\\n    0.1910   21.1080   -1.0070 C   0  0  0  0  0  0  0  0  0  0  0  0\\n   -1.0530   20.4940   -0.9440 C   0  0  0  0  0  0  0  0  0  0  0  0\\n   -2.0450   20.7930   -1.8700 C   0  0  0  0  0  0  0  0  0  0  0  0\\n   -3.3740   20.1190   -1.7710 C   0  0  0  0  0  0  0  0  0  0  0  0\\n   -4.2850   20.3730   -2.6050 O   0  0  0  0  0  0  0  0  0  0  0  0\\n   -3.5850   19.2880   -0.8480 O   0  0  0  0  0  0  0  0  0  0  0  0\\n   -1.7880   21.7160   -2.8760 C   0  0  0  0  0  0  0  0  0  0  0  0\\n  2  1  1  1\\n  3  2  1  0\\n  4  2  1  0\\n  5  2  1  0\\n  6  5  1  0\\n  7  5  1  0\\n  8  7  1  0\\n  9  8  1  0\\n 10  9  1  0\\n 10  6  1  0\\n 11 10  1  0\\n 12 11  1  0\\n 13 12  1  0\\n 14 13  1  0\\n 15 14  1  0\\n 16 15  1  0\\n 17 16  1  0\\n 18 16  1  0\\n 19 15  1  0\\nM  END\\n\",\"sdf\");\n",
       "\tviewer_16684178836402025.setStyle({\"stick\": {}});\n",
       "\tviewer_16684178836402025.setBackgroundColor(\"0xeeeeee\");\n",
       "\tviewer_16684178836402025.zoomTo();\n",
       "viewer_16684178836402025.render();\n",
       "});\n",
       "</script>"
      ]
     },
     "metadata": {},
     "output_type": "display_data"
    }
   ],
   "source": [
    "ligands_smi = {}\n",
    "with open(\"/home/chengyj/kinase_work/dataset/Bridged_ring/PDB_rings/lig_in_pdb/lig_menu/AaaaA_only3.csv\") as AaaaA:\n",
    "    for line in AaaaA:\n",
    "        info = line.split()\n",
    "        ligands_smi[info[1]] = [info[0]]\n",
    "key='1D9'\n",
    "pdb_id='4ibj'\n",
    "lig_smi=ligands_smi[key][0]\n",
    "pdb_path = f\"/home/chengyj/kinase_work/dataset/Bridged_ring/PDB_rings/lig_in_pdb/pdb_dataset/pdb/pdb{pdb_id}.ent\"\n",
    "lig_Block = pdb_2_lig_block(pdb_path,key,lig_smi)\n",
    "mol = Chem.MolFromSmiles(lig_smi)\n",
    "# drawit(Chem.MolFromPDBBlock(lig_Block))\n",
    "# print(lig_Block)\n",
    "mol.GetSubstructMatch(Chem.MolFromSmarts(\"*!:c1cc(!:*)ccc1\"))\n",
    "mol\n",
    "drawit(Chem.MolFromPDBBlock(lig_Block))\n"
   ]
  },
  {
   "cell_type": "code",
   "execution_count": 17,
   "metadata": {},
   "outputs": [
    {
     "name": "stderr",
     "output_type": "stream",
     "text": [
      "[17:24:44] Molecule does not have explicit Hs. Consider calling AddHs()\n"
     ]
    },
    {
     "data": {
      "application/3dmoljs_load.v0": "<div id=\"3dmolviewer_16684178845328684\"  style=\"position: relative; width: 400px; height: 400px\">\n        <p id=\"3dmolwarning_16684178845328684\" style=\"background-color:#ffcccc;color:black\">You appear to be running in JupyterLab (or JavaScript failed to load for some other reason).  You need to install the 3dmol extension: <br>\n        <tt>jupyter labextension install jupyterlab_3dmol</tt></p>\n        </div>\n<script>\n\nvar loadScriptAsync = function(uri){\n  return new Promise((resolve, reject) => {\n    var tag = document.createElement('script');\n    tag.src = uri;\n    tag.async = true;\n    tag.onload = () => {\n      resolve();\n    };\n  var firstScriptTag = document.getElementsByTagName('script')[0];\n  firstScriptTag.parentNode.insertBefore(tag, firstScriptTag);\n});\n};\n\nif(typeof $3Dmolpromise === 'undefined') {\n$3Dmolpromise = null;\n  $3Dmolpromise = loadScriptAsync('https://3dmol.csb.pitt.edu/build/3Dmol.js');\n}\n\nvar viewer_16684178845328684 = null;\nvar warn = document.getElementById(\"3dmolwarning_16684178845328684\");\nif(warn) {\n    warn.parentNode.removeChild(warn);\n}\n$3Dmolpromise.then(function() {\nviewer_16684178845328684 = $3Dmol.createViewer($(\"#3dmolviewer_16684178845328684\"),{backgroundColor:\"white\"});\n\tviewer_16684178845328684.removeAllModels();\n\tviewer_16684178845328684.addModel(\"\\n     RDKit          3D\\n\\n 36 38  0  0  0  0  0  0  0  0999 V2000\\n    4.6510   38.1150  136.9970 N   0  0  0  0  0  0  0  0  0  0  0  0\\n    4.2980   37.5770  138.1840 C   0  0  0  0  0  0  0  0  0  0  0  0\\n    3.5730   38.2720  139.0720 N   0  0  0  0  0  0  0  0  0  0  0  0\\n    4.7050   36.3510  138.4940 N   0  0  0  0  0  0  0  0  0  0  0  0\\n    4.2110   39.3180  136.6000 C   0  0  0  0  0  0  0  0  0  0  0  0\\n    5.1752   40.4190  137.0659 C   0  0  0  0  0  0  0  0  0  0  0  0\\n    4.7740   41.6370  136.1953 C   0  0  0  0  0  0  0  0  0  0  0  0\\n    3.2801   41.9385  135.9120 C   0  0  0  0  0  0  0  0  0  0  0  0\\n    2.3310   40.7590  136.0390 C   0  0  0  0  0  0  0  0  0  0  0  0\\n    0.8060   40.9310  135.8950 C   0  0  2  0  0  0  0  0  0  0  0  0\\n    0.4580   42.3060  135.7190 O   0  0  0  0  0  0  0  0  0  0  0  0\\n   -0.9050   42.6480  134.9420 P   0  0  1  0  0  5  0  0  0  0  0  0\\n   -0.6860   42.4800  133.4910 O   0  0  0  0  0  0  0  0  0  0  0  0\\n   -2.0180   41.9000  135.5820 O   0  0  0  0  0  0  0  0  0  0  0  0\\n   -1.1910   44.4220  135.3160 C   0  0  2  0  0  0  0  0  0  0  0  0\\n    0.0740   45.2520  135.0230 C   0  0  0  0  0  0  0  0  0  0  0  0\\n   -0.0190   46.6750  135.6030 C   0  0  0  0  0  0  0  0  0  0  0  0\\n   -1.1730   47.4870  134.9980 C   0  0  0  0  0  0  0  0  0  0  0  0\\n   -1.3310   48.8440  135.7050 C   0  0  0  0  0  0  0  0  0  0  0  0\\n   -0.0750   49.7160  135.5710 C   0  0  0  0  0  0  0  0  0  0  0  0\\n   -1.5150   44.5200  136.7470 N   0  0  0  0  0  0  0  0  0  0  0  0\\n   -2.7540   44.6840  137.2110 C   0  0  0  0  0  0  0  0  0  0  0  0\\n   -3.7340   44.8780  136.4780 O   0  0  0  0  0  0  0  0  0  0  0  0\\n   -2.9030   44.6360  138.5710 O   0  0  0  0  0  0  0  0  0  0  0  0\\n   -4.2530   44.8710  139.0290 C   0  0  0  0  0  0  0  0  0  0  0  0\\n   -4.5140   44.9040  140.4010 C   0  0  0  0  0  0  0  0  0  0  0  0\\n   -5.8390   44.9760  140.8630 C   0  0  0  0  0  0  0  0  0  0  0  0\\n   -6.1030   45.0170  142.2430 C   0  0  0  0  0  0  0  0  0  0  0  0\\n   -5.0410   44.9870  143.1640 C   0  0  0  0  0  0  0  0  0  0  0  0\\n   -3.7150   44.9140  142.7060 C   0  0  0  0  0  0  0  0  0  0  0  0\\n   -3.4510   44.8730  141.3250 C   0  0  0  0  0  0  0  0  0  0  0  0\\n    0.0800   40.3580  137.1280 C   0  0  0  0  0  0  0  0  0  0  0  0\\n   -0.3040   39.1690  137.0570 O   0  0  0  0  0  0  0  0  0  0  0  0\\n   -0.0800   41.1220  138.1040 O   0  0  0  0  0  0  0  0  0  0  0  0\\n    2.8135   39.9666  137.4216 C   0  0  0  0  0  0  0  0  0  0  0  0\\n    2.9213   39.1981  135.5212 C   0  0  0  0  0  0  0  0  0  0  0  0\\n  1  2  2  0\\n  2  3  1  0\\n  2  4  1  0\\n  4  5  1  0\\n  5  6  1  0\\n  6  7  1  0\\n  7  8  1  0\\n  8  9  1  0\\n  9 10  1  0\\n 10 11  1  1\\n 11 12  1  0\\n 12 13  2  0\\n 12 14  1  1\\n 12 15  1  0\\n 15 16  1  1\\n 16 17  1  0\\n 17 18  1  0\\n 18 19  1  0\\n 19 20  1  0\\n 15 21  1  0\\n 21 22  1  0\\n 22 23  2  0\\n 22 24  1  0\\n 24 25  1  0\\n 25 26  1  0\\n 26 27  2  0\\n 27 28  1  0\\n 28 29  2  0\\n 29 30  1  0\\n 30 31  2  0\\n 10 32  1  0\\n 32 33  2  0\\n 32 34  1  0\\n  9 35  1  0\\n  9 36  1  0\\n 35  5  1  0\\n 36  5  1  0\\n 31 26  1  0\\nM  END\\n\",\"sdf\");\n\tviewer_16684178845328684.setStyle({\"stick\": {}});\n\tviewer_16684178845328684.setBackgroundColor(\"0xeeeeee\");\n\tviewer_16684178845328684.zoomTo();\nviewer_16684178845328684.render();\n});\n</script>",
      "text/html": [
       "<div id=\"3dmolviewer_16684178845328684\"  style=\"position: relative; width: 400px; height: 400px\">\n",
       "        <p id=\"3dmolwarning_16684178845328684\" style=\"background-color:#ffcccc;color:black\">You appear to be running in JupyterLab (or JavaScript failed to load for some other reason).  You need to install the 3dmol extension: <br>\n",
       "        <tt>jupyter labextension install jupyterlab_3dmol</tt></p>\n",
       "        </div>\n",
       "<script>\n",
       "\n",
       "var loadScriptAsync = function(uri){\n",
       "  return new Promise((resolve, reject) => {\n",
       "    var tag = document.createElement('script');\n",
       "    tag.src = uri;\n",
       "    tag.async = true;\n",
       "    tag.onload = () => {\n",
       "      resolve();\n",
       "    };\n",
       "  var firstScriptTag = document.getElementsByTagName('script')[0];\n",
       "  firstScriptTag.parentNode.insertBefore(tag, firstScriptTag);\n",
       "});\n",
       "};\n",
       "\n",
       "if(typeof $3Dmolpromise === 'undefined') {\n",
       "$3Dmolpromise = null;\n",
       "  $3Dmolpromise = loadScriptAsync('https://3dmol.csb.pitt.edu/build/3Dmol.js');\n",
       "}\n",
       "\n",
       "var viewer_16684178845328684 = null;\n",
       "var warn = document.getElementById(\"3dmolwarning_16684178845328684\");\n",
       "if(warn) {\n",
       "    warn.parentNode.removeChild(warn);\n",
       "}\n",
       "$3Dmolpromise.then(function() {\n",
       "viewer_16684178845328684 = $3Dmol.createViewer($(\"#3dmolviewer_16684178845328684\"),{backgroundColor:\"white\"});\n",
       "\tviewer_16684178845328684.removeAllModels();\n",
       "\tviewer_16684178845328684.addModel(\"\\n     RDKit          3D\\n\\n 36 38  0  0  0  0  0  0  0  0999 V2000\\n    4.6510   38.1150  136.9970 N   0  0  0  0  0  0  0  0  0  0  0  0\\n    4.2980   37.5770  138.1840 C   0  0  0  0  0  0  0  0  0  0  0  0\\n    3.5730   38.2720  139.0720 N   0  0  0  0  0  0  0  0  0  0  0  0\\n    4.7050   36.3510  138.4940 N   0  0  0  0  0  0  0  0  0  0  0  0\\n    4.2110   39.3180  136.6000 C   0  0  0  0  0  0  0  0  0  0  0  0\\n    5.1752   40.4190  137.0659 C   0  0  0  0  0  0  0  0  0  0  0  0\\n    4.7740   41.6370  136.1953 C   0  0  0  0  0  0  0  0  0  0  0  0\\n    3.2801   41.9385  135.9120 C   0  0  0  0  0  0  0  0  0  0  0  0\\n    2.3310   40.7590  136.0390 C   0  0  0  0  0  0  0  0  0  0  0  0\\n    0.8060   40.9310  135.8950 C   0  0  2  0  0  0  0  0  0  0  0  0\\n    0.4580   42.3060  135.7190 O   0  0  0  0  0  0  0  0  0  0  0  0\\n   -0.9050   42.6480  134.9420 P   0  0  1  0  0  5  0  0  0  0  0  0\\n   -0.6860   42.4800  133.4910 O   0  0  0  0  0  0  0  0  0  0  0  0\\n   -2.0180   41.9000  135.5820 O   0  0  0  0  0  0  0  0  0  0  0  0\\n   -1.1910   44.4220  135.3160 C   0  0  2  0  0  0  0  0  0  0  0  0\\n    0.0740   45.2520  135.0230 C   0  0  0  0  0  0  0  0  0  0  0  0\\n   -0.0190   46.6750  135.6030 C   0  0  0  0  0  0  0  0  0  0  0  0\\n   -1.1730   47.4870  134.9980 C   0  0  0  0  0  0  0  0  0  0  0  0\\n   -1.3310   48.8440  135.7050 C   0  0  0  0  0  0  0  0  0  0  0  0\\n   -0.0750   49.7160  135.5710 C   0  0  0  0  0  0  0  0  0  0  0  0\\n   -1.5150   44.5200  136.7470 N   0  0  0  0  0  0  0  0  0  0  0  0\\n   -2.7540   44.6840  137.2110 C   0  0  0  0  0  0  0  0  0  0  0  0\\n   -3.7340   44.8780  136.4780 O   0  0  0  0  0  0  0  0  0  0  0  0\\n   -2.9030   44.6360  138.5710 O   0  0  0  0  0  0  0  0  0  0  0  0\\n   -4.2530   44.8710  139.0290 C   0  0  0  0  0  0  0  0  0  0  0  0\\n   -4.5140   44.9040  140.4010 C   0  0  0  0  0  0  0  0  0  0  0  0\\n   -5.8390   44.9760  140.8630 C   0  0  0  0  0  0  0  0  0  0  0  0\\n   -6.1030   45.0170  142.2430 C   0  0  0  0  0  0  0  0  0  0  0  0\\n   -5.0410   44.9870  143.1640 C   0  0  0  0  0  0  0  0  0  0  0  0\\n   -3.7150   44.9140  142.7060 C   0  0  0  0  0  0  0  0  0  0  0  0\\n   -3.4510   44.8730  141.3250 C   0  0  0  0  0  0  0  0  0  0  0  0\\n    0.0800   40.3580  137.1280 C   0  0  0  0  0  0  0  0  0  0  0  0\\n   -0.3040   39.1690  137.0570 O   0  0  0  0  0  0  0  0  0  0  0  0\\n   -0.0800   41.1220  138.1040 O   0  0  0  0  0  0  0  0  0  0  0  0\\n    2.8135   39.9666  137.4216 C   0  0  0  0  0  0  0  0  0  0  0  0\\n    2.9213   39.1981  135.5212 C   0  0  0  0  0  0  0  0  0  0  0  0\\n  1  2  2  0\\n  2  3  1  0\\n  2  4  1  0\\n  4  5  1  0\\n  5  6  1  0\\n  6  7  1  0\\n  7  8  1  0\\n  8  9  1  0\\n  9 10  1  0\\n 10 11  1  1\\n 11 12  1  0\\n 12 13  2  0\\n 12 14  1  1\\n 12 15  1  0\\n 15 16  1  1\\n 16 17  1  0\\n 17 18  1  0\\n 18 19  1  0\\n 19 20  1  0\\n 15 21  1  0\\n 21 22  1  0\\n 22 23  2  0\\n 22 24  1  0\\n 24 25  1  0\\n 25 26  1  0\\n 26 27  2  0\\n 27 28  1  0\\n 28 29  2  0\\n 29 30  1  0\\n 30 31  2  0\\n 10 32  1  0\\n 32 33  2  0\\n 32 34  1  0\\n  9 35  1  0\\n  9 36  1  0\\n 35  5  1  0\\n 36  5  1  0\\n 31 26  1  0\\nM  END\\n\",\"sdf\");\n",
       "\tviewer_16684178845328684.setStyle({\"stick\": {}});\n",
       "\tviewer_16684178845328684.setBackgroundColor(\"0xeeeeee\");\n",
       "\tviewer_16684178845328684.zoomTo();\n",
       "viewer_16684178845328684.render();\n",
       "});\n",
       "</script>"
      ]
     },
     "metadata": {},
     "output_type": "display_data"
    }
   ],
   "source": [
    "key='11B'\n",
    "pdbid='2pj5'\n",
    "lig_smi=ligands_smi[key][0]\n",
    "pdb_file_path=f\"/home/chengyj/kinase_work/dataset/Bridged_ring/PDB_rings/lig_in_pdb/pdb_dataset/pdb/pdb{pdbid}.ent\"\n",
    "lig_Block = pdb_2_lig_block(pdb_file_path,key,lig_smi)\n",
    "test = phe2bch_topdb_test(lig_smi,lig_Block,f\"{key}_{pdbid}.pdb\")\n",
    "drawit(test)\n"
   ]
  },
  {
   "cell_type": "code",
   "execution_count": 18,
   "metadata": {},
   "outputs": [
    {
     "ename": "ValueError",
     "evalue": "No matching found",
     "output_type": "error",
     "traceback": [
      "\u001b[0;31m---------------------------------------------------------------------------\u001b[0m",
      "\u001b[0;31mValueError\u001b[0m                                Traceback (most recent call last)",
      "\u001b[1;32m/home/chengyj/kinase_work/dataset/Bridged_ring/PDB_rings/lig_in_pdb/phe2bch.ipynb Cell 11\u001b[0m in \u001b[0;36m<cell line: 3>\u001b[0;34m()\u001b[0m\n\u001b[1;32m      <a href='vscode-notebook-cell://ssh-remote%2Bnode88/home/chengyj/kinase_work/dataset/Bridged_ring/PDB_rings/lig_in_pdb/phe2bch.ipynb#X14sdnNjb2RlLXJlbW90ZQ%3D%3D?line=0'>1</a>\u001b[0m pdblig \u001b[39m=\u001b[39m Chem\u001b[39m.\u001b[39mMolFromPDBBlock(lig_Block)\n\u001b[1;32m      <a href='vscode-notebook-cell://ssh-remote%2Bnode88/home/chengyj/kinase_work/dataset/Bridged_ring/PDB_rings/lig_in_pdb/phe2bch.ipynb#X14sdnNjb2RlLXJlbW90ZQ%3D%3D?line=1'>2</a>\u001b[0m mol_smi \u001b[39m=\u001b[39m Chem\u001b[39m.\u001b[39mMolFromSmiles(lig_smi)\n\u001b[0;32m----> <a href='vscode-notebook-cell://ssh-remote%2Bnode88/home/chengyj/kinase_work/dataset/Bridged_ring/PDB_rings/lig_in_pdb/phe2bch.ipynb#X14sdnNjb2RlLXJlbW90ZQ%3D%3D?line=2'>3</a>\u001b[0m ref_conf \u001b[39m=\u001b[39m AllChem\u001b[39m.\u001b[39;49mAssignBondOrdersFromTemplate(mol_smi,pdblig)\n",
      "File \u001b[0;32m~/miniconda3/envs/rdkit_new/lib/python3.8/site-packages/rdkit/Chem/AllChem.py:438\u001b[0m, in \u001b[0;36mAssignBondOrdersFromTemplate\u001b[0;34m(refmol, mol)\u001b[0m\n\u001b[1;32m    436\u001b[0m       mol2\u001b[39m.\u001b[39m__sssAtoms \u001b[39m=\u001b[39m \u001b[39mNone\u001b[39;00m  \u001b[39m# we don't want all bonds highlighted\u001b[39;00m\n\u001b[1;32m    437\u001b[0m   \u001b[39melse\u001b[39;00m:\n\u001b[0;32m--> 438\u001b[0m     \u001b[39mraise\u001b[39;00m \u001b[39mValueError\u001b[39;00m(\u001b[39m\"\u001b[39m\u001b[39mNo matching found\u001b[39m\u001b[39m\"\u001b[39m)\n\u001b[1;32m    439\u001b[0m \u001b[39mreturn\u001b[39;00m mol2\n",
      "\u001b[0;31mValueError\u001b[0m: No matching found"
     ]
    }
   ],
   "source": [
    "pdblig = Chem.MolFromPDBBlock(lig_Block)\n",
    "mol_smi = Chem.MolFromSmiles(lig_smi)\n",
    "ref_conf = AllChem.AssignBondOrdersFromTemplate(mol_smi,pdblig)"
   ]
  },
  {
   "cell_type": "code",
   "execution_count": null,
   "metadata": {},
   "outputs": [
    {
     "name": "stderr",
     "output_type": "stream",
     "text": [
      "[16:35:17] WARNING: More than one matching pattern found - picking one\n",
      "\n",
      "[16:35:17] Molecule does not have explicit Hs. Consider calling AddHs()\n",
      "[16:35:17] Molecule does not have explicit Hs. Consider calling AddHs()\n"
     ]
    },
    {
     "data": {
      "application/3dmoljs_load.v0": "<div id=\"3dmolviewer_16684149174039652\"  style=\"position: relative; width: 400px; height: 400px\">\n        <p id=\"3dmolwarning_16684149174039652\" style=\"background-color:#ffcccc;color:black\">You appear to be running in JupyterLab (or JavaScript failed to load for some other reason).  You need to install the 3dmol extension: <br>\n        <tt>jupyter labextension install jupyterlab_3dmol</tt></p>\n        </div>\n<script>\n\nvar loadScriptAsync = function(uri){\n  return new Promise((resolve, reject) => {\n    var tag = document.createElement('script');\n    tag.src = uri;\n    tag.async = true;\n    tag.onload = () => {\n      resolve();\n    };\n  var firstScriptTag = document.getElementsByTagName('script')[0];\n  firstScriptTag.parentNode.insertBefore(tag, firstScriptTag);\n});\n};\n\nif(typeof $3Dmolpromise === 'undefined') {\n$3Dmolpromise = null;\n  $3Dmolpromise = loadScriptAsync('https://3dmol.csb.pitt.edu/build/3Dmol.js');\n}\n\nvar viewer_16684149174039652 = null;\nvar warn = document.getElementById(\"3dmolwarning_16684149174039652\");\nif(warn) {\n    warn.parentNode.removeChild(warn);\n}\n$3Dmolpromise.then(function() {\nviewer_16684149174039652 = $3Dmol.createViewer($(\"#3dmolviewer_16684149174039652\"),{backgroundColor:\"white\"});\n\tviewer_16684149174039652.removeAllModels();\n\tviewer_16684149174039652.addModel(\"\\n     RDKit          3D\\n\\n 19 20  0  0  0  0  0  0  0  0999 V2000\\n   19.0990    3.0300   10.4600 O   0  0  0  0  0  0  0  0  0  0  0  0\\n   19.5560    3.7030    9.5130 C   0  0  0  0  0  0  0  0  0  0  0  0\\n   18.9940    3.7040    8.3850 O   0  0  0  0  0  0  0  0  0  0  0  0\\n   20.8390    4.5030    9.7250 C   0  0  0  0  0  0  0  0  0  0  0  0\\n   21.2658    5.4338    8.5729 C   0  0  0  0  0  0  0  0  0  0  0  0\\n   22.4075    6.4338    8.9735 C   0  0  0  0  0  0  0  0  0  0  0  0\\n   23.3835    5.9691   10.1118 C   0  0  0  0  0  0  0  0  0  0  0  0\\n   22.7380    4.9900   11.1100 C   0  0  0  0  0  0  0  0  0  0  0  0\\n   23.5280    4.7580   12.3710 C   0  0  0  0  0  0  0  0  0  0  0  0\\n   23.4720    6.0060   13.5450 S   0  0  0  0  0  6  0  0  0  0  0  0\\n   24.0950    7.1940   13.0020 O   0  0  0  0  0  0  0  0  0  0  0  0\\n   22.1280    6.3050   13.8760 O   0  0  0  0  0  0  0  0  0  0  0  0\\n   24.2580    5.5550   14.8780 N   0  0  0  0  0  0  0  0  0  0  0  0\\n   25.7200    5.4320   14.9170 C   0  0  0  0  0  0  0  0  0  0  0  0\\n   26.3100    4.9640   16.2970 B   0  0  0  0  0  0  0  0  0  0  0  0\\n   25.3410    4.0700   16.9300 O   0  0  0  0  0  0  0  0  0  0  0  0\\n   26.5000    6.0890   17.2250 O   0  0  0  0  0  0  0  0  0  0  0  0\\n   21.1438    5.2788   11.1119 C   0  0  0  0  0  0  0  0  0  0  0  0\\n   22.2072    3.7774   10.1890 C   0  0  0  0  0  0  0  0  0  0  0  0\\n  1  2  2  0\\n  2  3  1  0\\n  2  4  1  0\\n  4  5  1  0\\n  5  6  1  0\\n  6  7  1  0\\n  7  8  1  0\\n  8  9  1  0\\n  9 10  1  0\\n 10 11  2  0\\n 10 12  2  0\\n 10 13  1  0\\n 13 14  1  0\\n 14 15  1  0\\n 15 16  1  0\\n 15 17  1  0\\n  8 18  1  0\\n  8 19  1  0\\n 18  4  1  0\\n 19  4  1  0\\nM  END\\n\",\"sdf\");\n\tviewer_16684149174039652.setStyle({\"stick\": {}});\n\tviewer_16684149174039652.setBackgroundColor(\"0xeeeeee\");\n\tviewer_16684149174039652.zoomTo();\nviewer_16684149174039652.render();\n});\n</script>",
      "text/html": [
       "<div id=\"3dmolviewer_16684149174039652\"  style=\"position: relative; width: 400px; height: 400px\">\n",
       "        <p id=\"3dmolwarning_16684149174039652\" style=\"background-color:#ffcccc;color:black\">You appear to be running in JupyterLab (or JavaScript failed to load for some other reason).  You need to install the 3dmol extension: <br>\n",
       "        <tt>jupyter labextension install jupyterlab_3dmol</tt></p>\n",
       "        </div>\n",
       "<script>\n",
       "\n",
       "var loadScriptAsync = function(uri){\n",
       "  return new Promise((resolve, reject) => {\n",
       "    var tag = document.createElement('script');\n",
       "    tag.src = uri;\n",
       "    tag.async = true;\n",
       "    tag.onload = () => {\n",
       "      resolve();\n",
       "    };\n",
       "  var firstScriptTag = document.getElementsByTagName('script')[0];\n",
       "  firstScriptTag.parentNode.insertBefore(tag, firstScriptTag);\n",
       "});\n",
       "};\n",
       "\n",
       "if(typeof $3Dmolpromise === 'undefined') {\n",
       "$3Dmolpromise = null;\n",
       "  $3Dmolpromise = loadScriptAsync('https://3dmol.csb.pitt.edu/build/3Dmol.js');\n",
       "}\n",
       "\n",
       "var viewer_16684149174039652 = null;\n",
       "var warn = document.getElementById(\"3dmolwarning_16684149174039652\");\n",
       "if(warn) {\n",
       "    warn.parentNode.removeChild(warn);\n",
       "}\n",
       "$3Dmolpromise.then(function() {\n",
       "viewer_16684149174039652 = $3Dmol.createViewer($(\"#3dmolviewer_16684149174039652\"),{backgroundColor:\"white\"});\n",
       "\tviewer_16684149174039652.removeAllModels();\n",
       "\tviewer_16684149174039652.addModel(\"\\n     RDKit          3D\\n\\n 19 20  0  0  0  0  0  0  0  0999 V2000\\n   19.0990    3.0300   10.4600 O   0  0  0  0  0  0  0  0  0  0  0  0\\n   19.5560    3.7030    9.5130 C   0  0  0  0  0  0  0  0  0  0  0  0\\n   18.9940    3.7040    8.3850 O   0  0  0  0  0  0  0  0  0  0  0  0\\n   20.8390    4.5030    9.7250 C   0  0  0  0  0  0  0  0  0  0  0  0\\n   21.2658    5.4338    8.5729 C   0  0  0  0  0  0  0  0  0  0  0  0\\n   22.4075    6.4338    8.9735 C   0  0  0  0  0  0  0  0  0  0  0  0\\n   23.3835    5.9691   10.1118 C   0  0  0  0  0  0  0  0  0  0  0  0\\n   22.7380    4.9900   11.1100 C   0  0  0  0  0  0  0  0  0  0  0  0\\n   23.5280    4.7580   12.3710 C   0  0  0  0  0  0  0  0  0  0  0  0\\n   23.4720    6.0060   13.5450 S   0  0  0  0  0  6  0  0  0  0  0  0\\n   24.0950    7.1940   13.0020 O   0  0  0  0  0  0  0  0  0  0  0  0\\n   22.1280    6.3050   13.8760 O   0  0  0  0  0  0  0  0  0  0  0  0\\n   24.2580    5.5550   14.8780 N   0  0  0  0  0  0  0  0  0  0  0  0\\n   25.7200    5.4320   14.9170 C   0  0  0  0  0  0  0  0  0  0  0  0\\n   26.3100    4.9640   16.2970 B   0  0  0  0  0  0  0  0  0  0  0  0\\n   25.3410    4.0700   16.9300 O   0  0  0  0  0  0  0  0  0  0  0  0\\n   26.5000    6.0890   17.2250 O   0  0  0  0  0  0  0  0  0  0  0  0\\n   21.1438    5.2788   11.1119 C   0  0  0  0  0  0  0  0  0  0  0  0\\n   22.2072    3.7774   10.1890 C   0  0  0  0  0  0  0  0  0  0  0  0\\n  1  2  2  0\\n  2  3  1  0\\n  2  4  1  0\\n  4  5  1  0\\n  5  6  1  0\\n  6  7  1  0\\n  7  8  1  0\\n  8  9  1  0\\n  9 10  1  0\\n 10 11  2  0\\n 10 12  2  0\\n 10 13  1  0\\n 13 14  1  0\\n 14 15  1  0\\n 15 16  1  0\\n 15 17  1  0\\n  8 18  1  0\\n  8 19  1  0\\n 18  4  1  0\\n 19  4  1  0\\nM  END\\n\",\"sdf\");\n",
       "\tviewer_16684149174039652.setStyle({\"stick\": {}});\n",
       "\tviewer_16684149174039652.setBackgroundColor(\"0xeeeeee\");\n",
       "\tviewer_16684149174039652.zoomTo();\n",
       "viewer_16684149174039652.render();\n",
       "});\n",
       "</script>"
      ]
     },
     "metadata": {},
     "output_type": "display_data"
    }
   ],
   "source": [
    "key='0N3'\n",
    "pdbid='4e3i'\n",
    "lig_smi=ligands_smi[key][0]\n",
    "pdb_file_path=f\"/home/chengyj/kinase_work/dataset/Bridged_ring/PDB_rings/lig_in_pdb/pdb_dataset/pdb/pdb{pdbid}.ent\"\n",
    "lig_Block = pdb_2_lig_block(pdb_file_path,key,lig_smi)\n",
    "test = phe2bch_topdb_test(lig_smi,lig_Block,f\"{key}_{pdbid}.pdb\")\n",
    "drawit(test)"
   ]
  },
  {
   "cell_type": "code",
   "execution_count": null,
   "metadata": {},
   "outputs": [
    {
     "name": "stderr",
     "output_type": "stream",
     "text": [
      "[16:24:23] WARNING: More than one matching pattern found - picking one\n",
      "\n"
     ]
    },
    {
     "data": {
      "application/3dmoljs_load.v0": "<div id=\"3dmolviewer_16684142634866736\"  style=\"position: relative; width: 400px; height: 400px\">\n        <p id=\"3dmolwarning_16684142634866736\" style=\"background-color:#ffcccc;color:black\">You appear to be running in JupyterLab (or JavaScript failed to load for some other reason).  You need to install the 3dmol extension: <br>\n        <tt>jupyter labextension install jupyterlab_3dmol</tt></p>\n        </div>\n<script>\n\nvar loadScriptAsync = function(uri){\n  return new Promise((resolve, reject) => {\n    var tag = document.createElement('script');\n    tag.src = uri;\n    tag.async = true;\n    tag.onload = () => {\n      resolve();\n    };\n  var firstScriptTag = document.getElementsByTagName('script')[0];\n  firstScriptTag.parentNode.insertBefore(tag, firstScriptTag);\n});\n};\n\nif(typeof $3Dmolpromise === 'undefined') {\n$3Dmolpromise = null;\n  $3Dmolpromise = loadScriptAsync('https://3dmol.csb.pitt.edu/build/3Dmol.js');\n}\n\nvar viewer_16684142634866736 = null;\nvar warn = document.getElementById(\"3dmolwarning_16684142634866736\");\nif(warn) {\n    warn.parentNode.removeChild(warn);\n}\n$3Dmolpromise.then(function() {\nviewer_16684142634866736 = $3Dmol.createViewer($(\"#3dmolviewer_16684142634866736\"),{backgroundColor:\"white\"});\n\tviewer_16684142634866736.removeAllModels();\n\tviewer_16684142634866736.addModel(\"\\n     RDKit          3D\\n\\n 26 28  0  0  0  0  0  0  0  0999 V2000\\n   -2.6551    4.3452   -0.4628 C   0  0  0  0  0  0  0  0  0  0  0  0\\n   -2.6223    2.8743   -0.3824 C   0  0  0  0  0  0  0  0  0  0  0  0\\n   -3.5344    2.0952   -0.9518 N   0  0  0  0  0  0  0  0  0  0  0  0\\n   -3.5216    0.7213   -0.8288 C   0  0  0  0  0  0  0  0  0  0  0  0\\n   -2.5133    0.1382   -0.0792 C   0  0  0  0  0  0  0  0  0  0  0  0\\n   -2.3979   -1.2647    0.2177 C   0  0  0  0  0  0  0  0  0  0  0  0\\n   -3.5706   -1.8523    0.5599 O   0  0  0  0  0  0  0  0  0  0  0  0\\n   -4.9433   -2.0960   -0.1077 P   0  0  0  0  0  5  0  0  0  0  0  0\\n   -5.9459   -0.9944   -0.3252 O   0  0  0  0  0  0  0  0  0  0  0  0\\n   -5.8484   -3.1843    0.9685 O   0  0  0  0  0  0  0  0  0  0  0  0\\n   -4.8238   -3.0869   -1.5393 O   0  0  0  0  0  0  0  0  0  0  0  0\\n   -1.5516    0.9541    0.4998 C   0  0  0  0  0  0  0  0  0  0  0  0\\n   -0.3899    0.1517    0.9880 C   0  0  0  0  0  0  0  0  0  0  0  0\\n    0.6758    0.6832    0.0889 N   0  0  0  0  0  0  0  0  0  0  0  0\\n    1.8119   -0.0615   -0.0984 C   0  0  0  0  0  0  0  0  0  0  0  0\\n    1.6457   -1.4674   -0.7230 C   0  0  0  0  0  0  0  0  0  0  0  0\\n    2.9635   -1.9898   -1.2478 C   0  0  0  0  0  0  0  0  0  0  0  0\\n    4.1467   -1.5512   -0.4563 C   0  0  0  0  0  0  0  0  0  0  0  0\\n    3.8999   -0.1890    0.1226 C   0  0  0  0  0  0  0  0  0  0  0  0\\n    5.0784    0.5468    0.6041 C   0  0  0  0  0  0  0  0  0  0  0  0\\n    5.4225    1.6442    0.1338 O   0  0  0  0  0  0  0  0  0  0  0  0\\n    5.8206   -0.0104    1.6098 O   0  0  0  0  0  0  0  0  0  0  0  0\\n    2.7375   -0.2234    1.0954 C   0  0  0  0  0  0  0  0  0  0  0  0\\n    2.9888    0.5936   -0.8266 C   0  0  0  0  0  0  0  0  0  0  0  0\\n   -1.6003    2.2767    0.3830 C   0  0  0  0  0  0  0  0  0  0  0  0\\n   -0.6810    3.1510    1.0160 O   0  0  0  0  0  0  0  0  0  0  0  0\\n  1  2  1  0\\n  2  3  2  0\\n  3  4  1  0\\n  4  5  2  0\\n  5  6  1  0\\n  6  7  1  0\\n  7  8  1  0\\n  8  9  2  0\\n  8 10  1  0\\n  8 11  1  0\\n  5 12  1  0\\n 12 13  1  0\\n 13 14  1  0\\n 14 15  1  0\\n 15 16  1  0\\n 16 17  1  0\\n 17 18  1  0\\n 18 19  1  0\\n 19 20  1  0\\n 20 21  2  0\\n 20 22  1  0\\n 19 23  1  0\\n 19 24  1  0\\n 12 25  2  0\\n 25 26  1  0\\n 25  2  1  0\\n 23 15  1  0\\n 24 15  1  0\\nM  END\\n\",\"sdf\");\n\tviewer_16684142634866736.setStyle({\"stick\": {}});\n\tviewer_16684142634866736.setBackgroundColor(\"0xeeeeee\");\n\tviewer_16684142634866736.zoomTo();\nviewer_16684142634866736.render();\n});\n</script>",
      "text/html": [
       "<div id=\"3dmolviewer_16684142634866736\"  style=\"position: relative; width: 400px; height: 400px\">\n",
       "        <p id=\"3dmolwarning_16684142634866736\" style=\"background-color:#ffcccc;color:black\">You appear to be running in JupyterLab (or JavaScript failed to load for some other reason).  You need to install the 3dmol extension: <br>\n",
       "        <tt>jupyter labextension install jupyterlab_3dmol</tt></p>\n",
       "        </div>\n",
       "<script>\n",
       "\n",
       "var loadScriptAsync = function(uri){\n",
       "  return new Promise((resolve, reject) => {\n",
       "    var tag = document.createElement('script');\n",
       "    tag.src = uri;\n",
       "    tag.async = true;\n",
       "    tag.onload = () => {\n",
       "      resolve();\n",
       "    };\n",
       "  var firstScriptTag = document.getElementsByTagName('script')[0];\n",
       "  firstScriptTag.parentNode.insertBefore(tag, firstScriptTag);\n",
       "});\n",
       "};\n",
       "\n",
       "if(typeof $3Dmolpromise === 'undefined') {\n",
       "$3Dmolpromise = null;\n",
       "  $3Dmolpromise = loadScriptAsync('https://3dmol.csb.pitt.edu/build/3Dmol.js');\n",
       "}\n",
       "\n",
       "var viewer_16684142634866736 = null;\n",
       "var warn = document.getElementById(\"3dmolwarning_16684142634866736\");\n",
       "if(warn) {\n",
       "    warn.parentNode.removeChild(warn);\n",
       "}\n",
       "$3Dmolpromise.then(function() {\n",
       "viewer_16684142634866736 = $3Dmol.createViewer($(\"#3dmolviewer_16684142634866736\"),{backgroundColor:\"white\"});\n",
       "\tviewer_16684142634866736.removeAllModels();\n",
       "\tviewer_16684142634866736.addModel(\"\\n     RDKit          3D\\n\\n 26 28  0  0  0  0  0  0  0  0999 V2000\\n   -2.6551    4.3452   -0.4628 C   0  0  0  0  0  0  0  0  0  0  0  0\\n   -2.6223    2.8743   -0.3824 C   0  0  0  0  0  0  0  0  0  0  0  0\\n   -3.5344    2.0952   -0.9518 N   0  0  0  0  0  0  0  0  0  0  0  0\\n   -3.5216    0.7213   -0.8288 C   0  0  0  0  0  0  0  0  0  0  0  0\\n   -2.5133    0.1382   -0.0792 C   0  0  0  0  0  0  0  0  0  0  0  0\\n   -2.3979   -1.2647    0.2177 C   0  0  0  0  0  0  0  0  0  0  0  0\\n   -3.5706   -1.8523    0.5599 O   0  0  0  0  0  0  0  0  0  0  0  0\\n   -4.9433   -2.0960   -0.1077 P   0  0  0  0  0  5  0  0  0  0  0  0\\n   -5.9459   -0.9944   -0.3252 O   0  0  0  0  0  0  0  0  0  0  0  0\\n   -5.8484   -3.1843    0.9685 O   0  0  0  0  0  0  0  0  0  0  0  0\\n   -4.8238   -3.0869   -1.5393 O   0  0  0  0  0  0  0  0  0  0  0  0\\n   -1.5516    0.9541    0.4998 C   0  0  0  0  0  0  0  0  0  0  0  0\\n   -0.3899    0.1517    0.9880 C   0  0  0  0  0  0  0  0  0  0  0  0\\n    0.6758    0.6832    0.0889 N   0  0  0  0  0  0  0  0  0  0  0  0\\n    1.8119   -0.0615   -0.0984 C   0  0  0  0  0  0  0  0  0  0  0  0\\n    1.6457   -1.4674   -0.7230 C   0  0  0  0  0  0  0  0  0  0  0  0\\n    2.9635   -1.9898   -1.2478 C   0  0  0  0  0  0  0  0  0  0  0  0\\n    4.1467   -1.5512   -0.4563 C   0  0  0  0  0  0  0  0  0  0  0  0\\n    3.8999   -0.1890    0.1226 C   0  0  0  0  0  0  0  0  0  0  0  0\\n    5.0784    0.5468    0.6041 C   0  0  0  0  0  0  0  0  0  0  0  0\\n    5.4225    1.6442    0.1338 O   0  0  0  0  0  0  0  0  0  0  0  0\\n    5.8206   -0.0104    1.6098 O   0  0  0  0  0  0  0  0  0  0  0  0\\n    2.7375   -0.2234    1.0954 C   0  0  0  0  0  0  0  0  0  0  0  0\\n    2.9888    0.5936   -0.8266 C   0  0  0  0  0  0  0  0  0  0  0  0\\n   -1.6003    2.2767    0.3830 C   0  0  0  0  0  0  0  0  0  0  0  0\\n   -0.6810    3.1510    1.0160 O   0  0  0  0  0  0  0  0  0  0  0  0\\n  1  2  1  0\\n  2  3  2  0\\n  3  4  1  0\\n  4  5  2  0\\n  5  6  1  0\\n  6  7  1  0\\n  7  8  1  0\\n  8  9  2  0\\n  8 10  1  0\\n  8 11  1  0\\n  5 12  1  0\\n 12 13  1  0\\n 13 14  1  0\\n 14 15  1  0\\n 15 16  1  0\\n 16 17  1  0\\n 17 18  1  0\\n 18 19  1  0\\n 19 20  1  0\\n 20 21  2  0\\n 20 22  1  0\\n 19 23  1  0\\n 19 24  1  0\\n 12 25  2  0\\n 25 26  1  0\\n 25  2  1  0\\n 23 15  1  0\\n 24 15  1  0\\nM  END\\n\",\"sdf\");\n",
       "\tviewer_16684142634866736.setStyle({\"stick\": {}});\n",
       "\tviewer_16684142634866736.setBackgroundColor(\"0xeeeeee\");\n",
       "\tviewer_16684142634866736.zoomTo();\n",
       "viewer_16684142634866736.render();\n",
       "});\n",
       "</script>"
      ]
     },
     "metadata": {},
     "output_type": "display_data"
    }
   ],
   "source": [
    "smi0,refpdb,name = lig_smi,lig_Block,f\"{key}_{pdbid}.pdb\"\n",
    "mol = phe2bch_test(smi0)\n",
    "smi = Chem.MolToSmiles(mol)\n",
    "mol = Chem.MolFromSmiles(smi)\n",
    "mol = Chem.AddHs(mol)\n",
    "AllChem.EmbedMolecule(mol)\n",
    "mol = Chem.RemoveAllHs(mol)\n",
    "\n",
    "structure_from_pdb = Chem.MolFromPDBBlock(refpdb)\n",
    "structure_from_pdb = Chem.RemoveAllHs(structure_from_pdb)\n",
    "mol_tem = Chem.MolFromSmiles(smi0)\n",
    "structure_refine = AllChem.AssignBondOrdersFromTemplate(mol_tem,structure_from_pdb)\n",
    "drawit(mol)"
   ]
  },
  {
   "cell_type": "code",
   "execution_count": null,
   "metadata": {},
   "outputs": [
    {
     "name": "stderr",
     "output_type": "stream",
     "text": [
      "[16:24:29] Molecule does not have explicit Hs. Consider calling AddHs()\n"
     ]
    }
   ],
   "source": [
    "Chem.rdForceFieldHelpers.MMFFGetMoleculeProperties(inpmol,mmffVariant='MMFF94s')"
   ]
  },
  {
   "cell_type": "code",
   "execution_count": null,
   "metadata": {},
   "outputs": [
    {
     "name": "stdout",
     "output_type": "stream",
     "text": [
      "<rdkit.ForceField.rdForceField.ForceField object at 0x7fc0dfd308e0>\n"
     ]
    },
    {
     "name": "stderr",
     "output_type": "stream",
     "text": [
      "[16:33:25] Molecule does not have explicit Hs. Consider calling AddHs()\n"
     ]
    }
   ],
   "source": [
    "refmol,inpmol,pdbfile =structure_refine,mol,f\"{name}\"\n",
    "    \n",
    "bonded_conf = refmol.GetConformer()\n",
    "conf_res = inpmol.GetConformer()\n",
    "inpmol_prop = Chem.rdForceFieldHelpers.MMFFGetMoleculeProperties(inpmol,mmffVariant='MMFF94s')\n",
    "ff_mcs = Chem.rdForceFieldHelpers.MMFFGetMoleculeForceField(inpmol,inpmol_prop)\n",
    "print(ff_mcs)"
   ]
  },
  {
   "cell_type": "code",
   "execution_count": null,
   "metadata": {},
   "outputs": [
    {
     "data": {
      "application/3dmoljs_load.v0": "<div id=\"3dmolviewer_1668406960809081\"  style=\"position: relative; width: 400px; height: 400px\">\n        <p id=\"3dmolwarning_1668406960809081\" style=\"background-color:#ffcccc;color:black\">You appear to be running in JupyterLab (or JavaScript failed to load for some other reason).  You need to install the 3dmol extension: <br>\n        <tt>jupyter labextension install jupyterlab_3dmol</tt></p>\n        </div>\n<script>\n\nvar loadScriptAsync = function(uri){\n  return new Promise((resolve, reject) => {\n    var tag = document.createElement('script');\n    tag.src = uri;\n    tag.async = true;\n    tag.onload = () => {\n      resolve();\n    };\n  var firstScriptTag = document.getElementsByTagName('script')[0];\n  firstScriptTag.parentNode.insertBefore(tag, firstScriptTag);\n});\n};\n\nif(typeof $3Dmolpromise === 'undefined') {\n$3Dmolpromise = null;\n  $3Dmolpromise = loadScriptAsync('https://3dmol.csb.pitt.edu/build/3Dmol.js');\n}\n\nvar viewer_1668406960809081 = null;\nvar warn = document.getElementById(\"3dmolwarning_1668406960809081\");\nif(warn) {\n    warn.parentNode.removeChild(warn);\n}\n$3Dmolpromise.then(function() {\nviewer_1668406960809081 = $3Dmol.createViewer($(\"#3dmolviewer_1668406960809081\"),{backgroundColor:\"white\"});\n\tviewer_1668406960809081.removeAllModels();\n\tviewer_1668406960809081.addModel(\"\\n     RDKit          3D\\n\\n 10  9  0  0  0  0  0  0  0  0999 V2000\\n    0.6114   -0.7060    0.4865 C   0  0  0  0  0  0  0  0  0  0  0  0\\n    1.5852   -0.4416   -0.9458 S   0  0  0  0  0  6  0  0  0  0  0  0\\n    1.4057   -1.5506   -1.9399 O   0  0  0  0  0  0  0  0  0  0  0  0\\n    1.3359    0.8929   -1.5823 O   0  0  0  0  0  0  0  0  0  0  0  0\\n    3.2913   -0.4797   -0.5397 N   0  0  0  0  0  0  0  0  0  0  0  0\\n    3.5883    0.5704    0.3889 C   0  0  0  0  0  0  0  0  0  0  0  0\\n    5.1098    0.5399    0.7539 B   0  0  0  0  0  0  0  0  0  0  0  0\\n    6.0429   -0.1368   -0.1444 O   0  0  0  0  0  0  0  0  0  0  0  0\\n    5.6640    1.6951    1.4961 O   0  0  0  0  0  0  0  0  0  0  0  0\\n   -0.8328   -0.6617    0.1678 R#  0  0  0  0  0  0  0  0  0  2  0  0\\n  1  2  1  0\\n  2  3  2  0\\n  2  4  2  0\\n  2  5  1  0\\n  5  6  1  0\\n  6  7  1  0\\n  7  8  1  0\\n  7  9  1  0\\n 10  1  1  0\\nM  RGP  1  10   2\\nM  END\\n\",\"sdf\");\n\tviewer_1668406960809081.setStyle({\"stick\": {}});\n\tviewer_1668406960809081.setBackgroundColor(\"0xeeeeee\");\n\tviewer_1668406960809081.zoomTo();\nviewer_1668406960809081.render();\n});\n</script>",
      "text/html": [
       "<div id=\"3dmolviewer_1668406960809081\"  style=\"position: relative; width: 400px; height: 400px\">\n",
       "        <p id=\"3dmolwarning_1668406960809081\" style=\"background-color:#ffcccc;color:black\">You appear to be running in JupyterLab (or JavaScript failed to load for some other reason).  You need to install the 3dmol extension: <br>\n",
       "        <tt>jupyter labextension install jupyterlab_3dmol</tt></p>\n",
       "        </div>\n",
       "<script>\n",
       "\n",
       "var loadScriptAsync = function(uri){\n",
       "  return new Promise((resolve, reject) => {\n",
       "    var tag = document.createElement('script');\n",
       "    tag.src = uri;\n",
       "    tag.async = true;\n",
       "    tag.onload = () => {\n",
       "      resolve();\n",
       "    };\n",
       "  var firstScriptTag = document.getElementsByTagName('script')[0];\n",
       "  firstScriptTag.parentNode.insertBefore(tag, firstScriptTag);\n",
       "});\n",
       "};\n",
       "\n",
       "if(typeof $3Dmolpromise === 'undefined') {\n",
       "$3Dmolpromise = null;\n",
       "  $3Dmolpromise = loadScriptAsync('https://3dmol.csb.pitt.edu/build/3Dmol.js');\n",
       "}\n",
       "\n",
       "var viewer_1668406960809081 = null;\n",
       "var warn = document.getElementById(\"3dmolwarning_1668406960809081\");\n",
       "if(warn) {\n",
       "    warn.parentNode.removeChild(warn);\n",
       "}\n",
       "$3Dmolpromise.then(function() {\n",
       "viewer_1668406960809081 = $3Dmol.createViewer($(\"#3dmolviewer_1668406960809081\"),{backgroundColor:\"white\"});\n",
       "\tviewer_1668406960809081.removeAllModels();\n",
       "\tviewer_1668406960809081.addModel(\"\\n     RDKit          3D\\n\\n 10  9  0  0  0  0  0  0  0  0999 V2000\\n    0.6114   -0.7060    0.4865 C   0  0  0  0  0  0  0  0  0  0  0  0\\n    1.5852   -0.4416   -0.9458 S   0  0  0  0  0  6  0  0  0  0  0  0\\n    1.4057   -1.5506   -1.9399 O   0  0  0  0  0  0  0  0  0  0  0  0\\n    1.3359    0.8929   -1.5823 O   0  0  0  0  0  0  0  0  0  0  0  0\\n    3.2913   -0.4797   -0.5397 N   0  0  0  0  0  0  0  0  0  0  0  0\\n    3.5883    0.5704    0.3889 C   0  0  0  0  0  0  0  0  0  0  0  0\\n    5.1098    0.5399    0.7539 B   0  0  0  0  0  0  0  0  0  0  0  0\\n    6.0429   -0.1368   -0.1444 O   0  0  0  0  0  0  0  0  0  0  0  0\\n    5.6640    1.6951    1.4961 O   0  0  0  0  0  0  0  0  0  0  0  0\\n   -0.8328   -0.6617    0.1678 R#  0  0  0  0  0  0  0  0  0  2  0  0\\n  1  2  1  0\\n  2  3  2  0\\n  2  4  2  0\\n  2  5  1  0\\n  5  6  1  0\\n  6  7  1  0\\n  7  8  1  0\\n  7  9  1  0\\n 10  1  1  0\\nM  RGP  1  10   2\\nM  END\\n\",\"sdf\");\n",
       "\tviewer_1668406960809081.setStyle({\"stick\": {}});\n",
       "\tviewer_1668406960809081.setBackgroundColor(\"0xeeeeee\");\n",
       "\tviewer_1668406960809081.zoomTo();\n",
       "viewer_1668406960809081.render();\n",
       "});\n",
       "</script>"
      ]
     },
     "metadata": {},
     "output_type": "display_data"
    },
    {
     "data": {
      "image/png": "[encoded data removed]",
      "text/plain": [
       "<rdkit.Chem.rdchem.Mol at 0x7fc0dfa3ffa0>"
      ]
     },
     "execution_count": 131,
     "metadata": {},
     "output_type": "execute_result"
    }
   ],
   "source": [
    "core = Chem.MolFromSmiles(\"C12CCCC(C2)C1\")\n",
    "res, unmatched = rdRGD.RGroupDecompose([core],[inpmol])\n",
    "mol_with_atom_index(refmol)\n",
    "drawit(res[0]['R2'])\n",
    "Chem.MolFromSmiles(Chem.MolToSmiles(res[0]['R2']).replace(\"[*:2]\",'').replace(\"[*:1]\",''))"
   ]
  },
  {
   "cell_type": "code",
   "execution_count": null,
   "metadata": {},
   "outputs": [
    {
     "data": {
      "application/3dmoljs_load.v0": "<div id=\"3dmolviewer_16684068981644468\"  style=\"position: relative; width: 400px; height: 400px\">\n        <p id=\"3dmolwarning_16684068981644468\" style=\"background-color:#ffcccc;color:black\">You appear to be running in JupyterLab (or JavaScript failed to load for some other reason).  You need to install the 3dmol extension: <br>\n        <tt>jupyter labextension install jupyterlab_3dmol</tt></p>\n        </div>\n<script>\n\nvar loadScriptAsync = function(uri){\n  return new Promise((resolve, reject) => {\n    var tag = document.createElement('script');\n    tag.src = uri;\n    tag.async = true;\n    tag.onload = () => {\n      resolve();\n    };\n  var firstScriptTag = document.getElementsByTagName('script')[0];\n  firstScriptTag.parentNode.insertBefore(tag, firstScriptTag);\n});\n};\n\nif(typeof $3Dmolpromise === 'undefined') {\n$3Dmolpromise = null;\n  $3Dmolpromise = loadScriptAsync('https://3dmol.csb.pitt.edu/build/3Dmol.js');\n}\n\nvar viewer_16684068981644468 = null;\nvar warn = document.getElementById(\"3dmolwarning_16684068981644468\");\nif(warn) {\n    warn.parentNode.removeChild(warn);\n}\n$3Dmolpromise.then(function() {\nviewer_16684068981644468 = $3Dmol.createViewer($(\"#3dmolviewer_16684068981644468\"),{backgroundColor:\"white\"});\n\tviewer_16684068981644468.removeAllModels();\n\tviewer_16684068981644468.addModel(\"\\n     RDKit          3D\\n\\n 18 18  0  0  0  0  0  0  0  0999 V2000\\n   26.3100    4.9640   16.2970 B   0  0  0  0  0  0  0  0  0  0  0  0\\n   25.3410    4.0700   16.9300 O   0  0  0  0  0  0  0  0  0  1  0  0\\n   26.5000    6.0890   17.2250 O   0  0  0  0  0  0  0  0  0  2  0  0\\n   25.7200    5.4320   14.9170 C   0  0  0  0  0  0  0  0  0  3  0  0\\n   24.2580    5.5550   14.8780 N   0  0  0  0  0  0  0  0  0  4  0  0\\n   23.4720    6.0060   13.5450 S   0  0  2  0  0  0  0  0  0  5  0  0\\n   24.0950    7.1940   13.0020 O   0  0  0  0  0  0  0  0  0  6  0  0\\n   22.1280    6.3050   13.8760 O   0  0  0  0  0  0  0  0  0  7  0  0\\n   23.5280    4.7580   12.3710 C   0  0  0  0  0  0  0  0  0  8  0  0\\n   22.7380    4.9900   11.1100 C   0  0  0  0  0  0  0  0  0  9  0  0\\n   23.2060    5.8990   10.1580 C   0  0  0  0  0  0  0  0  0 10  0  0\\n   22.4530    6.0820    8.9920 C   0  0  0  0  0  0  0  0  0 11  0  0\\n   21.2670    5.3920    8.7560 C   0  0  0  0  0  0  0  0  0 12  0  0\\n   20.8390    4.5030    9.7250 C   0  0  0  0  0  0  0  0  0 13  0  0\\n   19.5560    3.7030    9.5130 C   0  0  0  0  0  0  0  0  0 14  0  0\\n   19.0990    3.0300   10.4600 O   0  0  0  0  0  0  0  0  0 15  0  0\\n   18.9940    3.7040    8.3850 O   0  0  0  0  0  0  0  0  0 16  0  0\\n   21.5720    4.3010   10.8820 C   0  0  0  0  0  0  0  0  0 17  0  0\\n  2  1  1  0\\n  3  1  1  0\\n  4  1  1  0\\n  5  4  1  0\\n  6  5  1  0\\n  7  6  2  0\\n  8  6  2  0\\n  6  9  1  6\\n 10  9  1  0\\n 11 10  2  0\\n 12 11  1  0\\n 13 12  2  0\\n 14 13  1  0\\n 15 14  1  0\\n 16 15  2  0\\n 17 15  1  0\\n 18 14  2  0\\n 18 10  1  0\\nM  END\\n\",\"sdf\");\n\tviewer_16684068981644468.setStyle({\"stick\": {}});\n\tviewer_16684068981644468.setBackgroundColor(\"0xeeeeee\");\n\tviewer_16684068981644468.zoomTo();\nviewer_16684068981644468.render();\n});\n</script>",
      "text/html": [
       "<div id=\"3dmolviewer_16684068981644468\"  style=\"position: relative; width: 400px; height: 400px\">\n",
       "        <p id=\"3dmolwarning_16684068981644468\" style=\"background-color:#ffcccc;color:black\">You appear to be running in JupyterLab (or JavaScript failed to load for some other reason).  You need to install the 3dmol extension: <br>\n",
       "        <tt>jupyter labextension install jupyterlab_3dmol</tt></p>\n",
       "        </div>\n",
       "<script>\n",
       "\n",
       "var loadScriptAsync = function(uri){\n",
       "  return new Promise((resolve, reject) => {\n",
       "    var tag = document.createElement('script');\n",
       "    tag.src = uri;\n",
       "    tag.async = true;\n",
       "    tag.onload = () => {\n",
       "      resolve();\n",
       "    };\n",
       "  var firstScriptTag = document.getElementsByTagName('script')[0];\n",
       "  firstScriptTag.parentNode.insertBefore(tag, firstScriptTag);\n",
       "});\n",
       "};\n",
       "\n",
       "if(typeof $3Dmolpromise === 'undefined') {\n",
       "$3Dmolpromise = null;\n",
       "  $3Dmolpromise = loadScriptAsync('https://3dmol.csb.pitt.edu/build/3Dmol.js');\n",
       "}\n",
       "\n",
       "var viewer_16684068981644468 = null;\n",
       "var warn = document.getElementById(\"3dmolwarning_16684068981644468\");\n",
       "if(warn) {\n",
       "    warn.parentNode.removeChild(warn);\n",
       "}\n",
       "$3Dmolpromise.then(function() {\n",
       "viewer_16684068981644468 = $3Dmol.createViewer($(\"#3dmolviewer_16684068981644468\"),{backgroundColor:\"white\"});\n",
       "\tviewer_16684068981644468.removeAllModels();\n",
       "\tviewer_16684068981644468.addModel(\"\\n     RDKit          3D\\n\\n 18 18  0  0  0  0  0  0  0  0999 V2000\\n   26.3100    4.9640   16.2970 B   0  0  0  0  0  0  0  0  0  0  0  0\\n   25.3410    4.0700   16.9300 O   0  0  0  0  0  0  0  0  0  1  0  0\\n   26.5000    6.0890   17.2250 O   0  0  0  0  0  0  0  0  0  2  0  0\\n   25.7200    5.4320   14.9170 C   0  0  0  0  0  0  0  0  0  3  0  0\\n   24.2580    5.5550   14.8780 N   0  0  0  0  0  0  0  0  0  4  0  0\\n   23.4720    6.0060   13.5450 S   0  0  2  0  0  0  0  0  0  5  0  0\\n   24.0950    7.1940   13.0020 O   0  0  0  0  0  0  0  0  0  6  0  0\\n   22.1280    6.3050   13.8760 O   0  0  0  0  0  0  0  0  0  7  0  0\\n   23.5280    4.7580   12.3710 C   0  0  0  0  0  0  0  0  0  8  0  0\\n   22.7380    4.9900   11.1100 C   0  0  0  0  0  0  0  0  0  9  0  0\\n   23.2060    5.8990   10.1580 C   0  0  0  0  0  0  0  0  0 10  0  0\\n   22.4530    6.0820    8.9920 C   0  0  0  0  0  0  0  0  0 11  0  0\\n   21.2670    5.3920    8.7560 C   0  0  0  0  0  0  0  0  0 12  0  0\\n   20.8390    4.5030    9.7250 C   0  0  0  0  0  0  0  0  0 13  0  0\\n   19.5560    3.7030    9.5130 C   0  0  0  0  0  0  0  0  0 14  0  0\\n   19.0990    3.0300   10.4600 O   0  0  0  0  0  0  0  0  0 15  0  0\\n   18.9940    3.7040    8.3850 O   0  0  0  0  0  0  0  0  0 16  0  0\\n   21.5720    4.3010   10.8820 C   0  0  0  0  0  0  0  0  0 17  0  0\\n  2  1  1  0\\n  3  1  1  0\\n  4  1  1  0\\n  5  4  1  0\\n  6  5  1  0\\n  7  6  2  0\\n  8  6  2  0\\n  6  9  1  6\\n 10  9  1  0\\n 11 10  2  0\\n 12 11  1  0\\n 13 12  2  0\\n 14 13  1  0\\n 15 14  1  0\\n 16 15  2  0\\n 17 15  1  0\\n 18 14  2  0\\n 18 10  1  0\\nM  END\\n\",\"sdf\");\n",
       "\tviewer_16684068981644468.setStyle({\"stick\": {}});\n",
       "\tviewer_16684068981644468.setBackgroundColor(\"0xeeeeee\");\n",
       "\tviewer_16684068981644468.zoomTo();\n",
       "viewer_16684068981644468.render();\n",
       "});\n",
       "</script>"
      ]
     },
     "metadata": {},
     "output_type": "display_data"
    }
   ],
   "source": [
    "drawit(refmol)"
   ]
  },
  {
   "cell_type": "code",
   "execution_count": null,
   "metadata": {},
   "outputs": [
    {
     "data": {
      "image/png": "[encoded data removed]",
      "text/plain": [
       "<rdkit.Chem.rdchem.Mol at 0x7fc0dfb018b0>"
      ]
     },
     "execution_count": 126,
     "metadata": {},
     "output_type": "execute_result"
    }
   ],
   "source": [
    "mol_with_atom_index(refmol)"
   ]
  },
  {
   "cell_type": "code",
   "execution_count": null,
   "metadata": {},
   "outputs": [
    {
     "name": "stdout",
     "output_type": "stream",
     "text": [
      "(8, 5, 6, 7, 4, 3, 0, 1, 2)\n",
      "(8, 9, 10, 11, 12, 13, 14, 15, 16)\n"
     ]
    },
    {
     "data": {
      "application/3dmoljs_load.v0": "<div id=\"3dmolviewer_16684069070356953\"  style=\"position: relative; width: 400px; height: 400px\">\n        <p id=\"3dmolwarning_16684069070356953\" style=\"background-color:#ffcccc;color:black\">You appear to be running in JupyterLab (or JavaScript failed to load for some other reason).  You need to install the 3dmol extension: <br>\n        <tt>jupyter labextension install jupyterlab_3dmol</tt></p>\n        </div>\n<script>\n\nvar loadScriptAsync = function(uri){\n  return new Promise((resolve, reject) => {\n    var tag = document.createElement('script');\n    tag.src = uri;\n    tag.async = true;\n    tag.onload = () => {\n      resolve();\n    };\n  var firstScriptTag = document.getElementsByTagName('script')[0];\n  firstScriptTag.parentNode.insertBefore(tag, firstScriptTag);\n});\n};\n\nif(typeof $3Dmolpromise === 'undefined') {\n$3Dmolpromise = null;\n  $3Dmolpromise = loadScriptAsync('https://3dmol.csb.pitt.edu/build/3Dmol.js');\n}\n\nvar viewer_16684069070356953 = null;\nvar warn = document.getElementById(\"3dmolwarning_16684069070356953\");\nif(warn) {\n    warn.parentNode.removeChild(warn);\n}\n$3Dmolpromise.then(function() {\nviewer_16684069070356953 = $3Dmol.createViewer($(\"#3dmolviewer_16684069070356953\"),{backgroundColor:\"white\"});\n\tviewer_16684069070356953.removeAllModels();\n\tviewer_16684069070356953.addModel(\"\\n     RDKit          3D\\n\\n 18 18  0  0  0  0  0  0  0  0999 V2000\\n   26.3100    4.9640   16.2970 B   0  0  0  0  0  0  0  0  0  0  0  0\\n   25.3410    4.0700   16.9300 O   0  0  0  0  0  0  0  0  0  1  0  0\\n   26.5000    6.0890   17.2250 O   0  0  0  0  0  0  0  0  0  2  0  0\\n   25.7200    5.4320   14.9170 C   0  0  0  0  0  0  0  0  0  3  0  0\\n   24.2580    5.5550   14.8780 N   0  0  0  0  0  0  0  0  0  4  0  0\\n   23.4720    6.0060   13.5450 S   0  0  2  0  0  0  0  0  0  5  0  0\\n   24.0950    7.1940   13.0020 O   0  0  0  0  0  0  0  0  0  6  0  0\\n   22.1280    6.3050   13.8760 O   0  0  0  0  0  0  0  0  0  7  0  0\\n   23.5280    4.7580   12.3710 C   0  0  0  0  0  0  0  0  0  8  0  0\\n   22.7380    4.9900   11.1100 C   0  0  0  0  0  0  0  0  0  9  0  0\\n   23.2060    5.8990   10.1580 C   0  0  0  0  0  0  0  0  0 10  0  0\\n   22.4530    6.0820    8.9920 C   0  0  0  0  0  0  0  0  0 11  0  0\\n   21.2670    5.3920    8.7560 C   0  0  0  0  0  0  0  0  0 12  0  0\\n   20.8390    4.5030    9.7250 C   0  0  0  0  0  0  0  0  0 13  0  0\\n   19.5560    3.7030    9.5130 C   0  0  0  0  0  0  0  0  0 14  0  0\\n   19.0990    3.0300   10.4600 O   0  0  0  0  0  0  0  0  0 15  0  0\\n   18.9940    3.7040    8.3850 O   0  0  0  0  0  0  0  0  0 16  0  0\\n   21.5720    4.3010   10.8820 C   0  0  0  0  0  0  0  0  0 17  0  0\\n  2  1  1  0\\n  3  1  1  0\\n  4  1  1  0\\n  5  4  1  0\\n  6  5  1  0\\n  7  6  2  0\\n  8  6  2  0\\n  6  9  1  6\\n 10  9  1  0\\n 11 10  2  0\\n 12 11  1  0\\n 13 12  2  0\\n 14 13  1  0\\n 15 14  1  0\\n 16 15  2  0\\n 17 15  1  0\\n 18 14  2  0\\n 18 10  1  0\\nM  END\\n\",\"sdf\");\n\tviewer_16684069070356953.setStyle({\"stick\": {}});\n\tviewer_16684069070356953.setBackgroundColor(\"0xeeeeee\");\n\tviewer_16684069070356953.zoomTo();\nviewer_16684069070356953.render();\n});\n</script>",
      "text/html": [
       "<div id=\"3dmolviewer_16684069070356953\"  style=\"position: relative; width: 400px; height: 400px\">\n",
       "        <p id=\"3dmolwarning_16684069070356953\" style=\"background-color:#ffcccc;color:black\">You appear to be running in JupyterLab (or JavaScript failed to load for some other reason).  You need to install the 3dmol extension: <br>\n",
       "        <tt>jupyter labextension install jupyterlab_3dmol</tt></p>\n",
       "        </div>\n",
       "<script>\n",
       "\n",
       "var loadScriptAsync = function(uri){\n",
       "  return new Promise((resolve, reject) => {\n",
       "    var tag = document.createElement('script');\n",
       "    tag.src = uri;\n",
       "    tag.async = true;\n",
       "    tag.onload = () => {\n",
       "      resolve();\n",
       "    };\n",
       "  var firstScriptTag = document.getElementsByTagName('script')[0];\n",
       "  firstScriptTag.parentNode.insertBefore(tag, firstScriptTag);\n",
       "});\n",
       "};\n",
       "\n",
       "if(typeof $3Dmolpromise === 'undefined') {\n",
       "$3Dmolpromise = null;\n",
       "  $3Dmolpromise = loadScriptAsync('https://3dmol.csb.pitt.edu/build/3Dmol.js');\n",
       "}\n",
       "\n",
       "var viewer_16684069070356953 = null;\n",
       "var warn = document.getElementById(\"3dmolwarning_16684069070356953\");\n",
       "if(warn) {\n",
       "    warn.parentNode.removeChild(warn);\n",
       "}\n",
       "$3Dmolpromise.then(function() {\n",
       "viewer_16684069070356953 = $3Dmol.createViewer($(\"#3dmolviewer_16684069070356953\"),{backgroundColor:\"white\"});\n",
       "\tviewer_16684069070356953.removeAllModels();\n",
       "\tviewer_16684069070356953.addModel(\"\\n     RDKit          3D\\n\\n 18 18  0  0  0  0  0  0  0  0999 V2000\\n   26.3100    4.9640   16.2970 B   0  0  0  0  0  0  0  0  0  0  0  0\\n   25.3410    4.0700   16.9300 O   0  0  0  0  0  0  0  0  0  1  0  0\\n   26.5000    6.0890   17.2250 O   0  0  0  0  0  0  0  0  0  2  0  0\\n   25.7200    5.4320   14.9170 C   0  0  0  0  0  0  0  0  0  3  0  0\\n   24.2580    5.5550   14.8780 N   0  0  0  0  0  0  0  0  0  4  0  0\\n   23.4720    6.0060   13.5450 S   0  0  2  0  0  0  0  0  0  5  0  0\\n   24.0950    7.1940   13.0020 O   0  0  0  0  0  0  0  0  0  6  0  0\\n   22.1280    6.3050   13.8760 O   0  0  0  0  0  0  0  0  0  7  0  0\\n   23.5280    4.7580   12.3710 C   0  0  0  0  0  0  0  0  0  8  0  0\\n   22.7380    4.9900   11.1100 C   0  0  0  0  0  0  0  0  0  9  0  0\\n   23.2060    5.8990   10.1580 C   0  0  0  0  0  0  0  0  0 10  0  0\\n   22.4530    6.0820    8.9920 C   0  0  0  0  0  0  0  0  0 11  0  0\\n   21.2670    5.3920    8.7560 C   0  0  0  0  0  0  0  0  0 12  0  0\\n   20.8390    4.5030    9.7250 C   0  0  0  0  0  0  0  0  0 13  0  0\\n   19.5560    3.7030    9.5130 C   0  0  0  0  0  0  0  0  0 14  0  0\\n   19.0990    3.0300   10.4600 O   0  0  0  0  0  0  0  0  0 15  0  0\\n   18.9940    3.7040    8.3850 O   0  0  0  0  0  0  0  0  0 16  0  0\\n   21.5720    4.3010   10.8820 C   0  0  0  0  0  0  0  0  0 17  0  0\\n  2  1  1  0\\n  3  1  1  0\\n  4  1  1  0\\n  5  4  1  0\\n  6  5  1  0\\n  7  6  2  0\\n  8  6  2  0\\n  6  9  1  6\\n 10  9  1  0\\n 11 10  2  0\\n 12 11  1  0\\n 13 12  2  0\\n 14 13  1  0\\n 15 14  1  0\\n 16 15  2  0\\n 17 15  1  0\\n 18 14  2  0\\n 18 10  1  0\\nM  END\\n\",\"sdf\");\n",
       "\tviewer_16684069070356953.setStyle({\"stick\": {}});\n",
       "\tviewer_16684069070356953.setBackgroundColor(\"0xeeeeee\");\n",
       "\tviewer_16684069070356953.zoomTo();\n",
       "viewer_16684069070356953.render();\n",
       "});\n",
       "</script>"
      ]
     },
     "metadata": {},
     "output_type": "display_data"
    },
    {
     "data": {
      "application/3dmoljs_load.v0": "<div id=\"3dmolviewer_16684069070385635\"  style=\"position: relative; width: 400px; height: 400px\">\n        <p id=\"3dmolwarning_16684069070385635\" style=\"background-color:#ffcccc;color:black\">You appear to be running in JupyterLab (or JavaScript failed to load for some other reason).  You need to install the 3dmol extension: <br>\n        <tt>jupyter labextension install jupyterlab_3dmol</tt></p>\n        </div>\n<script>\n\nvar loadScriptAsync = function(uri){\n  return new Promise((resolve, reject) => {\n    var tag = document.createElement('script');\n    tag.src = uri;\n    tag.async = true;\n    tag.onload = () => {\n      resolve();\n    };\n  var firstScriptTag = document.getElementsByTagName('script')[0];\n  firstScriptTag.parentNode.insertBefore(tag, firstScriptTag);\n});\n};\n\nif(typeof $3Dmolpromise === 'undefined') {\n$3Dmolpromise = null;\n  $3Dmolpromise = loadScriptAsync('https://3dmol.csb.pitt.edu/build/3Dmol.js');\n}\n\nvar viewer_16684069070385635 = null;\nvar warn = document.getElementById(\"3dmolwarning_16684069070385635\");\nif(warn) {\n    warn.parentNode.removeChild(warn);\n}\n$3Dmolpromise.then(function() {\nviewer_16684069070385635 = $3Dmol.createViewer($(\"#3dmolviewer_16684069070385635\"),{backgroundColor:\"white\"});\n\tviewer_16684069070385635.removeAllModels();\n\tviewer_16684069070385635.addModel(\"\\n     RDKit          3D\\n\\n 10  9  0  0  0  0  0  0  0  0999 V2000\\n    0.6114   -0.7060    0.4865 C   0  0  0  0  0  0  0  0  0  0  0  0\\n    1.5852   -0.4416   -0.9458 S   0  0  0  0  0  6  0  0  0  0  0  0\\n    1.4057   -1.5506   -1.9399 O   0  0  0  0  0  0  0  0  0  0  0  0\\n    1.3359    0.8929   -1.5823 O   0  0  0  0  0  0  0  0  0  0  0  0\\n    3.2913   -0.4797   -0.5397 N   0  0  0  0  0  0  0  0  0  0  0  0\\n    3.5883    0.5704    0.3889 C   0  0  0  0  0  0  0  0  0  0  0  0\\n    5.1098    0.5399    0.7539 B   0  0  0  0  0  0  0  0  0  0  0  0\\n    6.0429   -0.1368   -0.1444 O   0  0  0  0  0  0  0  0  0  0  0  0\\n    5.6640    1.6951    1.4961 O   0  0  0  0  0  0  0  0  0  0  0  0\\n   -0.8328   -0.6617    0.1678 R#  0  0  0  0  0  0  0  0  0  2  0  0\\n  1  2  1  0\\n  2  3  2  0\\n  2  4  2  0\\n  2  5  1  0\\n  5  6  1  0\\n  6  7  1  0\\n  7  8  1  0\\n  7  9  1  0\\n 10  1  1  0\\nM  RGP  1  10   2\\nM  END\\n\",\"sdf\");\n\tviewer_16684069070385635.setStyle({\"stick\": {}});\n\tviewer_16684069070385635.setBackgroundColor(\"0xeeeeee\");\n\tviewer_16684069070385635.zoomTo();\nviewer_16684069070385635.render();\n});\n</script>",
      "text/html": [
       "<div id=\"3dmolviewer_16684069070385635\"  style=\"position: relative; width: 400px; height: 400px\">\n",
       "        <p id=\"3dmolwarning_16684069070385635\" style=\"background-color:#ffcccc;color:black\">You appear to be running in JupyterLab (or JavaScript failed to load for some other reason).  You need to install the 3dmol extension: <br>\n",
       "        <tt>jupyter labextension install jupyterlab_3dmol</tt></p>\n",
       "        </div>\n",
       "<script>\n",
       "\n",
       "var loadScriptAsync = function(uri){\n",
       "  return new Promise((resolve, reject) => {\n",
       "    var tag = document.createElement('script');\n",
       "    tag.src = uri;\n",
       "    tag.async = true;\n",
       "    tag.onload = () => {\n",
       "      resolve();\n",
       "    };\n",
       "  var firstScriptTag = document.getElementsByTagName('script')[0];\n",
       "  firstScriptTag.parentNode.insertBefore(tag, firstScriptTag);\n",
       "});\n",
       "};\n",
       "\n",
       "if(typeof $3Dmolpromise === 'undefined') {\n",
       "$3Dmolpromise = null;\n",
       "  $3Dmolpromise = loadScriptAsync('https://3dmol.csb.pitt.edu/build/3Dmol.js');\n",
       "}\n",
       "\n",
       "var viewer_16684069070385635 = null;\n",
       "var warn = document.getElementById(\"3dmolwarning_16684069070385635\");\n",
       "if(warn) {\n",
       "    warn.parentNode.removeChild(warn);\n",
       "}\n",
       "$3Dmolpromise.then(function() {\n",
       "viewer_16684069070385635 = $3Dmol.createViewer($(\"#3dmolviewer_16684069070385635\"),{backgroundColor:\"white\"});\n",
       "\tviewer_16684069070385635.removeAllModels();\n",
       "\tviewer_16684069070385635.addModel(\"\\n     RDKit          3D\\n\\n 10  9  0  0  0  0  0  0  0  0999 V2000\\n    0.6114   -0.7060    0.4865 C   0  0  0  0  0  0  0  0  0  0  0  0\\n    1.5852   -0.4416   -0.9458 S   0  0  0  0  0  6  0  0  0  0  0  0\\n    1.4057   -1.5506   -1.9399 O   0  0  0  0  0  0  0  0  0  0  0  0\\n    1.3359    0.8929   -1.5823 O   0  0  0  0  0  0  0  0  0  0  0  0\\n    3.2913   -0.4797   -0.5397 N   0  0  0  0  0  0  0  0  0  0  0  0\\n    3.5883    0.5704    0.3889 C   0  0  0  0  0  0  0  0  0  0  0  0\\n    5.1098    0.5399    0.7539 B   0  0  0  0  0  0  0  0  0  0  0  0\\n    6.0429   -0.1368   -0.1444 O   0  0  0  0  0  0  0  0  0  0  0  0\\n    5.6640    1.6951    1.4961 O   0  0  0  0  0  0  0  0  0  0  0  0\\n   -0.8328   -0.6617    0.1678 R#  0  0  0  0  0  0  0  0  0  2  0  0\\n  1  2  1  0\\n  2  3  2  0\\n  2  4  2  0\\n  2  5  1  0\\n  5  6  1  0\\n  6  7  1  0\\n  7  8  1  0\\n  7  9  1  0\\n 10  1  1  0\\nM  RGP  1  10   2\\nM  END\\n\",\"sdf\");\n",
       "\tviewer_16684069070385635.setStyle({\"stick\": {}});\n",
       "\tviewer_16684069070385635.setBackgroundColor(\"0xeeeeee\");\n",
       "\tviewer_16684069070385635.zoomTo();\n",
       "viewer_16684069070385635.render();\n",
       "});\n",
       "</script>"
      ]
     },
     "metadata": {},
     "output_type": "display_data"
    },
    {
     "data": {
      "image/png": "[encoded data removed]",
      "text/plain": [
       "<rdkit.Chem.rdchem.Mol at 0x7fc0dfb9fac0>"
      ]
     },
     "execution_count": 127,
     "metadata": {},
     "output_type": "execute_result"
    }
   ],
   "source": [
    "mcs1 = rdFMCS.FindMCS([refmol, res[0]['R2']],timeout=5,bondCompare=rdFMCS.BondCompare.CompareAny)\n",
    "mcs3 = rdFMCS.FindMCS([inpmol, res[0]['R2']],timeout=3,bondCompare=rdFMCS.BondCompare.CompareOrderExact)\n",
    "sidechain_ref = refmol.GetSubstructMatch(mcs1.queryMol)\n",
    "sidechain_gen = inpmol.GetSubstructMatch(mcs3.queryMol)\n",
    "print(sidechain_ref)\n",
    "print(sidechain_gen)\n",
    "\n",
    "atom_connect_sidechain_core_gen = get_connect_atom_in_core(inpmol, sidechain_gen)[0]\n",
    "\n",
    "drawit(refmol)\n",
    "drawit(res[0]['R2'])\n",
    "mcs1.queryMol\n"
   ]
  },
  {
   "cell_type": "code",
   "execution_count": null,
   "metadata": {},
   "outputs": [
    {
     "data": {
      "text/plain": [
       "(6, 5, 7, 8, 4, 3, 0, 1, 2)"
      ]
     },
     "execution_count": 128,
     "metadata": {},
     "output_type": "execute_result"
    }
   ],
   "source": [
    "test_smi = Chem.MolToSmiles(res[0]['R2'])\n",
    "side_chain_mol = Chem.MolFromSmiles(test_smi)\n",
    "mcs2 = rdFMCS.FindMCS([refmol, side_chain_mol],timeout=5,ringCompare=Chem.rdFMCS.RingCompare.StrictRingFusion)\n",
    "mcs2.queryMol\n",
    "sidechain_ref = refmol.GetSubstructMatch(mcs2.queryMol)\n",
    "sidechain_ref"
   ]
  },
  {
   "cell_type": "code",
   "execution_count": null,
   "metadata": {},
   "outputs": [
    {
     "ename": "AttributeError",
     "evalue": "'NoneType' object has no attribute 'AddFixedPoint'",
     "output_type": "error",
     "traceback": [
      "\u001b[0;31m---------------------------------------------------------------------------\u001b[0m",
      "\u001b[0;31mAttributeError\u001b[0m                            Traceback (most recent call last)",
      "\u001b[1;32m/home/chengyj/kinase_work/dataset/Bridged_ring/PDB_rings/lig_in_pdb/phe2bch.ipynb Cell 19\u001b[0m in \u001b[0;36m<cell line: 1>\u001b[0;34m()\u001b[0m\n\u001b[1;32m      <a href='vscode-notebook-cell://ssh-remote%2Bnode88/home/chengyj/kinase_work/dataset/Bridged_ring/PDB_rings/lig_in_pdb/phe2bch.ipynb#X24sdnNjb2RlLXJlbW90ZQ%3D%3D?line=4'>5</a>\u001b[0m sidechain_gen \u001b[39m=\u001b[39m inpmol\u001b[39m.\u001b[39mGetSubstructMatch(mcs3\u001b[39m.\u001b[39mqueryMol)\n\u001b[1;32m      <a href='vscode-notebook-cell://ssh-remote%2Bnode88/home/chengyj/kinase_work/dataset/Bridged_ring/PDB_rings/lig_in_pdb/phe2bch.ipynb#X24sdnNjb2RlLXJlbW90ZQ%3D%3D?line=5'>6</a>\u001b[0m \u001b[39mfor\u001b[39;00m i, j \u001b[39min\u001b[39;00m \u001b[39mzip\u001b[39m(sidechain_ref,sidechain_gen):\n\u001b[1;32m      <a href='vscode-notebook-cell://ssh-remote%2Bnode88/home/chengyj/kinase_work/dataset/Bridged_ring/PDB_rings/lig_in_pdb/phe2bch.ipynb#X24sdnNjb2RlLXJlbW90ZQ%3D%3D?line=6'>7</a>\u001b[0m     \u001b[39m# print(f\"{R} {i} {j}\")\u001b[39;00m\n\u001b[0;32m----> <a href='vscode-notebook-cell://ssh-remote%2Bnode88/home/chengyj/kinase_work/dataset/Bridged_ring/PDB_rings/lig_in_pdb/phe2bch.ipynb#X24sdnNjb2RlLXJlbW90ZQ%3D%3D?line=7'>8</a>\u001b[0m     ff_mcs\u001b[39m.\u001b[39;49mAddFixedPoint(j)\n\u001b[1;32m      <a href='vscode-notebook-cell://ssh-remote%2Bnode88/home/chengyj/kinase_work/dataset/Bridged_ring/PDB_rings/lig_in_pdb/phe2bch.ipynb#X24sdnNjb2RlLXJlbW90ZQ%3D%3D?line=8'>9</a>\u001b[0m     conf_res\u001b[39m.\u001b[39mSetAtomPosition(j, bonded_conf\u001b[39m.\u001b[39mGetAtomPosition(i))\n\u001b[1;32m     <a href='vscode-notebook-cell://ssh-remote%2Bnode88/home/chengyj/kinase_work/dataset/Bridged_ring/PDB_rings/lig_in_pdb/phe2bch.ipynb#X24sdnNjb2RlLXJlbW90ZQ%3D%3D?line=9'>10</a>\u001b[0m atom_connect_sidechain_core_ref \u001b[39m=\u001b[39m get_connect_atom_in_core(refmol, sidechain_ref)[\u001b[39m0\u001b[39m]\n",
      "\u001b[0;31mAttributeError\u001b[0m: 'NoneType' object has no attribute 'AddFixedPoint'"
     ]
    }
   ],
   "source": [
    "for R in ['R1','R2']:\n",
    "    mcs1 = rdFMCS.FindMCS([refmol, res[0][R]],timeout=3,)\n",
    "    mcs3 = rdFMCS.FindMCS([inpmol, res[0][R]],timeout=3,bondCompare=rdFMCS.BondCompare.CompareOrderExact)\n",
    "    sidechain_ref = refmol.GetSubstructMatch(mcs1.queryMol)\n",
    "    sidechain_gen = inpmol.GetSubstructMatch(mcs3.queryMol)\n",
    "    for i, j in zip(sidechain_ref,sidechain_gen):\n",
    "        # print(f\"{R} {i} {j}\")\n",
    "        ff_mcs.AddFixedPoint(j)\n",
    "        conf_res.SetAtomPosition(j, bonded_conf.GetAtomPosition(i))\n",
    "    atom_connect_sidechain_core_ref = get_connect_atom_in_core(refmol, sidechain_ref)[0]\n",
    "    atom_connect_sidechain_core_gen = get_connect_atom_in_core(inpmol, sidechain_gen)[0]\n",
    "    print(atom_connect_sidechain_core_gen)\n",
    "    ff_mcs.AddFixedPoint(atom_connect_sidechain_core_gen)\n",
    "    conf_res.SetAtomPosition(atom_connect_sidechain_core_gen,bonded_conf.GetAtomPosition(atom_connect_sidechain_core_ref))"
   ]
  },
  {
   "cell_type": "code",
   "execution_count": null,
   "metadata": {},
   "outputs": [
    {
     "data": {
      "application/3dmoljs_load.v0": "<div id=\"3dmolviewer_16681453031271644\"  style=\"position: relative; width: 400px; height: 400px\">\n        <p id=\"3dmolwarning_16681453031271644\" style=\"background-color:#ffcccc;color:black\">You appear to be running in JupyterLab (or JavaScript failed to load for some other reason).  You need to install the 3dmol extension: <br>\n        <tt>jupyter labextension install jupyterlab_3dmol</tt></p>\n        </div>\n<script>\n\nvar loadScriptAsync = function(uri){\n  return new Promise((resolve, reject) => {\n    var tag = document.createElement('script');\n    tag.src = uri;\n    tag.async = true;\n    tag.onload = () => {\n      resolve();\n    };\n  var firstScriptTag = document.getElementsByTagName('script')[0];\n  firstScriptTag.parentNode.insertBefore(tag, firstScriptTag);\n});\n};\n\nif(typeof $3Dmolpromise === 'undefined') {\n$3Dmolpromise = null;\n  $3Dmolpromise = loadScriptAsync('https://3dmol.csb.pitt.edu/build/3Dmol.js');\n}\n\nvar viewer_16681453031271644 = null;\nvar warn = document.getElementById(\"3dmolwarning_16681453031271644\");\nif(warn) {\n    warn.parentNode.removeChild(warn);\n}\n$3Dmolpromise.then(function() {\nviewer_16681453031271644 = $3Dmol.createViewer($(\"#3dmolviewer_16681453031271644\"),{backgroundColor:\"white\"});\n\tviewer_16681453031271644.removeAllModels();\n\tviewer_16681453031271644.addModel(\"\\n     RDKit          3D\\n\\n 27 31  0  0  0  0  0  0  0  0999 V2000\\n  -21.3380  -43.3460   -4.0910 C   0  0  0  0  0  0  0  0  0  0  0  0\\n  -21.1810  -42.1640   -3.2940 O   0  0  0  0  0  0  0  0  0  0  0  0\\n  -20.6420  -40.9900   -3.7890 C   0  0  0  0  0  0  0  0  0  0  0  0\\n  -20.1000  -40.0390   -2.9260 C   0  0  0  0  0  0  0  0  0  0  0  0\\n  -19.5410  -38.8580   -3.4200 C   0  0  0  0  0  0  0  0  0  0  0  0\\n  -19.5490  -38.6110   -4.7940 C   0  0  0  0  0  0  0  0  0  0  0  0\\n  -20.0920  -39.5630   -5.6630 C   0  0  0  0  0  0  0  0  0  0  0  0\\n  -20.1290  -39.3320   -7.1310 C   0  0  0  0  0  0  0  0  0  0  0  0\\n    1.9199    1.1831   -2.2194 C   0  0  0  0  0  0  0  0  0  0  0  0\\n    0.7861    0.8756   -3.1676 C   0  0  0  0  0  0  0  0  0  0  0  0\\n   -0.3763    0.3290   -2.4009 C   0  0  0  0  0  0  0  0  0  0  0  0\\n  -16.2780  -39.2020   -9.3200 C   0  0  0  0  0  0  0  0  0  0  0  0\\n  -16.2890  -40.3040  -10.1980 C   0  0  1  0  0  0  0  0  0  0  0  0\\n  -15.9080  -41.5710   -9.7390 C   0  0  0  0  0  0  0  0  0  0  0  0\\n  -15.9190  -42.5680  -10.5060 C   0  0  2  0  0  0  0  0  0  0  0  0\\n  -15.5030  -41.7340   -8.3890 C   0  0  0  0  0  0  0  0  0  0  0  0\\n  -15.1220  -43.0760   -7.9240 C   0  0  0  0  0  0  0  0  0  0  0  0\\n  -15.1090  -40.7460   -6.2170 C   0  0  0  0  0  0  0  0  0  0  0  0\\n   -6.1771   -2.0437   -0.0180 O   0  0  0  0  0  0  0  0  0  0  0  0\\n   -5.8630    0.1185    0.6106 N   0  0  0  0  0  0  0  0  0  0  0  0\\n   -7.2854    0.4141    0.5784 C   0  0  0  0  0  0  0  0  0  0  0  0\\n   -4.9457    1.0656    0.9492 C   0  0  0  0  0  0  0  0  0  0  0  0\\n   -5.4689    2.3571    1.2660 N   0  0  0  0  0  0  0  0  0  0  0  0\\n  -15.4950  -40.5980   -7.5260 N   0  0  0  0  0  0  0  0  0  0  0  0\\n    0.7605    0.4920   -0.1615 C   0  0  0  0  0  0  0  0  0  0  0  0\\n    1.3277   -1.1093   -1.3513 C   0  0  0  0  0  0  0  0  0  0  0  0\\n  -20.6380  -40.7370   -5.1580 C   0  0  0  0  0  0  0  0  0  0  0  0\\n  1  2  1  0\\n  2  3  1  0\\n  3  4  2  0\\n  4  5  1  0\\n  5  6  2  0\\n  6  7  1  0\\n  7  8  1  0\\n  8  9  1  0\\n  9 10  1  0\\n 10 11  1  0\\n 11 12  1  0\\n 12 13  1  0\\n 13 14  1  6\\n 14 15  1  0\\n 15 16  1  6\\n 16 17  2  0\\n 17 18  1  0\\n 18 19  2  0\\n 18 20  1  0\\n 20 21  1  0\\n 20 22  1  0\\n 22 23  1  0\\n 22 24  2  0\\n 12 25  1  0\\n 12 26  1  0\\n  7 27  2  0\\n 27  3  1  0\\n 25  8  1  0\\n 26  8  1  0\\n 15 13  1  0\\n 24 16  1  0\\nM  END\\n\",\"sdf\");\n\tviewer_16681453031271644.setStyle({\"stick\": {}});\n\tviewer_16681453031271644.setBackgroundColor(\"0xeeeeee\");\n\tviewer_16681453031271644.zoomTo();\nviewer_16681453031271644.render();\n});\n</script>",
      "text/html": [
       "<div id=\"3dmolviewer_16681453031271644\"  style=\"position: relative; width: 400px; height: 400px\">\n",
       "        <p id=\"3dmolwarning_16681453031271644\" style=\"background-color:#ffcccc;color:black\">You appear to be running in JupyterLab (or JavaScript failed to load for some other reason).  You need to install the 3dmol extension: <br>\n",
       "        <tt>jupyter labextension install jupyterlab_3dmol</tt></p>\n",
       "        </div>\n",
       "<script>\n",
       "\n",
       "var loadScriptAsync = function(uri){\n",
       "  return new Promise((resolve, reject) => {\n",
       "    var tag = document.createElement('script');\n",
       "    tag.src = uri;\n",
       "    tag.async = true;\n",
       "    tag.onload = () => {\n",
       "      resolve();\n",
       "    };\n",
       "  var firstScriptTag = document.getElementsByTagName('script')[0];\n",
       "  firstScriptTag.parentNode.insertBefore(tag, firstScriptTag);\n",
       "});\n",
       "};\n",
       "\n",
       "if(typeof $3Dmolpromise === 'undefined') {\n",
       "$3Dmolpromise = null;\n",
       "  $3Dmolpromise = loadScriptAsync('https://3dmol.csb.pitt.edu/build/3Dmol.js');\n",
       "}\n",
       "\n",
       "var viewer_16681453031271644 = null;\n",
       "var warn = document.getElementById(\"3dmolwarning_16681453031271644\");\n",
       "if(warn) {\n",
       "    warn.parentNode.removeChild(warn);\n",
       "}\n",
       "$3Dmolpromise.then(function() {\n",
       "viewer_16681453031271644 = $3Dmol.createViewer($(\"#3dmolviewer_16681453031271644\"),{backgroundColor:\"white\"});\n",
       "\tviewer_16681453031271644.removeAllModels();\n",
       "\tviewer_16681453031271644.addModel(\"\\n     RDKit          3D\\n\\n 27 31  0  0  0  0  0  0  0  0999 V2000\\n  -21.3380  -43.3460   -4.0910 C   0  0  0  0  0  0  0  0  0  0  0  0\\n  -21.1810  -42.1640   -3.2940 O   0  0  0  0  0  0  0  0  0  0  0  0\\n  -20.6420  -40.9900   -3.7890 C   0  0  0  0  0  0  0  0  0  0  0  0\\n  -20.1000  -40.0390   -2.9260 C   0  0  0  0  0  0  0  0  0  0  0  0\\n  -19.5410  -38.8580   -3.4200 C   0  0  0  0  0  0  0  0  0  0  0  0\\n  -19.5490  -38.6110   -4.7940 C   0  0  0  0  0  0  0  0  0  0  0  0\\n  -20.0920  -39.5630   -5.6630 C   0  0  0  0  0  0  0  0  0  0  0  0\\n  -20.1290  -39.3320   -7.1310 C   0  0  0  0  0  0  0  0  0  0  0  0\\n    1.9199    1.1831   -2.2194 C   0  0  0  0  0  0  0  0  0  0  0  0\\n    0.7861    0.8756   -3.1676 C   0  0  0  0  0  0  0  0  0  0  0  0\\n   -0.3763    0.3290   -2.4009 C   0  0  0  0  0  0  0  0  0  0  0  0\\n  -16.2780  -39.2020   -9.3200 C   0  0  0  0  0  0  0  0  0  0  0  0\\n  -16.2890  -40.3040  -10.1980 C   0  0  1  0  0  0  0  0  0  0  0  0\\n  -15.9080  -41.5710   -9.7390 C   0  0  0  0  0  0  0  0  0  0  0  0\\n  -15.9190  -42.5680  -10.5060 C   0  0  2  0  0  0  0  0  0  0  0  0\\n  -15.5030  -41.7340   -8.3890 C   0  0  0  0  0  0  0  0  0  0  0  0\\n  -15.1220  -43.0760   -7.9240 C   0  0  0  0  0  0  0  0  0  0  0  0\\n  -15.1090  -40.7460   -6.2170 C   0  0  0  0  0  0  0  0  0  0  0  0\\n   -6.1771   -2.0437   -0.0180 O   0  0  0  0  0  0  0  0  0  0  0  0\\n   -5.8630    0.1185    0.6106 N   0  0  0  0  0  0  0  0  0  0  0  0\\n   -7.2854    0.4141    0.5784 C   0  0  0  0  0  0  0  0  0  0  0  0\\n   -4.9457    1.0656    0.9492 C   0  0  0  0  0  0  0  0  0  0  0  0\\n   -5.4689    2.3571    1.2660 N   0  0  0  0  0  0  0  0  0  0  0  0\\n  -15.4950  -40.5980   -7.5260 N   0  0  0  0  0  0  0  0  0  0  0  0\\n    0.7605    0.4920   -0.1615 C   0  0  0  0  0  0  0  0  0  0  0  0\\n    1.3277   -1.1093   -1.3513 C   0  0  0  0  0  0  0  0  0  0  0  0\\n  -20.6380  -40.7370   -5.1580 C   0  0  0  0  0  0  0  0  0  0  0  0\\n  1  2  1  0\\n  2  3  1  0\\n  3  4  2  0\\n  4  5  1  0\\n  5  6  2  0\\n  6  7  1  0\\n  7  8  1  0\\n  8  9  1  0\\n  9 10  1  0\\n 10 11  1  0\\n 11 12  1  0\\n 12 13  1  0\\n 13 14  1  6\\n 14 15  1  0\\n 15 16  1  6\\n 16 17  2  0\\n 17 18  1  0\\n 18 19  2  0\\n 18 20  1  0\\n 20 21  1  0\\n 20 22  1  0\\n 22 23  1  0\\n 22 24  2  0\\n 12 25  1  0\\n 12 26  1  0\\n  7 27  2  0\\n 27  3  1  0\\n 25  8  1  0\\n 26  8  1  0\\n 15 13  1  0\\n 24 16  1  0\\nM  END\\n\",\"sdf\");\n",
       "\tviewer_16681453031271644.setStyle({\"stick\": {}});\n",
       "\tviewer_16681453031271644.setBackgroundColor(\"0xeeeeee\");\n",
       "\tviewer_16681453031271644.zoomTo();\n",
       "viewer_16681453031271644.render();\n",
       "});\n",
       "</script>"
      ]
     },
     "metadata": {},
     "output_type": "display_data"
    }
   ],
   "source": [
    "drawit(inpmol)"
   ]
  },
  {
   "cell_type": "code",
   "execution_count": null,
   "metadata": {},
   "outputs": [
    {
     "data": {
      "application/3dmoljs_load.v0": "<div id=\"3dmolviewer_1668078388814495\"  style=\"position: relative; width: 400px; height: 400px\">\n        <p id=\"3dmolwarning_1668078388814495\" style=\"background-color:#ffcccc;color:black\">You appear to be running in JupyterLab (or JavaScript failed to load for some other reason).  You need to install the 3dmol extension: <br>\n        <tt>jupyter labextension install jupyterlab_3dmol</tt></p>\n        </div>\n<script>\n\nvar loadScriptAsync = function(uri){\n  return new Promise((resolve, reject) => {\n    var tag = document.createElement('script');\n    tag.src = uri;\n    tag.async = true;\n    tag.onload = () => {\n      resolve();\n    };\n  var firstScriptTag = document.getElementsByTagName('script')[0];\n  firstScriptTag.parentNode.insertBefore(tag, firstScriptTag);\n});\n};\n\nif(typeof $3Dmolpromise === 'undefined') {\n$3Dmolpromise = null;\n  $3Dmolpromise = loadScriptAsync('https://3dmol.csb.pitt.edu/build/3Dmol.js');\n}\n\nvar viewer_1668078388814495 = null;\nvar warn = document.getElementById(\"3dmolwarning_1668078388814495\");\nif(warn) {\n    warn.parentNode.removeChild(warn);\n}\n$3Dmolpromise.then(function() {\nviewer_1668078388814495 = $3Dmol.createViewer($(\"#3dmolviewer_1668078388814495\"),{backgroundColor:\"white\"});\n\tviewer_1668078388814495.removeAllModels();\n\tviewer_1668078388814495.addModel(\"\\n     RDKit          3D\\n\\n 26 29  0  0  0  0  0  0  0  0999 V2000\\n  -15.9190  -42.5680  -10.5060 O   0  0  0  0  0  0  0  0  0  0  0  0\\n  -15.9080  -41.5710   -9.7390 C   0  0  0  0  0  0  0  0  0  0  0  0\\n  -15.5030  -41.7340   -8.3890 N   0  0  0  0  0  0  0  0  0  0  0  0\\n  -15.1220  -43.0760   -7.9240 C   0  0  0  0  0  0  0  0  0  0  0  0\\n  -15.4950  -40.5980   -7.5260 C   0  0  0  0  0  0  0  0  0  0  0  0\\n  -15.1090  -40.7460   -6.2170 N   0  0  0  0  0  0  0  0  0  0  0  0\\n  -15.8760  -39.3700   -8.0190 N   0  0  0  0  0  0  0  0  0  0  0  0\\n  -16.2780  -39.2020   -9.3200 C   0  0  0  0  0  0  0  0  0  0  0  0\\n  -16.2890  -40.3040  -10.1980 C   0  0  0  0  0  0  0  0  0  0  0  0\\n  -16.6700  -37.8580   -9.8340 C   0  0  1  0  0  0  0  0  0  0  0  0\\n  -17.5800  -37.9910  -11.0690 C   0  0  0  0  0  0  0  0  0  0  0  0\\n  -18.1540  -37.4340   -9.7690 C   0  0  1  0  0  0  0  0  0  0  0  0\\n  -19.1790  -38.3200   -9.1240 C   0  0  2  0  0  0  0  0  0  0  0  0\\n  -20.2210  -38.8950   -9.8730 C   0  0  0  0  0  0  0  0  0  0  0  0\\n  -21.1950  -39.6960   -9.2640 C   0  0  0  0  0  0  0  0  0  0  0  0\\n  -21.1530  -39.9140   -7.8880 C   0  0  0  0  0  0  0  0  0  0  0  0\\n  -20.1290  -39.3320   -7.1310 C   0  0  0  0  0  0  0  0  0  0  0  0\\n  -19.1610  -38.5300   -7.7390 C   0  0  0  0  0  0  0  0  0  0  0  0\\n  -20.0920  -39.5630   -5.6630 C   0  0  0  0  0  0  0  0  0  0  0  0\\n  -19.5490  -38.6110   -4.7940 C   0  0  0  0  0  0  0  0  0  0  0  0\\n  -19.5410  -38.8580   -3.4200 C   0  0  0  0  0  0  0  0  0  0  0  0\\n  -20.1000  -40.0390   -2.9260 C   0  0  0  0  0  0  0  0  0  0  0  0\\n  -20.6420  -40.9900   -3.7890 C   0  0  0  0  0  0  0  0  0  0  0  0\\n  -20.6380  -40.7370   -5.1580 C   0  0  0  0  0  0  0  0  0  0  0  0\\n  -21.1810  -42.1640   -3.2940 O   0  0  0  0  0  0  0  0  0  0  0  0\\n  -21.3380  -43.3460   -4.0910 C   0  0  0  0  0  0  0  0  0  0  0  0\\n  2  1  1  0\\n  3  2  1  0\\n  4  3  1  0\\n  5  3  1  0\\n  6  5  1  0\\n  7  5  1  0\\n  8  7  1  0\\n  9  8  1  0\\n  9  2  1  0\\n 10  8  1  1\\n 11 10  1  0\\n 12 11  1  6\\n 12 10  1  0\\n 13 12  1  0\\n 13 14  1  1\\n 15 14  1  0\\n 16 15  1  0\\n 17 16  1  0\\n 18 17  1  0\\n 18 13  1  0\\n 19 17  1  0\\n 20 19  1  0\\n 21 20  1  0\\n 22 21  1  0\\n 23 22  1  0\\n 24 19  1  0\\n 24 23  1  0\\n 25 23  1  0\\n 26 25  1  0\\nM  END\\n\",\"sdf\");\n\tviewer_1668078388814495.setStyle({\"stick\": {}});\n\tviewer_1668078388814495.setBackgroundColor(\"0xeeeeee\");\n\tviewer_1668078388814495.zoomTo();\nviewer_1668078388814495.render();\n});\n</script>",
      "text/html": [
       "<div id=\"3dmolviewer_1668078388814495\"  style=\"position: relative; width: 400px; height: 400px\">\n",
       "        <p id=\"3dmolwarning_1668078388814495\" style=\"background-color:#ffcccc;color:black\">You appear to be running in JupyterLab (or JavaScript failed to load for some other reason).  You need to install the 3dmol extension: <br>\n",
       "        <tt>jupyter labextension install jupyterlab_3dmol</tt></p>\n",
       "        </div>\n",
       "<script>\n",
       "\n",
       "var loadScriptAsync = function(uri){\n",
       "  return new Promise((resolve, reject) => {\n",
       "    var tag = document.createElement('script');\n",
       "    tag.src = uri;\n",
       "    tag.async = true;\n",
       "    tag.onload = () => {\n",
       "      resolve();\n",
       "    };\n",
       "  var firstScriptTag = document.getElementsByTagName('script')[0];\n",
       "  firstScriptTag.parentNode.insertBefore(tag, firstScriptTag);\n",
       "});\n",
       "};\n",
       "\n",
       "if(typeof $3Dmolpromise === 'undefined') {\n",
       "$3Dmolpromise = null;\n",
       "  $3Dmolpromise = loadScriptAsync('https://3dmol.csb.pitt.edu/build/3Dmol.js');\n",
       "}\n",
       "\n",
       "var viewer_1668078388814495 = null;\n",
       "var warn = document.getElementById(\"3dmolwarning_1668078388814495\");\n",
       "if(warn) {\n",
       "    warn.parentNode.removeChild(warn);\n",
       "}\n",
       "$3Dmolpromise.then(function() {\n",
       "viewer_1668078388814495 = $3Dmol.createViewer($(\"#3dmolviewer_1668078388814495\"),{backgroundColor:\"white\"});\n",
       "\tviewer_1668078388814495.removeAllModels();\n",
       "\tviewer_1668078388814495.addModel(\"\\n     RDKit          3D\\n\\n 26 29  0  0  0  0  0  0  0  0999 V2000\\n  -15.9190  -42.5680  -10.5060 O   0  0  0  0  0  0  0  0  0  0  0  0\\n  -15.9080  -41.5710   -9.7390 C   0  0  0  0  0  0  0  0  0  0  0  0\\n  -15.5030  -41.7340   -8.3890 N   0  0  0  0  0  0  0  0  0  0  0  0\\n  -15.1220  -43.0760   -7.9240 C   0  0  0  0  0  0  0  0  0  0  0  0\\n  -15.4950  -40.5980   -7.5260 C   0  0  0  0  0  0  0  0  0  0  0  0\\n  -15.1090  -40.7460   -6.2170 N   0  0  0  0  0  0  0  0  0  0  0  0\\n  -15.8760  -39.3700   -8.0190 N   0  0  0  0  0  0  0  0  0  0  0  0\\n  -16.2780  -39.2020   -9.3200 C   0  0  0  0  0  0  0  0  0  0  0  0\\n  -16.2890  -40.3040  -10.1980 C   0  0  0  0  0  0  0  0  0  0  0  0\\n  -16.6700  -37.8580   -9.8340 C   0  0  1  0  0  0  0  0  0  0  0  0\\n  -17.5800  -37.9910  -11.0690 C   0  0  0  0  0  0  0  0  0  0  0  0\\n  -18.1540  -37.4340   -9.7690 C   0  0  1  0  0  0  0  0  0  0  0  0\\n  -19.1790  -38.3200   -9.1240 C   0  0  2  0  0  0  0  0  0  0  0  0\\n  -20.2210  -38.8950   -9.8730 C   0  0  0  0  0  0  0  0  0  0  0  0\\n  -21.1950  -39.6960   -9.2640 C   0  0  0  0  0  0  0  0  0  0  0  0\\n  -21.1530  -39.9140   -7.8880 C   0  0  0  0  0  0  0  0  0  0  0  0\\n  -20.1290  -39.3320   -7.1310 C   0  0  0  0  0  0  0  0  0  0  0  0\\n  -19.1610  -38.5300   -7.7390 C   0  0  0  0  0  0  0  0  0  0  0  0\\n  -20.0920  -39.5630   -5.6630 C   0  0  0  0  0  0  0  0  0  0  0  0\\n  -19.5490  -38.6110   -4.7940 C   0  0  0  0  0  0  0  0  0  0  0  0\\n  -19.5410  -38.8580   -3.4200 C   0  0  0  0  0  0  0  0  0  0  0  0\\n  -20.1000  -40.0390   -2.9260 C   0  0  0  0  0  0  0  0  0  0  0  0\\n  -20.6420  -40.9900   -3.7890 C   0  0  0  0  0  0  0  0  0  0  0  0\\n  -20.6380  -40.7370   -5.1580 C   0  0  0  0  0  0  0  0  0  0  0  0\\n  -21.1810  -42.1640   -3.2940 O   0  0  0  0  0  0  0  0  0  0  0  0\\n  -21.3380  -43.3460   -4.0910 C   0  0  0  0  0  0  0  0  0  0  0  0\\n  2  1  1  0\\n  3  2  1  0\\n  4  3  1  0\\n  5  3  1  0\\n  6  5  1  0\\n  7  5  1  0\\n  8  7  1  0\\n  9  8  1  0\\n  9  2  1  0\\n 10  8  1  1\\n 11 10  1  0\\n 12 11  1  6\\n 12 10  1  0\\n 13 12  1  0\\n 13 14  1  1\\n 15 14  1  0\\n 16 15  1  0\\n 17 16  1  0\\n 18 17  1  0\\n 18 13  1  0\\n 19 17  1  0\\n 20 19  1  0\\n 21 20  1  0\\n 22 21  1  0\\n 23 22  1  0\\n 24 19  1  0\\n 24 23  1  0\\n 25 23  1  0\\n 26 25  1  0\\nM  END\\n\",\"sdf\");\n",
       "\tviewer_1668078388814495.setStyle({\"stick\": {}});\n",
       "\tviewer_1668078388814495.setBackgroundColor(\"0xeeeeee\");\n",
       "\tviewer_1668078388814495.zoomTo();\n",
       "viewer_1668078388814495.render();\n",
       "});\n",
       "</script>"
      ]
     },
     "metadata": {},
     "output_type": "display_data"
    }
   ],
   "source": [
    "pdb = Chem.MolFromPDBBlock(lig_Block)\n",
    "drawit(pdb)"
   ]
  },
  {
   "cell_type": "code",
   "execution_count": null,
   "metadata": {},
   "outputs": [],
   "source": [
    "def phe2bch_with_smiles(smi):\n",
    "    # 用于将给定配体中的*间位苯环骨架*替换为*螺旋桨烷骨架*的脚本\n",
    "    # 用smi指定ligand的结构\n",
    "\n",
    "    # 读入分子\n",
    "    mol = Chem.MolFromSmiles(smi)\n",
    "    # 识别间位取代部分: * 匹配任意原子；'!:' 非芳香键； *!:ccc(!:*)ccc 含间位取代的苯环\n",
    "    patt = Chem.MolFromSmarts(\"*!:ccc(!:*)ccc\")\n",
    "    match = mol.GetSubstructMatches(patt)\n",
    "    \n",
    "    # 识别需要被替换苯环原子\n",
    "    ri = mol.GetRingInfo()\n",
    "    for r in ri.AtomRings():\n",
    "        count = 0\n",
    "        for item in match[0]:\n",
    "            if item in set(r):\n",
    "                count+=1\n",
    "        if count == len(match[0])-2:\n",
    "            phenyl_num = set(r)\n",
    "    # 识别两个间位取代基与苯环的连接原子\n",
    "    connect_atoms = list(set(match[0])-phenyl_num)\n",
    "    # 记录第一部分的原子数目\n",
    "    mol1_Atom_num = mol.GetNumAtoms()\n",
    "    # 引入螺旋桨烷，并将其与原分子置于一处，使得其编号从·mol1_Atom_num+0·开始\n",
    "    re_pat = Chem.MolFromSmiles(\"C12CCCC(C2)C1\")\n",
    "    mid_mol = Chem.CombineMols(mol,re_pat)\n",
    "    # 开始成键\n",
    "    mid_edited = Chem.EditableMol(mid_mol)\n",
    "    # 螺旋桨烷烃的桥头碳分别为mol1_Atom_num和mol1_Atom_num+4\n",
    "    mid_edited.AddBond(connect_atoms[0],mol1_Atom_num,order=Chem.rdchem.BondType.SINGLE)\n",
    "    mid_edited.AddBond(connect_atoms[1],mol1_Atom_num+4,order=Chem.rdchem.BondType.SINGLE)\n",
    "    # 删除原来的苯环\n",
    "    # 每删除一个原子后原子序号都会发生改变，所以需要倒序删除。\n",
    "    phenyl_atoms = list(phenyl_num)\n",
    "    phenyl_atoms.sort(reverse=True)\n",
    "    for i in phenyl_atoms:\n",
    "        mid_edited.RemoveAtom(i)\n",
    "    BCHep_mol = mid_edited.GetMol()\n",
    "    return [BCHep_mol,mol1_Atom_num-6]  \n",
    "\n",
    "test = phe2bch_with_smiles(\"Cc1c(sc(n1)N)c2ccnc(n2)Nc3cccc(c3)n4oo4\")"
   ]
  },
  {
   "cell_type": "code",
   "execution_count": null,
   "metadata": {},
   "outputs": [],
   "source": [
    "def getpdb(refmol,inpmol,pdbfile):\n",
    "    mcs = rdFMCS.FindMCS([refmol, inpmol],timeout=3,bondCompare=rdFMCS.BondCompare.CompareOrderExact)\n",
    "    bonded_conf = refmol.GetConformer()\n",
    "    conf_res = inpmol.GetConformer()\n",
    "    inpmol_prop = Chem.rdForceFieldHelpers.MMFFGetMoleculeProperties(inpmol)\n",
    "    ff_mcs = Chem.rdForceFieldHelpers.MMFFGetMoleculeForceField(inpmol,inpmol_prop)\n",
    "    for i, j in zip(refmol.GetSubstructMatch(mcs.queryMol), inpmol.GetSubstructMatch(mcs.queryMol)):\n",
    "        ff_mcs.AddFixedPoint(j)\n",
    "        conf_res.SetAtomPosition(j, bonded_conf.GetAtomPosition(i))\n",
    "    Chem.MolToPDBFile(inpmol, pdbfile)\n",
    "    return inpmol\n"
   ]
  },
  {
   "cell_type": "code",
   "execution_count": null,
   "metadata": {},
   "outputs": [],
   "source": []
  }
 ],
 "metadata": {
  "kernelspec": {
   "display_name": "Python 3.8.13 ('rdkit_new')",
   "language": "python",
   "name": "python3"
  },
  "language_info": {
   "codemirror_mode": {
    "name": "ipython",
    "version": 3
   },
   "file_extension": ".py",
   "mimetype": "text/x-python",
   "name": "python",
   "nbconvert_exporter": "python",
   "pygments_lexer": "ipython3",
   "version": "3.8.13"
  },
  "orig_nbformat": 4,
  "vscode": {
   "interpreter": {
    "hash": "ef7ff853cff2c5df01e22c007126fc9faf677f8af9c79862f6155dbd80f6c983"
   }
  }
 },
 "nbformat": 4,
 "nbformat_minor": 2
}
