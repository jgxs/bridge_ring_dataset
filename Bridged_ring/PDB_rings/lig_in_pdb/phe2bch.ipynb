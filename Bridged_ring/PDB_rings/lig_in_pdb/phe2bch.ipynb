{
 "cells": [
  {
   "cell_type": "code",
   "execution_count": 181,
   "metadata": {},
   "outputs": [],
   "source": [
    "from rdkit import Chem\n",
    "from rdkit.Chem import AllChem\n",
    "from rdkit.Chem import rdFMCS\n",
    "from rdkit.Chem.Draw import IPythonConsole\n",
    "from rdkit.Chem import rdRGroupDecomposition as rdRGD\n",
    "# 显示图片\n",
    "\n",
    "import py3Dmol\n",
    "def drawit(m,p=None,confId=-1):\n",
    "        mb = Chem.MolToMolBlock(m,confId=confId)\n",
    "        if p is None:\n",
    "            p = py3Dmol.view(width=400,height=400)\n",
    "        p.removeAllModels()\n",
    "        p.addModel(mb,'sdf')\n",
    "        p.setStyle({'stick':{}})\n",
    "        p.setBackgroundColor('0xeeeeee')\n",
    "        p.zoomTo()\n",
    "        return p.show()\n",
    "\n",
    "def mol_with_atom_index(mol):\n",
    "    atoms = mol.GetNumAtoms()\n",
    "    for idx in range(atoms):\n",
    "        mol.GetAtomWithIdx(idx).SetProp('molAtomMapNumber',str(idx))\n",
    "    return mol"
   ]
  },
  {
   "cell_type": "code",
   "execution_count": 182,
   "metadata": {},
   "outputs": [],
   "source": [
    "def pdb_2_lig_block(pdb_path,lig_id):\n",
    "    # 抽取pdbfile中的ligand部分\n",
    "    # rdkit可读字符串形式的pdbBlock\n",
    "    ligand_lines = []\n",
    "    with open(pdb_path) as ent:\n",
    "        for line in ent:\n",
    "            if line[0:6] == \"HETATM\" and line[17:20] == lig_id:\n",
    "                ligand_lines.append(line)\n",
    "    ligand_num = len(ligand_lines)\n",
    "    for i in range(1,len(ligand_lines)):\n",
    "        if ligand_lines[i][17:26] != ligand_lines[i-1][17:26]:\n",
    "            ligand_num = i\n",
    "            break\n",
    "        else:\n",
    "            pass\n",
    "    lig_Block=\"\".join(ligand_lines[0:ligand_num])\n",
    "    return lig_Block\n",
    "\n",
    "lig_block = pdb_2_lig_block(\"/home/chengyj/kinase_work/dataset/Bridged_ring/PDB_rings/lig_in_pdb/pdb_dataset/pdb/pdb2x4f.ent\",\"16X\")\n"
   ]
  },
  {
   "cell_type": "code",
   "execution_count": 183,
   "metadata": {},
   "outputs": [],
   "source": [
    "def get_connect_atom_in_core(orimol,sidechain_atom_idxes):\n",
    "    # mol is the whole molecule, the sidechain_atom_idx is the a tuple of the atom idx of a sidechain;\n",
    "    # this function will get the atom connected with the .\n",
    "    connect_atoms_in_core = []\n",
    "    for idx in sidechain_atom_idxes:\n",
    "        for atom in orimol.GetAtomWithIdx(idx).GetNeighbors():\n",
    "            if atom.GetIdx() not in sidechain_atom_idxes:\n",
    "                connect_atoms_in_core.append(atom.GetIdx())\n",
    "    return connect_atoms_in_core"
   ]
  },
  {
   "cell_type": "code",
   "execution_count": 184,
   "metadata": {},
   "outputs": [],
   "source": [
    "def get_connect_atom_in_sidechain(orimol,core):\n",
    "    rings = orimol.GetRingInfo()\n",
    "    for r in rings.AtomRings():\n",
    "        count = 0\n",
    "        for idx in core:\n",
    "            if idx in set(r):\n",
    "                count += 1\n",
    "        if count == len(core) - 2:\n",
    "            core_atom_idx = set(r)\n",
    "            connect_atom_in_sidechain = set(core) - core_atom_idx\n",
    "    return list(connect_atom_in_sidechain)\n"
   ]
  },
  {
   "cell_type": "code",
   "execution_count": 212,
   "metadata": {},
   "outputs": [
    {
     "data": {
      "image/png": "[encoded data removed]",
      "text/plain": [
       "<rdkit.Chem.rdchem.Mol at 0x7fe8300f4280>"
      ]
     },
     "execution_count": 212,
     "metadata": {},
     "output_type": "execute_result"
    }
   ],
   "source": [
    "def phe2bch_test(smi):\n",
    "    # 用于将给定配体中的*间位苯环骨架*替换为*螺旋桨烷骨架*的脚本\n",
    "    # 用smi指定ligand的结构\n",
    "\n",
    "    # 读入分子\n",
    "    mol = Chem.MolFromSmiles(smi)\n",
    "    # 识别间位取代部分: * 匹配任意原子；'!:' 非芳香键； *!:ccc(!:*)ccc 含间位取代的苯环\n",
    "    patt = Chem.MolFromSmarts(\"*!:ccc(!:*)ccc\")\n",
    "    match = mol.GetSubstructMatches(patt)\n",
    "    \n",
    "    # 识别两个间位取代基与苯环的连接原子\n",
    "    connect_atoms = get_connect_atom_in_sidechain(mol,match[0])\n",
    "    # 识别需要被替换苯环原子\n",
    "    core = set(match[0])-set(connect_atoms)\n",
    "\n",
    "    # 记录第一部分的原子数目\n",
    "    mol1_Atom_num = mol.GetNumAtoms()\n",
    "\n",
    "    # 引入螺旋桨烷，并将其与原分子置于一处，使得其编号从·mol1_Atom_num+0·开始\n",
    "    re_pat = Chem.MolFromSmiles(\"C12CCCC(C2)C1\")\n",
    "    mid_mol = Chem.CombineMols(mol,re_pat)\n",
    "    mid_edited = Chem.EditableMol(mid_mol)\n",
    "\n",
    "    # 开始成键,螺旋桨烷烃的桥头碳分别为mol1_Atom_num和mol1_Atom_num+4\n",
    "    mid_edited.AddBond(connect_atoms[0],mol1_Atom_num,order=Chem.rdchem.BondType.SINGLE)\n",
    "    mid_edited.AddBond(connect_atoms[1],mol1_Atom_num+4,order=Chem.rdchem.BondType.SINGLE)\n",
    "    # 删除原来的苯环,每删除一个原子后原子序号都会发生改变，所以需要倒序删除。\n",
    "    phenyl_atoms = list(core)\n",
    "    phenyl_atoms.sort(reverse=True)\n",
    "    for i in phenyl_atoms:\n",
    "        mid_edited.RemoveAtom(i)\n",
    "    BCHep_mol = mid_edited.GetMol()\n",
    "    return BCHep_mol\n",
    "\n",
    "test = phe2bch_test(\"CN1C(=O)C=C(N=C1N)[C@H]2C[C@H]2c3cccc(c3)c4cccc(c4)OC\")\n",
    "mol_with_atom_index(test)"
   ]
  },
  {
   "cell_type": "code",
   "execution_count": 334,
   "metadata": {},
   "outputs": [],
   "source": [
    "def getpdb_test(refmol,inpmol,pdbfile):\n",
    "    \n",
    "    bonded_conf = refmol.GetConformer()\n",
    "    conf_res = inpmol.GetConformer()\n",
    "    inpmol_prop = Chem.rdForceFieldHelpers.MMFFGetMoleculeProperties(inpmol)\n",
    "    ff_mcs = Chem.rdForceFieldHelpers.MMFFGetMoleculeForceField(inpmol,inpmol_prop)\n",
    "\n",
    "    core = Chem.MolFromSmiles(\"C12CCCC(C2)C1\")\n",
    "    res, unmatched = rdRGD.RGroupDecompose([core],[inpmol])\n",
    "    for R in ['R1','R2']:\n",
    "        mcs1 = rdFMCS.FindMCS([refmol, res[0][R]],timeout=3,bondCompare=rdFMCS.BondCompare.CompareOrder)\n",
    "        mcs3 = rdFMCS.FindMCS([inpmol, res[0][R]],timeout=3,bondCompare=rdFMCS.BondCompare.CompareOrderExact)\n",
    "        sidechain_ref = refmol.GetSubstructMatch(mcs1.queryMol)\n",
    "        sidechain_gen = inpmol.GetSubstructMatch(mcs3.queryMol)\n",
    "        for i, j in zip(sidechain_ref,sidechain_gen):\n",
    "            ff_mcs.AddFixedPoint(j)\n",
    "            conf_res.SetAtomPosition(j, bonded_conf.GetAtomPosition(i))\n",
    "        atom_connect_sidechain_core_ref = get_connect_atom_in_core(refmol, sidechain_ref)[0]\n",
    "        atom_connect_sidechain_core_gen = get_connect_atom_in_core(inpmol, sidechain_gen)[0]\n",
    "        ff_mcs.AddFixedPoint(atom_connect_sidechain_core_gen)\n",
    "        conf_res.SetAtomPosition(atom_connect_sidechain_core_gen,bonded_conf.GetAtomPosition(atom_connect_sidechain_core_ref))\n",
    "    for i in range(6):\n",
    "        try:\n",
    "            ff_mcs.Minimize()\n",
    "        except:\n",
    "            pass\n",
    "\n",
    "#    for i, j in zip(refmol.GetSubstructMatch(mcs.queryMol), inpmol.GetSubstructMatch(mcs.queryMol)):\n",
    "#        ff_mcs.AddFixedPoint(j)\n",
    "#        conf_res.SetAtomPosition(j, bonded_conf.GetAtomPosition(i))\n",
    "#    for i in range(10):\n",
    "#        try:\n",
    "#            ff_mcs.Minimize()\n",
    "#        except:\n",
    "#            pass\n",
    "    Chem.MolToPDBFile(inpmol, pdbfile)\n",
    "    return inpmol"
   ]
  },
  {
   "cell_type": "code",
   "execution_count": 188,
   "metadata": {},
   "outputs": [],
   "source": [
    "def phe2bch_topdb_test(smi0,refpdb,name):\n",
    "    mol = phe2bch_test(smi0)\n",
    "    smi = Chem.MolToSmiles(mol)\n",
    "    mol = Chem.MolFromSmiles(smi)\n",
    "    mol = Chem.AddHs(mol)\n",
    "    AllChem.EmbedMolecule(mol)\n",
    "    mol = Chem.RemoveAllHs(mol)\n",
    "\n",
    "    structure_from_pdb = Chem.MolFromPDBBlock(refpdb)\n",
    "    structure_from_pdb = Chem.RemoveAllHs(structure_from_pdb)\n",
    "    mol_tem = Chem.MolFromSmiles(smi0)\n",
    "    structure_refine = AllChem.AssignBondOrdersFromTemplate(mol_tem,structure_from_pdb)\n",
    "    return getpdb_test(structure_refine,mol,f\"{name}\")"
   ]
  },
  {
   "cell_type": "code",
   "execution_count": 335,
   "metadata": {},
   "outputs": [
    {
     "name": "stderr",
     "output_type": "stream",
     "text": [
      "[20:13:05] WARNING: More than one matching pattern found - picking one\n",
      "\n",
      "[20:13:05] Molecule does not have explicit Hs. Consider calling AddHs()\n"
     ]
    },
    {
     "data": {
      "application/3dmoljs_load.v0": "<div id=\"3dmolviewer_16680823852667599\"  style=\"position: relative; width: 400px; height: 400px\">\n        <p id=\"3dmolwarning_16680823852667599\" style=\"background-color:#ffcccc;color:black\">You appear to be running in JupyterLab (or JavaScript failed to load for some other reason).  You need to install the 3dmol extension: <br>\n        <tt>jupyter labextension install jupyterlab_3dmol</tt></p>\n        </div>\n<script>\n\nvar loadScriptAsync = function(uri){\n  return new Promise((resolve, reject) => {\n    var tag = document.createElement('script');\n    tag.src = uri;\n    tag.async = true;\n    tag.onload = () => {\n      resolve();\n    };\n  var firstScriptTag = document.getElementsByTagName('script')[0];\n  firstScriptTag.parentNode.insertBefore(tag, firstScriptTag);\n});\n};\n\nif(typeof $3Dmolpromise === 'undefined') {\n$3Dmolpromise = null;\n  $3Dmolpromise = loadScriptAsync('https://3dmol.csb.pitt.edu/build/3Dmol.js');\n}\n\nvar viewer_16680823852667599 = null;\nvar warn = document.getElementById(\"3dmolwarning_16680823852667599\");\nif(warn) {\n    warn.parentNode.removeChild(warn);\n}\n$3Dmolpromise.then(function() {\nviewer_16680823852667599 = $3Dmol.createViewer($(\"#3dmolviewer_16680823852667599\"),{backgroundColor:\"white\"});\n\tviewer_16680823852667599.removeAllModels();\n\tviewer_16680823852667599.addModel(\"\\n     RDKit          3D\\n\\n 24 28  0  0  0  0  0  0  0  0999 V2000\\n   85.9630   47.8680   30.5060 C   0  0  0  0  0  0  0  0  0  0  0  0\\n   86.5030   48.7710   31.4040 C   0  0  0  0  0  0  0  0  0  0  0  0\\n   86.4040   48.7390   32.7420 N   0  0  0  0  0  0  0  0  0  0  0  0\\n   87.0210   49.7290   33.3880 C   0  0  0  0  0  0  0  0  0  0  0  0\\n   87.0450   49.8870   34.7010 N   0  0  0  0  0  0  0  0  0  0  0  0\\n   87.7510   50.7480   32.3130 S   0  0  0  0  0  0  0  0  0  0  0  0\\n   87.2580   49.8770   30.9620 C   0  0  0  0  0  0  0  0  0  0  0  0\\n   87.6000   50.2660   29.6590 C   0  0  0  0  0  0  0  0  0  0  0  0\\n   87.1530   49.6060   28.5170 C   0  0  0  0  0  0  0  0  0  0  0  0\\n   87.5540   50.0730   27.2780 C   0  0  0  0  0  0  0  0  0  0  0  0\\n   88.3440   51.1230   27.2000 N   0  0  0  0  0  0  0  0  0  0  0  0\\n   88.7880   51.7560   28.2990 C   0  0  0  0  0  0  0  0  0  0  0  0\\n   89.5850   52.8230   28.1410 N   0  0  0  0  0  0  0  0  0  0  0  0\\n   90.4390   53.3940   29.0010 C   0  0  0  0  0  0  0  0  0  0  0  0\\n   91.7614   53.7802   28.3736 C   0  0  0  0  0  0  0  0  0  0  0  0\\n   92.4875   54.8493   29.1879 C   0  0  0  0  0  0  0  0  0  0  0  0\\n   92.4192   54.7099   30.7077 C   0  0  0  0  0  0  0  0  0  0  0  0\\n   91.0520   54.2600   31.1620 C   0  0  0  0  0  0  0  0  0  0  0  0\\n   90.7460   54.4730   32.4270 N   0  0  0  0  0  0  0  0  0  0  0  0\\n   91.1030   54.3660   33.7370 O   0  0  0  0  0  0  0  0  0  0  0  0\\n   89.8650   54.9440   33.3580 O   0  0  0  0  0  0  0  0  0  0  0  0\\n   90.7277   52.7766   30.5311 C   0  0  0  0  0  0  0  0  0  0  0  0\\n   89.8733   54.5803   30.0406 C   0  0  0  0  0  0  0  0  0  0  0  0\\n   88.4070   51.3300   29.5100 N   0  0  0  0  0  0  0  0  0  0  0  0\\n  1  2  1  0\\n  2  3  1  0\\n  3  4  2  0\\n  4  5  1  0\\n  4  6  1  0\\n  6  7  1  0\\n  7  8  1  0\\n  8  9  2  0\\n  9 10  1  0\\n 10 11  2  0\\n 11 12  1  0\\n 12 13  1  0\\n 13 14  1  0\\n 14 15  1  0\\n 15 16  1  0\\n 16 17  1  0\\n 17 18  1  0\\n 18 19  1  0\\n 19 20  1  0\\n 20 21  1  0\\n 18 22  1  0\\n 18 23  1  0\\n 12 24  2  0\\n  7  2  2  0\\n 24  8  1  0\\n 22 14  1  0\\n 23 14  1  0\\n 21 19  1  0\\nM  END\\n\",\"sdf\");\n\tviewer_16680823852667599.setStyle({\"stick\": {}});\n\tviewer_16680823852667599.setBackgroundColor(\"0xeeeeee\");\n\tviewer_16680823852667599.zoomTo();\nviewer_16680823852667599.render();\n});\n</script>",
      "text/html": [
       "<div id=\"3dmolviewer_16680823852667599\"  style=\"position: relative; width: 400px; height: 400px\">\n",
       "        <p id=\"3dmolwarning_16680823852667599\" style=\"background-color:#ffcccc;color:black\">You appear to be running in JupyterLab (or JavaScript failed to load for some other reason).  You need to install the 3dmol extension: <br>\n",
       "        <tt>jupyter labextension install jupyterlab_3dmol</tt></p>\n",
       "        </div>\n",
       "<script>\n",
       "\n",
       "var loadScriptAsync = function(uri){\n",
       "  return new Promise((resolve, reject) => {\n",
       "    var tag = document.createElement('script');\n",
       "    tag.src = uri;\n",
       "    tag.async = true;\n",
       "    tag.onload = () => {\n",
       "      resolve();\n",
       "    };\n",
       "  var firstScriptTag = document.getElementsByTagName('script')[0];\n",
       "  firstScriptTag.parentNode.insertBefore(tag, firstScriptTag);\n",
       "});\n",
       "};\n",
       "\n",
       "if(typeof $3Dmolpromise === 'undefined') {\n",
       "$3Dmolpromise = null;\n",
       "  $3Dmolpromise = loadScriptAsync('https://3dmol.csb.pitt.edu/build/3Dmol.js');\n",
       "}\n",
       "\n",
       "var viewer_16680823852667599 = null;\n",
       "var warn = document.getElementById(\"3dmolwarning_16680823852667599\");\n",
       "if(warn) {\n",
       "    warn.parentNode.removeChild(warn);\n",
       "}\n",
       "$3Dmolpromise.then(function() {\n",
       "viewer_16680823852667599 = $3Dmol.createViewer($(\"#3dmolviewer_16680823852667599\"),{backgroundColor:\"white\"});\n",
       "\tviewer_16680823852667599.removeAllModels();\n",
       "\tviewer_16680823852667599.addModel(\"\\n     RDKit          3D\\n\\n 24 28  0  0  0  0  0  0  0  0999 V2000\\n   85.9630   47.8680   30.5060 C   0  0  0  0  0  0  0  0  0  0  0  0\\n   86.5030   48.7710   31.4040 C   0  0  0  0  0  0  0  0  0  0  0  0\\n   86.4040   48.7390   32.7420 N   0  0  0  0  0  0  0  0  0  0  0  0\\n   87.0210   49.7290   33.3880 C   0  0  0  0  0  0  0  0  0  0  0  0\\n   87.0450   49.8870   34.7010 N   0  0  0  0  0  0  0  0  0  0  0  0\\n   87.7510   50.7480   32.3130 S   0  0  0  0  0  0  0  0  0  0  0  0\\n   87.2580   49.8770   30.9620 C   0  0  0  0  0  0  0  0  0  0  0  0\\n   87.6000   50.2660   29.6590 C   0  0  0  0  0  0  0  0  0  0  0  0\\n   87.1530   49.6060   28.5170 C   0  0  0  0  0  0  0  0  0  0  0  0\\n   87.5540   50.0730   27.2780 C   0  0  0  0  0  0  0  0  0  0  0  0\\n   88.3440   51.1230   27.2000 N   0  0  0  0  0  0  0  0  0  0  0  0\\n   88.7880   51.7560   28.2990 C   0  0  0  0  0  0  0  0  0  0  0  0\\n   89.5850   52.8230   28.1410 N   0  0  0  0  0  0  0  0  0  0  0  0\\n   90.4390   53.3940   29.0010 C   0  0  0  0  0  0  0  0  0  0  0  0\\n   91.7614   53.7802   28.3736 C   0  0  0  0  0  0  0  0  0  0  0  0\\n   92.4875   54.8493   29.1879 C   0  0  0  0  0  0  0  0  0  0  0  0\\n   92.4192   54.7099   30.7077 C   0  0  0  0  0  0  0  0  0  0  0  0\\n   91.0520   54.2600   31.1620 C   0  0  0  0  0  0  0  0  0  0  0  0\\n   90.7460   54.4730   32.4270 N   0  0  0  0  0  0  0  0  0  0  0  0\\n   91.1030   54.3660   33.7370 O   0  0  0  0  0  0  0  0  0  0  0  0\\n   89.8650   54.9440   33.3580 O   0  0  0  0  0  0  0  0  0  0  0  0\\n   90.7277   52.7766   30.5311 C   0  0  0  0  0  0  0  0  0  0  0  0\\n   89.8733   54.5803   30.0406 C   0  0  0  0  0  0  0  0  0  0  0  0\\n   88.4070   51.3300   29.5100 N   0  0  0  0  0  0  0  0  0  0  0  0\\n  1  2  1  0\\n  2  3  1  0\\n  3  4  2  0\\n  4  5  1  0\\n  4  6  1  0\\n  6  7  1  0\\n  7  8  1  0\\n  8  9  2  0\\n  9 10  1  0\\n 10 11  2  0\\n 11 12  1  0\\n 12 13  1  0\\n 13 14  1  0\\n 14 15  1  0\\n 15 16  1  0\\n 16 17  1  0\\n 17 18  1  0\\n 18 19  1  0\\n 19 20  1  0\\n 20 21  1  0\\n 18 22  1  0\\n 18 23  1  0\\n 12 24  2  0\\n  7  2  2  0\\n 24  8  1  0\\n 22 14  1  0\\n 23 14  1  0\\n 21 19  1  0\\nM  END\\n\",\"sdf\");\n",
       "\tviewer_16680823852667599.setStyle({\"stick\": {}});\n",
       "\tviewer_16680823852667599.setBackgroundColor(\"0xeeeeee\");\n",
       "\tviewer_16680823852667599.zoomTo();\n",
       "viewer_16680823852667599.render();\n",
       "});\n",
       "</script>"
      ]
     },
     "metadata": {},
     "output_type": "display_data"
    }
   ],
   "source": [
    "key='16X'\n",
    "pdbid='2x4f'\n",
    "lig_smi=\"Cc1c(sc(n1)N)c2ccnc(n2)Nc3cccc(c3)n4oo4\"\n",
    "pdb_file_path=f\"/home/chengyj/kinase_work/dataset/Bridged_ring/PDB_rings/lig_in_pdb/pdb_dataset/pdb/pdb{pdbid}.ent\"\n",
    "lig_Block = pdb_2_lig_block(pdb_file_path,key)\n",
    "test = phe2bch_topdb_test(lig_smi,lig_Block,f\"{key}_{pdbid}.pdb\")\n",
    "drawit(test)"
   ]
  },
  {
   "cell_type": "code",
   "execution_count": 342,
   "metadata": {},
   "outputs": [
    {
     "name": "stderr",
     "output_type": "stream",
     "text": [
      "[20:14:44] Molecule does not have explicit Hs. Consider calling AddHs()\n"
     ]
    },
    {
     "data": {
      "application/3dmoljs_load.v0": "<div id=\"3dmolviewer_16680824845811732\"  style=\"position: relative; width: 400px; height: 400px\">\n        <p id=\"3dmolwarning_16680824845811732\" style=\"background-color:#ffcccc;color:black\">You appear to be running in JupyterLab (or JavaScript failed to load for some other reason).  You need to install the 3dmol extension: <br>\n        <tt>jupyter labextension install jupyterlab_3dmol</tt></p>\n        </div>\n<script>\n\nvar loadScriptAsync = function(uri){\n  return new Promise((resolve, reject) => {\n    var tag = document.createElement('script');\n    tag.src = uri;\n    tag.async = true;\n    tag.onload = () => {\n      resolve();\n    };\n  var firstScriptTag = document.getElementsByTagName('script')[0];\n  firstScriptTag.parentNode.insertBefore(tag, firstScriptTag);\n});\n};\n\nif(typeof $3Dmolpromise === 'undefined') {\n$3Dmolpromise = null;\n  $3Dmolpromise = loadScriptAsync('https://3dmol.csb.pitt.edu/build/3Dmol.js');\n}\n\nvar viewer_16680824845811732 = null;\nvar warn = document.getElementById(\"3dmolwarning_16680824845811732\");\nif(warn) {\n    warn.parentNode.removeChild(warn);\n}\n$3Dmolpromise.then(function() {\nviewer_16680824845811732 = $3Dmol.createViewer($(\"#3dmolviewer_16680824845811732\"),{backgroundColor:\"white\"});\n\tviewer_16680824845811732.removeAllModels();\n\tviewer_16680824845811732.addModel(\"\\n     RDKit          3D\\n\\n 27 31  0  0  0  0  0  0  0  0999 V2000\\n  -21.3380  -43.3460   -4.0910 C   0  0  0  0  0  0  0  0  0  0  0  0\\n  -21.1810  -42.1640   -3.2940 O   0  0  0  0  0  0  0  0  0  0  0  0\\n  -20.6420  -40.9900   -3.7890 C   0  0  0  0  0  0  0  0  0  0  0  0\\n  -20.1000  -40.0390   -2.9260 C   0  0  0  0  0  0  0  0  0  0  0  0\\n  -19.5410  -38.8580   -3.4200 C   0  0  0  0  0  0  0  0  0  0  0  0\\n  -19.5490  -38.6110   -4.7940 C   0  0  0  0  0  0  0  0  0  0  0  0\\n  -20.0920  -39.5630   -5.6630 C   0  0  0  0  0  0  0  0  0  0  0  0\\n  -20.1290  -39.3320   -7.1310 C   0  0  0  0  0  0  0  0  0  0  0  0\\n  -19.9490  -37.7515   -7.7954 C   0  0  0  0  0  0  0  0  0  0  0  0\\n  -18.3816  -37.2026   -8.4423 C   0  0  0  0  0  0  0  0  0  0  0  0\\n  -17.2730  -37.8077   -9.6973 C   0  0  0  0  0  0  0  0  0  0  0  0\\n  -16.2780  -39.2020   -9.3200 C   0  0  0  0  0  0  0  0  0  0  0  0\\n  -16.2890  -40.3040  -10.1980 C   0  0  1  0  0  0  0  0  0  0  0  0\\n  -15.9080  -41.5710   -9.7390 C   0  0  0  0  0  0  0  0  0  0  0  0\\n  -15.9190  -42.5680  -10.5060 C   0  0  2  0  0  0  0  0  0  0  0  0\\n  -15.5030  -41.7340   -8.3890 C   0  0  0  0  0  0  0  0  0  0  0  0\\n  -15.1220  -43.0760   -7.9240 C   0  0  0  0  0  0  0  0  0  0  0  0\\n  -15.1090  -40.7460   -6.2170 C   0  0  0  0  0  0  0  0  0  0  0  0\\n  -15.8209  -40.8324   -5.2008 O   0  0  0  0  0  0  0  0  0  0  0  0\\n  -13.9613  -40.0635   -6.4304 N   0  0  0  0  0  0  0  0  0  0  0  0\\n  -13.6658  -38.8771   -5.6806 C   0  0  0  0  0  0  0  0  0  0  0  0\\n  -14.3212  -40.0516   -7.6596 C   0  0  0  0  0  0  0  0  0  0  0  0\\n  -13.4240  -39.8013   -8.6707 N   0  0  0  0  0  0  0  0  0  0  0  0\\n  -15.4950  -40.5980   -7.5260 N   0  0  0  0  0  0  0  0  0  0  0  0\\n  -17.8966  -39.3239   -7.6899 C   0  0  0  0  0  0  0  0  0  0  0  0\\n  -18.4256  -39.6356   -8.6243 C   0  0  0  0  0  0  0  0  0  0  0  0\\n  -20.6380  -40.7370   -5.1580 C   0  0  0  0  0  0  0  0  0  0  0  0\\n  1  2  1  0\\n  2  3  1  0\\n  3  4  2  0\\n  4  5  1  0\\n  5  6  2  0\\n  6  7  1  0\\n  7  8  1  0\\n  8  9  1  0\\n  9 10  1  0\\n 10 11  1  0\\n 11 12  1  0\\n 12 13  1  0\\n 13 14  1  6\\n 14 15  1  0\\n 15 16  1  6\\n 16 17  2  0\\n 17 18  1  0\\n 18 19  2  0\\n 18 20  1  0\\n 20 21  1  0\\n 20 22  1  0\\n 22 23  1  0\\n 22 24  2  0\\n 12 25  1  0\\n 12 26  1  0\\n  7 27  2  0\\n 27  3  1  0\\n 25  8  1  0\\n 26  8  1  0\\n 15 13  1  0\\n 24 16  1  0\\nM  END\\n\",\"sdf\");\n\tviewer_16680824845811732.setStyle({\"stick\": {}});\n\tviewer_16680824845811732.setBackgroundColor(\"0xeeeeee\");\n\tviewer_16680824845811732.zoomTo();\nviewer_16680824845811732.render();\n});\n</script>",
      "text/html": [
       "<div id=\"3dmolviewer_16680824845811732\"  style=\"position: relative; width: 400px; height: 400px\">\n",
       "        <p id=\"3dmolwarning_16680824845811732\" style=\"background-color:#ffcccc;color:black\">You appear to be running in JupyterLab (or JavaScript failed to load for some other reason).  You need to install the 3dmol extension: <br>\n",
       "        <tt>jupyter labextension install jupyterlab_3dmol</tt></p>\n",
       "        </div>\n",
       "<script>\n",
       "\n",
       "var loadScriptAsync = function(uri){\n",
       "  return new Promise((resolve, reject) => {\n",
       "    var tag = document.createElement('script');\n",
       "    tag.src = uri;\n",
       "    tag.async = true;\n",
       "    tag.onload = () => {\n",
       "      resolve();\n",
       "    };\n",
       "  var firstScriptTag = document.getElementsByTagName('script')[0];\n",
       "  firstScriptTag.parentNode.insertBefore(tag, firstScriptTag);\n",
       "});\n",
       "};\n",
       "\n",
       "if(typeof $3Dmolpromise === 'undefined') {\n",
       "$3Dmolpromise = null;\n",
       "  $3Dmolpromise = loadScriptAsync('https://3dmol.csb.pitt.edu/build/3Dmol.js');\n",
       "}\n",
       "\n",
       "var viewer_16680824845811732 = null;\n",
       "var warn = document.getElementById(\"3dmolwarning_16680824845811732\");\n",
       "if(warn) {\n",
       "    warn.parentNode.removeChild(warn);\n",
       "}\n",
       "$3Dmolpromise.then(function() {\n",
       "viewer_16680824845811732 = $3Dmol.createViewer($(\"#3dmolviewer_16680824845811732\"),{backgroundColor:\"white\"});\n",
       "\tviewer_16680824845811732.removeAllModels();\n",
       "\tviewer_16680824845811732.addModel(\"\\n     RDKit          3D\\n\\n 27 31  0  0  0  0  0  0  0  0999 V2000\\n  -21.3380  -43.3460   -4.0910 C   0  0  0  0  0  0  0  0  0  0  0  0\\n  -21.1810  -42.1640   -3.2940 O   0  0  0  0  0  0  0  0  0  0  0  0\\n  -20.6420  -40.9900   -3.7890 C   0  0  0  0  0  0  0  0  0  0  0  0\\n  -20.1000  -40.0390   -2.9260 C   0  0  0  0  0  0  0  0  0  0  0  0\\n  -19.5410  -38.8580   -3.4200 C   0  0  0  0  0  0  0  0  0  0  0  0\\n  -19.5490  -38.6110   -4.7940 C   0  0  0  0  0  0  0  0  0  0  0  0\\n  -20.0920  -39.5630   -5.6630 C   0  0  0  0  0  0  0  0  0  0  0  0\\n  -20.1290  -39.3320   -7.1310 C   0  0  0  0  0  0  0  0  0  0  0  0\\n  -19.9490  -37.7515   -7.7954 C   0  0  0  0  0  0  0  0  0  0  0  0\\n  -18.3816  -37.2026   -8.4423 C   0  0  0  0  0  0  0  0  0  0  0  0\\n  -17.2730  -37.8077   -9.6973 C   0  0  0  0  0  0  0  0  0  0  0  0\\n  -16.2780  -39.2020   -9.3200 C   0  0  0  0  0  0  0  0  0  0  0  0\\n  -16.2890  -40.3040  -10.1980 C   0  0  1  0  0  0  0  0  0  0  0  0\\n  -15.9080  -41.5710   -9.7390 C   0  0  0  0  0  0  0  0  0  0  0  0\\n  -15.9190  -42.5680  -10.5060 C   0  0  2  0  0  0  0  0  0  0  0  0\\n  -15.5030  -41.7340   -8.3890 C   0  0  0  0  0  0  0  0  0  0  0  0\\n  -15.1220  -43.0760   -7.9240 C   0  0  0  0  0  0  0  0  0  0  0  0\\n  -15.1090  -40.7460   -6.2170 C   0  0  0  0  0  0  0  0  0  0  0  0\\n  -15.8209  -40.8324   -5.2008 O   0  0  0  0  0  0  0  0  0  0  0  0\\n  -13.9613  -40.0635   -6.4304 N   0  0  0  0  0  0  0  0  0  0  0  0\\n  -13.6658  -38.8771   -5.6806 C   0  0  0  0  0  0  0  0  0  0  0  0\\n  -14.3212  -40.0516   -7.6596 C   0  0  0  0  0  0  0  0  0  0  0  0\\n  -13.4240  -39.8013   -8.6707 N   0  0  0  0  0  0  0  0  0  0  0  0\\n  -15.4950  -40.5980   -7.5260 N   0  0  0  0  0  0  0  0  0  0  0  0\\n  -17.8966  -39.3239   -7.6899 C   0  0  0  0  0  0  0  0  0  0  0  0\\n  -18.4256  -39.6356   -8.6243 C   0  0  0  0  0  0  0  0  0  0  0  0\\n  -20.6380  -40.7370   -5.1580 C   0  0  0  0  0  0  0  0  0  0  0  0\\n  1  2  1  0\\n  2  3  1  0\\n  3  4  2  0\\n  4  5  1  0\\n  5  6  2  0\\n  6  7  1  0\\n  7  8  1  0\\n  8  9  1  0\\n  9 10  1  0\\n 10 11  1  0\\n 11 12  1  0\\n 12 13  1  0\\n 13 14  1  6\\n 14 15  1  0\\n 15 16  1  6\\n 16 17  2  0\\n 17 18  1  0\\n 18 19  2  0\\n 18 20  1  0\\n 20 21  1  0\\n 20 22  1  0\\n 22 23  1  0\\n 22 24  2  0\\n 12 25  1  0\\n 12 26  1  0\\n  7 27  2  0\\n 27  3  1  0\\n 25  8  1  0\\n 26  8  1  0\\n 15 13  1  0\\n 24 16  1  0\\nM  END\\n\",\"sdf\");\n",
       "\tviewer_16680824845811732.setStyle({\"stick\": {}});\n",
       "\tviewer_16680824845811732.setBackgroundColor(\"0xeeeeee\");\n",
       "\tviewer_16680824845811732.zoomTo();\n",
       "viewer_16680824845811732.render();\n",
       "});\n",
       "</script>"
      ]
     },
     "metadata": {},
     "output_type": "display_data"
    }
   ],
   "source": [
    "key='0B1'\n",
    "pdbid='3vv7'\n",
    "lig_smi=\"CN1C(=O)C=C(N=C1N)[C@H]2C[C@H]2c3cccc(c3)c4cccc(c4)OC\"\n",
    "pdb_file_path=f\"/home/chengyj/kinase_work/dataset/Bridged_ring/PDB_rings/lig_in_pdb/pdb_dataset/pdb/pdb{pdbid}.ent\"\n",
    "lig_Block = pdb_2_lig_block(pdb_file_path,key)\n",
    "test = phe2bch_topdb_test(lig_smi,lig_Block,f\"{key}_{pdbid}.pdb\")\n",
    "drawit(test)"
   ]
  },
  {
   "cell_type": "code",
   "execution_count": 343,
   "metadata": {},
   "outputs": [
    {
     "data": {
      "application/3dmoljs_load.v0": "<div id=\"3dmolviewer_16680824984106386\"  style=\"position: relative; width: 400px; height: 400px\">\n        <p id=\"3dmolwarning_16680824984106386\" style=\"background-color:#ffcccc;color:black\">You appear to be running in JupyterLab (or JavaScript failed to load for some other reason).  You need to install the 3dmol extension: <br>\n        <tt>jupyter labextension install jupyterlab_3dmol</tt></p>\n        </div>\n<script>\n\nvar loadScriptAsync = function(uri){\n  return new Promise((resolve, reject) => {\n    var tag = document.createElement('script');\n    tag.src = uri;\n    tag.async = true;\n    tag.onload = () => {\n      resolve();\n    };\n  var firstScriptTag = document.getElementsByTagName('script')[0];\n  firstScriptTag.parentNode.insertBefore(tag, firstScriptTag);\n});\n};\n\nif(typeof $3Dmolpromise === 'undefined') {\n$3Dmolpromise = null;\n  $3Dmolpromise = loadScriptAsync('https://3dmol.csb.pitt.edu/build/3Dmol.js');\n}\n\nvar viewer_16680824984106386 = null;\nvar warn = document.getElementById(\"3dmolwarning_16680824984106386\");\nif(warn) {\n    warn.parentNode.removeChild(warn);\n}\n$3Dmolpromise.then(function() {\nviewer_16680824984106386 = $3Dmol.createViewer($(\"#3dmolviewer_16680824984106386\"),{backgroundColor:\"white\"});\n\tviewer_16680824984106386.removeAllModels();\n\tviewer_16680824984106386.addModel(\"\\n     RDKit          3D\\n\\n 26 29  0  0  0  0  0  0  0  0999 V2000\\n  -15.9190  -42.5680  -10.5060 O   0  0  0  0  0  0  0  0  0  0  0  0\\n  -15.9080  -41.5710   -9.7390 C   0  0  0  0  0  0  0  0  0  0  0  0\\n  -15.5030  -41.7340   -8.3890 N   0  0  0  0  0  0  0  0  0  0  0  0\\n  -15.1220  -43.0760   -7.9240 C   0  0  0  0  0  0  0  0  0  0  0  0\\n  -15.4950  -40.5980   -7.5260 C   0  0  0  0  0  0  0  0  0  0  0  0\\n  -15.1090  -40.7460   -6.2170 N   0  0  0  0  0  0  0  0  0  0  0  0\\n  -15.8760  -39.3700   -8.0190 N   0  0  0  0  0  0  0  0  0  0  0  0\\n  -16.2780  -39.2020   -9.3200 C   0  0  0  0  0  0  0  0  0  0  0  0\\n  -16.2890  -40.3040  -10.1980 C   0  0  0  0  0  0  0  0  0  0  0  0\\n  -16.6700  -37.8580   -9.8340 C   0  0  1  0  0  0  0  0  0  0  0  0\\n  -17.5800  -37.9910  -11.0690 C   0  0  0  0  0  0  0  0  0  0  0  0\\n  -18.1540  -37.4340   -9.7690 C   0  0  1  0  0  0  0  0  0  0  0  0\\n  -19.1790  -38.3200   -9.1240 C   0  0  0  0  0  0  0  0  0  0  0  0\\n  -20.2210  -38.8950   -9.8730 C   0  0  0  0  0  0  0  0  0  0  0  0\\n  -21.1950  -39.6960   -9.2640 C   0  0  0  0  0  0  0  0  0  0  0  0\\n  -21.1530  -39.9140   -7.8880 C   0  0  0  0  0  0  0  0  0  0  0  0\\n  -20.1290  -39.3320   -7.1310 C   0  0  0  0  0  0  0  0  0  0  0  0\\n  -19.1610  -38.5300   -7.7390 C   0  0  0  0  0  0  0  0  0  0  0  0\\n  -20.0920  -39.5630   -5.6630 C   0  0  0  0  0  0  0  0  0  0  0  0\\n  -19.5490  -38.6110   -4.7940 C   0  0  0  0  0  0  0  0  0  0  0  0\\n  -19.5410  -38.8580   -3.4200 C   0  0  0  0  0  0  0  0  0  0  0  0\\n  -20.1000  -40.0390   -2.9260 C   0  0  0  0  0  0  0  0  0  0  0  0\\n  -20.6420  -40.9900   -3.7890 C   0  0  0  0  0  0  0  0  0  0  0  0\\n  -20.6380  -40.7370   -5.1580 C   0  0  0  0  0  0  0  0  0  0  0  0\\n  -21.1810  -42.1640   -3.2940 O   0  0  0  0  0  0  0  0  0  0  0  0\\n  -21.3380  -43.3460   -4.0910 C   0  0  0  0  0  0  0  0  0  0  0  0\\n  2  1  2  0\\n  3  2  1  0\\n  4  3  1  0\\n  5  3  1  0\\n  6  5  1  0\\n  7  5  2  0\\n  8  7  1  0\\n  9  8  2  0\\n  9  2  1  0\\n 10  8  1  1\\n 11 10  1  0\\n 12 11  1  0\\n 12 10  1  0\\n 12 13  1  1\\n 14 13  2  0\\n 15 14  1  0\\n 16 15  2  0\\n 17 16  1  0\\n 18 17  2  0\\n 18 13  1  0\\n 19 17  1  0\\n 20 19  2  0\\n 21 20  1  0\\n 22 21  2  0\\n 23 22  1  0\\n 24 19  1  0\\n 24 23  2  0\\n 25 23  1  0\\n 26 25  1  0\\nM  END\\n\",\"sdf\");\n\tviewer_16680824984106386.setStyle({\"stick\": {}});\n\tviewer_16680824984106386.setBackgroundColor(\"0xeeeeee\");\n\tviewer_16680824984106386.zoomTo();\nviewer_16680824984106386.render();\n});\n</script>",
      "text/html": [
       "<div id=\"3dmolviewer_16680824984106386\"  style=\"position: relative; width: 400px; height: 400px\">\n",
       "        <p id=\"3dmolwarning_16680824984106386\" style=\"background-color:#ffcccc;color:black\">You appear to be running in JupyterLab (or JavaScript failed to load for some other reason).  You need to install the 3dmol extension: <br>\n",
       "        <tt>jupyter labextension install jupyterlab_3dmol</tt></p>\n",
       "        </div>\n",
       "<script>\n",
       "\n",
       "var loadScriptAsync = function(uri){\n",
       "  return new Promise((resolve, reject) => {\n",
       "    var tag = document.createElement('script');\n",
       "    tag.src = uri;\n",
       "    tag.async = true;\n",
       "    tag.onload = () => {\n",
       "      resolve();\n",
       "    };\n",
       "  var firstScriptTag = document.getElementsByTagName('script')[0];\n",
       "  firstScriptTag.parentNode.insertBefore(tag, firstScriptTag);\n",
       "});\n",
       "};\n",
       "\n",
       "if(typeof $3Dmolpromise === 'undefined') {\n",
       "$3Dmolpromise = null;\n",
       "  $3Dmolpromise = loadScriptAsync('https://3dmol.csb.pitt.edu/build/3Dmol.js');\n",
       "}\n",
       "\n",
       "var viewer_16680824984106386 = null;\n",
       "var warn = document.getElementById(\"3dmolwarning_16680824984106386\");\n",
       "if(warn) {\n",
       "    warn.parentNode.removeChild(warn);\n",
       "}\n",
       "$3Dmolpromise.then(function() {\n",
       "viewer_16680824984106386 = $3Dmol.createViewer($(\"#3dmolviewer_16680824984106386\"),{backgroundColor:\"white\"});\n",
       "\tviewer_16680824984106386.removeAllModels();\n",
       "\tviewer_16680824984106386.addModel(\"\\n     RDKit          3D\\n\\n 26 29  0  0  0  0  0  0  0  0999 V2000\\n  -15.9190  -42.5680  -10.5060 O   0  0  0  0  0  0  0  0  0  0  0  0\\n  -15.9080  -41.5710   -9.7390 C   0  0  0  0  0  0  0  0  0  0  0  0\\n  -15.5030  -41.7340   -8.3890 N   0  0  0  0  0  0  0  0  0  0  0  0\\n  -15.1220  -43.0760   -7.9240 C   0  0  0  0  0  0  0  0  0  0  0  0\\n  -15.4950  -40.5980   -7.5260 C   0  0  0  0  0  0  0  0  0  0  0  0\\n  -15.1090  -40.7460   -6.2170 N   0  0  0  0  0  0  0  0  0  0  0  0\\n  -15.8760  -39.3700   -8.0190 N   0  0  0  0  0  0  0  0  0  0  0  0\\n  -16.2780  -39.2020   -9.3200 C   0  0  0  0  0  0  0  0  0  0  0  0\\n  -16.2890  -40.3040  -10.1980 C   0  0  0  0  0  0  0  0  0  0  0  0\\n  -16.6700  -37.8580   -9.8340 C   0  0  1  0  0  0  0  0  0  0  0  0\\n  -17.5800  -37.9910  -11.0690 C   0  0  0  0  0  0  0  0  0  0  0  0\\n  -18.1540  -37.4340   -9.7690 C   0  0  1  0  0  0  0  0  0  0  0  0\\n  -19.1790  -38.3200   -9.1240 C   0  0  0  0  0  0  0  0  0  0  0  0\\n  -20.2210  -38.8950   -9.8730 C   0  0  0  0  0  0  0  0  0  0  0  0\\n  -21.1950  -39.6960   -9.2640 C   0  0  0  0  0  0  0  0  0  0  0  0\\n  -21.1530  -39.9140   -7.8880 C   0  0  0  0  0  0  0  0  0  0  0  0\\n  -20.1290  -39.3320   -7.1310 C   0  0  0  0  0  0  0  0  0  0  0  0\\n  -19.1610  -38.5300   -7.7390 C   0  0  0  0  0  0  0  0  0  0  0  0\\n  -20.0920  -39.5630   -5.6630 C   0  0  0  0  0  0  0  0  0  0  0  0\\n  -19.5490  -38.6110   -4.7940 C   0  0  0  0  0  0  0  0  0  0  0  0\\n  -19.5410  -38.8580   -3.4200 C   0  0  0  0  0  0  0  0  0  0  0  0\\n  -20.1000  -40.0390   -2.9260 C   0  0  0  0  0  0  0  0  0  0  0  0\\n  -20.6420  -40.9900   -3.7890 C   0  0  0  0  0  0  0  0  0  0  0  0\\n  -20.6380  -40.7370   -5.1580 C   0  0  0  0  0  0  0  0  0  0  0  0\\n  -21.1810  -42.1640   -3.2940 O   0  0  0  0  0  0  0  0  0  0  0  0\\n  -21.3380  -43.3460   -4.0910 C   0  0  0  0  0  0  0  0  0  0  0  0\\n  2  1  2  0\\n  3  2  1  0\\n  4  3  1  0\\n  5  3  1  0\\n  6  5  1  0\\n  7  5  2  0\\n  8  7  1  0\\n  9  8  2  0\\n  9  2  1  0\\n 10  8  1  1\\n 11 10  1  0\\n 12 11  1  0\\n 12 10  1  0\\n 12 13  1  1\\n 14 13  2  0\\n 15 14  1  0\\n 16 15  2  0\\n 17 16  1  0\\n 18 17  2  0\\n 18 13  1  0\\n 19 17  1  0\\n 20 19  2  0\\n 21 20  1  0\\n 22 21  2  0\\n 23 22  1  0\\n 24 19  1  0\\n 24 23  2  0\\n 25 23  1  0\\n 26 25  1  0\\nM  END\\n\",\"sdf\");\n",
       "\tviewer_16680824984106386.setStyle({\"stick\": {}});\n",
       "\tviewer_16680824984106386.setBackgroundColor(\"0xeeeeee\");\n",
       "\tviewer_16680824984106386.zoomTo();\n",
       "viewer_16680824984106386.render();\n",
       "});\n",
       "</script>"
      ]
     },
     "metadata": {},
     "output_type": "display_data"
    }
   ],
   "source": [
    "smi0,refpdb,name = lig_smi,lig_Block,f\"{key}_{pdbid}.pdb\"\n",
    "mol = phe2bch_test(smi0)\n",
    "smi = Chem.MolToSmiles(mol)\n",
    "mol = Chem.MolFromSmiles(smi)\n",
    "mol = Chem.AddHs(mol)\n",
    "AllChem.EmbedMolecule(mol)\n",
    "mol = Chem.RemoveAllHs(mol)\n",
    "\n",
    "structure_from_pdb = Chem.MolFromPDBBlock(refpdb)\n",
    "structure_from_pdb = Chem.RemoveAllHs(structure_from_pdb)\n",
    "mol_tem = Chem.MolFromSmiles(smi0)\n",
    "structure_refine = AllChem.AssignBondOrdersFromTemplate(mol_tem,structure_from_pdb)\n",
    "drawit(structure_refine)"
   ]
  },
  {
   "cell_type": "code",
   "execution_count": 345,
   "metadata": {},
   "outputs": [
    {
     "name": "stderr",
     "output_type": "stream",
     "text": [
      "[20:15:18] Molecule does not have explicit Hs. Consider calling AddHs()\n"
     ]
    },
    {
     "data": {
      "image/png": "[encoded data removed]",
      "text/html": [
       "<table><tr><td colspan=2 style=\"text-align:center\"><image src=\"data:image/png;base64,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\"></td></tr>\n",
       "<tr><th style=\"text-align:right\">core</th><td style=\"text-align:left\">0</td></tr>\n",
       "<tr><th style=\"text-align:right\">idx</th><td style=\"text-align:left\">0</td></tr>\n",
       "<tr><th style=\"text-align:right\">frag_idx</th><td style=\"text-align:left\">1</td></tr>\n",
       "<tr><th style=\"text-align:right\">internalRgroupSmiles</th><td style=\"text-align:left\">*[C@@]1([H])C([H])([H])[C@]1([H])C1=C([H])C(=O)N(C([H])([H])[H])C(N([H])[H])=N1</td></tr>\n",
       "<tr><th style=\"text-align:right\">RLABEL_PROCESSED</th><td style=\"text-align:left\">True</td></tr></table>"
      ],
      "text/plain": [
       "<rdkit.Chem.rdchem.Mol at 0x7fe82fe73270>"
      ]
     },
     "execution_count": 345,
     "metadata": {},
     "output_type": "execute_result"
    }
   ],
   "source": [
    "refmol,inpmol,pdbfile =structure_refine,mol,f\"{name}\"\n",
    "    \n",
    "bonded_conf = refmol.GetConformer()\n",
    "conf_res = inpmol.GetConformer()\n",
    "inpmol_prop = Chem.rdForceFieldHelpers.MMFFGetMoleculeProperties(inpmol)\n",
    "ff_mcs = Chem.rdForceFieldHelpers.MMFFGetMoleculeForceField(inpmol,inpmol_prop)\n",
    "\n",
    "core = Chem.MolFromSmiles(\"C12CCCC(C2)C1\")\n",
    "res, unmatched = rdRGD.RGroupDecompose([core],[inpmol])\n",
    "res[0]['R2']\n"
   ]
  },
  {
   "cell_type": "code",
   "execution_count": 339,
   "metadata": {},
   "outputs": [
    {
     "data": {
      "text/plain": [
       "11"
      ]
     },
     "execution_count": 339,
     "metadata": {},
     "output_type": "execute_result"
    }
   ],
   "source": [
    "mcs1 = rdFMCS.FindMCS([refmol, res[0]['R2']],timeout=3)\n",
    "mcs3 = rdFMCS.FindMCS([inpmol, res[0]['R2']],timeout=3,)\n",
    "sidechain_ref = refmol.GetSubstructMatch(mcs1.queryMol)\n",
    "sidechain_gen = inpmol.GetSubstructMatch(mcs3.queryMol)\n",
    "\n",
    "atom_connect_sidechain_core_gen = get_connect_atom_in_core(inpmol, sidechain_gen)[0]\n",
    "atom_connect_sidechain_core_gen\n",
    "atom_connect_sidechain_core_gen\n",
    "sidechain_gen\n",
    "atom_connect_sidechain_core_gen"
   ]
  },
  {
   "cell_type": "code",
   "execution_count": 341,
   "metadata": {},
   "outputs": [
    {
     "name": "stdout",
     "output_type": "stream",
     "text": [
      "R1 25 0\n",
      "R1 24 1\n",
      "R1 22 2\n",
      "R1 21 3\n",
      "R1 23 26\n",
      "R1 20 4\n",
      "R1 18 6\n",
      "R1 19 5\n",
      "R2 9 12\n",
      "R2 10 13\n",
      "R2 11 14\n",
      "R2 12 15\n"
     ]
    }
   ],
   "source": [
    "for R in ['R1','R2']:\n",
    "    mcs1 = rdFMCS.FindMCS([refmol, res[0][R]],timeout=3,bondCompare=rdFMCS.BondCompare.CompareOrderExact)\n",
    "    mcs3 = rdFMCS.FindMCS([inpmol, res[0][R]],timeout=3,)\n",
    "    sidechain_ref = refmol.GetSubstructMatch(mcs1.queryMol)\n",
    "    sidechain_gen = inpmol.GetSubstructMatch(mcs3.queryMol)\n",
    "    for i, j in zip(sidechain_ref,sidechain_gen):\n",
    "        print(f\"{R} {i} {j}\")\n",
    "        ff_mcs.AddFixedPoint(j)\n",
    "        conf_res.SetAtomPosition(j, bonded_conf.GetAtomPosition(i))\n",
    "    atom_connect_sidechain_core_ref = get_connect_atom_in_core(refmol, sidechain_ref)[0]\n",
    "    atom_connect_sidechain_core_gen = get_connect_atom_in_core(inpmol, sidechain_gen)[0]\n",
    "    ff_mcs.AddFixedPoint(atom_connect_sidechain_core_gen)\n",
    "    conf_res.SetAtomPosition(atom_connect_sidechain_core_gen,bonded_conf.GetAtomPosition(atom_connect_sidechain_core_ref))"
   ]
  },
  {
   "cell_type": "code",
   "execution_count": 196,
   "metadata": {},
   "outputs": [
    {
     "data": {
      "application/3dmoljs_load.v0": "<div id=\"3dmolviewer_1668078388814495\"  style=\"position: relative; width: 400px; height: 400px\">\n        <p id=\"3dmolwarning_1668078388814495\" style=\"background-color:#ffcccc;color:black\">You appear to be running in JupyterLab (or JavaScript failed to load for some other reason).  You need to install the 3dmol extension: <br>\n        <tt>jupyter labextension install jupyterlab_3dmol</tt></p>\n        </div>\n<script>\n\nvar loadScriptAsync = function(uri){\n  return new Promise((resolve, reject) => {\n    var tag = document.createElement('script');\n    tag.src = uri;\n    tag.async = true;\n    tag.onload = () => {\n      resolve();\n    };\n  var firstScriptTag = document.getElementsByTagName('script')[0];\n  firstScriptTag.parentNode.insertBefore(tag, firstScriptTag);\n});\n};\n\nif(typeof $3Dmolpromise === 'undefined') {\n$3Dmolpromise = null;\n  $3Dmolpromise = loadScriptAsync('https://3dmol.csb.pitt.edu/build/3Dmol.js');\n}\n\nvar viewer_1668078388814495 = null;\nvar warn = document.getElementById(\"3dmolwarning_1668078388814495\");\nif(warn) {\n    warn.parentNode.removeChild(warn);\n}\n$3Dmolpromise.then(function() {\nviewer_1668078388814495 = $3Dmol.createViewer($(\"#3dmolviewer_1668078388814495\"),{backgroundColor:\"white\"});\n\tviewer_1668078388814495.removeAllModels();\n\tviewer_1668078388814495.addModel(\"\\n     RDKit          3D\\n\\n 26 29  0  0  0  0  0  0  0  0999 V2000\\n  -15.9190  -42.5680  -10.5060 O   0  0  0  0  0  0  0  0  0  0  0  0\\n  -15.9080  -41.5710   -9.7390 C   0  0  0  0  0  0  0  0  0  0  0  0\\n  -15.5030  -41.7340   -8.3890 N   0  0  0  0  0  0  0  0  0  0  0  0\\n  -15.1220  -43.0760   -7.9240 C   0  0  0  0  0  0  0  0  0  0  0  0\\n  -15.4950  -40.5980   -7.5260 C   0  0  0  0  0  0  0  0  0  0  0  0\\n  -15.1090  -40.7460   -6.2170 N   0  0  0  0  0  0  0  0  0  0  0  0\\n  -15.8760  -39.3700   -8.0190 N   0  0  0  0  0  0  0  0  0  0  0  0\\n  -16.2780  -39.2020   -9.3200 C   0  0  0  0  0  0  0  0  0  0  0  0\\n  -16.2890  -40.3040  -10.1980 C   0  0  0  0  0  0  0  0  0  0  0  0\\n  -16.6700  -37.8580   -9.8340 C   0  0  1  0  0  0  0  0  0  0  0  0\\n  -17.5800  -37.9910  -11.0690 C   0  0  0  0  0  0  0  0  0  0  0  0\\n  -18.1540  -37.4340   -9.7690 C   0  0  1  0  0  0  0  0  0  0  0  0\\n  -19.1790  -38.3200   -9.1240 C   0  0  2  0  0  0  0  0  0  0  0  0\\n  -20.2210  -38.8950   -9.8730 C   0  0  0  0  0  0  0  0  0  0  0  0\\n  -21.1950  -39.6960   -9.2640 C   0  0  0  0  0  0  0  0  0  0  0  0\\n  -21.1530  -39.9140   -7.8880 C   0  0  0  0  0  0  0  0  0  0  0  0\\n  -20.1290  -39.3320   -7.1310 C   0  0  0  0  0  0  0  0  0  0  0  0\\n  -19.1610  -38.5300   -7.7390 C   0  0  0  0  0  0  0  0  0  0  0  0\\n  -20.0920  -39.5630   -5.6630 C   0  0  0  0  0  0  0  0  0  0  0  0\\n  -19.5490  -38.6110   -4.7940 C   0  0  0  0  0  0  0  0  0  0  0  0\\n  -19.5410  -38.8580   -3.4200 C   0  0  0  0  0  0  0  0  0  0  0  0\\n  -20.1000  -40.0390   -2.9260 C   0  0  0  0  0  0  0  0  0  0  0  0\\n  -20.6420  -40.9900   -3.7890 C   0  0  0  0  0  0  0  0  0  0  0  0\\n  -20.6380  -40.7370   -5.1580 C   0  0  0  0  0  0  0  0  0  0  0  0\\n  -21.1810  -42.1640   -3.2940 O   0  0  0  0  0  0  0  0  0  0  0  0\\n  -21.3380  -43.3460   -4.0910 C   0  0  0  0  0  0  0  0  0  0  0  0\\n  2  1  1  0\\n  3  2  1  0\\n  4  3  1  0\\n  5  3  1  0\\n  6  5  1  0\\n  7  5  1  0\\n  8  7  1  0\\n  9  8  1  0\\n  9  2  1  0\\n 10  8  1  1\\n 11 10  1  0\\n 12 11  1  6\\n 12 10  1  0\\n 13 12  1  0\\n 13 14  1  1\\n 15 14  1  0\\n 16 15  1  0\\n 17 16  1  0\\n 18 17  1  0\\n 18 13  1  0\\n 19 17  1  0\\n 20 19  1  0\\n 21 20  1  0\\n 22 21  1  0\\n 23 22  1  0\\n 24 19  1  0\\n 24 23  1  0\\n 25 23  1  0\\n 26 25  1  0\\nM  END\\n\",\"sdf\");\n\tviewer_1668078388814495.setStyle({\"stick\": {}});\n\tviewer_1668078388814495.setBackgroundColor(\"0xeeeeee\");\n\tviewer_1668078388814495.zoomTo();\nviewer_1668078388814495.render();\n});\n</script>",
      "text/html": [
       "<div id=\"3dmolviewer_1668078388814495\"  style=\"position: relative; width: 400px; height: 400px\">\n",
       "        <p id=\"3dmolwarning_1668078388814495\" style=\"background-color:#ffcccc;color:black\">You appear to be running in JupyterLab (or JavaScript failed to load for some other reason).  You need to install the 3dmol extension: <br>\n",
       "        <tt>jupyter labextension install jupyterlab_3dmol</tt></p>\n",
       "        </div>\n",
       "<script>\n",
       "\n",
       "var loadScriptAsync = function(uri){\n",
       "  return new Promise((resolve, reject) => {\n",
       "    var tag = document.createElement('script');\n",
       "    tag.src = uri;\n",
       "    tag.async = true;\n",
       "    tag.onload = () => {\n",
       "      resolve();\n",
       "    };\n",
       "  var firstScriptTag = document.getElementsByTagName('script')[0];\n",
       "  firstScriptTag.parentNode.insertBefore(tag, firstScriptTag);\n",
       "});\n",
       "};\n",
       "\n",
       "if(typeof $3Dmolpromise === 'undefined') {\n",
       "$3Dmolpromise = null;\n",
       "  $3Dmolpromise = loadScriptAsync('https://3dmol.csb.pitt.edu/build/3Dmol.js');\n",
       "}\n",
       "\n",
       "var viewer_1668078388814495 = null;\n",
       "var warn = document.getElementById(\"3dmolwarning_1668078388814495\");\n",
       "if(warn) {\n",
       "    warn.parentNode.removeChild(warn);\n",
       "}\n",
       "$3Dmolpromise.then(function() {\n",
       "viewer_1668078388814495 = $3Dmol.createViewer($(\"#3dmolviewer_1668078388814495\"),{backgroundColor:\"white\"});\n",
       "\tviewer_1668078388814495.removeAllModels();\n",
       "\tviewer_1668078388814495.addModel(\"\\n     RDKit          3D\\n\\n 26 29  0  0  0  0  0  0  0  0999 V2000\\n  -15.9190  -42.5680  -10.5060 O   0  0  0  0  0  0  0  0  0  0  0  0\\n  -15.9080  -41.5710   -9.7390 C   0  0  0  0  0  0  0  0  0  0  0  0\\n  -15.5030  -41.7340   -8.3890 N   0  0  0  0  0  0  0  0  0  0  0  0\\n  -15.1220  -43.0760   -7.9240 C   0  0  0  0  0  0  0  0  0  0  0  0\\n  -15.4950  -40.5980   -7.5260 C   0  0  0  0  0  0  0  0  0  0  0  0\\n  -15.1090  -40.7460   -6.2170 N   0  0  0  0  0  0  0  0  0  0  0  0\\n  -15.8760  -39.3700   -8.0190 N   0  0  0  0  0  0  0  0  0  0  0  0\\n  -16.2780  -39.2020   -9.3200 C   0  0  0  0  0  0  0  0  0  0  0  0\\n  -16.2890  -40.3040  -10.1980 C   0  0  0  0  0  0  0  0  0  0  0  0\\n  -16.6700  -37.8580   -9.8340 C   0  0  1  0  0  0  0  0  0  0  0  0\\n  -17.5800  -37.9910  -11.0690 C   0  0  0  0  0  0  0  0  0  0  0  0\\n  -18.1540  -37.4340   -9.7690 C   0  0  1  0  0  0  0  0  0  0  0  0\\n  -19.1790  -38.3200   -9.1240 C   0  0  2  0  0  0  0  0  0  0  0  0\\n  -20.2210  -38.8950   -9.8730 C   0  0  0  0  0  0  0  0  0  0  0  0\\n  -21.1950  -39.6960   -9.2640 C   0  0  0  0  0  0  0  0  0  0  0  0\\n  -21.1530  -39.9140   -7.8880 C   0  0  0  0  0  0  0  0  0  0  0  0\\n  -20.1290  -39.3320   -7.1310 C   0  0  0  0  0  0  0  0  0  0  0  0\\n  -19.1610  -38.5300   -7.7390 C   0  0  0  0  0  0  0  0  0  0  0  0\\n  -20.0920  -39.5630   -5.6630 C   0  0  0  0  0  0  0  0  0  0  0  0\\n  -19.5490  -38.6110   -4.7940 C   0  0  0  0  0  0  0  0  0  0  0  0\\n  -19.5410  -38.8580   -3.4200 C   0  0  0  0  0  0  0  0  0  0  0  0\\n  -20.1000  -40.0390   -2.9260 C   0  0  0  0  0  0  0  0  0  0  0  0\\n  -20.6420  -40.9900   -3.7890 C   0  0  0  0  0  0  0  0  0  0  0  0\\n  -20.6380  -40.7370   -5.1580 C   0  0  0  0  0  0  0  0  0  0  0  0\\n  -21.1810  -42.1640   -3.2940 O   0  0  0  0  0  0  0  0  0  0  0  0\\n  -21.3380  -43.3460   -4.0910 C   0  0  0  0  0  0  0  0  0  0  0  0\\n  2  1  1  0\\n  3  2  1  0\\n  4  3  1  0\\n  5  3  1  0\\n  6  5  1  0\\n  7  5  1  0\\n  8  7  1  0\\n  9  8  1  0\\n  9  2  1  0\\n 10  8  1  1\\n 11 10  1  0\\n 12 11  1  6\\n 12 10  1  0\\n 13 12  1  0\\n 13 14  1  1\\n 15 14  1  0\\n 16 15  1  0\\n 17 16  1  0\\n 18 17  1  0\\n 18 13  1  0\\n 19 17  1  0\\n 20 19  1  0\\n 21 20  1  0\\n 22 21  1  0\\n 23 22  1  0\\n 24 19  1  0\\n 24 23  1  0\\n 25 23  1  0\\n 26 25  1  0\\nM  END\\n\",\"sdf\");\n",
       "\tviewer_1668078388814495.setStyle({\"stick\": {}});\n",
       "\tviewer_1668078388814495.setBackgroundColor(\"0xeeeeee\");\n",
       "\tviewer_1668078388814495.zoomTo();\n",
       "viewer_1668078388814495.render();\n",
       "});\n",
       "</script>"
      ]
     },
     "metadata": {},
     "output_type": "display_data"
    }
   ],
   "source": [
    "pdb = Chem.MolFromPDBBlock(lig_Block)\n",
    "drawit(pdb)"
   ]
  },
  {
   "cell_type": "code",
   "execution_count": 174,
   "metadata": {},
   "outputs": [],
   "source": [
    "def phe2bch_with_smiles(smi):\n",
    "    # 用于将给定配体中的*间位苯环骨架*替换为*螺旋桨烷骨架*的脚本\n",
    "    # 用smi指定ligand的结构\n",
    "\n",
    "    # 读入分子\n",
    "    mol = Chem.MolFromSmiles(smi)\n",
    "    # 识别间位取代部分: * 匹配任意原子；'!:' 非芳香键； *!:ccc(!:*)ccc 含间位取代的苯环\n",
    "    patt = Chem.MolFromSmarts(\"*!:ccc(!:*)ccc\")\n",
    "    match = mol.GetSubstructMatches(patt)\n",
    "    \n",
    "    # 识别需要被替换苯环原子\n",
    "    ri = mol.GetRingInfo()\n",
    "    for r in ri.AtomRings():\n",
    "        count = 0\n",
    "        for item in match[0]:\n",
    "            if item in set(r):\n",
    "                count+=1\n",
    "        if count == len(match[0])-2:\n",
    "            phenyl_num = set(r)\n",
    "    # 识别两个间位取代基与苯环的连接原子\n",
    "    connect_atoms = list(set(match[0])-phenyl_num)\n",
    "    # 记录第一部分的原子数目\n",
    "    mol1_Atom_num = mol.GetNumAtoms()\n",
    "    # 引入螺旋桨烷，并将其与原分子置于一处，使得其编号从·mol1_Atom_num+0·开始\n",
    "    re_pat = Chem.MolFromSmiles(\"C12CCCC(C2)C1\")\n",
    "    mid_mol = Chem.CombineMols(mol,re_pat)\n",
    "    # 开始成键\n",
    "    mid_edited = Chem.EditableMol(mid_mol)\n",
    "    # 螺旋桨烷烃的桥头碳分别为mol1_Atom_num和mol1_Atom_num+4\n",
    "    mid_edited.AddBond(connect_atoms[0],mol1_Atom_num,order=Chem.rdchem.BondType.SINGLE)\n",
    "    mid_edited.AddBond(connect_atoms[1],mol1_Atom_num+4,order=Chem.rdchem.BondType.SINGLE)\n",
    "    # 删除原来的苯环\n",
    "    # 每删除一个原子后原子序号都会发生改变，所以需要倒序删除。\n",
    "    phenyl_atoms = list(phenyl_num)\n",
    "    phenyl_atoms.sort(reverse=True)\n",
    "    for i in phenyl_atoms:\n",
    "        mid_edited.RemoveAtom(i)\n",
    "    BCHep_mol = mid_edited.GetMol()\n",
    "    return [BCHep_mol,mol1_Atom_num-6]  \n",
    "\n",
    "test = phe2bch_with_smiles(\"Cc1c(sc(n1)N)c2ccnc(n2)Nc3cccc(c3)n4oo4\")"
   ]
  },
  {
   "cell_type": "code",
   "execution_count": 8,
   "metadata": {},
   "outputs": [],
   "source": [
    "def getpdb(refmol,inpmol,pdbfile):\n",
    "    mcs = rdFMCS.FindMCS([refmol, inpmol],timeout=3,bondCompare=rdFMCS.BondCompare.CompareOrderExact)\n",
    "    bonded_conf = refmol.GetConformer()\n",
    "    conf_res = inpmol.GetConformer()\n",
    "    inpmol_prop = Chem.rdForceFieldHelpers.MMFFGetMoleculeProperties(inpmol)\n",
    "    ff_mcs = Chem.rdForceFieldHelpers.MMFFGetMoleculeForceField(inpmol,inpmol_prop)\n",
    "    for i, j in zip(refmol.GetSubstructMatch(mcs.queryMol), inpmol.GetSubstructMatch(mcs.queryMol)):\n",
    "        ff_mcs.AddFixedPoint(j)\n",
    "        conf_res.SetAtomPosition(j, bonded_conf.GetAtomPosition(i))\n",
    "    Chem.MolToPDBFile(inpmol, pdbfile)\n",
    "    return inpmol\n"
   ]
  }
 ],
 "metadata": {
  "kernelspec": {
   "display_name": "Python 3.8.13 ('rdkit_new')",
   "language": "python",
   "name": "python3"
  },
  "language_info": {
   "codemirror_mode": {
    "name": "ipython",
    "version": 3
   },
   "file_extension": ".py",
   "mimetype": "text/x-python",
   "name": "python",
   "nbconvert_exporter": "python",
   "pygments_lexer": "ipython3",
   "version": "3.8.13"
  },
  "orig_nbformat": 4,
  "vscode": {
   "interpreter": {
    "hash": "ef7ff853cff2c5df01e22c007126fc9faf677f8af9c79862f6155dbd80f6c983"
   }
  }
 },
 "nbformat": 4,
 "nbformat_minor": 2
}
