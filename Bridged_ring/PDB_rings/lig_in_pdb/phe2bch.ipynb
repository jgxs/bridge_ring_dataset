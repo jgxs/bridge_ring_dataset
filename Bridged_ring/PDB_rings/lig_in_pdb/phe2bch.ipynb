{
 "cells": [
  {
   "cell_type": "code",
   "execution_count": 1,
   "metadata": {},
   "outputs": [],
   "source": [
    "from rdkit import Chem\n",
    "from rdkit.Chem import AllChem\n",
    "from rdkit.Chem import rdFMCS\n",
    "from rdkit.Chem.Draw import IPythonConsole\n",
    "from rdkit.Chem import rdRGroupDecomposition as rdRGD\n",
    "# 显示图片\n",
    "\n",
    "import py3Dmol\n",
    "def drawit(m,p=None,confId=-1):\n",
    "        mb = Chem.MolToMolBlock(m,confId=confId)\n",
    "        if p is None:\n",
    "            p = py3Dmol.view(width=400,height=400)\n",
    "        p.removeAllModels()\n",
    "        p.addModel(mb,'sdf')\n",
    "        p.setStyle({'stick':{}})\n",
    "        p.setBackgroundColor('0xeeeeee')\n",
    "        p.zoomTo()\n",
    "        return p.show()\n",
    "\n",
    "def mol_with_atom_index(mol):\n",
    "    atoms = mol.GetNumAtoms()\n",
    "    for idx in range(atoms):\n",
    "        mol.GetAtomWithIdx(idx).SetProp('molAtomMapNumber',str(idx))\n",
    "    return mol"
   ]
  },
  {
   "cell_type": "code",
   "execution_count": 2,
   "metadata": {},
   "outputs": [],
   "source": [
    "def pdb_2_lig_block(pdb_path,lig_id):\n",
    "    # 抽取pdbfile中的ligand部分\n",
    "    # rdkit可读字符串形式的pdbBlock\n",
    "    ligand_lines = []\n",
    "    with open(pdb_path) as ent:\n",
    "        for line in ent:\n",
    "            if line[0:6] == \"HETATM\" and line[17:20] == lig_id:\n",
    "                ligand_lines.append(line)\n",
    "    ligand_num = len(ligand_lines)\n",
    "    for i in range(1,len(ligand_lines)):\n",
    "        if ligand_lines[i][17:26] != ligand_lines[i-1][17:26]:\n",
    "            ligand_num = i\n",
    "            break\n",
    "        else:\n",
    "            pass\n",
    "    lig_Block=\"\".join(ligand_lines[0:ligand_num])\n",
    "    return lig_Block\n",
    "\n",
    "lig_block = pdb_2_lig_block(\"/home/chengyj/kinase_work/dataset/Bridged_ring/PDB_rings/lig_in_pdb/pdb_dataset/pdb/pdb2x4f.ent\",\"16X\")\n"
   ]
  },
  {
   "cell_type": "code",
   "execution_count": 3,
   "metadata": {},
   "outputs": [],
   "source": [
    "def get_connect_atom_in_core(orimol,sidechain_atom_idxes):\n",
    "    # mol is the whole molecule, the sidechain_atom_idx is the a tuple of the atom idx of a sidechain;\n",
    "    # this function will get the atom connected with the .\n",
    "    connect_atoms_in_core = []\n",
    "    for idx in sidechain_atom_idxes:\n",
    "        for atom in orimol.GetAtomWithIdx(idx).GetNeighbors():\n",
    "            if atom.GetIdx() not in sidechain_atom_idxes:\n",
    "                connect_atoms_in_core.append(atom.GetIdx())\n",
    "    return connect_atoms_in_core"
   ]
  },
  {
   "cell_type": "code",
   "execution_count": 4,
   "metadata": {},
   "outputs": [],
   "source": [
    "def get_connect_atom_in_sidechain(orimol,core):\n",
    "    rings = orimol.GetRingInfo()\n",
    "    for r in rings.AtomRings():\n",
    "        count = 0\n",
    "        for idx in core:\n",
    "            if idx in set(r):\n",
    "                count += 1\n",
    "        if count == len(core) - 2:\n",
    "            core_atom_idx = set(r)\n",
    "            connect_atom_in_sidechain = set(core) - core_atom_idx\n",
    "    return list(connect_atom_in_sidechain)\n"
   ]
  },
  {
   "cell_type": "code",
   "execution_count": 5,
   "metadata": {},
   "outputs": [
    {
     "data": {
      "image/png": "[encoded data removed]",
      "text/plain": [
       "<rdkit.Chem.rdchem.Mol at 0x7f72b7912d00>"
      ]
     },
     "execution_count": 5,
     "metadata": {},
     "output_type": "execute_result"
    }
   ],
   "source": [
    "def phe2bch_test(smi):\n",
    "    # 用于将给定配体中的*间位苯环骨架*替换为*螺旋桨烷骨架*的脚本\n",
    "    # 用smi指定ligand的结构\n",
    "\n",
    "    # 读入分子\n",
    "    mol = Chem.MolFromSmiles(smi)\n",
    "    # 识别间位取代部分: * 匹配任意原子；'!:' 非芳香键； *!:ccc(!:*)ccc 含间位取代的苯环\n",
    "    patt = Chem.MolFromSmarts(\"*!:ccc(!:*)ccc\")\n",
    "    match = mol.GetSubstructMatches(patt)\n",
    "    \n",
    "    # 识别两个间位取代基与苯环的连接原子\n",
    "    connect_atoms = get_connect_atom_in_sidechain(mol,match[0])\n",
    "    # 识别需要被替换苯环原子\n",
    "    core = set(match[0])-set(connect_atoms)\n",
    "\n",
    "    # 记录第一部分的原子数目\n",
    "    mol1_Atom_num = mol.GetNumAtoms()\n",
    "\n",
    "    # 引入螺旋桨烷，并将其与原分子置于一处，使得其编号从·mol1_Atom_num+0·开始\n",
    "    re_pat = Chem.MolFromSmiles(\"C12CCCC(C2)C1\")\n",
    "    mid_mol = Chem.CombineMols(mol,re_pat)\n",
    "    mid_edited = Chem.EditableMol(mid_mol)\n",
    "\n",
    "    # 开始成键,螺旋桨烷烃的桥头碳分别为mol1_Atom_num和mol1_Atom_num+4\n",
    "    mid_edited.AddBond(connect_atoms[0],mol1_Atom_num,order=Chem.rdchem.BondType.SINGLE)\n",
    "    mid_edited.AddBond(connect_atoms[1],mol1_Atom_num+4,order=Chem.rdchem.BondType.SINGLE)\n",
    "    # 删除原来的苯环,每删除一个原子后原子序号都会发生改变，所以需要倒序删除。\n",
    "    phenyl_atoms = list(core)\n",
    "    phenyl_atoms.sort(reverse=True)\n",
    "    for i in phenyl_atoms:\n",
    "        mid_edited.RemoveAtom(i)\n",
    "    BCHep_mol = mid_edited.GetMol()\n",
    "    return BCHep_mol\n",
    "\n",
    "test = phe2bch_test(\"CN1C(=O)C=C(N=C1N)[C@H]2C[C@H]2c3cccc(c3)c4cccc(c4)OC\")\n",
    "mol_with_atom_index(test)"
   ]
  },
  {
   "cell_type": "code",
   "execution_count": 95,
   "metadata": {},
   "outputs": [],
   "source": [
    "def copy_partconf(refmol,refconf,partsmi,inpmol,inpconf,inpff):\n",
    "    # introduct a middle mol for \n",
    "    partmol = Chem.MolFromSmarts(partsmi)\n",
    "    partmol = Chem.AddHs(partmol)\n",
    "    AllChem.EmbedMolecule(partmol)\n",
    "    partmol = Chem.RemoveAllHs(partmol)\n",
    "    partconf = partmol.GetConformer()\n",
    "\n",
    "    # copy conf from refmol to middle mol\n",
    "    mcs_ref2part = rdFMCS.FindMCS([refmol, partmol],timeout=3)\n",
    "    for i, j in zip(refmol.GetSubstructMatch(mcs_ref2part),partmol.GetSubstructMatch(mcs_ref2part)):\n",
    "        partconf.SetAtomPosition(j,refconf.GetAtomPosition(i))\n",
    "    mcs_part2inp = rdFMCS.FindMCS([inpmol, partmol],timeout=3)\n",
    "    \n",
    "    # copy conf from middle mol to inpmol\n",
    "    for i, j in zip(partmol.GetSubstructMatch(mcs_part2inp),inpmol.GetSubstructMatch(mcs_part2inp)):\n",
    "        inpff.AddFixedPoint(j)\n",
    "        inpconf.SetAtomPosition(j,partconf.GetAtomPosition(i))\n",
    "    return 0\n",
    "\n"
   ]
  },
  {
   "cell_type": "code",
   "execution_count": 141,
   "metadata": {},
   "outputs": [],
   "source": [
    "def getpdb_test(refmol,inpmol,pdbfile):\n",
    "    \n",
    "    bonded_conf = refmol.GetConformer()\n",
    "    conf_res = inpmol.GetConformer()\n",
    "    inpmol_prop = Chem.rdForceFieldHelpers.MMFFGetMoleculeProperties(inpmol)\n",
    "    ff_mcs = Chem.rdForceFieldHelpers.MMFFGetMoleculeForceField(inpmol,inpmol_prop)\n",
    "\n",
    "    core = Chem.MolFromSmiles(\"C12CCCC(C2)C1\")\n",
    "    side_chains, unmatched = rdRGD.RGroupDecompose([core],[inpmol])\n",
    "    for R in ['R1','R2']:\n",
    "        sidechain = side_chains[0][R]\n",
    "\n",
    "        \n",
    "        sidechain_conf = sidechain.GetConformer()\n",
    "\n",
    "        mcs_ref2mid = rdFMCS.FindMCS([refmol, sidechain],timeout=3,bondCompare=rdFMCS.BondCompare.CompareAny)\n",
    "        for i, j in zip(refmol.GetSubstructMatch(mcs_ref2mid.queryMol),sidechain.GetSubstructMatch(mcs_ref2mid.queryMol)):\n",
    "            sidechain_conf.SetAtomPosition(j, bonded_conf.GetAtomPosition(i))\n",
    "        \n",
    "        mcs_mid2inp = rdFMCS.FindMCS([inpmol, sidechain],timeout=3,bondCompare=rdFMCS.BondCompare.CompareOrderExact)\n",
    "        for i, j in zip(sidechain.GetSubstructMatch(mcs_mid2inp.queryMol),inpmol.GetSubstructMatch(mcs_mid2inp.queryMol)):\n",
    "            ff_mcs.AddFixedPoint(j)\n",
    "            conf_res.SetAtomPosition(j, sidechain_conf.GetAtomPosition(i))\n",
    "        \n",
    "        mcs1 = rdFMCS.FindMCS([refmol, sidechain],timeout=3,bondCompare=rdFMCS.BondCompare.CompareAny)\n",
    "        mcs3 = rdFMCS.FindMCS([inpmol, sidechain],timeout=3,bondCompare=rdFMCS.BondCompare.CompareOrderExact)\n",
    "        sidechain_ref = refmol.GetSubstructMatch(mcs1.queryMol)\n",
    "        sidechain_gen = inpmol.GetSubstructMatch(mcs3.queryMol)\n",
    "        atom_connect_sidechain_core_ref = get_connect_atom_in_core(refmol, sidechain_ref)[0]\n",
    "        atom_connect_sidechain_core_gen = get_connect_atom_in_core(inpmol, sidechain_gen)[0]\n",
    "        ff_mcs.AddFixedPoint(atom_connect_sidechain_core_gen)\n",
    "        conf_res.SetAtomPosition(atom_connect_sidechain_core_gen,bonded_conf.GetAtomPosition(atom_connect_sidechain_core_ref))\n",
    "        \n",
    "    for i in range(6):\n",
    "        try:\n",
    "            ff_mcs.Minimize()\n",
    "        except:\n",
    "            pass\n",
    "\n",
    "#    for i, j in zip(refmol.GetSubstructMatch(mcs.queryMol), inpmol.GetSubstructMatch(mcs.queryMol)):\n",
    "#        ff_mcs.AddFixedPoint(j)\n",
    "#        conf_res.SetAtomPosition(j, bonded_conf.GetAtomPosition(i))\n",
    "#    for i in range(10):\n",
    "#        try:\n",
    "#            ff_mcs.Minimize()\n",
    "#        except:\n",
    "#            pass\n",
    "    Chem.MolToPDBFile(inpmol, pdbfile)\n",
    "    return inpmol"
   ]
  },
  {
   "cell_type": "code",
   "execution_count": 7,
   "metadata": {},
   "outputs": [],
   "source": [
    "def phe2bch_topdb_test(smi0,refpdb,name):\n",
    "    mol = phe2bch_test(smi0)\n",
    "    smi = Chem.MolToSmiles(mol)\n",
    "    mol = Chem.MolFromSmiles(smi)\n",
    "    mol = Chem.AddHs(mol)\n",
    "    AllChem.EmbedMolecule(mol)\n",
    "    mol = Chem.RemoveAllHs(mol)\n",
    "\n",
    "    structure_from_pdb = Chem.MolFromPDBBlock(refpdb)\n",
    "    structure_from_pdb = Chem.RemoveAllHs(structure_from_pdb)\n",
    "    mol_tem = Chem.MolFromSmiles(smi0)\n",
    "    structure_refine = AllChem.AssignBondOrdersFromTemplate(mol_tem,structure_from_pdb)\n",
    "    return getpdb_test(structure_refine,mol,f\"{name}\")"
   ]
  },
  {
   "cell_type": "code",
   "execution_count": 142,
   "metadata": {},
   "outputs": [
    {
     "name": "stderr",
     "output_type": "stream",
     "text": [
      "[16:46:58] WARNING: More than one matching pattern found - picking one\n",
      "\n",
      "[16:46:58] Molecule does not have explicit Hs. Consider calling AddHs()\n"
     ]
    },
    {
     "data": {
      "application/3dmoljs_load.v0": "<div id=\"3dmolviewer_16681564186305423\"  style=\"position: relative; width: 400px; height: 400px\">\n        <p id=\"3dmolwarning_16681564186305423\" style=\"background-color:#ffcccc;color:black\">You appear to be running in JupyterLab (or JavaScript failed to load for some other reason).  You need to install the 3dmol extension: <br>\n        <tt>jupyter labextension install jupyterlab_3dmol</tt></p>\n        </div>\n<script>\n\nvar loadScriptAsync = function(uri){\n  return new Promise((resolve, reject) => {\n    var tag = document.createElement('script');\n    tag.src = uri;\n    tag.async = true;\n    tag.onload = () => {\n      resolve();\n    };\n  var firstScriptTag = document.getElementsByTagName('script')[0];\n  firstScriptTag.parentNode.insertBefore(tag, firstScriptTag);\n});\n};\n\nif(typeof $3Dmolpromise === 'undefined') {\n$3Dmolpromise = null;\n  $3Dmolpromise = loadScriptAsync('https://3dmol.csb.pitt.edu/build/3Dmol.js');\n}\n\nvar viewer_16681564186305423 = null;\nvar warn = document.getElementById(\"3dmolwarning_16681564186305423\");\nif(warn) {\n    warn.parentNode.removeChild(warn);\n}\n$3Dmolpromise.then(function() {\nviewer_16681564186305423 = $3Dmol.createViewer($(\"#3dmolviewer_16681564186305423\"),{backgroundColor:\"white\"});\n\tviewer_16681564186305423.removeAllModels();\n\tviewer_16681564186305423.addModel(\"\\n     RDKit          3D\\n\\n 24 28  0  0  0  0  0  0  0  0999 V2000\\n   85.9630   47.8680   30.5060 C   0  0  0  0  0  0  0  0  0  0  0  0\\n   86.5030   48.7710   31.4040 C   0  0  0  0  0  0  0  0  0  0  0  0\\n   86.4040   48.7390   32.7420 N   0  0  0  0  0  0  0  0  0  0  0  0\\n   87.0210   49.7290   33.3880 C   0  0  0  0  0  0  0  0  0  0  0  0\\n   87.0450   49.8870   34.7010 N   0  0  0  0  0  0  0  0  0  0  0  0\\n   87.7510   50.7480   32.3130 S   0  0  0  0  0  0  0  0  0  0  0  0\\n   87.2580   49.8770   30.9620 C   0  0  0  0  0  0  0  0  0  0  0  0\\n   87.6000   50.2660   29.6590 C   0  0  0  0  0  0  0  0  0  0  0  0\\n   87.1530   49.6060   28.5170 C   0  0  0  0  0  0  0  0  0  0  0  0\\n   87.5540   50.0730   27.2780 C   0  0  0  0  0  0  0  0  0  0  0  0\\n   88.3440   51.1230   27.2000 N   0  0  0  0  0  0  0  0  0  0  0  0\\n   88.7880   51.7560   28.2990 C   0  0  0  0  0  0  0  0  0  0  0  0\\n   89.5850   52.8230   28.1410 N   0  0  0  0  0  0  0  0  0  0  0  0\\n   90.4390   53.3940   29.0010 C   0  0  0  0  0  0  0  0  0  0  0  0\\n   91.7614   53.7802   28.3736 C   0  0  0  0  0  0  0  0  0  0  0  0\\n   92.4875   54.8493   29.1879 C   0  0  0  0  0  0  0  0  0  0  0  0\\n   92.4192   54.7099   30.7077 C   0  0  0  0  0  0  0  0  0  0  0  0\\n   91.0520   54.2600   31.1620 C   0  0  0  0  0  0  0  0  0  0  0  0\\n   90.7460   54.4730   32.4270 N   0  0  0  0  0  0  0  0  0  0  0  0\\n   91.1030   54.3660   33.7370 O   0  0  0  0  0  0  0  0  0  0  0  0\\n   89.8650   54.9440   33.3580 O   0  0  0  0  0  0  0  0  0  0  0  0\\n   89.8733   54.5803   30.0406 C   0  0  0  0  0  0  0  0  0  0  0  0\\n   90.7277   52.7766   30.5311 C   0  0  0  0  0  0  0  0  0  0  0  0\\n   88.4070   51.3300   29.5100 N   0  0  0  0  0  0  0  0  0  0  0  0\\n  1  2  1  0\\n  2  3  1  0\\n  3  4  2  0\\n  4  5  1  0\\n  4  6  1  0\\n  6  7  1  0\\n  7  8  1  0\\n  8  9  2  0\\n  9 10  1  0\\n 10 11  2  0\\n 11 12  1  0\\n 12 13  1  0\\n 13 14  1  0\\n 14 15  1  0\\n 15 16  1  0\\n 16 17  1  0\\n 17 18  1  0\\n 18 19  1  0\\n 19 20  1  0\\n 20 21  1  0\\n 18 22  1  0\\n 18 23  1  0\\n 12 24  2  0\\n  7  2  2  0\\n 24  8  1  0\\n 22 14  1  0\\n 23 14  1  0\\n 21 19  1  0\\nM  END\\n\",\"sdf\");\n\tviewer_16681564186305423.setStyle({\"stick\": {}});\n\tviewer_16681564186305423.setBackgroundColor(\"0xeeeeee\");\n\tviewer_16681564186305423.zoomTo();\nviewer_16681564186305423.render();\n});\n</script>",
      "text/html": [
       "<div id=\"3dmolviewer_16681564186305423\"  style=\"position: relative; width: 400px; height: 400px\">\n",
       "        <p id=\"3dmolwarning_16681564186305423\" style=\"background-color:#ffcccc;color:black\">You appear to be running in JupyterLab (or JavaScript failed to load for some other reason).  You need to install the 3dmol extension: <br>\n",
       "        <tt>jupyter labextension install jupyterlab_3dmol</tt></p>\n",
       "        </div>\n",
       "<script>\n",
       "\n",
       "var loadScriptAsync = function(uri){\n",
       "  return new Promise((resolve, reject) => {\n",
       "    var tag = document.createElement('script');\n",
       "    tag.src = uri;\n",
       "    tag.async = true;\n",
       "    tag.onload = () => {\n",
       "      resolve();\n",
       "    };\n",
       "  var firstScriptTag = document.getElementsByTagName('script')[0];\n",
       "  firstScriptTag.parentNode.insertBefore(tag, firstScriptTag);\n",
       "});\n",
       "};\n",
       "\n",
       "if(typeof $3Dmolpromise === 'undefined') {\n",
       "$3Dmolpromise = null;\n",
       "  $3Dmolpromise = loadScriptAsync('https://3dmol.csb.pitt.edu/build/3Dmol.js');\n",
       "}\n",
       "\n",
       "var viewer_16681564186305423 = null;\n",
       "var warn = document.getElementById(\"3dmolwarning_16681564186305423\");\n",
       "if(warn) {\n",
       "    warn.parentNode.removeChild(warn);\n",
       "}\n",
       "$3Dmolpromise.then(function() {\n",
       "viewer_16681564186305423 = $3Dmol.createViewer($(\"#3dmolviewer_16681564186305423\"),{backgroundColor:\"white\"});\n",
       "\tviewer_16681564186305423.removeAllModels();\n",
       "\tviewer_16681564186305423.addModel(\"\\n     RDKit          3D\\n\\n 24 28  0  0  0  0  0  0  0  0999 V2000\\n   85.9630   47.8680   30.5060 C   0  0  0  0  0  0  0  0  0  0  0  0\\n   86.5030   48.7710   31.4040 C   0  0  0  0  0  0  0  0  0  0  0  0\\n   86.4040   48.7390   32.7420 N   0  0  0  0  0  0  0  0  0  0  0  0\\n   87.0210   49.7290   33.3880 C   0  0  0  0  0  0  0  0  0  0  0  0\\n   87.0450   49.8870   34.7010 N   0  0  0  0  0  0  0  0  0  0  0  0\\n   87.7510   50.7480   32.3130 S   0  0  0  0  0  0  0  0  0  0  0  0\\n   87.2580   49.8770   30.9620 C   0  0  0  0  0  0  0  0  0  0  0  0\\n   87.6000   50.2660   29.6590 C   0  0  0  0  0  0  0  0  0  0  0  0\\n   87.1530   49.6060   28.5170 C   0  0  0  0  0  0  0  0  0  0  0  0\\n   87.5540   50.0730   27.2780 C   0  0  0  0  0  0  0  0  0  0  0  0\\n   88.3440   51.1230   27.2000 N   0  0  0  0  0  0  0  0  0  0  0  0\\n   88.7880   51.7560   28.2990 C   0  0  0  0  0  0  0  0  0  0  0  0\\n   89.5850   52.8230   28.1410 N   0  0  0  0  0  0  0  0  0  0  0  0\\n   90.4390   53.3940   29.0010 C   0  0  0  0  0  0  0  0  0  0  0  0\\n   91.7614   53.7802   28.3736 C   0  0  0  0  0  0  0  0  0  0  0  0\\n   92.4875   54.8493   29.1879 C   0  0  0  0  0  0  0  0  0  0  0  0\\n   92.4192   54.7099   30.7077 C   0  0  0  0  0  0  0  0  0  0  0  0\\n   91.0520   54.2600   31.1620 C   0  0  0  0  0  0  0  0  0  0  0  0\\n   90.7460   54.4730   32.4270 N   0  0  0  0  0  0  0  0  0  0  0  0\\n   91.1030   54.3660   33.7370 O   0  0  0  0  0  0  0  0  0  0  0  0\\n   89.8650   54.9440   33.3580 O   0  0  0  0  0  0  0  0  0  0  0  0\\n   89.8733   54.5803   30.0406 C   0  0  0  0  0  0  0  0  0  0  0  0\\n   90.7277   52.7766   30.5311 C   0  0  0  0  0  0  0  0  0  0  0  0\\n   88.4070   51.3300   29.5100 N   0  0  0  0  0  0  0  0  0  0  0  0\\n  1  2  1  0\\n  2  3  1  0\\n  3  4  2  0\\n  4  5  1  0\\n  4  6  1  0\\n  6  7  1  0\\n  7  8  1  0\\n  8  9  2  0\\n  9 10  1  0\\n 10 11  2  0\\n 11 12  1  0\\n 12 13  1  0\\n 13 14  1  0\\n 14 15  1  0\\n 15 16  1  0\\n 16 17  1  0\\n 17 18  1  0\\n 18 19  1  0\\n 19 20  1  0\\n 20 21  1  0\\n 18 22  1  0\\n 18 23  1  0\\n 12 24  2  0\\n  7  2  2  0\\n 24  8  1  0\\n 22 14  1  0\\n 23 14  1  0\\n 21 19  1  0\\nM  END\\n\",\"sdf\");\n",
       "\tviewer_16681564186305423.setStyle({\"stick\": {}});\n",
       "\tviewer_16681564186305423.setBackgroundColor(\"0xeeeeee\");\n",
       "\tviewer_16681564186305423.zoomTo();\n",
       "viewer_16681564186305423.render();\n",
       "});\n",
       "</script>"
      ]
     },
     "metadata": {},
     "output_type": "display_data"
    }
   ],
   "source": [
    "key='16X'\n",
    "pdbid='2x4f'\n",
    "lig_smi=\"Cc1c(sc(n1)N)c2ccnc(n2)Nc3cccc(c3)n4oo4\"\n",
    "pdb_file_path=f\"/home/chengyj/kinase_work/dataset/Bridged_ring/PDB_rings/lig_in_pdb/pdb_dataset/pdb/pdb{pdbid}.ent\"\n",
    "lig_Block = pdb_2_lig_block(pdb_file_path,key)\n",
    "test = phe2bch_topdb_test(lig_smi,lig_Block,f\"{key}_{pdbid}.pdb\")\n",
    "drawit(test)"
   ]
  },
  {
   "cell_type": "code",
   "execution_count": 143,
   "metadata": {},
   "outputs": [
    {
     "name": "stderr",
     "output_type": "stream",
     "text": [
      "[16:47:01] Molecule does not have explicit Hs. Consider calling AddHs()\n"
     ]
    },
    {
     "data": {
      "application/3dmoljs_load.v0": "<div id=\"3dmolviewer_16681564212812836\"  style=\"position: relative; width: 400px; height: 400px\">\n        <p id=\"3dmolwarning_16681564212812836\" style=\"background-color:#ffcccc;color:black\">You appear to be running in JupyterLab (or JavaScript failed to load for some other reason).  You need to install the 3dmol extension: <br>\n        <tt>jupyter labextension install jupyterlab_3dmol</tt></p>\n        </div>\n<script>\n\nvar loadScriptAsync = function(uri){\n  return new Promise((resolve, reject) => {\n    var tag = document.createElement('script');\n    tag.src = uri;\n    tag.async = true;\n    tag.onload = () => {\n      resolve();\n    };\n  var firstScriptTag = document.getElementsByTagName('script')[0];\n  firstScriptTag.parentNode.insertBefore(tag, firstScriptTag);\n});\n};\n\nif(typeof $3Dmolpromise === 'undefined') {\n$3Dmolpromise = null;\n  $3Dmolpromise = loadScriptAsync('https://3dmol.csb.pitt.edu/build/3Dmol.js');\n}\n\nvar viewer_16681564212812836 = null;\nvar warn = document.getElementById(\"3dmolwarning_16681564212812836\");\nif(warn) {\n    warn.parentNode.removeChild(warn);\n}\n$3Dmolpromise.then(function() {\nviewer_16681564212812836 = $3Dmol.createViewer($(\"#3dmolviewer_16681564212812836\"),{backgroundColor:\"white\"});\n\tviewer_16681564212812836.removeAllModels();\n\tviewer_16681564212812836.addModel(\"\\n     RDKit          3D\\n\\n 27 31  0  0  0  0  0  0  0  0999 V2000\\n  -21.3380  -43.3460   -4.0910 C   0  0  0  0  0  0  0  0  0  0  0  0\\n  -21.1810  -42.1640   -3.2940 O   0  0  0  0  0  0  0  0  0  0  0  0\\n  -20.6420  -40.9900   -3.7890 C   0  0  0  0  0  0  0  0  0  0  0  0\\n  -20.1000  -40.0390   -2.9260 C   0  0  0  0  0  0  0  0  0  0  0  0\\n  -19.5410  -38.8580   -3.4200 C   0  0  0  0  0  0  0  0  0  0  0  0\\n  -19.5490  -38.6110   -4.7940 C   0  0  0  0  0  0  0  0  0  0  0  0\\n  -20.0920  -39.5630   -5.6630 C   0  0  0  0  0  0  0  0  0  0  0  0\\n  -20.1290  -39.3320   -7.1310 C   0  0  0  0  0  0  0  0  0  0  0  0\\n  -21.5481  -39.1073   -7.6407 C   0  0  0  0  0  0  0  0  0  0  0  0\\n  -21.6051  -39.0971   -9.1571 C   0  0  0  0  0  0  0  0  0  0  0  0\\n  -20.5805  -38.1862   -9.8109 C   0  0  0  0  0  0  0  0  0  0  0  0\\n  -19.1790  -38.3200   -9.1240 C   0  0  0  0  0  0  0  0  0  0  0  0\\n  -17.5800  -37.9910  -11.0690 C   0  0  1  0  0  0  0  0  0  0  0  0\\n  -18.1540  -37.4340   -9.7690 C   0  0  0  0  0  0  0  0  0  0  0  0\\n  -16.6700  -37.8580   -9.8340 C   0  0  1  0  0  0  0  0  0  0  0  0\\n  -16.2780  -39.2020   -9.3200 C   0  0  0  0  0  0  0  0  0  0  0  0\\n  -16.2890  -40.3040  -10.1980 C   0  0  0  0  0  0  0  0  0  0  0  0\\n  -15.9080  -41.5710   -9.7390 C   0  0  0  0  0  0  0  0  0  0  0  0\\n  -15.9190  -42.5680  -10.5060 O   0  0  0  0  0  0  0  0  0  0  0  0\\n  -15.5030  -41.7340   -8.3890 N   0  0  0  0  0  0  0  0  0  0  0  0\\n  -15.1220  -43.0760   -7.9240 C   0  0  0  0  0  0  0  0  0  0  0  0\\n  -15.4950  -40.5980   -7.5260 C   0  0  0  0  0  0  0  0  0  0  0  0\\n  -15.1090  -40.7460   -6.2170 N   0  0  0  0  0  0  0  0  0  0  0  0\\n  -15.8760  -39.3700   -8.0190 N   0  0  0  0  0  0  0  0  0  0  0  0\\n  -19.1735  -37.8995   -7.5712 C   0  0  0  0  0  0  0  0  0  0  0  0\\n  -19.1130  -39.8582   -8.3487 C   0  0  0  0  0  0  0  0  0  0  0  0\\n  -20.6380  -40.7370   -5.1580 C   0  0  0  0  0  0  0  0  0  0  0  0\\n  1  2  1  0\\n  2  3  1  0\\n  3  4  2  0\\n  4  5  1  0\\n  5  6  2  0\\n  6  7  1  0\\n  7  8  1  0\\n  8  9  1  0\\n  9 10  1  0\\n 10 11  1  0\\n 11 12  1  0\\n 12 13  1  0\\n 13 14  1  1\\n 14 15  1  0\\n 15 16  1  6\\n 16 17  2  0\\n 17 18  1  0\\n 18 19  2  0\\n 18 20  1  0\\n 20 21  1  0\\n 20 22  1  0\\n 22 23  1  0\\n 22 24  2  0\\n 12 25  1  0\\n 12 26  1  0\\n  7 27  2  0\\n 27  3  1  0\\n 25  8  1  0\\n 26  8  1  0\\n 15 13  1  0\\n 24 16  1  0\\nM  END\\n\",\"sdf\");\n\tviewer_16681564212812836.setStyle({\"stick\": {}});\n\tviewer_16681564212812836.setBackgroundColor(\"0xeeeeee\");\n\tviewer_16681564212812836.zoomTo();\nviewer_16681564212812836.render();\n});\n</script>",
      "text/html": [
       "<div id=\"3dmolviewer_16681564212812836\"  style=\"position: relative; width: 400px; height: 400px\">\n",
       "        <p id=\"3dmolwarning_16681564212812836\" style=\"background-color:#ffcccc;color:black\">You appear to be running in JupyterLab (or JavaScript failed to load for some other reason).  You need to install the 3dmol extension: <br>\n",
       "        <tt>jupyter labextension install jupyterlab_3dmol</tt></p>\n",
       "        </div>\n",
       "<script>\n",
       "\n",
       "var loadScriptAsync = function(uri){\n",
       "  return new Promise((resolve, reject) => {\n",
       "    var tag = document.createElement('script');\n",
       "    tag.src = uri;\n",
       "    tag.async = true;\n",
       "    tag.onload = () => {\n",
       "      resolve();\n",
       "    };\n",
       "  var firstScriptTag = document.getElementsByTagName('script')[0];\n",
       "  firstScriptTag.parentNode.insertBefore(tag, firstScriptTag);\n",
       "});\n",
       "};\n",
       "\n",
       "if(typeof $3Dmolpromise === 'undefined') {\n",
       "$3Dmolpromise = null;\n",
       "  $3Dmolpromise = loadScriptAsync('https://3dmol.csb.pitt.edu/build/3Dmol.js');\n",
       "}\n",
       "\n",
       "var viewer_16681564212812836 = null;\n",
       "var warn = document.getElementById(\"3dmolwarning_16681564212812836\");\n",
       "if(warn) {\n",
       "    warn.parentNode.removeChild(warn);\n",
       "}\n",
       "$3Dmolpromise.then(function() {\n",
       "viewer_16681564212812836 = $3Dmol.createViewer($(\"#3dmolviewer_16681564212812836\"),{backgroundColor:\"white\"});\n",
       "\tviewer_16681564212812836.removeAllModels();\n",
       "\tviewer_16681564212812836.addModel(\"\\n     RDKit          3D\\n\\n 27 31  0  0  0  0  0  0  0  0999 V2000\\n  -21.3380  -43.3460   -4.0910 C   0  0  0  0  0  0  0  0  0  0  0  0\\n  -21.1810  -42.1640   -3.2940 O   0  0  0  0  0  0  0  0  0  0  0  0\\n  -20.6420  -40.9900   -3.7890 C   0  0  0  0  0  0  0  0  0  0  0  0\\n  -20.1000  -40.0390   -2.9260 C   0  0  0  0  0  0  0  0  0  0  0  0\\n  -19.5410  -38.8580   -3.4200 C   0  0  0  0  0  0  0  0  0  0  0  0\\n  -19.5490  -38.6110   -4.7940 C   0  0  0  0  0  0  0  0  0  0  0  0\\n  -20.0920  -39.5630   -5.6630 C   0  0  0  0  0  0  0  0  0  0  0  0\\n  -20.1290  -39.3320   -7.1310 C   0  0  0  0  0  0  0  0  0  0  0  0\\n  -21.5481  -39.1073   -7.6407 C   0  0  0  0  0  0  0  0  0  0  0  0\\n  -21.6051  -39.0971   -9.1571 C   0  0  0  0  0  0  0  0  0  0  0  0\\n  -20.5805  -38.1862   -9.8109 C   0  0  0  0  0  0  0  0  0  0  0  0\\n  -19.1790  -38.3200   -9.1240 C   0  0  0  0  0  0  0  0  0  0  0  0\\n  -17.5800  -37.9910  -11.0690 C   0  0  1  0  0  0  0  0  0  0  0  0\\n  -18.1540  -37.4340   -9.7690 C   0  0  0  0  0  0  0  0  0  0  0  0\\n  -16.6700  -37.8580   -9.8340 C   0  0  1  0  0  0  0  0  0  0  0  0\\n  -16.2780  -39.2020   -9.3200 C   0  0  0  0  0  0  0  0  0  0  0  0\\n  -16.2890  -40.3040  -10.1980 C   0  0  0  0  0  0  0  0  0  0  0  0\\n  -15.9080  -41.5710   -9.7390 C   0  0  0  0  0  0  0  0  0  0  0  0\\n  -15.9190  -42.5680  -10.5060 O   0  0  0  0  0  0  0  0  0  0  0  0\\n  -15.5030  -41.7340   -8.3890 N   0  0  0  0  0  0  0  0  0  0  0  0\\n  -15.1220  -43.0760   -7.9240 C   0  0  0  0  0  0  0  0  0  0  0  0\\n  -15.4950  -40.5980   -7.5260 C   0  0  0  0  0  0  0  0  0  0  0  0\\n  -15.1090  -40.7460   -6.2170 N   0  0  0  0  0  0  0  0  0  0  0  0\\n  -15.8760  -39.3700   -8.0190 N   0  0  0  0  0  0  0  0  0  0  0  0\\n  -19.1735  -37.8995   -7.5712 C   0  0  0  0  0  0  0  0  0  0  0  0\\n  -19.1130  -39.8582   -8.3487 C   0  0  0  0  0  0  0  0  0  0  0  0\\n  -20.6380  -40.7370   -5.1580 C   0  0  0  0  0  0  0  0  0  0  0  0\\n  1  2  1  0\\n  2  3  1  0\\n  3  4  2  0\\n  4  5  1  0\\n  5  6  2  0\\n  6  7  1  0\\n  7  8  1  0\\n  8  9  1  0\\n  9 10  1  0\\n 10 11  1  0\\n 11 12  1  0\\n 12 13  1  0\\n 13 14  1  1\\n 14 15  1  0\\n 15 16  1  6\\n 16 17  2  0\\n 17 18  1  0\\n 18 19  2  0\\n 18 20  1  0\\n 20 21  1  0\\n 20 22  1  0\\n 22 23  1  0\\n 22 24  2  0\\n 12 25  1  0\\n 12 26  1  0\\n  7 27  2  0\\n 27  3  1  0\\n 25  8  1  0\\n 26  8  1  0\\n 15 13  1  0\\n 24 16  1  0\\nM  END\\n\",\"sdf\");\n",
       "\tviewer_16681564212812836.setStyle({\"stick\": {}});\n",
       "\tviewer_16681564212812836.setBackgroundColor(\"0xeeeeee\");\n",
       "\tviewer_16681564212812836.zoomTo();\n",
       "viewer_16681564212812836.render();\n",
       "});\n",
       "</script>"
      ]
     },
     "metadata": {},
     "output_type": "display_data"
    }
   ],
   "source": [
    "key='0B1'\n",
    "pdbid='3vv7'\n",
    "lig_smi=\"CN1C(=O)C=C(N=C1N)[C@H]2C[C@H]2c3cccc(c3)c4cccc(c4)OC\"\n",
    "pdb_file_path=f\"/home/chengyj/kinase_work/dataset/Bridged_ring/PDB_rings/lig_in_pdb/pdb_dataset/pdb/pdb{pdbid}.ent\"\n",
    "lig_Block = pdb_2_lig_block(pdb_file_path,key)\n",
    "test = phe2bch_topdb_test(lig_smi,lig_Block,f\"{key}_{pdbid}.pdb\")\n",
    "drawit(test)"
   ]
  },
  {
   "cell_type": "code",
   "execution_count": 32,
   "metadata": {},
   "outputs": [
    {
     "data": {
      "application/3dmoljs_load.v0": "<div id=\"3dmolviewer_1668150432030089\"  style=\"position: relative; width: 400px; height: 400px\">\n        <p id=\"3dmolwarning_1668150432030089\" style=\"background-color:#ffcccc;color:black\">You appear to be running in JupyterLab (or JavaScript failed to load for some other reason).  You need to install the 3dmol extension: <br>\n        <tt>jupyter labextension install jupyterlab_3dmol</tt></p>\n        </div>\n<script>\n\nvar loadScriptAsync = function(uri){\n  return new Promise((resolve, reject) => {\n    var tag = document.createElement('script');\n    tag.src = uri;\n    tag.async = true;\n    tag.onload = () => {\n      resolve();\n    };\n  var firstScriptTag = document.getElementsByTagName('script')[0];\n  firstScriptTag.parentNode.insertBefore(tag, firstScriptTag);\n});\n};\n\nif(typeof $3Dmolpromise === 'undefined') {\n$3Dmolpromise = null;\n  $3Dmolpromise = loadScriptAsync('https://3dmol.csb.pitt.edu/build/3Dmol.js');\n}\n\nvar viewer_1668150432030089 = null;\nvar warn = document.getElementById(\"3dmolwarning_1668150432030089\");\nif(warn) {\n    warn.parentNode.removeChild(warn);\n}\n$3Dmolpromise.then(function() {\nviewer_1668150432030089 = $3Dmol.createViewer($(\"#3dmolviewer_1668150432030089\"),{backgroundColor:\"white\"});\n\tviewer_1668150432030089.removeAllModels();\n\tviewer_1668150432030089.addModel(\"\\n     RDKit          3D\\n\\n 27 31  0  0  0  0  0  0  0  0999 V2000\\n    5.7757    3.7342    0.2593 C   0  0  0  0  0  0  0  0  0  0  0  0\\n    4.7439    2.8580    0.6394 O   0  0  0  0  0  0  0  0  0  0  0  0\\n    4.4396    1.7184   -0.0958 C   0  0  0  0  0  0  0  0  0  0  0  0\\n    5.1773    1.4767   -1.2193 C   0  0  0  0  0  0  0  0  0  0  0  0\\n    4.9243    0.3538   -1.9963 C   0  0  0  0  0  0  0  0  0  0  0  0\\n    3.9277   -0.5028   -1.6212 C   0  0  0  0  0  0  0  0  0  0  0  0\\n    3.1535   -0.2888   -0.4796 C   0  0  0  0  0  0  0  0  0  0  0  0\\n    2.1423   -1.2508   -0.1141 C   0  0  0  0  0  0  0  0  0  0  0  0\\n    2.6912   -2.6260    0.2558 C   0  0  0  0  0  0  0  0  0  0  0  0\\n    1.6920   -3.3614    1.0902 C   0  0  0  0  0  0  0  0  0  0  0  0\\n    0.2776   -3.0793    0.6737 C   0  0  0  0  0  0  0  0  0  0  0  0\\n    0.1235   -1.6751    0.1063 C   0  0  0  0  0  0  0  0  0  0  0  0\\n   -1.2949   -1.2699   -0.0203 C   0  0  1  0  0  0  0  0  0  0  0  0\\n   -2.0932   -1.2464    1.2322 C   0  0  0  0  0  0  0  0  0  0  0  0\\n   -1.8770    0.0090    0.3500 C   0  0  2  0  0  0  0  0  0  0  0  0\\n   -3.1853    0.5033   -0.1440 C   0  0  0  0  0  0  0  0  0  0  0  0\\n   -4.1137    0.9154    0.8094 C   0  0  0  0  0  0  0  0  0  0  0  0\\n   -5.3576    1.3899    0.4612 C   0  0  0  0  0  0  0  0  0  0  0  0\\n   -6.2225    1.7695    1.2912 O   0  0  0  0  0  0  0  0  0  0  0  0\\n   -5.6885    1.4590   -0.8420 N   0  0  0  0  0  0  0  0  0  0  0  0\\n   -6.9998    1.9510   -1.2585 C   0  0  0  0  0  0  0  0  0  0  0  0\\n   -4.7957    1.0624   -1.7719 C   0  0  0  0  0  0  0  0  0  0  0  0\\n   -5.1733    1.1538   -3.1400 N   0  0  0  0  0  0  0  0  0  0  0  0\\n   -3.5532    0.5880   -1.4266 N   0  0  0  0  0  0  0  0  0  0  0  0\\n    1.0768   -0.7726    0.8396 C   0  0  0  0  0  0  0  0  0  0  0  0\\n    1.0173   -1.4809   -1.1058 C   0  0  0  0  0  0  0  0  0  0  0  0\\n    3.4205    0.8273    0.2718 C   0  0  0  0  0  0  0  0  0  0  0  0\\n  1  2  1  0\\n  2  3  1  0\\n  3  4  2  0\\n  4  5  1  0\\n  5  6  2  0\\n  6  7  1  0\\n  7  8  1  0\\n  8  9  1  0\\n  9 10  1  0\\n 10 11  1  0\\n 11 12  1  0\\n 12 13  1  0\\n 13 14  1  1\\n 14 15  1  0\\n 15 16  1  6\\n 16 17  2  0\\n 17 18  1  0\\n 18 19  2  0\\n 18 20  1  0\\n 20 21  1  0\\n 20 22  1  0\\n 22 23  1  0\\n 22 24  2  0\\n 12 25  1  0\\n 12 26  1  0\\n  7 27  2  0\\n 27  3  1  0\\n 25  8  1  0\\n 26  8  1  0\\n 15 13  1  0\\n 24 16  1  0\\nM  END\\n\",\"sdf\");\n\tviewer_1668150432030089.setStyle({\"stick\": {}});\n\tviewer_1668150432030089.setBackgroundColor(\"0xeeeeee\");\n\tviewer_1668150432030089.zoomTo();\nviewer_1668150432030089.render();\n});\n</script>",
      "text/html": [
       "<div id=\"3dmolviewer_1668150432030089\"  style=\"position: relative; width: 400px; height: 400px\">\n",
       "        <p id=\"3dmolwarning_1668150432030089\" style=\"background-color:#ffcccc;color:black\">You appear to be running in JupyterLab (or JavaScript failed to load for some other reason).  You need to install the 3dmol extension: <br>\n",
       "        <tt>jupyter labextension install jupyterlab_3dmol</tt></p>\n",
       "        </div>\n",
       "<script>\n",
       "\n",
       "var loadScriptAsync = function(uri){\n",
       "  return new Promise((resolve, reject) => {\n",
       "    var tag = document.createElement('script');\n",
       "    tag.src = uri;\n",
       "    tag.async = true;\n",
       "    tag.onload = () => {\n",
       "      resolve();\n",
       "    };\n",
       "  var firstScriptTag = document.getElementsByTagName('script')[0];\n",
       "  firstScriptTag.parentNode.insertBefore(tag, firstScriptTag);\n",
       "});\n",
       "};\n",
       "\n",
       "if(typeof $3Dmolpromise === 'undefined') {\n",
       "$3Dmolpromise = null;\n",
       "  $3Dmolpromise = loadScriptAsync('https://3dmol.csb.pitt.edu/build/3Dmol.js');\n",
       "}\n",
       "\n",
       "var viewer_1668150432030089 = null;\n",
       "var warn = document.getElementById(\"3dmolwarning_1668150432030089\");\n",
       "if(warn) {\n",
       "    warn.parentNode.removeChild(warn);\n",
       "}\n",
       "$3Dmolpromise.then(function() {\n",
       "viewer_1668150432030089 = $3Dmol.createViewer($(\"#3dmolviewer_1668150432030089\"),{backgroundColor:\"white\"});\n",
       "\tviewer_1668150432030089.removeAllModels();\n",
       "\tviewer_1668150432030089.addModel(\"\\n     RDKit          3D\\n\\n 27 31  0  0  0  0  0  0  0  0999 V2000\\n    5.7757    3.7342    0.2593 C   0  0  0  0  0  0  0  0  0  0  0  0\\n    4.7439    2.8580    0.6394 O   0  0  0  0  0  0  0  0  0  0  0  0\\n    4.4396    1.7184   -0.0958 C   0  0  0  0  0  0  0  0  0  0  0  0\\n    5.1773    1.4767   -1.2193 C   0  0  0  0  0  0  0  0  0  0  0  0\\n    4.9243    0.3538   -1.9963 C   0  0  0  0  0  0  0  0  0  0  0  0\\n    3.9277   -0.5028   -1.6212 C   0  0  0  0  0  0  0  0  0  0  0  0\\n    3.1535   -0.2888   -0.4796 C   0  0  0  0  0  0  0  0  0  0  0  0\\n    2.1423   -1.2508   -0.1141 C   0  0  0  0  0  0  0  0  0  0  0  0\\n    2.6912   -2.6260    0.2558 C   0  0  0  0  0  0  0  0  0  0  0  0\\n    1.6920   -3.3614    1.0902 C   0  0  0  0  0  0  0  0  0  0  0  0\\n    0.2776   -3.0793    0.6737 C   0  0  0  0  0  0  0  0  0  0  0  0\\n    0.1235   -1.6751    0.1063 C   0  0  0  0  0  0  0  0  0  0  0  0\\n   -1.2949   -1.2699   -0.0203 C   0  0  1  0  0  0  0  0  0  0  0  0\\n   -2.0932   -1.2464    1.2322 C   0  0  0  0  0  0  0  0  0  0  0  0\\n   -1.8770    0.0090    0.3500 C   0  0  2  0  0  0  0  0  0  0  0  0\\n   -3.1853    0.5033   -0.1440 C   0  0  0  0  0  0  0  0  0  0  0  0\\n   -4.1137    0.9154    0.8094 C   0  0  0  0  0  0  0  0  0  0  0  0\\n   -5.3576    1.3899    0.4612 C   0  0  0  0  0  0  0  0  0  0  0  0\\n   -6.2225    1.7695    1.2912 O   0  0  0  0  0  0  0  0  0  0  0  0\\n   -5.6885    1.4590   -0.8420 N   0  0  0  0  0  0  0  0  0  0  0  0\\n   -6.9998    1.9510   -1.2585 C   0  0  0  0  0  0  0  0  0  0  0  0\\n   -4.7957    1.0624   -1.7719 C   0  0  0  0  0  0  0  0  0  0  0  0\\n   -5.1733    1.1538   -3.1400 N   0  0  0  0  0  0  0  0  0  0  0  0\\n   -3.5532    0.5880   -1.4266 N   0  0  0  0  0  0  0  0  0  0  0  0\\n    1.0768   -0.7726    0.8396 C   0  0  0  0  0  0  0  0  0  0  0  0\\n    1.0173   -1.4809   -1.1058 C   0  0  0  0  0  0  0  0  0  0  0  0\\n    3.4205    0.8273    0.2718 C   0  0  0  0  0  0  0  0  0  0  0  0\\n  1  2  1  0\\n  2  3  1  0\\n  3  4  2  0\\n  4  5  1  0\\n  5  6  2  0\\n  6  7  1  0\\n  7  8  1  0\\n  8  9  1  0\\n  9 10  1  0\\n 10 11  1  0\\n 11 12  1  0\\n 12 13  1  0\\n 13 14  1  1\\n 14 15  1  0\\n 15 16  1  6\\n 16 17  2  0\\n 17 18  1  0\\n 18 19  2  0\\n 18 20  1  0\\n 20 21  1  0\\n 20 22  1  0\\n 22 23  1  0\\n 22 24  2  0\\n 12 25  1  0\\n 12 26  1  0\\n  7 27  2  0\\n 27  3  1  0\\n 25  8  1  0\\n 26  8  1  0\\n 15 13  1  0\\n 24 16  1  0\\nM  END\\n\",\"sdf\");\n",
       "\tviewer_1668150432030089.setStyle({\"stick\": {}});\n",
       "\tviewer_1668150432030089.setBackgroundColor(\"0xeeeeee\");\n",
       "\tviewer_1668150432030089.zoomTo();\n",
       "viewer_1668150432030089.render();\n",
       "});\n",
       "</script>"
      ]
     },
     "metadata": {},
     "output_type": "display_data"
    }
   ],
   "source": [
    "smi0,refpdb,name = lig_smi,lig_Block,f\"{key}_{pdbid}.pdb\"\n",
    "mol = phe2bch_test(smi0)\n",
    "smi = Chem.MolToSmiles(mol)\n",
    "mol = Chem.MolFromSmiles(smi)\n",
    "mol = Chem.AddHs(mol)\n",
    "AllChem.EmbedMolecule(mol)\n",
    "mol = Chem.RemoveAllHs(mol)\n",
    "\n",
    "structure_from_pdb = Chem.MolFromPDBBlock(refpdb)\n",
    "structure_from_pdb = Chem.RemoveAllHs(structure_from_pdb)\n",
    "mol_tem = Chem.MolFromSmiles(smi0)\n",
    "structure_refine = AllChem.AssignBondOrdersFromTemplate(mol_tem,structure_from_pdb)\n",
    "drawit(mol)"
   ]
  },
  {
   "cell_type": "code",
   "execution_count": 114,
   "metadata": {},
   "outputs": [
    {
     "name": "stderr",
     "output_type": "stream",
     "text": [
      "[16:36:31] Molecule does not have explicit Hs. Consider calling AddHs()\n"
     ]
    },
    {
     "data": {
      "application/3dmoljs_load.v0": "<div id=\"3dmolviewer_16681557911655662\"  style=\"position: relative; width: 400px; height: 400px\">\n        <p id=\"3dmolwarning_16681557911655662\" style=\"background-color:#ffcccc;color:black\">You appear to be running in JupyterLab (or JavaScript failed to load for some other reason).  You need to install the 3dmol extension: <br>\n        <tt>jupyter labextension install jupyterlab_3dmol</tt></p>\n        </div>\n<script>\n\nvar loadScriptAsync = function(uri){\n  return new Promise((resolve, reject) => {\n    var tag = document.createElement('script');\n    tag.src = uri;\n    tag.async = true;\n    tag.onload = () => {\n      resolve();\n    };\n  var firstScriptTag = document.getElementsByTagName('script')[0];\n  firstScriptTag.parentNode.insertBefore(tag, firstScriptTag);\n});\n};\n\nif(typeof $3Dmolpromise === 'undefined') {\n$3Dmolpromise = null;\n  $3Dmolpromise = loadScriptAsync('https://3dmol.csb.pitt.edu/build/3Dmol.js');\n}\n\nvar viewer_16681557911655662 = null;\nvar warn = document.getElementById(\"3dmolwarning_16681557911655662\");\nif(warn) {\n    warn.parentNode.removeChild(warn);\n}\n$3Dmolpromise.then(function() {\nviewer_16681557911655662 = $3Dmol.createViewer($(\"#3dmolviewer_16681557911655662\"),{backgroundColor:\"white\"});\n\tviewer_16681557911655662.removeAllModels();\n\tviewer_16681557911655662.addModel(\"\\n     RDKit          3D\\n\\n 13 14  0  0  0  0  0  0  0  0999 V2000\\n   -1.2949   -1.2699   -0.0203 C   0  0  1  0  0  0  0  0  0  0  0  0\\n   -2.0932   -1.2464    1.2322 C   0  0  0  0  0  0  0  0  0  0  0  0\\n   -1.8770    0.0090    0.3500 C   0  0  2  0  0  0  0  0  0  0  0  0\\n   -3.1853    0.5033   -0.1440 C   0  0  0  0  0  0  0  0  0  0  0  0\\n   -4.1137    0.9154    0.8094 C   0  0  0  0  0  0  0  0  0  0  0  0\\n   -5.3576    1.3899    0.4612 C   0  0  0  0  0  0  0  0  0  0  0  0\\n   -6.2225    1.7695    1.2912 O   0  0  0  0  0  0  0  0  0  0  0  0\\n   -5.6885    1.4590   -0.8420 N   0  0  0  0  0  0  0  0  0  0  0  0\\n   -6.9998    1.9510   -1.2585 C   0  0  0  0  0  0  0  0  0  0  0  0\\n   -4.7957    1.0624   -1.7719 C   0  0  0  0  0  0  0  0  0  0  0  0\\n   -5.1733    1.1538   -3.1400 N   0  0  0  0  0  0  0  0  0  0  0  0\\n   -3.5532    0.5880   -1.4266 N   0  0  0  0  0  0  0  0  0  0  0  0\\n    0.1235   -1.6751    0.1063 R#  0  0  0  0  0  0  0  0  0  2  0  0\\n  1  2  1  0\\n  2  3  1  0\\n  3  4  1  6\\n  4  5  2  0\\n  5  6  1  0\\n  6  7  2  0\\n  6  8  1  0\\n  8  9  1  0\\n  8 10  1  0\\n 10 11  1  0\\n 10 12  2  0\\n  3  1  1  0\\n 12  4  1  0\\n  1 13  1  1\\nM  RGP  1  13   2\\nM  END\\n\",\"sdf\");\n\tviewer_16681557911655662.setStyle({\"stick\": {}});\n\tviewer_16681557911655662.setBackgroundColor(\"0xeeeeee\");\n\tviewer_16681557911655662.zoomTo();\nviewer_16681557911655662.render();\n});\n</script>",
      "text/html": [
       "<div id=\"3dmolviewer_16681557911655662\"  style=\"position: relative; width: 400px; height: 400px\">\n",
       "        <p id=\"3dmolwarning_16681557911655662\" style=\"background-color:#ffcccc;color:black\">You appear to be running in JupyterLab (or JavaScript failed to load for some other reason).  You need to install the 3dmol extension: <br>\n",
       "        <tt>jupyter labextension install jupyterlab_3dmol</tt></p>\n",
       "        </div>\n",
       "<script>\n",
       "\n",
       "var loadScriptAsync = function(uri){\n",
       "  return new Promise((resolve, reject) => {\n",
       "    var tag = document.createElement('script');\n",
       "    tag.src = uri;\n",
       "    tag.async = true;\n",
       "    tag.onload = () => {\n",
       "      resolve();\n",
       "    };\n",
       "  var firstScriptTag = document.getElementsByTagName('script')[0];\n",
       "  firstScriptTag.parentNode.insertBefore(tag, firstScriptTag);\n",
       "});\n",
       "};\n",
       "\n",
       "if(typeof $3Dmolpromise === 'undefined') {\n",
       "$3Dmolpromise = null;\n",
       "  $3Dmolpromise = loadScriptAsync('https://3dmol.csb.pitt.edu/build/3Dmol.js');\n",
       "}\n",
       "\n",
       "var viewer_16681557911655662 = null;\n",
       "var warn = document.getElementById(\"3dmolwarning_16681557911655662\");\n",
       "if(warn) {\n",
       "    warn.parentNode.removeChild(warn);\n",
       "}\n",
       "$3Dmolpromise.then(function() {\n",
       "viewer_16681557911655662 = $3Dmol.createViewer($(\"#3dmolviewer_16681557911655662\"),{backgroundColor:\"white\"});\n",
       "\tviewer_16681557911655662.removeAllModels();\n",
       "\tviewer_16681557911655662.addModel(\"\\n     RDKit          3D\\n\\n 13 14  0  0  0  0  0  0  0  0999 V2000\\n   -1.2949   -1.2699   -0.0203 C   0  0  1  0  0  0  0  0  0  0  0  0\\n   -2.0932   -1.2464    1.2322 C   0  0  0  0  0  0  0  0  0  0  0  0\\n   -1.8770    0.0090    0.3500 C   0  0  2  0  0  0  0  0  0  0  0  0\\n   -3.1853    0.5033   -0.1440 C   0  0  0  0  0  0  0  0  0  0  0  0\\n   -4.1137    0.9154    0.8094 C   0  0  0  0  0  0  0  0  0  0  0  0\\n   -5.3576    1.3899    0.4612 C   0  0  0  0  0  0  0  0  0  0  0  0\\n   -6.2225    1.7695    1.2912 O   0  0  0  0  0  0  0  0  0  0  0  0\\n   -5.6885    1.4590   -0.8420 N   0  0  0  0  0  0  0  0  0  0  0  0\\n   -6.9998    1.9510   -1.2585 C   0  0  0  0  0  0  0  0  0  0  0  0\\n   -4.7957    1.0624   -1.7719 C   0  0  0  0  0  0  0  0  0  0  0  0\\n   -5.1733    1.1538   -3.1400 N   0  0  0  0  0  0  0  0  0  0  0  0\\n   -3.5532    0.5880   -1.4266 N   0  0  0  0  0  0  0  0  0  0  0  0\\n    0.1235   -1.6751    0.1063 R#  0  0  0  0  0  0  0  0  0  2  0  0\\n  1  2  1  0\\n  2  3  1  0\\n  3  4  1  6\\n  4  5  2  0\\n  5  6  1  0\\n  6  7  2  0\\n  6  8  1  0\\n  8  9  1  0\\n  8 10  1  0\\n 10 11  1  0\\n 10 12  2  0\\n  3  1  1  0\\n 12  4  1  0\\n  1 13  1  1\\nM  RGP  1  13   2\\nM  END\\n\",\"sdf\");\n",
       "\tviewer_16681557911655662.setStyle({\"stick\": {}});\n",
       "\tviewer_16681557911655662.setBackgroundColor(\"0xeeeeee\");\n",
       "\tviewer_16681557911655662.zoomTo();\n",
       "viewer_16681557911655662.render();\n",
       "});\n",
       "</script>"
      ]
     },
     "metadata": {},
     "output_type": "display_data"
    },
    {
     "data": {
      "image/png": "[encoded data removed]",
      "text/plain": [
       "<rdkit.Chem.rdchem.Mol at 0x7f72b6371340>"
      ]
     },
     "execution_count": 114,
     "metadata": {},
     "output_type": "execute_result"
    }
   ],
   "source": [
    "refmol,inpmol,pdbfile =structure_refine,mol,f\"{name}\"\n",
    "    \n",
    "bonded_conf = refmol.GetConformer()\n",
    "conf_res = inpmol.GetConformer()\n",
    "inpmol_prop = Chem.rdForceFieldHelpers.MMFFGetMoleculeProperties(inpmol)\n",
    "ff_mcs = Chem.rdForceFieldHelpers.MMFFGetMoleculeForceField(inpmol,inpmol_prop)\n",
    "\n",
    "core = Chem.MolFromSmiles(\"C12CCCC(C2)C1\")\n",
    "res, unmatched = rdRGD.RGroupDecompose([core],[inpmol])\n",
    "mol_with_atom_index(refmol)\n",
    "drawit(res[0]['R2'])\n",
    "Chem.MolFromSmiles(Chem.MolToSmiles(res[0]['R2']).replace(\"[*:2]\",'').replace(\"[*:1]\",''))"
   ]
  },
  {
   "cell_type": "code",
   "execution_count": 37,
   "metadata": {},
   "outputs": [
    {
     "data": {
      "application/3dmoljs_load.v0": "<div id=\"3dmolviewer_16681505861832275\"  style=\"position: relative; width: 400px; height: 400px\">\n        <p id=\"3dmolwarning_16681505861832275\" style=\"background-color:#ffcccc;color:black\">You appear to be running in JupyterLab (or JavaScript failed to load for some other reason).  You need to install the 3dmol extension: <br>\n        <tt>jupyter labextension install jupyterlab_3dmol</tt></p>\n        </div>\n<script>\n\nvar loadScriptAsync = function(uri){\n  return new Promise((resolve, reject) => {\n    var tag = document.createElement('script');\n    tag.src = uri;\n    tag.async = true;\n    tag.onload = () => {\n      resolve();\n    };\n  var firstScriptTag = document.getElementsByTagName('script')[0];\n  firstScriptTag.parentNode.insertBefore(tag, firstScriptTag);\n});\n};\n\nif(typeof $3Dmolpromise === 'undefined') {\n$3Dmolpromise = null;\n  $3Dmolpromise = loadScriptAsync('https://3dmol.csb.pitt.edu/build/3Dmol.js');\n}\n\nvar viewer_16681505861832275 = null;\nvar warn = document.getElementById(\"3dmolwarning_16681505861832275\");\nif(warn) {\n    warn.parentNode.removeChild(warn);\n}\n$3Dmolpromise.then(function() {\nviewer_16681505861832275 = $3Dmol.createViewer($(\"#3dmolviewer_16681505861832275\"),{backgroundColor:\"white\"});\n\tviewer_16681505861832275.removeAllModels();\n\tviewer_16681505861832275.addModel(\"\\n     RDKit          3D\\n\\n 26 29  0  0  0  0  0  0  0  0999 V2000\\n  -15.9190  -42.5680  -10.5060 O   0  0  0  0  0  0  0  0  0  0  0  0\\n  -15.9080  -41.5710   -9.7390 C   0  0  0  0  0  0  0  0  0  1  0  0\\n  -15.5030  -41.7340   -8.3890 N   0  0  0  0  0  0  0  0  0  2  0  0\\n  -15.1220  -43.0760   -7.9240 C   0  0  0  0  0  0  0  0  0  3  0  0\\n  -15.4950  -40.5980   -7.5260 C   0  0  0  0  0  0  0  0  0  4  0  0\\n  -15.1090  -40.7460   -6.2170 N   0  0  0  0  0  0  0  0  0  5  0  0\\n  -15.8760  -39.3700   -8.0190 N   0  0  0  0  0  0  0  0  0  6  0  0\\n  -16.2780  -39.2020   -9.3200 C   0  0  0  0  0  0  0  0  0  7  0  0\\n  -16.2890  -40.3040  -10.1980 C   0  0  0  0  0  0  0  0  0  8  0  0\\n  -16.6700  -37.8580   -9.8340 C   0  0  1  0  0  0  0  0  0  9  0  0\\n  -17.5800  -37.9910  -11.0690 C   0  0  0  0  0  0  0  0  0 10  0  0\\n  -18.1540  -37.4340   -9.7690 C   0  0  1  0  0  0  0  0  0 11  0  0\\n  -19.1790  -38.3200   -9.1240 C   0  0  0  0  0  0  0  0  0 12  0  0\\n  -20.2210  -38.8950   -9.8730 C   0  0  0  0  0  0  0  0  0 13  0  0\\n  -21.1950  -39.6960   -9.2640 C   0  0  0  0  0  0  0  0  0 14  0  0\\n  -21.1530  -39.9140   -7.8880 C   0  0  0  0  0  0  0  0  0 15  0  0\\n  -20.1290  -39.3320   -7.1310 C   0  0  0  0  0  0  0  0  0 16  0  0\\n  -19.1610  -38.5300   -7.7390 C   0  0  0  0  0  0  0  0  0 17  0  0\\n  -20.0920  -39.5630   -5.6630 C   0  0  0  0  0  0  0  0  0 18  0  0\\n  -19.5490  -38.6110   -4.7940 C   0  0  0  0  0  0  0  0  0 19  0  0\\n  -19.5410  -38.8580   -3.4200 C   0  0  0  0  0  0  0  0  0 20  0  0\\n  -20.1000  -40.0390   -2.9260 C   0  0  0  0  0  0  0  0  0 21  0  0\\n  -20.6420  -40.9900   -3.7890 C   0  0  0  0  0  0  0  0  0 22  0  0\\n  -20.6380  -40.7370   -5.1580 C   0  0  0  0  0  0  0  0  0 23  0  0\\n  -21.1810  -42.1640   -3.2940 O   0  0  0  0  0  0  0  0  0 24  0  0\\n  -21.3380  -43.3460   -4.0910 C   0  0  0  0  0  0  0  0  0 25  0  0\\n  2  1  2  0\\n  3  2  1  0\\n  4  3  1  0\\n  5  3  1  0\\n  6  5  1  0\\n  7  5  2  0\\n  8  7  1  0\\n  9  8  2  0\\n  9  2  1  0\\n 10  8  1  1\\n 11 10  1  0\\n 12 11  1  0\\n 12 10  1  0\\n 12 13  1  1\\n 14 13  2  0\\n 15 14  1  0\\n 16 15  2  0\\n 17 16  1  0\\n 18 17  2  0\\n 18 13  1  0\\n 19 17  1  0\\n 20 19  2  0\\n 21 20  1  0\\n 22 21  2  0\\n 23 22  1  0\\n 24 19  1  0\\n 24 23  2  0\\n 25 23  1  0\\n 26 25  1  0\\nM  END\\n\",\"sdf\");\n\tviewer_16681505861832275.setStyle({\"stick\": {}});\n\tviewer_16681505861832275.setBackgroundColor(\"0xeeeeee\");\n\tviewer_16681505861832275.zoomTo();\nviewer_16681505861832275.render();\n});\n</script>",
      "text/html": [
       "<div id=\"3dmolviewer_16681505861832275\"  style=\"position: relative; width: 400px; height: 400px\">\n",
       "        <p id=\"3dmolwarning_16681505861832275\" style=\"background-color:#ffcccc;color:black\">You appear to be running in JupyterLab (or JavaScript failed to load for some other reason).  You need to install the 3dmol extension: <br>\n",
       "        <tt>jupyter labextension install jupyterlab_3dmol</tt></p>\n",
       "        </div>\n",
       "<script>\n",
       "\n",
       "var loadScriptAsync = function(uri){\n",
       "  return new Promise((resolve, reject) => {\n",
       "    var tag = document.createElement('script');\n",
       "    tag.src = uri;\n",
       "    tag.async = true;\n",
       "    tag.onload = () => {\n",
       "      resolve();\n",
       "    };\n",
       "  var firstScriptTag = document.getElementsByTagName('script')[0];\n",
       "  firstScriptTag.parentNode.insertBefore(tag, firstScriptTag);\n",
       "});\n",
       "};\n",
       "\n",
       "if(typeof $3Dmolpromise === 'undefined') {\n",
       "$3Dmolpromise = null;\n",
       "  $3Dmolpromise = loadScriptAsync('https://3dmol.csb.pitt.edu/build/3Dmol.js');\n",
       "}\n",
       "\n",
       "var viewer_16681505861832275 = null;\n",
       "var warn = document.getElementById(\"3dmolwarning_16681505861832275\");\n",
       "if(warn) {\n",
       "    warn.parentNode.removeChild(warn);\n",
       "}\n",
       "$3Dmolpromise.then(function() {\n",
       "viewer_16681505861832275 = $3Dmol.createViewer($(\"#3dmolviewer_16681505861832275\"),{backgroundColor:\"white\"});\n",
       "\tviewer_16681505861832275.removeAllModels();\n",
       "\tviewer_16681505861832275.addModel(\"\\n     RDKit          3D\\n\\n 26 29  0  0  0  0  0  0  0  0999 V2000\\n  -15.9190  -42.5680  -10.5060 O   0  0  0  0  0  0  0  0  0  0  0  0\\n  -15.9080  -41.5710   -9.7390 C   0  0  0  0  0  0  0  0  0  1  0  0\\n  -15.5030  -41.7340   -8.3890 N   0  0  0  0  0  0  0  0  0  2  0  0\\n  -15.1220  -43.0760   -7.9240 C   0  0  0  0  0  0  0  0  0  3  0  0\\n  -15.4950  -40.5980   -7.5260 C   0  0  0  0  0  0  0  0  0  4  0  0\\n  -15.1090  -40.7460   -6.2170 N   0  0  0  0  0  0  0  0  0  5  0  0\\n  -15.8760  -39.3700   -8.0190 N   0  0  0  0  0  0  0  0  0  6  0  0\\n  -16.2780  -39.2020   -9.3200 C   0  0  0  0  0  0  0  0  0  7  0  0\\n  -16.2890  -40.3040  -10.1980 C   0  0  0  0  0  0  0  0  0  8  0  0\\n  -16.6700  -37.8580   -9.8340 C   0  0  1  0  0  0  0  0  0  9  0  0\\n  -17.5800  -37.9910  -11.0690 C   0  0  0  0  0  0  0  0  0 10  0  0\\n  -18.1540  -37.4340   -9.7690 C   0  0  1  0  0  0  0  0  0 11  0  0\\n  -19.1790  -38.3200   -9.1240 C   0  0  0  0  0  0  0  0  0 12  0  0\\n  -20.2210  -38.8950   -9.8730 C   0  0  0  0  0  0  0  0  0 13  0  0\\n  -21.1950  -39.6960   -9.2640 C   0  0  0  0  0  0  0  0  0 14  0  0\\n  -21.1530  -39.9140   -7.8880 C   0  0  0  0  0  0  0  0  0 15  0  0\\n  -20.1290  -39.3320   -7.1310 C   0  0  0  0  0  0  0  0  0 16  0  0\\n  -19.1610  -38.5300   -7.7390 C   0  0  0  0  0  0  0  0  0 17  0  0\\n  -20.0920  -39.5630   -5.6630 C   0  0  0  0  0  0  0  0  0 18  0  0\\n  -19.5490  -38.6110   -4.7940 C   0  0  0  0  0  0  0  0  0 19  0  0\\n  -19.5410  -38.8580   -3.4200 C   0  0  0  0  0  0  0  0  0 20  0  0\\n  -20.1000  -40.0390   -2.9260 C   0  0  0  0  0  0  0  0  0 21  0  0\\n  -20.6420  -40.9900   -3.7890 C   0  0  0  0  0  0  0  0  0 22  0  0\\n  -20.6380  -40.7370   -5.1580 C   0  0  0  0  0  0  0  0  0 23  0  0\\n  -21.1810  -42.1640   -3.2940 O   0  0  0  0  0  0  0  0  0 24  0  0\\n  -21.3380  -43.3460   -4.0910 C   0  0  0  0  0  0  0  0  0 25  0  0\\n  2  1  2  0\\n  3  2  1  0\\n  4  3  1  0\\n  5  3  1  0\\n  6  5  1  0\\n  7  5  2  0\\n  8  7  1  0\\n  9  8  2  0\\n  9  2  1  0\\n 10  8  1  1\\n 11 10  1  0\\n 12 11  1  0\\n 12 10  1  0\\n 12 13  1  1\\n 14 13  2  0\\n 15 14  1  0\\n 16 15  2  0\\n 17 16  1  0\\n 18 17  2  0\\n 18 13  1  0\\n 19 17  1  0\\n 20 19  2  0\\n 21 20  1  0\\n 22 21  2  0\\n 23 22  1  0\\n 24 19  1  0\\n 24 23  2  0\\n 25 23  1  0\\n 26 25  1  0\\nM  END\\n\",\"sdf\");\n",
       "\tviewer_16681505861832275.setStyle({\"stick\": {}});\n",
       "\tviewer_16681505861832275.setBackgroundColor(\"0xeeeeee\");\n",
       "\tviewer_16681505861832275.zoomTo();\n",
       "viewer_16681505861832275.render();\n",
       "});\n",
       "</script>"
      ]
     },
     "metadata": {},
     "output_type": "display_data"
    }
   ],
   "source": [
    "drawit(refmol)"
   ]
  },
  {
   "cell_type": "code",
   "execution_count": 40,
   "metadata": {},
   "outputs": [
    {
     "data": {
      "image/png": "[encoded data removed]",
      "text/plain": [
       "<rdkit.Chem.rdchem.Mol at 0x7f72b7918310>"
      ]
     },
     "execution_count": 40,
     "metadata": {},
     "output_type": "execute_result"
    }
   ],
   "source": [
    "mol_with_atom_index(refmol)"
   ]
  },
  {
   "cell_type": "code",
   "execution_count": 131,
   "metadata": {},
   "outputs": [
    {
     "name": "stdout",
     "output_type": "stream",
     "text": [
      "(10, 11, 9, 7, 8, 6, 1, 4, 0, 2, 5, 3)\n",
      "(12, 13, 14, 15, 16, 23, 17, 21, 18, 19, 22, 20)\n"
     ]
    },
    {
     "data": {
      "application/3dmoljs_load.v0": "<div id=\"3dmolviewer_16681561689223604\"  style=\"position: relative; width: 400px; height: 400px\">\n        <p id=\"3dmolwarning_16681561689223604\" style=\"background-color:#ffcccc;color:black\">You appear to be running in JupyterLab (or JavaScript failed to load for some other reason).  You need to install the 3dmol extension: <br>\n        <tt>jupyter labextension install jupyterlab_3dmol</tt></p>\n        </div>\n<script>\n\nvar loadScriptAsync = function(uri){\n  return new Promise((resolve, reject) => {\n    var tag = document.createElement('script');\n    tag.src = uri;\n    tag.async = true;\n    tag.onload = () => {\n      resolve();\n    };\n  var firstScriptTag = document.getElementsByTagName('script')[0];\n  firstScriptTag.parentNode.insertBefore(tag, firstScriptTag);\n});\n};\n\nif(typeof $3Dmolpromise === 'undefined') {\n$3Dmolpromise = null;\n  $3Dmolpromise = loadScriptAsync('https://3dmol.csb.pitt.edu/build/3Dmol.js');\n}\n\nvar viewer_16681561689223604 = null;\nvar warn = document.getElementById(\"3dmolwarning_16681561689223604\");\nif(warn) {\n    warn.parentNode.removeChild(warn);\n}\n$3Dmolpromise.then(function() {\nviewer_16681561689223604 = $3Dmol.createViewer($(\"#3dmolviewer_16681561689223604\"),{backgroundColor:\"white\"});\n\tviewer_16681561689223604.removeAllModels();\n\tviewer_16681561689223604.addModel(\"\\n     RDKit          3D\\n\\n 26 29  0  0  0  0  0  0  0  0999 V2000\\n  -15.9190  -42.5680  -10.5060 O   0  0  0  0  0  0  0  0  0  0  0  0\\n  -15.9080  -41.5710   -9.7390 C   0  0  0  0  0  0  0  0  0  1  0  0\\n  -15.5030  -41.7340   -8.3890 N   0  0  0  0  0  0  0  0  0  2  0  0\\n  -15.1220  -43.0760   -7.9240 C   0  0  0  0  0  0  0  0  0  3  0  0\\n  -15.4950  -40.5980   -7.5260 C   0  0  0  0  0  0  0  0  0  4  0  0\\n  -15.1090  -40.7460   -6.2170 N   0  0  0  0  0  0  0  0  0  5  0  0\\n  -15.8760  -39.3700   -8.0190 N   0  0  0  0  0  0  0  0  0  6  0  0\\n  -16.2780  -39.2020   -9.3200 C   0  0  0  0  0  0  0  0  0  7  0  0\\n  -16.2890  -40.3040  -10.1980 C   0  0  0  0  0  0  0  0  0  8  0  0\\n  -16.6700  -37.8580   -9.8340 C   0  0  1  0  0  0  0  0  0  9  0  0\\n  -17.5800  -37.9910  -11.0690 C   0  0  0  0  0  0  0  0  0 10  0  0\\n  -18.1540  -37.4340   -9.7690 C   0  0  1  0  0  0  0  0  0 11  0  0\\n  -19.1790  -38.3200   -9.1240 C   0  0  0  0  0  0  0  0  0 12  0  0\\n  -20.2210  -38.8950   -9.8730 C   0  0  0  0  0  0  0  0  0 13  0  0\\n  -21.1950  -39.6960   -9.2640 C   0  0  0  0  0  0  0  0  0 14  0  0\\n  -21.1530  -39.9140   -7.8880 C   0  0  0  0  0  0  0  0  0 15  0  0\\n  -20.1290  -39.3320   -7.1310 C   0  0  0  0  0  0  0  0  0 16  0  0\\n  -19.1610  -38.5300   -7.7390 C   0  0  0  0  0  0  0  0  0 17  0  0\\n  -20.0920  -39.5630   -5.6630 C   0  0  0  0  0  0  0  0  0 18  0  0\\n  -19.5490  -38.6110   -4.7940 C   0  0  0  0  0  0  0  0  0 19  0  0\\n  -19.5410  -38.8580   -3.4200 C   0  0  0  0  0  0  0  0  0 20  0  0\\n  -20.1000  -40.0390   -2.9260 C   0  0  0  0  0  0  0  0  0 21  0  0\\n  -20.6420  -40.9900   -3.7890 C   0  0  0  0  0  0  0  0  0 22  0  0\\n  -20.6380  -40.7370   -5.1580 C   0  0  0  0  0  0  0  0  0 23  0  0\\n  -21.1810  -42.1640   -3.2940 O   0  0  0  0  0  0  0  0  0 24  0  0\\n  -21.3380  -43.3460   -4.0910 C   0  0  0  0  0  0  0  0  0 25  0  0\\n  2  1  2  0\\n  3  2  1  0\\n  4  3  1  0\\n  5  3  1  0\\n  6  5  1  0\\n  7  5  2  0\\n  8  7  1  0\\n  9  8  2  0\\n  9  2  1  0\\n 10  8  1  1\\n 11 10  1  0\\n 12 11  1  0\\n 12 10  1  0\\n 12 13  1  1\\n 14 13  2  0\\n 15 14  1  0\\n 16 15  2  0\\n 17 16  1  0\\n 18 17  2  0\\n 18 13  1  0\\n 19 17  1  0\\n 20 19  2  0\\n 21 20  1  0\\n 22 21  2  0\\n 23 22  1  0\\n 24 19  1  0\\n 24 23  2  0\\n 25 23  1  0\\n 26 25  1  0\\nM  END\\n\",\"sdf\");\n\tviewer_16681561689223604.setStyle({\"stick\": {}});\n\tviewer_16681561689223604.setBackgroundColor(\"0xeeeeee\");\n\tviewer_16681561689223604.zoomTo();\nviewer_16681561689223604.render();\n});\n</script>",
      "text/html": [
       "<div id=\"3dmolviewer_16681561689223604\"  style=\"position: relative; width: 400px; height: 400px\">\n",
       "        <p id=\"3dmolwarning_16681561689223604\" style=\"background-color:#ffcccc;color:black\">You appear to be running in JupyterLab (or JavaScript failed to load for some other reason).  You need to install the 3dmol extension: <br>\n",
       "        <tt>jupyter labextension install jupyterlab_3dmol</tt></p>\n",
       "        </div>\n",
       "<script>\n",
       "\n",
       "var loadScriptAsync = function(uri){\n",
       "  return new Promise((resolve, reject) => {\n",
       "    var tag = document.createElement('script');\n",
       "    tag.src = uri;\n",
       "    tag.async = true;\n",
       "    tag.onload = () => {\n",
       "      resolve();\n",
       "    };\n",
       "  var firstScriptTag = document.getElementsByTagName('script')[0];\n",
       "  firstScriptTag.parentNode.insertBefore(tag, firstScriptTag);\n",
       "});\n",
       "};\n",
       "\n",
       "if(typeof $3Dmolpromise === 'undefined') {\n",
       "$3Dmolpromise = null;\n",
       "  $3Dmolpromise = loadScriptAsync('https://3dmol.csb.pitt.edu/build/3Dmol.js');\n",
       "}\n",
       "\n",
       "var viewer_16681561689223604 = null;\n",
       "var warn = document.getElementById(\"3dmolwarning_16681561689223604\");\n",
       "if(warn) {\n",
       "    warn.parentNode.removeChild(warn);\n",
       "}\n",
       "$3Dmolpromise.then(function() {\n",
       "viewer_16681561689223604 = $3Dmol.createViewer($(\"#3dmolviewer_16681561689223604\"),{backgroundColor:\"white\"});\n",
       "\tviewer_16681561689223604.removeAllModels();\n",
       "\tviewer_16681561689223604.addModel(\"\\n     RDKit          3D\\n\\n 26 29  0  0  0  0  0  0  0  0999 V2000\\n  -15.9190  -42.5680  -10.5060 O   0  0  0  0  0  0  0  0  0  0  0  0\\n  -15.9080  -41.5710   -9.7390 C   0  0  0  0  0  0  0  0  0  1  0  0\\n  -15.5030  -41.7340   -8.3890 N   0  0  0  0  0  0  0  0  0  2  0  0\\n  -15.1220  -43.0760   -7.9240 C   0  0  0  0  0  0  0  0  0  3  0  0\\n  -15.4950  -40.5980   -7.5260 C   0  0  0  0  0  0  0  0  0  4  0  0\\n  -15.1090  -40.7460   -6.2170 N   0  0  0  0  0  0  0  0  0  5  0  0\\n  -15.8760  -39.3700   -8.0190 N   0  0  0  0  0  0  0  0  0  6  0  0\\n  -16.2780  -39.2020   -9.3200 C   0  0  0  0  0  0  0  0  0  7  0  0\\n  -16.2890  -40.3040  -10.1980 C   0  0  0  0  0  0  0  0  0  8  0  0\\n  -16.6700  -37.8580   -9.8340 C   0  0  1  0  0  0  0  0  0  9  0  0\\n  -17.5800  -37.9910  -11.0690 C   0  0  0  0  0  0  0  0  0 10  0  0\\n  -18.1540  -37.4340   -9.7690 C   0  0  1  0  0  0  0  0  0 11  0  0\\n  -19.1790  -38.3200   -9.1240 C   0  0  0  0  0  0  0  0  0 12  0  0\\n  -20.2210  -38.8950   -9.8730 C   0  0  0  0  0  0  0  0  0 13  0  0\\n  -21.1950  -39.6960   -9.2640 C   0  0  0  0  0  0  0  0  0 14  0  0\\n  -21.1530  -39.9140   -7.8880 C   0  0  0  0  0  0  0  0  0 15  0  0\\n  -20.1290  -39.3320   -7.1310 C   0  0  0  0  0  0  0  0  0 16  0  0\\n  -19.1610  -38.5300   -7.7390 C   0  0  0  0  0  0  0  0  0 17  0  0\\n  -20.0920  -39.5630   -5.6630 C   0  0  0  0  0  0  0  0  0 18  0  0\\n  -19.5490  -38.6110   -4.7940 C   0  0  0  0  0  0  0  0  0 19  0  0\\n  -19.5410  -38.8580   -3.4200 C   0  0  0  0  0  0  0  0  0 20  0  0\\n  -20.1000  -40.0390   -2.9260 C   0  0  0  0  0  0  0  0  0 21  0  0\\n  -20.6420  -40.9900   -3.7890 C   0  0  0  0  0  0  0  0  0 22  0  0\\n  -20.6380  -40.7370   -5.1580 C   0  0  0  0  0  0  0  0  0 23  0  0\\n  -21.1810  -42.1640   -3.2940 O   0  0  0  0  0  0  0  0  0 24  0  0\\n  -21.3380  -43.3460   -4.0910 C   0  0  0  0  0  0  0  0  0 25  0  0\\n  2  1  2  0\\n  3  2  1  0\\n  4  3  1  0\\n  5  3  1  0\\n  6  5  1  0\\n  7  5  2  0\\n  8  7  1  0\\n  9  8  2  0\\n  9  2  1  0\\n 10  8  1  1\\n 11 10  1  0\\n 12 11  1  0\\n 12 10  1  0\\n 12 13  1  1\\n 14 13  2  0\\n 15 14  1  0\\n 16 15  2  0\\n 17 16  1  0\\n 18 17  2  0\\n 18 13  1  0\\n 19 17  1  0\\n 20 19  2  0\\n 21 20  1  0\\n 22 21  2  0\\n 23 22  1  0\\n 24 19  1  0\\n 24 23  2  0\\n 25 23  1  0\\n 26 25  1  0\\nM  END\\n\",\"sdf\");\n",
       "\tviewer_16681561689223604.setStyle({\"stick\": {}});\n",
       "\tviewer_16681561689223604.setBackgroundColor(\"0xeeeeee\");\n",
       "\tviewer_16681561689223604.zoomTo();\n",
       "viewer_16681561689223604.render();\n",
       "});\n",
       "</script>"
      ]
     },
     "metadata": {},
     "output_type": "display_data"
    },
    {
     "data": {
      "application/3dmoljs_load.v0": "<div id=\"3dmolviewer_16681561689254112\"  style=\"position: relative; width: 400px; height: 400px\">\n        <p id=\"3dmolwarning_16681561689254112\" style=\"background-color:#ffcccc;color:black\">You appear to be running in JupyterLab (or JavaScript failed to load for some other reason).  You need to install the 3dmol extension: <br>\n        <tt>jupyter labextension install jupyterlab_3dmol</tt></p>\n        </div>\n<script>\n\nvar loadScriptAsync = function(uri){\n  return new Promise((resolve, reject) => {\n    var tag = document.createElement('script');\n    tag.src = uri;\n    tag.async = true;\n    tag.onload = () => {\n      resolve();\n    };\n  var firstScriptTag = document.getElementsByTagName('script')[0];\n  firstScriptTag.parentNode.insertBefore(tag, firstScriptTag);\n});\n};\n\nif(typeof $3Dmolpromise === 'undefined') {\n$3Dmolpromise = null;\n  $3Dmolpromise = loadScriptAsync('https://3dmol.csb.pitt.edu/build/3Dmol.js');\n}\n\nvar viewer_16681561689254112 = null;\nvar warn = document.getElementById(\"3dmolwarning_16681561689254112\");\nif(warn) {\n    warn.parentNode.removeChild(warn);\n}\n$3Dmolpromise.then(function() {\nviewer_16681561689254112 = $3Dmol.createViewer($(\"#3dmolviewer_16681561689254112\"),{backgroundColor:\"white\"});\n\tviewer_16681561689254112.removeAllModels();\n\tviewer_16681561689254112.addModel(\"\\n     RDKit          3D\\n\\n 13 14  0  0  0  0  0  0  0  0999 V2000\\n   -1.2949   -1.2699   -0.0203 C   0  0  1  0  0  0  0  0  0  0  0  0\\n   -2.0932   -1.2464    1.2322 C   0  0  0  0  0  0  0  0  0  0  0  0\\n   -1.8770    0.0090    0.3500 C   0  0  2  0  0  0  0  0  0  0  0  0\\n   -3.1853    0.5033   -0.1440 C   0  0  0  0  0  0  0  0  0  0  0  0\\n   -4.1137    0.9154    0.8094 C   0  0  0  0  0  0  0  0  0  0  0  0\\n   -5.3576    1.3899    0.4612 C   0  0  0  0  0  0  0  0  0  0  0  0\\n   -6.2225    1.7695    1.2912 O   0  0  0  0  0  0  0  0  0  0  0  0\\n   -5.6885    1.4590   -0.8420 N   0  0  0  0  0  0  0  0  0  0  0  0\\n   -6.9998    1.9510   -1.2585 C   0  0  0  0  0  0  0  0  0  0  0  0\\n   -4.7957    1.0624   -1.7719 C   0  0  0  0  0  0  0  0  0  0  0  0\\n   -5.1733    1.1538   -3.1400 N   0  0  0  0  0  0  0  0  0  0  0  0\\n   -3.5532    0.5880   -1.4266 N   0  0  0  0  0  0  0  0  0  0  0  0\\n    0.1235   -1.6751    0.1063 R#  0  0  0  0  0  0  0  0  0  2  0  0\\n  1  2  1  0\\n  2  3  1  0\\n  3  4  1  6\\n  4  5  2  0\\n  5  6  1  0\\n  6  7  2  0\\n  6  8  1  0\\n  8  9  1  0\\n  8 10  1  0\\n 10 11  1  0\\n 10 12  2  0\\n  3  1  1  0\\n 12  4  1  0\\n  1 13  1  1\\nM  RGP  1  13   2\\nM  END\\n\",\"sdf\");\n\tviewer_16681561689254112.setStyle({\"stick\": {}});\n\tviewer_16681561689254112.setBackgroundColor(\"0xeeeeee\");\n\tviewer_16681561689254112.zoomTo();\nviewer_16681561689254112.render();\n});\n</script>",
      "text/html": [
       "<div id=\"3dmolviewer_16681561689254112\"  style=\"position: relative; width: 400px; height: 400px\">\n",
       "        <p id=\"3dmolwarning_16681561689254112\" style=\"background-color:#ffcccc;color:black\">You appear to be running in JupyterLab (or JavaScript failed to load for some other reason).  You need to install the 3dmol extension: <br>\n",
       "        <tt>jupyter labextension install jupyterlab_3dmol</tt></p>\n",
       "        </div>\n",
       "<script>\n",
       "\n",
       "var loadScriptAsync = function(uri){\n",
       "  return new Promise((resolve, reject) => {\n",
       "    var tag = document.createElement('script');\n",
       "    tag.src = uri;\n",
       "    tag.async = true;\n",
       "    tag.onload = () => {\n",
       "      resolve();\n",
       "    };\n",
       "  var firstScriptTag = document.getElementsByTagName('script')[0];\n",
       "  firstScriptTag.parentNode.insertBefore(tag, firstScriptTag);\n",
       "});\n",
       "};\n",
       "\n",
       "if(typeof $3Dmolpromise === 'undefined') {\n",
       "$3Dmolpromise = null;\n",
       "  $3Dmolpromise = loadScriptAsync('https://3dmol.csb.pitt.edu/build/3Dmol.js');\n",
       "}\n",
       "\n",
       "var viewer_16681561689254112 = null;\n",
       "var warn = document.getElementById(\"3dmolwarning_16681561689254112\");\n",
       "if(warn) {\n",
       "    warn.parentNode.removeChild(warn);\n",
       "}\n",
       "$3Dmolpromise.then(function() {\n",
       "viewer_16681561689254112 = $3Dmol.createViewer($(\"#3dmolviewer_16681561689254112\"),{backgroundColor:\"white\"});\n",
       "\tviewer_16681561689254112.removeAllModels();\n",
       "\tviewer_16681561689254112.addModel(\"\\n     RDKit          3D\\n\\n 13 14  0  0  0  0  0  0  0  0999 V2000\\n   -1.2949   -1.2699   -0.0203 C   0  0  1  0  0  0  0  0  0  0  0  0\\n   -2.0932   -1.2464    1.2322 C   0  0  0  0  0  0  0  0  0  0  0  0\\n   -1.8770    0.0090    0.3500 C   0  0  2  0  0  0  0  0  0  0  0  0\\n   -3.1853    0.5033   -0.1440 C   0  0  0  0  0  0  0  0  0  0  0  0\\n   -4.1137    0.9154    0.8094 C   0  0  0  0  0  0  0  0  0  0  0  0\\n   -5.3576    1.3899    0.4612 C   0  0  0  0  0  0  0  0  0  0  0  0\\n   -6.2225    1.7695    1.2912 O   0  0  0  0  0  0  0  0  0  0  0  0\\n   -5.6885    1.4590   -0.8420 N   0  0  0  0  0  0  0  0  0  0  0  0\\n   -6.9998    1.9510   -1.2585 C   0  0  0  0  0  0  0  0  0  0  0  0\\n   -4.7957    1.0624   -1.7719 C   0  0  0  0  0  0  0  0  0  0  0  0\\n   -5.1733    1.1538   -3.1400 N   0  0  0  0  0  0  0  0  0  0  0  0\\n   -3.5532    0.5880   -1.4266 N   0  0  0  0  0  0  0  0  0  0  0  0\\n    0.1235   -1.6751    0.1063 R#  0  0  0  0  0  0  0  0  0  2  0  0\\n  1  2  1  0\\n  2  3  1  0\\n  3  4  1  6\\n  4  5  2  0\\n  5  6  1  0\\n  6  7  2  0\\n  6  8  1  0\\n  8  9  1  0\\n  8 10  1  0\\n 10 11  1  0\\n 10 12  2  0\\n  3  1  1  0\\n 12  4  1  0\\n  1 13  1  1\\nM  RGP  1  13   2\\nM  END\\n\",\"sdf\");\n",
       "\tviewer_16681561689254112.setStyle({\"stick\": {}});\n",
       "\tviewer_16681561689254112.setBackgroundColor(\"0xeeeeee\");\n",
       "\tviewer_16681561689254112.zoomTo();\n",
       "viewer_16681561689254112.render();\n",
       "});\n",
       "</script>"
      ]
     },
     "metadata": {},
     "output_type": "display_data"
    },
    {
     "data": {
      "image/png": "[encoded data removed]",
      "text/plain": [
       "<rdkit.Chem.rdchem.Mol at 0x7f72b499f820>"
      ]
     },
     "execution_count": 131,
     "metadata": {},
     "output_type": "execute_result"
    }
   ],
   "source": [
    "mcs1 = rdFMCS.FindMCS([refmol, res[0]['R2']],timeout=5,bondCompare=rdFMCS.BondCompare.CompareAny)\n",
    "mcs3 = rdFMCS.FindMCS([inpmol, res[0]['R2']],timeout=3,bondCompare=rdFMCS.BondCompare.CompareOrderExact)\n",
    "sidechain_ref = refmol.GetSubstructMatch(mcs1.queryMol)\n",
    "sidechain_gen = inpmol.GetSubstructMatch(mcs3.queryMol)\n",
    "print(sidechain_ref)\n",
    "print(sidechain_gen)\n",
    "\n",
    "atom_connect_sidechain_core_gen = get_connect_atom_in_core(inpmol, sidechain_gen)[0]\n",
    "\n",
    "drawit(refmol)\n",
    "drawit(res[0]['R2'])\n",
    "mcs1.queryMol\n"
   ]
  },
  {
   "cell_type": "code",
   "execution_count": 129,
   "metadata": {},
   "outputs": [
    {
     "data": {
      "text/plain": [
       "(3, 2, 1, 4, 0, 8, 6, 5, 7, 9, 10, 11)"
      ]
     },
     "execution_count": 129,
     "metadata": {},
     "output_type": "execute_result"
    }
   ],
   "source": [
    "test_smi = Chem.MolToSmiles(res[0]['R2'])\n",
    "side_chain_mol = Chem.MolFromSmiles(test_smi)\n",
    "mcs2 = rdFMCS.FindMCS([refmol, side_chain_mol],timeout=5,ringCompare=Chem.rdFMCS.RingCompare.StrictRingFusion)\n",
    "mcs2.queryMol\n",
    "sidechain_ref = refmol.GetSubstructMatch(mcs2.queryMol)\n",
    "sidechain_ref"
   ]
  },
  {
   "cell_type": "code",
   "execution_count": 22,
   "metadata": {},
   "outputs": [
    {
     "name": "stdout",
     "output_type": "stream",
     "text": [
      "7\n",
      "11\n"
     ]
    }
   ],
   "source": [
    "for R in ['R1','R2']:\n",
    "    mcs1 = rdFMCS.FindMCS([refmol, res[0][R]],timeout=3,)\n",
    "    mcs3 = rdFMCS.FindMCS([inpmol, res[0][R]],timeout=3,bondCompare=rdFMCS.BondCompare.CompareOrderExact)\n",
    "    sidechain_ref = refmol.GetSubstructMatch(mcs1.queryMol)\n",
    "    sidechain_gen = inpmol.GetSubstructMatch(mcs3.queryMol)\n",
    "    for i, j in zip(sidechain_ref,sidechain_gen):\n",
    "        # print(f\"{R} {i} {j}\")\n",
    "        ff_mcs.AddFixedPoint(j)\n",
    "        conf_res.SetAtomPosition(j, bonded_conf.GetAtomPosition(i))\n",
    "    atom_connect_sidechain_core_ref = get_connect_atom_in_core(refmol, sidechain_ref)[0]\n",
    "    atom_connect_sidechain_core_gen = get_connect_atom_in_core(inpmol, sidechain_gen)[0]\n",
    "    print(atom_connect_sidechain_core_gen)\n",
    "    ff_mcs.AddFixedPoint(atom_connect_sidechain_core_gen)\n",
    "    conf_res.SetAtomPosition(atom_connect_sidechain_core_gen,bonded_conf.GetAtomPosition(atom_connect_sidechain_core_ref))"
   ]
  },
  {
   "cell_type": "code",
   "execution_count": 18,
   "metadata": {},
   "outputs": [
    {
     "data": {
      "application/3dmoljs_load.v0": "<div id=\"3dmolviewer_16681453031271644\"  style=\"position: relative; width: 400px; height: 400px\">\n        <p id=\"3dmolwarning_16681453031271644\" style=\"background-color:#ffcccc;color:black\">You appear to be running in JupyterLab (or JavaScript failed to load for some other reason).  You need to install the 3dmol extension: <br>\n        <tt>jupyter labextension install jupyterlab_3dmol</tt></p>\n        </div>\n<script>\n\nvar loadScriptAsync = function(uri){\n  return new Promise((resolve, reject) => {\n    var tag = document.createElement('script');\n    tag.src = uri;\n    tag.async = true;\n    tag.onload = () => {\n      resolve();\n    };\n  var firstScriptTag = document.getElementsByTagName('script')[0];\n  firstScriptTag.parentNode.insertBefore(tag, firstScriptTag);\n});\n};\n\nif(typeof $3Dmolpromise === 'undefined') {\n$3Dmolpromise = null;\n  $3Dmolpromise = loadScriptAsync('https://3dmol.csb.pitt.edu/build/3Dmol.js');\n}\n\nvar viewer_16681453031271644 = null;\nvar warn = document.getElementById(\"3dmolwarning_16681453031271644\");\nif(warn) {\n    warn.parentNode.removeChild(warn);\n}\n$3Dmolpromise.then(function() {\nviewer_16681453031271644 = $3Dmol.createViewer($(\"#3dmolviewer_16681453031271644\"),{backgroundColor:\"white\"});\n\tviewer_16681453031271644.removeAllModels();\n\tviewer_16681453031271644.addModel(\"\\n     RDKit          3D\\n\\n 27 31  0  0  0  0  0  0  0  0999 V2000\\n  -21.3380  -43.3460   -4.0910 C   0  0  0  0  0  0  0  0  0  0  0  0\\n  -21.1810  -42.1640   -3.2940 O   0  0  0  0  0  0  0  0  0  0  0  0\\n  -20.6420  -40.9900   -3.7890 C   0  0  0  0  0  0  0  0  0  0  0  0\\n  -20.1000  -40.0390   -2.9260 C   0  0  0  0  0  0  0  0  0  0  0  0\\n  -19.5410  -38.8580   -3.4200 C   0  0  0  0  0  0  0  0  0  0  0  0\\n  -19.5490  -38.6110   -4.7940 C   0  0  0  0  0  0  0  0  0  0  0  0\\n  -20.0920  -39.5630   -5.6630 C   0  0  0  0  0  0  0  0  0  0  0  0\\n  -20.1290  -39.3320   -7.1310 C   0  0  0  0  0  0  0  0  0  0  0  0\\n    1.9199    1.1831   -2.2194 C   0  0  0  0  0  0  0  0  0  0  0  0\\n    0.7861    0.8756   -3.1676 C   0  0  0  0  0  0  0  0  0  0  0  0\\n   -0.3763    0.3290   -2.4009 C   0  0  0  0  0  0  0  0  0  0  0  0\\n  -16.2780  -39.2020   -9.3200 C   0  0  0  0  0  0  0  0  0  0  0  0\\n  -16.2890  -40.3040  -10.1980 C   0  0  1  0  0  0  0  0  0  0  0  0\\n  -15.9080  -41.5710   -9.7390 C   0  0  0  0  0  0  0  0  0  0  0  0\\n  -15.9190  -42.5680  -10.5060 C   0  0  2  0  0  0  0  0  0  0  0  0\\n  -15.5030  -41.7340   -8.3890 C   0  0  0  0  0  0  0  0  0  0  0  0\\n  -15.1220  -43.0760   -7.9240 C   0  0  0  0  0  0  0  0  0  0  0  0\\n  -15.1090  -40.7460   -6.2170 C   0  0  0  0  0  0  0  0  0  0  0  0\\n   -6.1771   -2.0437   -0.0180 O   0  0  0  0  0  0  0  0  0  0  0  0\\n   -5.8630    0.1185    0.6106 N   0  0  0  0  0  0  0  0  0  0  0  0\\n   -7.2854    0.4141    0.5784 C   0  0  0  0  0  0  0  0  0  0  0  0\\n   -4.9457    1.0656    0.9492 C   0  0  0  0  0  0  0  0  0  0  0  0\\n   -5.4689    2.3571    1.2660 N   0  0  0  0  0  0  0  0  0  0  0  0\\n  -15.4950  -40.5980   -7.5260 N   0  0  0  0  0  0  0  0  0  0  0  0\\n    0.7605    0.4920   -0.1615 C   0  0  0  0  0  0  0  0  0  0  0  0\\n    1.3277   -1.1093   -1.3513 C   0  0  0  0  0  0  0  0  0  0  0  0\\n  -20.6380  -40.7370   -5.1580 C   0  0  0  0  0  0  0  0  0  0  0  0\\n  1  2  1  0\\n  2  3  1  0\\n  3  4  2  0\\n  4  5  1  0\\n  5  6  2  0\\n  6  7  1  0\\n  7  8  1  0\\n  8  9  1  0\\n  9 10  1  0\\n 10 11  1  0\\n 11 12  1  0\\n 12 13  1  0\\n 13 14  1  6\\n 14 15  1  0\\n 15 16  1  6\\n 16 17  2  0\\n 17 18  1  0\\n 18 19  2  0\\n 18 20  1  0\\n 20 21  1  0\\n 20 22  1  0\\n 22 23  1  0\\n 22 24  2  0\\n 12 25  1  0\\n 12 26  1  0\\n  7 27  2  0\\n 27  3  1  0\\n 25  8  1  0\\n 26  8  1  0\\n 15 13  1  0\\n 24 16  1  0\\nM  END\\n\",\"sdf\");\n\tviewer_16681453031271644.setStyle({\"stick\": {}});\n\tviewer_16681453031271644.setBackgroundColor(\"0xeeeeee\");\n\tviewer_16681453031271644.zoomTo();\nviewer_16681453031271644.render();\n});\n</script>",
      "text/html": [
       "<div id=\"3dmolviewer_16681453031271644\"  style=\"position: relative; width: 400px; height: 400px\">\n",
       "        <p id=\"3dmolwarning_16681453031271644\" style=\"background-color:#ffcccc;color:black\">You appear to be running in JupyterLab (or JavaScript failed to load for some other reason).  You need to install the 3dmol extension: <br>\n",
       "        <tt>jupyter labextension install jupyterlab_3dmol</tt></p>\n",
       "        </div>\n",
       "<script>\n",
       "\n",
       "var loadScriptAsync = function(uri){\n",
       "  return new Promise((resolve, reject) => {\n",
       "    var tag = document.createElement('script');\n",
       "    tag.src = uri;\n",
       "    tag.async = true;\n",
       "    tag.onload = () => {\n",
       "      resolve();\n",
       "    };\n",
       "  var firstScriptTag = document.getElementsByTagName('script')[0];\n",
       "  firstScriptTag.parentNode.insertBefore(tag, firstScriptTag);\n",
       "});\n",
       "};\n",
       "\n",
       "if(typeof $3Dmolpromise === 'undefined') {\n",
       "$3Dmolpromise = null;\n",
       "  $3Dmolpromise = loadScriptAsync('https://3dmol.csb.pitt.edu/build/3Dmol.js');\n",
       "}\n",
       "\n",
       "var viewer_16681453031271644 = null;\n",
       "var warn = document.getElementById(\"3dmolwarning_16681453031271644\");\n",
       "if(warn) {\n",
       "    warn.parentNode.removeChild(warn);\n",
       "}\n",
       "$3Dmolpromise.then(function() {\n",
       "viewer_16681453031271644 = $3Dmol.createViewer($(\"#3dmolviewer_16681453031271644\"),{backgroundColor:\"white\"});\n",
       "\tviewer_16681453031271644.removeAllModels();\n",
       "\tviewer_16681453031271644.addModel(\"\\n     RDKit          3D\\n\\n 27 31  0  0  0  0  0  0  0  0999 V2000\\n  -21.3380  -43.3460   -4.0910 C   0  0  0  0  0  0  0  0  0  0  0  0\\n  -21.1810  -42.1640   -3.2940 O   0  0  0  0  0  0  0  0  0  0  0  0\\n  -20.6420  -40.9900   -3.7890 C   0  0  0  0  0  0  0  0  0  0  0  0\\n  -20.1000  -40.0390   -2.9260 C   0  0  0  0  0  0  0  0  0  0  0  0\\n  -19.5410  -38.8580   -3.4200 C   0  0  0  0  0  0  0  0  0  0  0  0\\n  -19.5490  -38.6110   -4.7940 C   0  0  0  0  0  0  0  0  0  0  0  0\\n  -20.0920  -39.5630   -5.6630 C   0  0  0  0  0  0  0  0  0  0  0  0\\n  -20.1290  -39.3320   -7.1310 C   0  0  0  0  0  0  0  0  0  0  0  0\\n    1.9199    1.1831   -2.2194 C   0  0  0  0  0  0  0  0  0  0  0  0\\n    0.7861    0.8756   -3.1676 C   0  0  0  0  0  0  0  0  0  0  0  0\\n   -0.3763    0.3290   -2.4009 C   0  0  0  0  0  0  0  0  0  0  0  0\\n  -16.2780  -39.2020   -9.3200 C   0  0  0  0  0  0  0  0  0  0  0  0\\n  -16.2890  -40.3040  -10.1980 C   0  0  1  0  0  0  0  0  0  0  0  0\\n  -15.9080  -41.5710   -9.7390 C   0  0  0  0  0  0  0  0  0  0  0  0\\n  -15.9190  -42.5680  -10.5060 C   0  0  2  0  0  0  0  0  0  0  0  0\\n  -15.5030  -41.7340   -8.3890 C   0  0  0  0  0  0  0  0  0  0  0  0\\n  -15.1220  -43.0760   -7.9240 C   0  0  0  0  0  0  0  0  0  0  0  0\\n  -15.1090  -40.7460   -6.2170 C   0  0  0  0  0  0  0  0  0  0  0  0\\n   -6.1771   -2.0437   -0.0180 O   0  0  0  0  0  0  0  0  0  0  0  0\\n   -5.8630    0.1185    0.6106 N   0  0  0  0  0  0  0  0  0  0  0  0\\n   -7.2854    0.4141    0.5784 C   0  0  0  0  0  0  0  0  0  0  0  0\\n   -4.9457    1.0656    0.9492 C   0  0  0  0  0  0  0  0  0  0  0  0\\n   -5.4689    2.3571    1.2660 N   0  0  0  0  0  0  0  0  0  0  0  0\\n  -15.4950  -40.5980   -7.5260 N   0  0  0  0  0  0  0  0  0  0  0  0\\n    0.7605    0.4920   -0.1615 C   0  0  0  0  0  0  0  0  0  0  0  0\\n    1.3277   -1.1093   -1.3513 C   0  0  0  0  0  0  0  0  0  0  0  0\\n  -20.6380  -40.7370   -5.1580 C   0  0  0  0  0  0  0  0  0  0  0  0\\n  1  2  1  0\\n  2  3  1  0\\n  3  4  2  0\\n  4  5  1  0\\n  5  6  2  0\\n  6  7  1  0\\n  7  8  1  0\\n  8  9  1  0\\n  9 10  1  0\\n 10 11  1  0\\n 11 12  1  0\\n 12 13  1  0\\n 13 14  1  6\\n 14 15  1  0\\n 15 16  1  6\\n 16 17  2  0\\n 17 18  1  0\\n 18 19  2  0\\n 18 20  1  0\\n 20 21  1  0\\n 20 22  1  0\\n 22 23  1  0\\n 22 24  2  0\\n 12 25  1  0\\n 12 26  1  0\\n  7 27  2  0\\n 27  3  1  0\\n 25  8  1  0\\n 26  8  1  0\\n 15 13  1  0\\n 24 16  1  0\\nM  END\\n\",\"sdf\");\n",
       "\tviewer_16681453031271644.setStyle({\"stick\": {}});\n",
       "\tviewer_16681453031271644.setBackgroundColor(\"0xeeeeee\");\n",
       "\tviewer_16681453031271644.zoomTo();\n",
       "viewer_16681453031271644.render();\n",
       "});\n",
       "</script>"
      ]
     },
     "metadata": {},
     "output_type": "display_data"
    }
   ],
   "source": [
    "drawit(inpmol)"
   ]
  },
  {
   "cell_type": "code",
   "execution_count": 196,
   "metadata": {},
   "outputs": [
    {
     "data": {
      "application/3dmoljs_load.v0": "<div id=\"3dmolviewer_1668078388814495\"  style=\"position: relative; width: 400px; height: 400px\">\n        <p id=\"3dmolwarning_1668078388814495\" style=\"background-color:#ffcccc;color:black\">You appear to be running in JupyterLab (or JavaScript failed to load for some other reason).  You need to install the 3dmol extension: <br>\n        <tt>jupyter labextension install jupyterlab_3dmol</tt></p>\n        </div>\n<script>\n\nvar loadScriptAsync = function(uri){\n  return new Promise((resolve, reject) => {\n    var tag = document.createElement('script');\n    tag.src = uri;\n    tag.async = true;\n    tag.onload = () => {\n      resolve();\n    };\n  var firstScriptTag = document.getElementsByTagName('script')[0];\n  firstScriptTag.parentNode.insertBefore(tag, firstScriptTag);\n});\n};\n\nif(typeof $3Dmolpromise === 'undefined') {\n$3Dmolpromise = null;\n  $3Dmolpromise = loadScriptAsync('https://3dmol.csb.pitt.edu/build/3Dmol.js');\n}\n\nvar viewer_1668078388814495 = null;\nvar warn = document.getElementById(\"3dmolwarning_1668078388814495\");\nif(warn) {\n    warn.parentNode.removeChild(warn);\n}\n$3Dmolpromise.then(function() {\nviewer_1668078388814495 = $3Dmol.createViewer($(\"#3dmolviewer_1668078388814495\"),{backgroundColor:\"white\"});\n\tviewer_1668078388814495.removeAllModels();\n\tviewer_1668078388814495.addModel(\"\\n     RDKit          3D\\n\\n 26 29  0  0  0  0  0  0  0  0999 V2000\\n  -15.9190  -42.5680  -10.5060 O   0  0  0  0  0  0  0  0  0  0  0  0\\n  -15.9080  -41.5710   -9.7390 C   0  0  0  0  0  0  0  0  0  0  0  0\\n  -15.5030  -41.7340   -8.3890 N   0  0  0  0  0  0  0  0  0  0  0  0\\n  -15.1220  -43.0760   -7.9240 C   0  0  0  0  0  0  0  0  0  0  0  0\\n  -15.4950  -40.5980   -7.5260 C   0  0  0  0  0  0  0  0  0  0  0  0\\n  -15.1090  -40.7460   -6.2170 N   0  0  0  0  0  0  0  0  0  0  0  0\\n  -15.8760  -39.3700   -8.0190 N   0  0  0  0  0  0  0  0  0  0  0  0\\n  -16.2780  -39.2020   -9.3200 C   0  0  0  0  0  0  0  0  0  0  0  0\\n  -16.2890  -40.3040  -10.1980 C   0  0  0  0  0  0  0  0  0  0  0  0\\n  -16.6700  -37.8580   -9.8340 C   0  0  1  0  0  0  0  0  0  0  0  0\\n  -17.5800  -37.9910  -11.0690 C   0  0  0  0  0  0  0  0  0  0  0  0\\n  -18.1540  -37.4340   -9.7690 C   0  0  1  0  0  0  0  0  0  0  0  0\\n  -19.1790  -38.3200   -9.1240 C   0  0  2  0  0  0  0  0  0  0  0  0\\n  -20.2210  -38.8950   -9.8730 C   0  0  0  0  0  0  0  0  0  0  0  0\\n  -21.1950  -39.6960   -9.2640 C   0  0  0  0  0  0  0  0  0  0  0  0\\n  -21.1530  -39.9140   -7.8880 C   0  0  0  0  0  0  0  0  0  0  0  0\\n  -20.1290  -39.3320   -7.1310 C   0  0  0  0  0  0  0  0  0  0  0  0\\n  -19.1610  -38.5300   -7.7390 C   0  0  0  0  0  0  0  0  0  0  0  0\\n  -20.0920  -39.5630   -5.6630 C   0  0  0  0  0  0  0  0  0  0  0  0\\n  -19.5490  -38.6110   -4.7940 C   0  0  0  0  0  0  0  0  0  0  0  0\\n  -19.5410  -38.8580   -3.4200 C   0  0  0  0  0  0  0  0  0  0  0  0\\n  -20.1000  -40.0390   -2.9260 C   0  0  0  0  0  0  0  0  0  0  0  0\\n  -20.6420  -40.9900   -3.7890 C   0  0  0  0  0  0  0  0  0  0  0  0\\n  -20.6380  -40.7370   -5.1580 C   0  0  0  0  0  0  0  0  0  0  0  0\\n  -21.1810  -42.1640   -3.2940 O   0  0  0  0  0  0  0  0  0  0  0  0\\n  -21.3380  -43.3460   -4.0910 C   0  0  0  0  0  0  0  0  0  0  0  0\\n  2  1  1  0\\n  3  2  1  0\\n  4  3  1  0\\n  5  3  1  0\\n  6  5  1  0\\n  7  5  1  0\\n  8  7  1  0\\n  9  8  1  0\\n  9  2  1  0\\n 10  8  1  1\\n 11 10  1  0\\n 12 11  1  6\\n 12 10  1  0\\n 13 12  1  0\\n 13 14  1  1\\n 15 14  1  0\\n 16 15  1  0\\n 17 16  1  0\\n 18 17  1  0\\n 18 13  1  0\\n 19 17  1  0\\n 20 19  1  0\\n 21 20  1  0\\n 22 21  1  0\\n 23 22  1  0\\n 24 19  1  0\\n 24 23  1  0\\n 25 23  1  0\\n 26 25  1  0\\nM  END\\n\",\"sdf\");\n\tviewer_1668078388814495.setStyle({\"stick\": {}});\n\tviewer_1668078388814495.setBackgroundColor(\"0xeeeeee\");\n\tviewer_1668078388814495.zoomTo();\nviewer_1668078388814495.render();\n});\n</script>",
      "text/html": [
       "<div id=\"3dmolviewer_1668078388814495\"  style=\"position: relative; width: 400px; height: 400px\">\n",
       "        <p id=\"3dmolwarning_1668078388814495\" style=\"background-color:#ffcccc;color:black\">You appear to be running in JupyterLab (or JavaScript failed to load for some other reason).  You need to install the 3dmol extension: <br>\n",
       "        <tt>jupyter labextension install jupyterlab_3dmol</tt></p>\n",
       "        </div>\n",
       "<script>\n",
       "\n",
       "var loadScriptAsync = function(uri){\n",
       "  return new Promise((resolve, reject) => {\n",
       "    var tag = document.createElement('script');\n",
       "    tag.src = uri;\n",
       "    tag.async = true;\n",
       "    tag.onload = () => {\n",
       "      resolve();\n",
       "    };\n",
       "  var firstScriptTag = document.getElementsByTagName('script')[0];\n",
       "  firstScriptTag.parentNode.insertBefore(tag, firstScriptTag);\n",
       "});\n",
       "};\n",
       "\n",
       "if(typeof $3Dmolpromise === 'undefined') {\n",
       "$3Dmolpromise = null;\n",
       "  $3Dmolpromise = loadScriptAsync('https://3dmol.csb.pitt.edu/build/3Dmol.js');\n",
       "}\n",
       "\n",
       "var viewer_1668078388814495 = null;\n",
       "var warn = document.getElementById(\"3dmolwarning_1668078388814495\");\n",
       "if(warn) {\n",
       "    warn.parentNode.removeChild(warn);\n",
       "}\n",
       "$3Dmolpromise.then(function() {\n",
       "viewer_1668078388814495 = $3Dmol.createViewer($(\"#3dmolviewer_1668078388814495\"),{backgroundColor:\"white\"});\n",
       "\tviewer_1668078388814495.removeAllModels();\n",
       "\tviewer_1668078388814495.addModel(\"\\n     RDKit          3D\\n\\n 26 29  0  0  0  0  0  0  0  0999 V2000\\n  -15.9190  -42.5680  -10.5060 O   0  0  0  0  0  0  0  0  0  0  0  0\\n  -15.9080  -41.5710   -9.7390 C   0  0  0  0  0  0  0  0  0  0  0  0\\n  -15.5030  -41.7340   -8.3890 N   0  0  0  0  0  0  0  0  0  0  0  0\\n  -15.1220  -43.0760   -7.9240 C   0  0  0  0  0  0  0  0  0  0  0  0\\n  -15.4950  -40.5980   -7.5260 C   0  0  0  0  0  0  0  0  0  0  0  0\\n  -15.1090  -40.7460   -6.2170 N   0  0  0  0  0  0  0  0  0  0  0  0\\n  -15.8760  -39.3700   -8.0190 N   0  0  0  0  0  0  0  0  0  0  0  0\\n  -16.2780  -39.2020   -9.3200 C   0  0  0  0  0  0  0  0  0  0  0  0\\n  -16.2890  -40.3040  -10.1980 C   0  0  0  0  0  0  0  0  0  0  0  0\\n  -16.6700  -37.8580   -9.8340 C   0  0  1  0  0  0  0  0  0  0  0  0\\n  -17.5800  -37.9910  -11.0690 C   0  0  0  0  0  0  0  0  0  0  0  0\\n  -18.1540  -37.4340   -9.7690 C   0  0  1  0  0  0  0  0  0  0  0  0\\n  -19.1790  -38.3200   -9.1240 C   0  0  2  0  0  0  0  0  0  0  0  0\\n  -20.2210  -38.8950   -9.8730 C   0  0  0  0  0  0  0  0  0  0  0  0\\n  -21.1950  -39.6960   -9.2640 C   0  0  0  0  0  0  0  0  0  0  0  0\\n  -21.1530  -39.9140   -7.8880 C   0  0  0  0  0  0  0  0  0  0  0  0\\n  -20.1290  -39.3320   -7.1310 C   0  0  0  0  0  0  0  0  0  0  0  0\\n  -19.1610  -38.5300   -7.7390 C   0  0  0  0  0  0  0  0  0  0  0  0\\n  -20.0920  -39.5630   -5.6630 C   0  0  0  0  0  0  0  0  0  0  0  0\\n  -19.5490  -38.6110   -4.7940 C   0  0  0  0  0  0  0  0  0  0  0  0\\n  -19.5410  -38.8580   -3.4200 C   0  0  0  0  0  0  0  0  0  0  0  0\\n  -20.1000  -40.0390   -2.9260 C   0  0  0  0  0  0  0  0  0  0  0  0\\n  -20.6420  -40.9900   -3.7890 C   0  0  0  0  0  0  0  0  0  0  0  0\\n  -20.6380  -40.7370   -5.1580 C   0  0  0  0  0  0  0  0  0  0  0  0\\n  -21.1810  -42.1640   -3.2940 O   0  0  0  0  0  0  0  0  0  0  0  0\\n  -21.3380  -43.3460   -4.0910 C   0  0  0  0  0  0  0  0  0  0  0  0\\n  2  1  1  0\\n  3  2  1  0\\n  4  3  1  0\\n  5  3  1  0\\n  6  5  1  0\\n  7  5  1  0\\n  8  7  1  0\\n  9  8  1  0\\n  9  2  1  0\\n 10  8  1  1\\n 11 10  1  0\\n 12 11  1  6\\n 12 10  1  0\\n 13 12  1  0\\n 13 14  1  1\\n 15 14  1  0\\n 16 15  1  0\\n 17 16  1  0\\n 18 17  1  0\\n 18 13  1  0\\n 19 17  1  0\\n 20 19  1  0\\n 21 20  1  0\\n 22 21  1  0\\n 23 22  1  0\\n 24 19  1  0\\n 24 23  1  0\\n 25 23  1  0\\n 26 25  1  0\\nM  END\\n\",\"sdf\");\n",
       "\tviewer_1668078388814495.setStyle({\"stick\": {}});\n",
       "\tviewer_1668078388814495.setBackgroundColor(\"0xeeeeee\");\n",
       "\tviewer_1668078388814495.zoomTo();\n",
       "viewer_1668078388814495.render();\n",
       "});\n",
       "</script>"
      ]
     },
     "metadata": {},
     "output_type": "display_data"
    }
   ],
   "source": [
    "pdb = Chem.MolFromPDBBlock(lig_Block)\n",
    "drawit(pdb)"
   ]
  },
  {
   "cell_type": "code",
   "execution_count": 174,
   "metadata": {},
   "outputs": [],
   "source": [
    "def phe2bch_with_smiles(smi):\n",
    "    # 用于将给定配体中的*间位苯环骨架*替换为*螺旋桨烷骨架*的脚本\n",
    "    # 用smi指定ligand的结构\n",
    "\n",
    "    # 读入分子\n",
    "    mol = Chem.MolFromSmiles(smi)\n",
    "    # 识别间位取代部分: * 匹配任意原子；'!:' 非芳香键； *!:ccc(!:*)ccc 含间位取代的苯环\n",
    "    patt = Chem.MolFromSmarts(\"*!:ccc(!:*)ccc\")\n",
    "    match = mol.GetSubstructMatches(patt)\n",
    "    \n",
    "    # 识别需要被替换苯环原子\n",
    "    ri = mol.GetRingInfo()\n",
    "    for r in ri.AtomRings():\n",
    "        count = 0\n",
    "        for item in match[0]:\n",
    "            if item in set(r):\n",
    "                count+=1\n",
    "        if count == len(match[0])-2:\n",
    "            phenyl_num = set(r)\n",
    "    # 识别两个间位取代基与苯环的连接原子\n",
    "    connect_atoms = list(set(match[0])-phenyl_num)\n",
    "    # 记录第一部分的原子数目\n",
    "    mol1_Atom_num = mol.GetNumAtoms()\n",
    "    # 引入螺旋桨烷，并将其与原分子置于一处，使得其编号从·mol1_Atom_num+0·开始\n",
    "    re_pat = Chem.MolFromSmiles(\"C12CCCC(C2)C1\")\n",
    "    mid_mol = Chem.CombineMols(mol,re_pat)\n",
    "    # 开始成键\n",
    "    mid_edited = Chem.EditableMol(mid_mol)\n",
    "    # 螺旋桨烷烃的桥头碳分别为mol1_Atom_num和mol1_Atom_num+4\n",
    "    mid_edited.AddBond(connect_atoms[0],mol1_Atom_num,order=Chem.rdchem.BondType.SINGLE)\n",
    "    mid_edited.AddBond(connect_atoms[1],mol1_Atom_num+4,order=Chem.rdchem.BondType.SINGLE)\n",
    "    # 删除原来的苯环\n",
    "    # 每删除一个原子后原子序号都会发生改变，所以需要倒序删除。\n",
    "    phenyl_atoms = list(phenyl_num)\n",
    "    phenyl_atoms.sort(reverse=True)\n",
    "    for i in phenyl_atoms:\n",
    "        mid_edited.RemoveAtom(i)\n",
    "    BCHep_mol = mid_edited.GetMol()\n",
    "    return [BCHep_mol,mol1_Atom_num-6]  \n",
    "\n",
    "test = phe2bch_with_smiles(\"Cc1c(sc(n1)N)c2ccnc(n2)Nc3cccc(c3)n4oo4\")"
   ]
  },
  {
   "cell_type": "code",
   "execution_count": 8,
   "metadata": {},
   "outputs": [],
   "source": [
    "def getpdb(refmol,inpmol,pdbfile):\n",
    "    mcs = rdFMCS.FindMCS([refmol, inpmol],timeout=3,bondCompare=rdFMCS.BondCompare.CompareOrderExact)\n",
    "    bonded_conf = refmol.GetConformer()\n",
    "    conf_res = inpmol.GetConformer()\n",
    "    inpmol_prop = Chem.rdForceFieldHelpers.MMFFGetMoleculeProperties(inpmol)\n",
    "    ff_mcs = Chem.rdForceFieldHelpers.MMFFGetMoleculeForceField(inpmol,inpmol_prop)\n",
    "    for i, j in zip(refmol.GetSubstructMatch(mcs.queryMol), inpmol.GetSubstructMatch(mcs.queryMol)):\n",
    "        ff_mcs.AddFixedPoint(j)\n",
    "        conf_res.SetAtomPosition(j, bonded_conf.GetAtomPosition(i))\n",
    "    Chem.MolToPDBFile(inpmol, pdbfile)\n",
    "    return inpmol\n"
   ]
  }
 ],
 "metadata": {
  "kernelspec": {
   "display_name": "Python 3.8.13 ('rdkit_new')",
   "language": "python",
   "name": "python3"
  },
  "language_info": {
   "codemirror_mode": {
    "name": "ipython",
    "version": 3
   },
   "file_extension": ".py",
   "mimetype": "text/x-python",
   "name": "python",
   "nbconvert_exporter": "python",
   "pygments_lexer": "ipython3",
   "version": "3.8.13"
  },
  "orig_nbformat": 4,
  "vscode": {
   "interpreter": {
    "hash": "ef7ff853cff2c5df01e22c007126fc9faf677f8af9c79862f6155dbd80f6c983"
   }
  }
 },
 "nbformat": 4,
 "nbformat_minor": 2
}
