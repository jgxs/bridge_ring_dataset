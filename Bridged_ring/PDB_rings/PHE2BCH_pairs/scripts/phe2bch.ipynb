{
 "cells": [
  {
   "cell_type": "code",
   "execution_count": 1,
   "metadata": {},
   "outputs": [],
   "source": [
    "from rdkit import Chem\n",
    "from rdkit.Chem import AllChem\n",
    "from rdkit.Chem import rdFMCS\n",
    "from rdkit.Chem.Draw import IPythonConsole\n",
    "from rdkit.Chem import rdRGroupDecomposition as rdRGD\n",
    "# 显示图片\n",
    "\n",
    "import py3Dmol\n",
    "def drawit(m,p=None,confId=-1):\n",
    "        mb = Chem.MolToMolBlock(m,confId=confId)\n",
    "        if p is None:\n",
    "            p = py3Dmol.view(width=400,height=400)\n",
    "        p.removeAllModels()\n",
    "        p.addModel(mb,'sdf')\n",
    "        p.setStyle({'stick':{}})\n",
    "        p.setBackgroundColor('0xeeeeee')\n",
    "        p.zoomTo()\n",
    "        return p.show()\n",
    "\n",
    "def mol_with_atom_index(mol):\n",
    "    atoms = mol.GetNumAtoms()\n",
    "    for idx in range(atoms):\n",
    "        mol.GetAtomWithIdx(idx).SetProp('molAtomMapNumber',str(idx))\n",
    "    return mol"
   ]
  },
  {
   "cell_type": "code",
   "execution_count": 12,
   "metadata": {},
   "outputs": [
    {
     "name": "stdout",
     "output_type": "stream",
     "text": [
      "18\n",
      "18\n",
      "1\n"
     ]
    },
    {
     "name": "stderr",
     "output_type": "stream",
     "text": [
      "[14:48:39] WARNING: More than one matching pattern found - picking one\n",
      "\n"
     ]
    }
   ],
   "source": [
    "ligands_smi = {}\n",
    "with open(\"/home/chengyj/kinase_work/dataset/Bridged_ring/PDB_rings/PHE2BCH_pairs/lig_menu/AaaaA_only3.csv\") as AaaaA:\n",
    "    for line in AaaaA:\n",
    "        info = line.split()\n",
    "        ligands_smi[info[1]] = [info[0]]\n",
    "\n",
    "def pdb_2_lig_block(pdb_path,lig_id,smiles):\n",
    "    # 抽取pdbfile中的ligand部分\n",
    "    # rdkit可读字符串形式的pdbBlock\n",
    "    num = Chem.MolFromSmiles(smiles).GetNumAtoms()\n",
    "    ligand_lines = []\n",
    "    with open(pdb_path) as ent:\n",
    "        for line in ent:\n",
    "            if line[0:6] == \"HETATM\" and line[17:20] == lig_id and line[77] != 'H':\n",
    "                ligand_lines.append(line)\n",
    "    ligand_start = 0\n",
    "    ligand_end = len(ligand_lines)\n",
    "    for i in range(1,len(ligand_lines)):\n",
    "        if ligand_lines[i][17:26] != ligand_lines[i-1][17:26]:\n",
    "            # print(ligand_lines[i])\n",
    "            ligand_end = i\n",
    "            if ligand_end - ligand_start >= num:\n",
    "                print(f\"break {ligand_lines[i]}\")\n",
    "                break\n",
    "            else:\n",
    "                ligand_start = i\n",
    "                ligand_end = len(ligand_lines)\n",
    "        else:\n",
    "            pass\n",
    "    print(num)\n",
    "    print(ligand_end - ligand_start)\n",
    "    if ligand_end - ligand_start <= 2*num:\n",
    "        print(1)\n",
    "        lig_Block=\"\".join(ligand_lines[ligand_start:ligand_end])\n",
    "    else:\n",
    "        print(2)\n",
    "        lig_Block=\"\".join(ligand_lines[ligand_start:ligand_start+num])\n",
    "    return lig_Block\n",
    "\n",
    "key='0FS'\n",
    "pdb_id='3vc4'\n",
    "lig_smi=ligands_smi[key][0]\n",
    "pdb_path = f\"/home/chengyj/kinase_work/dataset/Bridged_ring/PDB_rings/PHE2BCH_pairs/pdb_dataset/pdb/pdb{pdb_id}.ent\"\n",
    "lig_Block = pdb_2_lig_block(pdb_path,key,lig_smi)\n",
    "structure_from_pdb = Chem.MolFromPDBBlock(lig_Block)\n",
    "mol_tem = Chem.MolFromSmiles(lig_smi)\n",
    "structure_refine = AllChem.AssignBondOrdersFromTemplate(mol_tem,structure_from_pdb)\n",
    "ligwithH = Chem.AddHs(structure_from_pdb,addCoords=True)\n",
    "ligwithH\n",
    "Chem.MolToPDBFile(ligwithH,\"test.pdb\")\n"
   ]
  },
  {
   "cell_type": "code",
   "execution_count": 4,
   "metadata": {},
   "outputs": [],
   "source": [
    "def get_connect_atom_in_core(orimol,sidechain_atom_idxes):\n",
    "    # mol is the whole molecule, the sidechain_atom_idx is the a tuple of the atom idx of a sidechain;\n",
    "    # this function will get the atom connected with the .\n",
    "    connect_atoms_in_core = []\n",
    "    for idx in sidechain_atom_idxes:\n",
    "        for atom in orimol.GetAtomWithIdx(idx).GetNeighbors():\n",
    "            if atom.GetIdx() not in sidechain_atom_idxes:\n",
    "                connect_atoms_in_core.append(atom.GetIdx())\n",
    "    return connect_atoms_in_core"
   ]
  },
  {
   "cell_type": "code",
   "execution_count": 5,
   "metadata": {},
   "outputs": [],
   "source": [
    "def get_connect_atom_in_sidechain(orimol,core):\n",
    "    rings = orimol.GetRingInfo()\n",
    "    for r in rings.AtomRings():\n",
    "        count = 0\n",
    "        for idx in core:\n",
    "            if idx in set(r):\n",
    "                count += 1\n",
    "        if count == len(core) - 2:\n",
    "            core_atom_idx = set(r)\n",
    "            connect_atom_in_sidechain = set(core) - core_atom_idx\n",
    "    return list(connect_atom_in_sidechain)\n"
   ]
  },
  {
   "cell_type": "code",
   "execution_count": 6,
   "metadata": {},
   "outputs": [
    {
     "data": {
      "image/png": "[encoded data removed]",
      "text/plain": [
       "<rdkit.Chem.rdchem.Mol at 0x7fbbdaf41120>"
      ]
     },
     "execution_count": 6,
     "metadata": {},
     "output_type": "execute_result"
    }
   ],
   "source": [
    "def phe2bch_test(smi):\n",
    "    # 用于将给定配体中的*间位苯环骨架*替换为*螺旋桨烷骨架*的脚本\n",
    "    # 用smi指定ligand的结构\n",
    "\n",
    "    # 读入分子\n",
    "    mol = Chem.MolFromSmiles(smi)\n",
    "    # 识别间位取代部分: * 匹配任意原子；'!:' 非芳香键； *!:ccc(!:*)ccc 含间位取代的苯环\n",
    "    patt = Chem.MolFromSmarts(\"*!:ccc(!:*)ccc\")\n",
    "    match = mol.GetSubstructMatches(patt)\n",
    "    \n",
    "    # 识别两个间位取代基与苯环的连接原子\n",
    "    connect_atoms = get_connect_atom_in_sidechain(mol,match[0])\n",
    "    # 识别需要被替换苯环原子\n",
    "    core = set(match[0])-set(connect_atoms)\n",
    "\n",
    "    # 记录第一部分的原子数目\n",
    "    mol1_Atom_num = mol.GetNumAtoms()\n",
    "\n",
    "    # 引入螺旋桨烷，并将其与原分子置于一处，使得其编号从·mol1_Atom_num+0·开始\n",
    "    re_pat = Chem.MolFromSmiles(\"C12CCCC(C2)C1\")\n",
    "    mid_mol = Chem.CombineMols(mol,re_pat)\n",
    "    mid_edited = Chem.EditableMol(mid_mol)\n",
    "\n",
    "    # 开始成键,螺旋桨烷烃的桥头碳分别为mol1_Atom_num和mol1_Atom_num+4\n",
    "    mid_edited.AddBond(connect_atoms[0],mol1_Atom_num,order=Chem.rdchem.BondType.SINGLE)\n",
    "    mid_edited.AddBond(connect_atoms[1],mol1_Atom_num+4,order=Chem.rdchem.BondType.SINGLE)\n",
    "    # 删除原来的苯环,每删除一个原子后原子序号都会发生改变，所以需要倒序删除。\n",
    "    phenyl_atoms = list(core)\n",
    "    phenyl_atoms.sort(reverse=True)\n",
    "    for i in phenyl_atoms:\n",
    "        mid_edited.RemoveAtom(i)\n",
    "    BCHep_mol = mid_edited.GetMol()\n",
    "    return BCHep_mol\n",
    "\n",
    "test = phe2bch_test(\"CN1C(=O)C=C(N=C1N)[C@H]2C[C@H]2c3cccc(c3)c4cccc(c4)OC\")\n",
    "mol_with_atom_index(test)"
   ]
  },
  {
   "cell_type": "code",
   "execution_count": 7,
   "metadata": {},
   "outputs": [],
   "source": [
    "def copy_partconf(refmol,refconf,partsmi,inpmol,inpconf,inpff):\n",
    "    # introduct a middle mol for \n",
    "    partmol = Chem.MolFromSmarts(partsmi)\n",
    "    partmol = Chem.AddHs(partmol)\n",
    "    AllChem.EmbedMolecule(partmol)\n",
    "    partmol = Chem.RemoveAllHs(partmol)\n",
    "    partconf = partmol.GetConformer()\n",
    "\n",
    "    # copy conf from refmol to middle mol\n",
    "    mcs_ref2part = rdFMCS.FindMCS([refmol, partmol],timeout=3)\n",
    "    for i, j in zip(refmol.GetSubstructMatch(mcs_ref2part),partmol.GetSubstructMatch(mcs_ref2part)):\n",
    "        partconf.SetAtomPosition(j,refconf.GetAtomPosition(i))\n",
    "    mcs_part2inp = rdFMCS.FindMCS([inpmol, partmol],timeout=3)\n",
    "    \n",
    "    # copy conf from middle mol to inpmol\n",
    "    for i, j in zip(partmol.GetSubstructMatch(mcs_part2inp),inpmol.GetSubstructMatch(mcs_part2inp)):\n",
    "        inpff.AddFixedPoint(j)\n",
    "        inpconf.SetAtomPosition(j,partconf.GetAtomPosition(i))\n",
    "    return 0\n",
    "\n"
   ]
  },
  {
   "cell_type": "code",
   "execution_count": 8,
   "metadata": {},
   "outputs": [],
   "source": [
    "def getpdb_test(refmol,inpmol,pdbfile):\n",
    "    \n",
    "    bonded_conf = refmol.GetConformer()\n",
    "    conf_res = inpmol.GetConformer()\n",
    "    inpmol_prop = Chem.rdForceFieldHelpers.MMFFGetMoleculeProperties(inpmol)\n",
    "    if inpmol_prop:\n",
    "        ff_mcs = Chem.rdForceFieldHelpers.MMFFGetMoleculeForceField(inpmol,inpmol_prop)\n",
    "    else:\n",
    "        ff_mcs = Chem.rdForceFieldHelpers.UFFGetMoleculeForceField(inpmol)\n",
    "\n",
    "\n",
    "    core = Chem.MolFromSmiles(\"C12CCCC(C2)C1\")\n",
    "    side_chains, unmatched = rdRGD.RGroupDecompose([core],[inpmol])\n",
    "    for R in ['R1','R2']:\n",
    "        sidechain = side_chains[0][R]\n",
    "        sidechain_conf = sidechain.GetConformer()\n",
    "\n",
    "        mcs_ref2mid = rdFMCS.FindMCS([refmol, sidechain],timeout=3,bondCompare=rdFMCS.BondCompare.CompareAny)\n",
    "        for i, j in zip(refmol.GetSubstructMatch(mcs_ref2mid.queryMol),sidechain.GetSubstructMatch(mcs_ref2mid.queryMol)):\n",
    "            sidechain_conf.SetAtomPosition(j, bonded_conf.GetAtomPosition(i))\n",
    "        \n",
    "        mcs_mid2inp = rdFMCS.FindMCS([inpmol, sidechain],timeout=3,bondCompare=rdFMCS.BondCompare.CompareOrderExact)\n",
    "        for i, j in zip(sidechain.GetSubstructMatch(mcs_mid2inp.queryMol),inpmol.GetSubstructMatch(mcs_mid2inp.queryMol)):\n",
    "            try:\n",
    "                ff_mcs.AddFixedPoint(j)\n",
    "                conf_res.SetAtomPosition(j, sidechain_conf.GetAtomPosition(i))\n",
    "            except:\n",
    "                print(f\"error {inpmol.GetAtomWithIdx(j).GetSymbol()}\")\n",
    "        \n",
    "        mcs1 = rdFMCS.FindMCS([refmol, sidechain],timeout=3,bondCompare=rdFMCS.BondCompare.CompareAny)\n",
    "        mcs3 = rdFMCS.FindMCS([inpmol, sidechain],timeout=3,bondCompare=rdFMCS.BondCompare.CompareOrderExact)\n",
    "        sidechain_ref = refmol.GetSubstructMatch(mcs1.queryMol)\n",
    "        sidechain_gen = inpmol.GetSubstructMatch(mcs3.queryMol)\n",
    "        atom_connect_sidechain_core_ref = get_connect_atom_in_core(refmol, sidechain_ref)[0]\n",
    "        atom_connect_sidechain_core_gen = get_connect_atom_in_core(inpmol, sidechain_gen)[0]\n",
    "        ff_mcs.AddFixedPoint(atom_connect_sidechain_core_gen)\n",
    "        conf_res.SetAtomPosition(atom_connect_sidechain_core_gen,bonded_conf.GetAtomPosition(atom_connect_sidechain_core_ref))\n",
    "        \n",
    "    for i in range(6):\n",
    "        try:\n",
    "            ff_mcs.Minimize()\n",
    "        except:\n",
    "            pass\n",
    "\n",
    "#    for i, j in zip(refmol.GetSubstructMatch(mcs.queryMol), inpmol.GetSubstructMatch(mcs.queryMol)):\n",
    "#        ff_mcs.AddFixedPoint(j)\n",
    "#        conf_res.SetAtomPosition(j, bonded_conf.GetAtomPosition(i))\n",
    "#    for i in range(10):\n",
    "#        try:\n",
    "#            ff_mcs.Minimize()\n",
    "#        except:\n",
    "#            pass\n",
    "    Chem.MolToPDBFile(inpmol, pdbfile)\n",
    "    return inpmol"
   ]
  },
  {
   "cell_type": "code",
   "execution_count": 9,
   "metadata": {},
   "outputs": [],
   "source": [
    "def phe2bch_topdb_test(smi0,refpdb,name):\n",
    "    mol = phe2bch_test(smi0)\n",
    "    smi = Chem.MolToSmiles(mol)\n",
    "    mol = Chem.MolFromSmiles(smi)\n",
    "    mol = Chem.AddHs(mol)\n",
    "    AllChem.EmbedMolecule(mol)\n",
    "    mol = Chem.RemoveAllHs(mol)\n",
    "\n",
    "    structure_from_pdb = Chem.MolFromPDBBlock(refpdb)\n",
    "    structure_from_pdb = Chem.RemoveAllHs(structure_from_pdb)\n",
    "    mol_tem = Chem.MolFromSmiles(smi0)\n",
    "    try:\n",
    "        structure_refine = AllChem.AssignBondOrdersFromTemplate(mol_tem,structure_from_pdb)\n",
    "    except:\n",
    "        structure_refine = structure_from_pdb\n",
    "    return getpdb_test(structure_refine,mol,f\"{name}\")"
   ]
  },
  {
   "cell_type": "code",
   "execution_count": 10,
   "metadata": {},
   "outputs": [
    {
     "name": "stdout",
     "output_type": "stream",
     "text": [
      "27\n",
      "26\n",
      "1\n"
     ]
    },
    {
     "data": {
      "image/png": "[encoded data removed]",
      "text/plain": [
       "<rdkit.Chem.rdchem.Mol at 0x7fbbdaf41d60>"
      ]
     },
     "execution_count": 10,
     "metadata": {},
     "output_type": "execute_result"
    }
   ],
   "source": [
    "key='PIX'\n",
    "pdbid='3lj6'\n",
    "lig_smi=ligands_smi[key][0]\n",
    "pdb_file_path=f\"/home/chengyj/kinase_work/dataset/Bridged_ring/PDB_rings/lig_in_pdb/pdb_dataset/pdb/pdb{pdbid}.ent\"\n",
    "lig_Block = pdb_2_lig_block(pdb_file_path,key,lig_smi)\n",
    "ligand_text = []\n",
    "with open(pdb_file_path) as pdb:\n",
    "    for line in pdb:\n",
    "        if line[0:6] == \"HETATM\" and \"HOH\" not in line and \"WAT\" not in line and \"SO4\" not in line:\n",
    "            ligand_text.append(line)\n",
    "lig_re_test = \"\".join(ligand_text) \n",
    "mol = Chem.MolFromSmiles(lig_smi)\n",
    "# test = phe2bch_topdb_test(lig_smi,lig_Block,f\"{key}_{pdbid}.pdb\")\n",
    "# drawit(test)\n",
    "mol\n"
   ]
  },
  {
   "cell_type": "code",
   "execution_count": 11,
   "metadata": {},
   "outputs": [
    {
     "data": {
      "image/png": "[encoded data removed]",
      "text/plain": [
       "<rdkit.Chem.rdchem.Mol at 0x7fbbdaf41eb0>"
      ]
     },
     "execution_count": 11,
     "metadata": {},
     "output_type": "execute_result"
    }
   ],
   "source": [
    "mol_file = Chem.MolFromPDBBlock(lig_Block,sanitize=False,flavor=1)\n",
    "Chem.AddHs(mol_file)\n",
    "mol_file"
   ]
  },
  {
   "cell_type": "code",
   "execution_count": 14,
   "metadata": {},
   "outputs": [],
   "source": [
    "smi0,refpdb,name = lig_smi,lig_Block,f\"{key}_{pdbid}.pdb\"\n",
    "mol = phe2bch_test(smi0)\n",
    "smi = Chem.MolToSmiles(mol)\n",
    "mol = Chem.MolFromSmiles(smi)\n",
    "mol = Chem.AddHs(mol)\n",
    "AllChem.EmbedMolecule(mol)\n",
    "mol = Chem.RemoveAllHs(mol)\n",
    "\n",
    "structure_from_pdb = Chem.MolFromPDBBlock(refpdb)\n",
    "structure_from_pdb = Chem.RemoveAllHs(structure_from_pdb)\n",
    "mol_tem = Chem.MolFromSmiles(smi0)\n",
    "mol_tem = Chem.RemoveHs(mol_tem,sanitize=False)\n",
    "try:\n",
    "    structure_refine = AllChem.AssignBondOrdersFromTemplate(mol_tem,structure_from_pdb)\n",
    "except:\n",
    "    structure_refine = structure_from_pdb\n"
   ]
  },
  {
   "cell_type": "code",
   "execution_count": 15,
   "metadata": {},
   "outputs": [
    {
     "data": {
      "image/png": "[encoded data removed]",
      "text/plain": [
       "<rdkit.Chem.rdchem.Mol at 0x7fbbdae805f0>"
      ]
     },
     "execution_count": 15,
     "metadata": {},
     "output_type": "execute_result"
    }
   ],
   "source": [
    "mol_tem"
   ]
  },
  {
   "cell_type": "code",
   "execution_count": 16,
   "metadata": {},
   "outputs": [
    {
     "data": {
      "image/png": "[encoded data removed]",
      "text/plain": [
       "<rdkit.Chem.rdchem.Mol at 0x7fbbdaf41dd0>"
      ]
     },
     "execution_count": 16,
     "metadata": {},
     "output_type": "execute_result"
    }
   ],
   "source": [
    "mol"
   ]
  },
  {
   "cell_type": "code",
   "execution_count": 17,
   "metadata": {},
   "outputs": [
    {
     "name": "stdout",
     "output_type": "stream",
     "text": [
      "<rdkit.ForceField.rdForceField.ForceField object at 0x7fbbdae80ba0>\n"
     ]
    },
    {
     "name": "stderr",
     "output_type": "stream",
     "text": [
      "[10:17:02] Molecule does not have explicit Hs. Consider calling AddHs()\n"
     ]
    }
   ],
   "source": [
    "refmol,inpmol,pdbfile =structure_refine,mol,f\"{name}\"\n",
    "    \n",
    "bonded_conf = refmol.GetConformer()\n",
    "conf_res = inpmol.GetConformer()\n",
    "inpmol_prop = Chem.rdForceFieldHelpers.MMFFGetMoleculeProperties(inpmol,mmffVariant='MMFF94s')\n",
    "ff_mcs = Chem.rdForceFieldHelpers.MMFFGetMoleculeForceField(inpmol,inpmol_prop)\n",
    "print(ff_mcs)"
   ]
  },
  {
   "cell_type": "code",
   "execution_count": 18,
   "metadata": {},
   "outputs": [
    {
     "data": {
      "application/3dmoljs_load.v0": "<div id=\"3dmolviewer_16685650246191764\"  style=\"position: relative; width: 400px; height: 400px\">\n        <p id=\"3dmolwarning_16685650246191764\" style=\"background-color:#ffcccc;color:black\">You appear to be running in JupyterLab (or JavaScript failed to load for some other reason).  You need to install the 3dmol extension: <br>\n        <tt>jupyter labextension install jupyterlab_3dmol</tt></p>\n        </div>\n<script>\n\nvar loadScriptAsync = function(uri){\n  return new Promise((resolve, reject) => {\n    var tag = document.createElement('script');\n    tag.src = uri;\n    tag.async = true;\n    tag.onload = () => {\n      resolve();\n    };\n  var firstScriptTag = document.getElementsByTagName('script')[0];\n  firstScriptTag.parentNode.insertBefore(tag, firstScriptTag);\n});\n};\n\nif(typeof $3Dmolpromise === 'undefined') {\n$3Dmolpromise = null;\n  $3Dmolpromise = loadScriptAsync('https://cdn.jsdelivr.net/npm/3dmol@latest/build/3Dmol-min.min.js');\n}\n\nvar viewer_16685650246191764 = null;\nvar warn = document.getElementById(\"3dmolwarning_16685650246191764\");\nif(warn) {\n    warn.parentNode.removeChild(warn);\n}\n$3Dmolpromise.then(function() {\nviewer_16685650246191764 = $3Dmol.createViewer($(\"#3dmolviewer_16685650246191764\"),{backgroundColor:\"white\"});\nviewer_16685650246191764.zoomTo();\n\tviewer_16685650246191764.removeAllModels();\n\tviewer_16685650246191764.addModel(\"\\n     RDKit          3D\\n\\n 12 12  0  0  0  0  0  0  0  0999 V2000\\n    2.0391   -1.2237    0.1926 O   0  0  0  0  0  0  0  0  0  0  0  0\\n    3.3904   -1.2295   -0.1555 C   0  0  0  0  0  0  0  0  0  0  0  0\\n    3.8616   -1.3107   -1.3952 C   0  0  0  0  0  0  0  0  0  0  0  0\\n    5.2520   -1.3004   -1.6200 C   0  0  0  0  0  0  0  0  0  0  0  0\\n    6.0971   -1.2101   -0.5321 C   0  0  0  0  0  0  0  0  0  0  0  0\\n    7.5806   -1.2097   -0.6708 C   0  0  0  0  0  0  0  0  0  0  0  0\\n    8.0243   -1.6443   -1.8668 F   0  0  0  0  0  0  0  0  0  0  0  0\\n    8.0441    0.0938   -0.4703 F   0  0  0  0  0  0  0  0  0  0  0  0\\n    8.0668   -1.9644    0.3849 F   0  0  0  0  0  0  0  0  0  0  0  0\\n    5.5791   -1.1287    0.7470 C   0  0  0  0  0  0  0  0  0  0  0  0\\n    4.2699   -1.1355    0.9423 N   0  0  0  0  0  0  0  0  0  0  0  0\\n    1.4354    0.0579    0.1902 R#  0  0  0  0  0  0  0  0  0  2  0  0\\n  1  2  1  0\\n  2  3  2  0\\n  3  4  1  0\\n  4  5  2  0\\n  5  6  1  0\\n  6  7  1  0\\n  6  8  1  0\\n  6  9  1  0\\n  5 10  1  0\\n 10 11  2  0\\n 11  2  1  0\\n 12  1  1  0\\nM  RGP  1  12   2\\nM  END\\n\",\"sdf\");\n\tviewer_16685650246191764.setStyle({\"stick\": {}});\n\tviewer_16685650246191764.setBackgroundColor(\"0xeeeeee\");\n\tviewer_16685650246191764.zoomTo();\nviewer_16685650246191764.render();\n});\n</script>",
      "text/html": [
       "<div id=\"3dmolviewer_16685650246191764\"  style=\"position: relative; width: 400px; height: 400px\">\n",
       "        <p id=\"3dmolwarning_16685650246191764\" style=\"background-color:#ffcccc;color:black\">You appear to be running in JupyterLab (or JavaScript failed to load for some other reason).  You need to install the 3dmol extension: <br>\n",
       "        <tt>jupyter labextension install jupyterlab_3dmol</tt></p>\n",
       "        </div>\n",
       "<script>\n",
       "\n",
       "var loadScriptAsync = function(uri){\n",
       "  return new Promise((resolve, reject) => {\n",
       "    var tag = document.createElement('script');\n",
       "    tag.src = uri;\n",
       "    tag.async = true;\n",
       "    tag.onload = () => {\n",
       "      resolve();\n",
       "    };\n",
       "  var firstScriptTag = document.getElementsByTagName('script')[0];\n",
       "  firstScriptTag.parentNode.insertBefore(tag, firstScriptTag);\n",
       "});\n",
       "};\n",
       "\n",
       "if(typeof $3Dmolpromise === 'undefined') {\n",
       "$3Dmolpromise = null;\n",
       "  $3Dmolpromise = loadScriptAsync('https://cdn.jsdelivr.net/npm/3dmol@latest/build/3Dmol-min.min.js');\n",
       "}\n",
       "\n",
       "var viewer_16685650246191764 = null;\n",
       "var warn = document.getElementById(\"3dmolwarning_16685650246191764\");\n",
       "if(warn) {\n",
       "    warn.parentNode.removeChild(warn);\n",
       "}\n",
       "$3Dmolpromise.then(function() {\n",
       "viewer_16685650246191764 = $3Dmol.createViewer($(\"#3dmolviewer_16685650246191764\"),{backgroundColor:\"white\"});\n",
       "viewer_16685650246191764.zoomTo();\n",
       "\tviewer_16685650246191764.removeAllModels();\n",
       "\tviewer_16685650246191764.addModel(\"\\n     RDKit          3D\\n\\n 12 12  0  0  0  0  0  0  0  0999 V2000\\n    2.0391   -1.2237    0.1926 O   0  0  0  0  0  0  0  0  0  0  0  0\\n    3.3904   -1.2295   -0.1555 C   0  0  0  0  0  0  0  0  0  0  0  0\\n    3.8616   -1.3107   -1.3952 C   0  0  0  0  0  0  0  0  0  0  0  0\\n    5.2520   -1.3004   -1.6200 C   0  0  0  0  0  0  0  0  0  0  0  0\\n    6.0971   -1.2101   -0.5321 C   0  0  0  0  0  0  0  0  0  0  0  0\\n    7.5806   -1.2097   -0.6708 C   0  0  0  0  0  0  0  0  0  0  0  0\\n    8.0243   -1.6443   -1.8668 F   0  0  0  0  0  0  0  0  0  0  0  0\\n    8.0441    0.0938   -0.4703 F   0  0  0  0  0  0  0  0  0  0  0  0\\n    8.0668   -1.9644    0.3849 F   0  0  0  0  0  0  0  0  0  0  0  0\\n    5.5791   -1.1287    0.7470 C   0  0  0  0  0  0  0  0  0  0  0  0\\n    4.2699   -1.1355    0.9423 N   0  0  0  0  0  0  0  0  0  0  0  0\\n    1.4354    0.0579    0.1902 R#  0  0  0  0  0  0  0  0  0  2  0  0\\n  1  2  1  0\\n  2  3  2  0\\n  3  4  1  0\\n  4  5  2  0\\n  5  6  1  0\\n  6  7  1  0\\n  6  8  1  0\\n  6  9  1  0\\n  5 10  1  0\\n 10 11  2  0\\n 11  2  1  0\\n 12  1  1  0\\nM  RGP  1  12   2\\nM  END\\n\",\"sdf\");\n",
       "\tviewer_16685650246191764.setStyle({\"stick\": {}});\n",
       "\tviewer_16685650246191764.setBackgroundColor(\"0xeeeeee\");\n",
       "\tviewer_16685650246191764.zoomTo();\n",
       "viewer_16685650246191764.render();\n",
       "});\n",
       "</script>"
      ]
     },
     "metadata": {},
     "output_type": "display_data"
    },
    {
     "data": {
      "image/png": "[encoded data removed]",
      "text/plain": [
       "<rdkit.Chem.rdchem.Mol at 0x7fbbdae80d60>"
      ]
     },
     "execution_count": 18,
     "metadata": {},
     "output_type": "execute_result"
    }
   ],
   "source": [
    "core = Chem.MolFromSmiles(\"C12CCCC(C2)C1\")\n",
    "res, unmatched = rdRGD.RGroupDecompose([core],[inpmol])\n",
    "mol_with_atom_index(refmol)\n",
    "drawit(res[0]['R2'])\n",
    "Chem.MolFromSmiles(Chem.MolToSmiles(res[0]['R2']).replace(\"[*:2]\",'').replace(\"[*:1]\",''))"
   ]
  },
  {
   "cell_type": "code",
   "execution_count": 19,
   "metadata": {},
   "outputs": [
    {
     "data": {
      "application/3dmoljs_load.v0": "<div id=\"3dmolviewer_1668565027887273\"  style=\"position: relative; width: 400px; height: 400px\">\n        <p id=\"3dmolwarning_1668565027887273\" style=\"background-color:#ffcccc;color:black\">You appear to be running in JupyterLab (or JavaScript failed to load for some other reason).  You need to install the 3dmol extension: <br>\n        <tt>jupyter labextension install jupyterlab_3dmol</tt></p>\n        </div>\n<script>\n\nvar loadScriptAsync = function(uri){\n  return new Promise((resolve, reject) => {\n    var tag = document.createElement('script');\n    tag.src = uri;\n    tag.async = true;\n    tag.onload = () => {\n      resolve();\n    };\n  var firstScriptTag = document.getElementsByTagName('script')[0];\n  firstScriptTag.parentNode.insertBefore(tag, firstScriptTag);\n});\n};\n\nif(typeof $3Dmolpromise === 'undefined') {\n$3Dmolpromise = null;\n  $3Dmolpromise = loadScriptAsync('https://cdn.jsdelivr.net/npm/3dmol@latest/build/3Dmol-min.min.js');\n}\n\nvar viewer_1668565027887273 = null;\nvar warn = document.getElementById(\"3dmolwarning_1668565027887273\");\nif(warn) {\n    warn.parentNode.removeChild(warn);\n}\n$3Dmolpromise.then(function() {\nviewer_1668565027887273 = $3Dmol.createViewer($(\"#3dmolviewer_1668565027887273\"),{backgroundColor:\"white\"});\nviewer_1668565027887273.zoomTo();\n\tviewer_1668565027887273.removeAllModels();\n\tviewer_1668565027887273.addModel(\"\\n     RDKit          3D\\n\\n 26 28  0  0  0  0  0  0  0  0999 V2000\\n   -0.7950  -17.2410   54.2360 O   0  0  0  0  0  0  0  0  0  0  0  0\\n   -0.5910  -17.1750   55.4620 C   0  0  0  0  0  0  0  0  0  1  0  0\\n   -1.6030  -17.0930   56.3360 N   0  0  0  0  0  0  0  0  0  2  0  0\\n   -1.3400  -16.9660   57.7740 C   0  0  0  0  0  0  0  0  0  3  0  0\\n   -2.2460  -15.8690   58.3160 C   0  0  0  0  0  0  0  0  0  4  0  0\\n   -2.9740  -17.1650   55.8480 C   0  0  0  0  0  0  0  0  0  5  0  0\\n   -3.8210  -16.0730   56.4750 C   0  0  0  0  0  0  0  0  0  6  0  0\\n   -3.7150  -16.0930   57.9890 C   0  0  2  0  0  0  0  0  0  7  0  0\\n   -4.5080  -14.9450   58.5840 C   0  0  0  0  0  0  0  0  0  8  0  0\\n   -6.0140  -15.1210   58.5080 C   0  0  0  0  0  0  0  0  0  9  0  0\\n   -6.6560  -15.7770   59.5400 C   0  0  0  0  0  0  0  0  0 10  0  0\\n   -8.0250  -15.9410   59.5240 C   0  0  0  0  0  0  0  0  0 11  0  0\\n   -8.7700  -15.4360   58.4770 C   0  0  0  0  0  0  0  0  0 12  0  0\\n   -6.7610  -14.5960   57.4620 C   0  0  0  0  0  0  0  0  0 13  0  0\\n   -8.1410  -14.7650   57.4470 C   0  0  0  0  0  0  0  0  0 14  0  0\\n   -8.9080  -14.2960   56.4180 O   0  0  0  0  0  0  0  0  0 15  0  0\\n   -9.3020  -12.9930   56.4000 C   0  0  0  0  0  0  0  0  0 16  0  0\\n   -9.8590  -12.4730   55.2430 C   0  0  0  0  0  0  0  0  0 17  0  0\\n  -10.2610  -11.1580   55.2230 C   0  0  0  0  0  0  0  0  0 18  0  0\\n   -9.1600  -12.2220   57.5070 N   0  0  0  0  0  0  0  0  0 19  0  0\\n   -9.5470  -10.9430   57.5060 C   0  0  0  0  0  0  0  0  0 20  0  0\\n  -10.1050  -10.3820   56.3630 C   0  0  0  0  0  0  0  0  0 21  0  0\\n  -10.5350   -8.9420   56.3570 C   0  0  1  0  0  0  0  0  0 22  0  0\\n  -11.6130   -8.7980   55.6120 F   0  0  0  0  0  0  0  0  0 23  0  0\\n  -10.7640   -8.5650   57.6050 F   0  0  0  0  0  0  0  0  0 24  0  0\\n   -9.5890   -8.1890   55.8350 F   0  0  0  0  0  0  0  0  0 25  0  0\\n  2  1  1  0\\n  3  2  1  0\\n  4  3  1  0\\n  5  4  1  0\\n  6  3  1  0\\n  7  6  1  0\\n  8  7  1  0\\n  8  5  1  0\\n  8  9  1  1\\n 10  9  1  0\\n 11 10  1  0\\n 12 11  1  0\\n 13 12  1  0\\n 14 10  1  0\\n 15 14  1  0\\n 15 13  1  0\\n 16 15  1  0\\n 17 16  1  0\\n 18 17  1  0\\n 19 18  1  0\\n 20 17  1  0\\n 21 20  1  0\\n 22 21  1  0\\n 22 19  1  0\\n 23 22  1  0\\n 23 24  1  6\\n 25 23  1  0\\n 26 23  1  0\\nM  END\\n\",\"sdf\");\n\tviewer_1668565027887273.setStyle({\"stick\": {}});\n\tviewer_1668565027887273.setBackgroundColor(\"0xeeeeee\");\n\tviewer_1668565027887273.zoomTo();\nviewer_1668565027887273.render();\n});\n</script>",
      "text/html": [
       "<div id=\"3dmolviewer_1668565027887273\"  style=\"position: relative; width: 400px; height: 400px\">\n",
       "        <p id=\"3dmolwarning_1668565027887273\" style=\"background-color:#ffcccc;color:black\">You appear to be running in JupyterLab (or JavaScript failed to load for some other reason).  You need to install the 3dmol extension: <br>\n",
       "        <tt>jupyter labextension install jupyterlab_3dmol</tt></p>\n",
       "        </div>\n",
       "<script>\n",
       "\n",
       "var loadScriptAsync = function(uri){\n",
       "  return new Promise((resolve, reject) => {\n",
       "    var tag = document.createElement('script');\n",
       "    tag.src = uri;\n",
       "    tag.async = true;\n",
       "    tag.onload = () => {\n",
       "      resolve();\n",
       "    };\n",
       "  var firstScriptTag = document.getElementsByTagName('script')[0];\n",
       "  firstScriptTag.parentNode.insertBefore(tag, firstScriptTag);\n",
       "});\n",
       "};\n",
       "\n",
       "if(typeof $3Dmolpromise === 'undefined') {\n",
       "$3Dmolpromise = null;\n",
       "  $3Dmolpromise = loadScriptAsync('https://cdn.jsdelivr.net/npm/3dmol@latest/build/3Dmol-min.min.js');\n",
       "}\n",
       "\n",
       "var viewer_1668565027887273 = null;\n",
       "var warn = document.getElementById(\"3dmolwarning_1668565027887273\");\n",
       "if(warn) {\n",
       "    warn.parentNode.removeChild(warn);\n",
       "}\n",
       "$3Dmolpromise.then(function() {\n",
       "viewer_1668565027887273 = $3Dmol.createViewer($(\"#3dmolviewer_1668565027887273\"),{backgroundColor:\"white\"});\n",
       "viewer_1668565027887273.zoomTo();\n",
       "\tviewer_1668565027887273.removeAllModels();\n",
       "\tviewer_1668565027887273.addModel(\"\\n     RDKit          3D\\n\\n 26 28  0  0  0  0  0  0  0  0999 V2000\\n   -0.7950  -17.2410   54.2360 O   0  0  0  0  0  0  0  0  0  0  0  0\\n   -0.5910  -17.1750   55.4620 C   0  0  0  0  0  0  0  0  0  1  0  0\\n   -1.6030  -17.0930   56.3360 N   0  0  0  0  0  0  0  0  0  2  0  0\\n   -1.3400  -16.9660   57.7740 C   0  0  0  0  0  0  0  0  0  3  0  0\\n   -2.2460  -15.8690   58.3160 C   0  0  0  0  0  0  0  0  0  4  0  0\\n   -2.9740  -17.1650   55.8480 C   0  0  0  0  0  0  0  0  0  5  0  0\\n   -3.8210  -16.0730   56.4750 C   0  0  0  0  0  0  0  0  0  6  0  0\\n   -3.7150  -16.0930   57.9890 C   0  0  2  0  0  0  0  0  0  7  0  0\\n   -4.5080  -14.9450   58.5840 C   0  0  0  0  0  0  0  0  0  8  0  0\\n   -6.0140  -15.1210   58.5080 C   0  0  0  0  0  0  0  0  0  9  0  0\\n   -6.6560  -15.7770   59.5400 C   0  0  0  0  0  0  0  0  0 10  0  0\\n   -8.0250  -15.9410   59.5240 C   0  0  0  0  0  0  0  0  0 11  0  0\\n   -8.7700  -15.4360   58.4770 C   0  0  0  0  0  0  0  0  0 12  0  0\\n   -6.7610  -14.5960   57.4620 C   0  0  0  0  0  0  0  0  0 13  0  0\\n   -8.1410  -14.7650   57.4470 C   0  0  0  0  0  0  0  0  0 14  0  0\\n   -8.9080  -14.2960   56.4180 O   0  0  0  0  0  0  0  0  0 15  0  0\\n   -9.3020  -12.9930   56.4000 C   0  0  0  0  0  0  0  0  0 16  0  0\\n   -9.8590  -12.4730   55.2430 C   0  0  0  0  0  0  0  0  0 17  0  0\\n  -10.2610  -11.1580   55.2230 C   0  0  0  0  0  0  0  0  0 18  0  0\\n   -9.1600  -12.2220   57.5070 N   0  0  0  0  0  0  0  0  0 19  0  0\\n   -9.5470  -10.9430   57.5060 C   0  0  0  0  0  0  0  0  0 20  0  0\\n  -10.1050  -10.3820   56.3630 C   0  0  0  0  0  0  0  0  0 21  0  0\\n  -10.5350   -8.9420   56.3570 C   0  0  1  0  0  0  0  0  0 22  0  0\\n  -11.6130   -8.7980   55.6120 F   0  0  0  0  0  0  0  0  0 23  0  0\\n  -10.7640   -8.5650   57.6050 F   0  0  0  0  0  0  0  0  0 24  0  0\\n   -9.5890   -8.1890   55.8350 F   0  0  0  0  0  0  0  0  0 25  0  0\\n  2  1  1  0\\n  3  2  1  0\\n  4  3  1  0\\n  5  4  1  0\\n  6  3  1  0\\n  7  6  1  0\\n  8  7  1  0\\n  8  5  1  0\\n  8  9  1  1\\n 10  9  1  0\\n 11 10  1  0\\n 12 11  1  0\\n 13 12  1  0\\n 14 10  1  0\\n 15 14  1  0\\n 15 13  1  0\\n 16 15  1  0\\n 17 16  1  0\\n 18 17  1  0\\n 19 18  1  0\\n 20 17  1  0\\n 21 20  1  0\\n 22 21  1  0\\n 22 19  1  0\\n 23 22  1  0\\n 23 24  1  6\\n 25 23  1  0\\n 26 23  1  0\\nM  END\\n\",\"sdf\");\n",
       "\tviewer_1668565027887273.setStyle({\"stick\": {}});\n",
       "\tviewer_1668565027887273.setBackgroundColor(\"0xeeeeee\");\n",
       "\tviewer_1668565027887273.zoomTo();\n",
       "viewer_1668565027887273.render();\n",
       "});\n",
       "</script>"
      ]
     },
     "metadata": {},
     "output_type": "display_data"
    }
   ],
   "source": [
    "drawit(refmol)"
   ]
  },
  {
   "cell_type": "code",
   "execution_count": 20,
   "metadata": {},
   "outputs": [
    {
     "data": {
      "image/png": "[encoded data removed]",
      "text/plain": [
       "<rdkit.Chem.rdchem.Mol at 0x7fbbdae80580>"
      ]
     },
     "execution_count": 20,
     "metadata": {},
     "output_type": "execute_result"
    }
   ],
   "source": [
    "mol_with_atom_index(refmol)"
   ]
  },
  {
   "cell_type": "code",
   "execution_count": 21,
   "metadata": {},
   "outputs": [
    {
     "name": "stdout",
     "output_type": "stream",
     "text": [
      "(15, 16, 17, 19, 18, 20, 21, 22, 23, 24, 25)\n",
      "(13, 14, 15, 23, 16, 22, 17, 18, 19, 20, 21)\n"
     ]
    },
    {
     "data": {
      "application/3dmoljs_load.v0": "<div id=\"3dmolviewer_16685650347461545\"  style=\"position: relative; width: 400px; height: 400px\">\n        <p id=\"3dmolwarning_16685650347461545\" style=\"background-color:#ffcccc;color:black\">You appear to be running in JupyterLab (or JavaScript failed to load for some other reason).  You need to install the 3dmol extension: <br>\n        <tt>jupyter labextension install jupyterlab_3dmol</tt></p>\n        </div>\n<script>\n\nvar loadScriptAsync = function(uri){\n  return new Promise((resolve, reject) => {\n    var tag = document.createElement('script');\n    tag.src = uri;\n    tag.async = true;\n    tag.onload = () => {\n      resolve();\n    };\n  var firstScriptTag = document.getElementsByTagName('script')[0];\n  firstScriptTag.parentNode.insertBefore(tag, firstScriptTag);\n});\n};\n\nif(typeof $3Dmolpromise === 'undefined') {\n$3Dmolpromise = null;\n  $3Dmolpromise = loadScriptAsync('https://cdn.jsdelivr.net/npm/3dmol@latest/build/3Dmol-min.min.js');\n}\n\nvar viewer_16685650347461545 = null;\nvar warn = document.getElementById(\"3dmolwarning_16685650347461545\");\nif(warn) {\n    warn.parentNode.removeChild(warn);\n}\n$3Dmolpromise.then(function() {\nviewer_16685650347461545 = $3Dmol.createViewer($(\"#3dmolviewer_16685650347461545\"),{backgroundColor:\"white\"});\nviewer_16685650347461545.zoomTo();\n\tviewer_16685650347461545.removeAllModels();\n\tviewer_16685650347461545.addModel(\"\\n     RDKit          3D\\n\\n 26 28  0  0  0  0  0  0  0  0999 V2000\\n   -0.7950  -17.2410   54.2360 O   0  0  0  0  0  0  0  0  0  0  0  0\\n   -0.5910  -17.1750   55.4620 C   0  0  0  0  0  0  0  0  0  1  0  0\\n   -1.6030  -17.0930   56.3360 N   0  0  0  0  0  0  0  0  0  2  0  0\\n   -1.3400  -16.9660   57.7740 C   0  0  0  0  0  0  0  0  0  3  0  0\\n   -2.2460  -15.8690   58.3160 C   0  0  0  0  0  0  0  0  0  4  0  0\\n   -2.9740  -17.1650   55.8480 C   0  0  0  0  0  0  0  0  0  5  0  0\\n   -3.8210  -16.0730   56.4750 C   0  0  0  0  0  0  0  0  0  6  0  0\\n   -3.7150  -16.0930   57.9890 C   0  0  2  0  0  0  0  0  0  7  0  0\\n   -4.5080  -14.9450   58.5840 C   0  0  0  0  0  0  0  0  0  8  0  0\\n   -6.0140  -15.1210   58.5080 C   0  0  0  0  0  0  0  0  0  9  0  0\\n   -6.6560  -15.7770   59.5400 C   0  0  0  0  0  0  0  0  0 10  0  0\\n   -8.0250  -15.9410   59.5240 C   0  0  0  0  0  0  0  0  0 11  0  0\\n   -8.7700  -15.4360   58.4770 C   0  0  0  0  0  0  0  0  0 12  0  0\\n   -6.7610  -14.5960   57.4620 C   0  0  0  0  0  0  0  0  0 13  0  0\\n   -8.1410  -14.7650   57.4470 C   0  0  0  0  0  0  0  0  0 14  0  0\\n   -8.9080  -14.2960   56.4180 O   0  0  0  0  0  0  0  0  0 15  0  0\\n   -9.3020  -12.9930   56.4000 C   0  0  0  0  0  0  0  0  0 16  0  0\\n   -9.8590  -12.4730   55.2430 C   0  0  0  0  0  0  0  0  0 17  0  0\\n  -10.2610  -11.1580   55.2230 C   0  0  0  0  0  0  0  0  0 18  0  0\\n   -9.1600  -12.2220   57.5070 N   0  0  0  0  0  0  0  0  0 19  0  0\\n   -9.5470  -10.9430   57.5060 C   0  0  0  0  0  0  0  0  0 20  0  0\\n  -10.1050  -10.3820   56.3630 C   0  0  0  0  0  0  0  0  0 21  0  0\\n  -10.5350   -8.9420   56.3570 C   0  0  1  0  0  0  0  0  0 22  0  0\\n  -11.6130   -8.7980   55.6120 F   0  0  0  0  0  0  0  0  0 23  0  0\\n  -10.7640   -8.5650   57.6050 F   0  0  0  0  0  0  0  0  0 24  0  0\\n   -9.5890   -8.1890   55.8350 F   0  0  0  0  0  0  0  0  0 25  0  0\\n  2  1  1  0\\n  3  2  1  0\\n  4  3  1  0\\n  5  4  1  0\\n  6  3  1  0\\n  7  6  1  0\\n  8  7  1  0\\n  8  5  1  0\\n  8  9  1  1\\n 10  9  1  0\\n 11 10  1  0\\n 12 11  1  0\\n 13 12  1  0\\n 14 10  1  0\\n 15 14  1  0\\n 15 13  1  0\\n 16 15  1  0\\n 17 16  1  0\\n 18 17  1  0\\n 19 18  1  0\\n 20 17  1  0\\n 21 20  1  0\\n 22 21  1  0\\n 22 19  1  0\\n 23 22  1  0\\n 23 24  1  6\\n 25 23  1  0\\n 26 23  1  0\\nM  END\\n\",\"sdf\");\n\tviewer_16685650347461545.setStyle({\"stick\": {}});\n\tviewer_16685650347461545.setBackgroundColor(\"0xeeeeee\");\n\tviewer_16685650347461545.zoomTo();\nviewer_16685650347461545.render();\n});\n</script>",
      "text/html": [
       "<div id=\"3dmolviewer_16685650347461545\"  style=\"position: relative; width: 400px; height: 400px\">\n",
       "        <p id=\"3dmolwarning_16685650347461545\" style=\"background-color:#ffcccc;color:black\">You appear to be running in JupyterLab (or JavaScript failed to load for some other reason).  You need to install the 3dmol extension: <br>\n",
       "        <tt>jupyter labextension install jupyterlab_3dmol</tt></p>\n",
       "        </div>\n",
       "<script>\n",
       "\n",
       "var loadScriptAsync = function(uri){\n",
       "  return new Promise((resolve, reject) => {\n",
       "    var tag = document.createElement('script');\n",
       "    tag.src = uri;\n",
       "    tag.async = true;\n",
       "    tag.onload = () => {\n",
       "      resolve();\n",
       "    };\n",
       "  var firstScriptTag = document.getElementsByTagName('script')[0];\n",
       "  firstScriptTag.parentNode.insertBefore(tag, firstScriptTag);\n",
       "});\n",
       "};\n",
       "\n",
       "if(typeof $3Dmolpromise === 'undefined') {\n",
       "$3Dmolpromise = null;\n",
       "  $3Dmolpromise = loadScriptAsync('https://cdn.jsdelivr.net/npm/3dmol@latest/build/3Dmol-min.min.js');\n",
       "}\n",
       "\n",
       "var viewer_16685650347461545 = null;\n",
       "var warn = document.getElementById(\"3dmolwarning_16685650347461545\");\n",
       "if(warn) {\n",
       "    warn.parentNode.removeChild(warn);\n",
       "}\n",
       "$3Dmolpromise.then(function() {\n",
       "viewer_16685650347461545 = $3Dmol.createViewer($(\"#3dmolviewer_16685650347461545\"),{backgroundColor:\"white\"});\n",
       "viewer_16685650347461545.zoomTo();\n",
       "\tviewer_16685650347461545.removeAllModels();\n",
       "\tviewer_16685650347461545.addModel(\"\\n     RDKit          3D\\n\\n 26 28  0  0  0  0  0  0  0  0999 V2000\\n   -0.7950  -17.2410   54.2360 O   0  0  0  0  0  0  0  0  0  0  0  0\\n   -0.5910  -17.1750   55.4620 C   0  0  0  0  0  0  0  0  0  1  0  0\\n   -1.6030  -17.0930   56.3360 N   0  0  0  0  0  0  0  0  0  2  0  0\\n   -1.3400  -16.9660   57.7740 C   0  0  0  0  0  0  0  0  0  3  0  0\\n   -2.2460  -15.8690   58.3160 C   0  0  0  0  0  0  0  0  0  4  0  0\\n   -2.9740  -17.1650   55.8480 C   0  0  0  0  0  0  0  0  0  5  0  0\\n   -3.8210  -16.0730   56.4750 C   0  0  0  0  0  0  0  0  0  6  0  0\\n   -3.7150  -16.0930   57.9890 C   0  0  2  0  0  0  0  0  0  7  0  0\\n   -4.5080  -14.9450   58.5840 C   0  0  0  0  0  0  0  0  0  8  0  0\\n   -6.0140  -15.1210   58.5080 C   0  0  0  0  0  0  0  0  0  9  0  0\\n   -6.6560  -15.7770   59.5400 C   0  0  0  0  0  0  0  0  0 10  0  0\\n   -8.0250  -15.9410   59.5240 C   0  0  0  0  0  0  0  0  0 11  0  0\\n   -8.7700  -15.4360   58.4770 C   0  0  0  0  0  0  0  0  0 12  0  0\\n   -6.7610  -14.5960   57.4620 C   0  0  0  0  0  0  0  0  0 13  0  0\\n   -8.1410  -14.7650   57.4470 C   0  0  0  0  0  0  0  0  0 14  0  0\\n   -8.9080  -14.2960   56.4180 O   0  0  0  0  0  0  0  0  0 15  0  0\\n   -9.3020  -12.9930   56.4000 C   0  0  0  0  0  0  0  0  0 16  0  0\\n   -9.8590  -12.4730   55.2430 C   0  0  0  0  0  0  0  0  0 17  0  0\\n  -10.2610  -11.1580   55.2230 C   0  0  0  0  0  0  0  0  0 18  0  0\\n   -9.1600  -12.2220   57.5070 N   0  0  0  0  0  0  0  0  0 19  0  0\\n   -9.5470  -10.9430   57.5060 C   0  0  0  0  0  0  0  0  0 20  0  0\\n  -10.1050  -10.3820   56.3630 C   0  0  0  0  0  0  0  0  0 21  0  0\\n  -10.5350   -8.9420   56.3570 C   0  0  1  0  0  0  0  0  0 22  0  0\\n  -11.6130   -8.7980   55.6120 F   0  0  0  0  0  0  0  0  0 23  0  0\\n  -10.7640   -8.5650   57.6050 F   0  0  0  0  0  0  0  0  0 24  0  0\\n   -9.5890   -8.1890   55.8350 F   0  0  0  0  0  0  0  0  0 25  0  0\\n  2  1  1  0\\n  3  2  1  0\\n  4  3  1  0\\n  5  4  1  0\\n  6  3  1  0\\n  7  6  1  0\\n  8  7  1  0\\n  8  5  1  0\\n  8  9  1  1\\n 10  9  1  0\\n 11 10  1  0\\n 12 11  1  0\\n 13 12  1  0\\n 14 10  1  0\\n 15 14  1  0\\n 15 13  1  0\\n 16 15  1  0\\n 17 16  1  0\\n 18 17  1  0\\n 19 18  1  0\\n 20 17  1  0\\n 21 20  1  0\\n 22 21  1  0\\n 22 19  1  0\\n 23 22  1  0\\n 23 24  1  6\\n 25 23  1  0\\n 26 23  1  0\\nM  END\\n\",\"sdf\");\n",
       "\tviewer_16685650347461545.setStyle({\"stick\": {}});\n",
       "\tviewer_16685650347461545.setBackgroundColor(\"0xeeeeee\");\n",
       "\tviewer_16685650347461545.zoomTo();\n",
       "viewer_16685650347461545.render();\n",
       "});\n",
       "</script>"
      ]
     },
     "metadata": {},
     "output_type": "display_data"
    },
    {
     "data": {
      "application/3dmoljs_load.v0": "<div id=\"3dmolviewer_16685650347498515\"  style=\"position: relative; width: 400px; height: 400px\">\n        <p id=\"3dmolwarning_16685650347498515\" style=\"background-color:#ffcccc;color:black\">You appear to be running in JupyterLab (or JavaScript failed to load for some other reason).  You need to install the 3dmol extension: <br>\n        <tt>jupyter labextension install jupyterlab_3dmol</tt></p>\n        </div>\n<script>\n\nvar loadScriptAsync = function(uri){\n  return new Promise((resolve, reject) => {\n    var tag = document.createElement('script');\n    tag.src = uri;\n    tag.async = true;\n    tag.onload = () => {\n      resolve();\n    };\n  var firstScriptTag = document.getElementsByTagName('script')[0];\n  firstScriptTag.parentNode.insertBefore(tag, firstScriptTag);\n});\n};\n\nif(typeof $3Dmolpromise === 'undefined') {\n$3Dmolpromise = null;\n  $3Dmolpromise = loadScriptAsync('https://cdn.jsdelivr.net/npm/3dmol@latest/build/3Dmol-min.min.js');\n}\n\nvar viewer_16685650347498515 = null;\nvar warn = document.getElementById(\"3dmolwarning_16685650347498515\");\nif(warn) {\n    warn.parentNode.removeChild(warn);\n}\n$3Dmolpromise.then(function() {\nviewer_16685650347498515 = $3Dmol.createViewer($(\"#3dmolviewer_16685650347498515\"),{backgroundColor:\"white\"});\nviewer_16685650347498515.zoomTo();\n\tviewer_16685650347498515.removeAllModels();\n\tviewer_16685650347498515.addModel(\"\\n     RDKit          3D\\n\\n 12 12  0  0  0  0  0  0  0  0999 V2000\\n    2.0391   -1.2237    0.1926 O   0  0  0  0  0  0  0  0  0  0  0  0\\n    3.3904   -1.2295   -0.1555 C   0  0  0  0  0  0  0  0  0  0  0  0\\n    3.8616   -1.3107   -1.3952 C   0  0  0  0  0  0  0  0  0  0  0  0\\n    5.2520   -1.3004   -1.6200 C   0  0  0  0  0  0  0  0  0  0  0  0\\n    6.0971   -1.2101   -0.5321 C   0  0  0  0  0  0  0  0  0  0  0  0\\n    7.5806   -1.2097   -0.6708 C   0  0  0  0  0  0  0  0  0  0  0  0\\n    8.0243   -1.6443   -1.8668 F   0  0  0  0  0  0  0  0  0  0  0  0\\n    8.0441    0.0938   -0.4703 F   0  0  0  0  0  0  0  0  0  0  0  0\\n    8.0668   -1.9644    0.3849 F   0  0  0  0  0  0  0  0  0  0  0  0\\n    5.5791   -1.1287    0.7470 C   0  0  0  0  0  0  0  0  0  0  0  0\\n    4.2699   -1.1355    0.9423 N   0  0  0  0  0  0  0  0  0  0  0  0\\n    1.4354    0.0579    0.1902 R#  0  0  0  0  0  0  0  0  0  2  0  0\\n  1  2  1  0\\n  2  3  2  0\\n  3  4  1  0\\n  4  5  2  0\\n  5  6  1  0\\n  6  7  1  0\\n  6  8  1  0\\n  6  9  1  0\\n  5 10  1  0\\n 10 11  2  0\\n 11  2  1  0\\n 12  1  1  0\\nM  RGP  1  12   2\\nM  END\\n\",\"sdf\");\n\tviewer_16685650347498515.setStyle({\"stick\": {}});\n\tviewer_16685650347498515.setBackgroundColor(\"0xeeeeee\");\n\tviewer_16685650347498515.zoomTo();\nviewer_16685650347498515.render();\n});\n</script>",
      "text/html": [
       "<div id=\"3dmolviewer_16685650347498515\"  style=\"position: relative; width: 400px; height: 400px\">\n",
       "        <p id=\"3dmolwarning_16685650347498515\" style=\"background-color:#ffcccc;color:black\">You appear to be running in JupyterLab (or JavaScript failed to load for some other reason).  You need to install the 3dmol extension: <br>\n",
       "        <tt>jupyter labextension install jupyterlab_3dmol</tt></p>\n",
       "        </div>\n",
       "<script>\n",
       "\n",
       "var loadScriptAsync = function(uri){\n",
       "  return new Promise((resolve, reject) => {\n",
       "    var tag = document.createElement('script');\n",
       "    tag.src = uri;\n",
       "    tag.async = true;\n",
       "    tag.onload = () => {\n",
       "      resolve();\n",
       "    };\n",
       "  var firstScriptTag = document.getElementsByTagName('script')[0];\n",
       "  firstScriptTag.parentNode.insertBefore(tag, firstScriptTag);\n",
       "});\n",
       "};\n",
       "\n",
       "if(typeof $3Dmolpromise === 'undefined') {\n",
       "$3Dmolpromise = null;\n",
       "  $3Dmolpromise = loadScriptAsync('https://cdn.jsdelivr.net/npm/3dmol@latest/build/3Dmol-min.min.js');\n",
       "}\n",
       "\n",
       "var viewer_16685650347498515 = null;\n",
       "var warn = document.getElementById(\"3dmolwarning_16685650347498515\");\n",
       "if(warn) {\n",
       "    warn.parentNode.removeChild(warn);\n",
       "}\n",
       "$3Dmolpromise.then(function() {\n",
       "viewer_16685650347498515 = $3Dmol.createViewer($(\"#3dmolviewer_16685650347498515\"),{backgroundColor:\"white\"});\n",
       "viewer_16685650347498515.zoomTo();\n",
       "\tviewer_16685650347498515.removeAllModels();\n",
       "\tviewer_16685650347498515.addModel(\"\\n     RDKit          3D\\n\\n 12 12  0  0  0  0  0  0  0  0999 V2000\\n    2.0391   -1.2237    0.1926 O   0  0  0  0  0  0  0  0  0  0  0  0\\n    3.3904   -1.2295   -0.1555 C   0  0  0  0  0  0  0  0  0  0  0  0\\n    3.8616   -1.3107   -1.3952 C   0  0  0  0  0  0  0  0  0  0  0  0\\n    5.2520   -1.3004   -1.6200 C   0  0  0  0  0  0  0  0  0  0  0  0\\n    6.0971   -1.2101   -0.5321 C   0  0  0  0  0  0  0  0  0  0  0  0\\n    7.5806   -1.2097   -0.6708 C   0  0  0  0  0  0  0  0  0  0  0  0\\n    8.0243   -1.6443   -1.8668 F   0  0  0  0  0  0  0  0  0  0  0  0\\n    8.0441    0.0938   -0.4703 F   0  0  0  0  0  0  0  0  0  0  0  0\\n    8.0668   -1.9644    0.3849 F   0  0  0  0  0  0  0  0  0  0  0  0\\n    5.5791   -1.1287    0.7470 C   0  0  0  0  0  0  0  0  0  0  0  0\\n    4.2699   -1.1355    0.9423 N   0  0  0  0  0  0  0  0  0  0  0  0\\n    1.4354    0.0579    0.1902 R#  0  0  0  0  0  0  0  0  0  2  0  0\\n  1  2  1  0\\n  2  3  2  0\\n  3  4  1  0\\n  4  5  2  0\\n  5  6  1  0\\n  6  7  1  0\\n  6  8  1  0\\n  6  9  1  0\\n  5 10  1  0\\n 10 11  2  0\\n 11  2  1  0\\n 12  1  1  0\\nM  RGP  1  12   2\\nM  END\\n\",\"sdf\");\n",
       "\tviewer_16685650347498515.setStyle({\"stick\": {}});\n",
       "\tviewer_16685650347498515.setBackgroundColor(\"0xeeeeee\");\n",
       "\tviewer_16685650347498515.zoomTo();\n",
       "viewer_16685650347498515.render();\n",
       "});\n",
       "</script>"
      ]
     },
     "metadata": {},
     "output_type": "display_data"
    },
    {
     "data": {
      "image/png": "[encoded data removed]",
      "text/plain": [
       "<rdkit.Chem.rdchem.Mol at 0x7fbbdaee02e0>"
      ]
     },
     "execution_count": 21,
     "metadata": {},
     "output_type": "execute_result"
    }
   ],
   "source": [
    "mcs1 = rdFMCS.FindMCS([refmol, res[0]['R2']],timeout=5,bondCompare=rdFMCS.BondCompare.CompareAny)\n",
    "mcs3 = rdFMCS.FindMCS([inpmol, res[0]['R2']],timeout=3,bondCompare=rdFMCS.BondCompare.CompareOrderExact)\n",
    "sidechain_ref = refmol.GetSubstructMatch(mcs1.queryMol)\n",
    "sidechain_gen = inpmol.GetSubstructMatch(mcs3.queryMol)\n",
    "print(sidechain_ref)\n",
    "print(sidechain_gen)\n",
    "\n",
    "atom_connect_sidechain_core_gen = get_connect_atom_in_core(inpmol, sidechain_gen)[0]\n",
    "\n",
    "drawit(refmol)\n",
    "drawit(res[0]['R2'])\n",
    "mcs1.queryMol\n"
   ]
  },
  {
   "cell_type": "code",
   "execution_count": 22,
   "metadata": {},
   "outputs": [
    {
     "data": {
      "text/plain": [
       "(23, 22, 24, 25, 21, 18, 20, 17, 19, 16, 15)"
      ]
     },
     "execution_count": 22,
     "metadata": {},
     "output_type": "execute_result"
    }
   ],
   "source": [
    "test_smi = Chem.MolToSmiles(res[0]['R2'])\n",
    "side_chain_mol = Chem.MolFromSmiles(test_smi)\n",
    "mcs2 = rdFMCS.FindMCS([refmol, side_chain_mol],timeout=5,ringCompare=Chem.rdFMCS.RingCompare.StrictRingFusion)\n",
    "mcs2.queryMol\n",
    "sidechain_ref = refmol.GetSubstructMatch(mcs2.queryMol)\n",
    "sidechain_ref"
   ]
  },
  {
   "cell_type": "code",
   "execution_count": 23,
   "metadata": {},
   "outputs": [
    {
     "name": "stdout",
     "output_type": "stream",
     "text": [
      "8\n",
      "12\n"
     ]
    }
   ],
   "source": [
    "for R in ['R1','R2']:\n",
    "    mcs1 = rdFMCS.FindMCS([refmol, res[0][R]],timeout=3,)\n",
    "    mcs3 = rdFMCS.FindMCS([inpmol, res[0][R]],timeout=3,bondCompare=rdFMCS.BondCompare.CompareOrderExact)\n",
    "    sidechain_ref = refmol.GetSubstructMatch(mcs1.queryMol)\n",
    "    sidechain_gen = inpmol.GetSubstructMatch(mcs3.queryMol)\n",
    "    for i, j in zip(sidechain_ref,sidechain_gen):\n",
    "        # print(f\"{R} {i} {j}\")\n",
    "        ff_mcs.AddFixedPoint(j)\n",
    "        conf_res.SetAtomPosition(j, bonded_conf.GetAtomPosition(i))\n",
    "    atom_connect_sidechain_core_ref = get_connect_atom_in_core(refmol, sidechain_ref)[0]\n",
    "    atom_connect_sidechain_core_gen = get_connect_atom_in_core(inpmol, sidechain_gen)[0]\n",
    "    print(atom_connect_sidechain_core_gen)\n",
    "    ff_mcs.AddFixedPoint(atom_connect_sidechain_core_gen)\n",
    "    conf_res.SetAtomPosition(atom_connect_sidechain_core_gen,bonded_conf.GetAtomPosition(atom_connect_sidechain_core_ref))"
   ]
  },
  {
   "cell_type": "code",
   "execution_count": null,
   "metadata": {},
   "outputs": [
    {
     "data": {
      "application/3dmoljs_load.v0": "<div id=\"3dmolviewer_16681453031271644\"  style=\"position: relative; width: 400px; height: 400px\">\n        <p id=\"3dmolwarning_16681453031271644\" style=\"background-color:#ffcccc;color:black\">You appear to be running in JupyterLab (or JavaScript failed to load for some other reason).  You need to install the 3dmol extension: <br>\n        <tt>jupyter labextension install jupyterlab_3dmol</tt></p>\n        </div>\n<script>\n\nvar loadScriptAsync = function(uri){\n  return new Promise((resolve, reject) => {\n    var tag = document.createElement('script');\n    tag.src = uri;\n    tag.async = true;\n    tag.onload = () => {\n      resolve();\n    };\n  var firstScriptTag = document.getElementsByTagName('script')[0];\n  firstScriptTag.parentNode.insertBefore(tag, firstScriptTag);\n});\n};\n\nif(typeof $3Dmolpromise === 'undefined') {\n$3Dmolpromise = null;\n  $3Dmolpromise = loadScriptAsync('https://3dmol.csb.pitt.edu/build/3Dmol.js');\n}\n\nvar viewer_16681453031271644 = null;\nvar warn = document.getElementById(\"3dmolwarning_16681453031271644\");\nif(warn) {\n    warn.parentNode.removeChild(warn);\n}\n$3Dmolpromise.then(function() {\nviewer_16681453031271644 = $3Dmol.createViewer($(\"#3dmolviewer_16681453031271644\"),{backgroundColor:\"white\"});\n\tviewer_16681453031271644.removeAllModels();\n\tviewer_16681453031271644.addModel(\"\\n     RDKit          3D\\n\\n 27 31  0  0  0  0  0  0  0  0999 V2000\\n  -21.3380  -43.3460   -4.0910 C   0  0  0  0  0  0  0  0  0  0  0  0\\n  -21.1810  -42.1640   -3.2940 O   0  0  0  0  0  0  0  0  0  0  0  0\\n  -20.6420  -40.9900   -3.7890 C   0  0  0  0  0  0  0  0  0  0  0  0\\n  -20.1000  -40.0390   -2.9260 C   0  0  0  0  0  0  0  0  0  0  0  0\\n  -19.5410  -38.8580   -3.4200 C   0  0  0  0  0  0  0  0  0  0  0  0\\n  -19.5490  -38.6110   -4.7940 C   0  0  0  0  0  0  0  0  0  0  0  0\\n  -20.0920  -39.5630   -5.6630 C   0  0  0  0  0  0  0  0  0  0  0  0\\n  -20.1290  -39.3320   -7.1310 C   0  0  0  0  0  0  0  0  0  0  0  0\\n    1.9199    1.1831   -2.2194 C   0  0  0  0  0  0  0  0  0  0  0  0\\n    0.7861    0.8756   -3.1676 C   0  0  0  0  0  0  0  0  0  0  0  0\\n   -0.3763    0.3290   -2.4009 C   0  0  0  0  0  0  0  0  0  0  0  0\\n  -16.2780  -39.2020   -9.3200 C   0  0  0  0  0  0  0  0  0  0  0  0\\n  -16.2890  -40.3040  -10.1980 C   0  0  1  0  0  0  0  0  0  0  0  0\\n  -15.9080  -41.5710   -9.7390 C   0  0  0  0  0  0  0  0  0  0  0  0\\n  -15.9190  -42.5680  -10.5060 C   0  0  2  0  0  0  0  0  0  0  0  0\\n  -15.5030  -41.7340   -8.3890 C   0  0  0  0  0  0  0  0  0  0  0  0\\n  -15.1220  -43.0760   -7.9240 C   0  0  0  0  0  0  0  0  0  0  0  0\\n  -15.1090  -40.7460   -6.2170 C   0  0  0  0  0  0  0  0  0  0  0  0\\n   -6.1771   -2.0437   -0.0180 O   0  0  0  0  0  0  0  0  0  0  0  0\\n   -5.8630    0.1185    0.6106 N   0  0  0  0  0  0  0  0  0  0  0  0\\n   -7.2854    0.4141    0.5784 C   0  0  0  0  0  0  0  0  0  0  0  0\\n   -4.9457    1.0656    0.9492 C   0  0  0  0  0  0  0  0  0  0  0  0\\n   -5.4689    2.3571    1.2660 N   0  0  0  0  0  0  0  0  0  0  0  0\\n  -15.4950  -40.5980   -7.5260 N   0  0  0  0  0  0  0  0  0  0  0  0\\n    0.7605    0.4920   -0.1615 C   0  0  0  0  0  0  0  0  0  0  0  0\\n    1.3277   -1.1093   -1.3513 C   0  0  0  0  0  0  0  0  0  0  0  0\\n  -20.6380  -40.7370   -5.1580 C   0  0  0  0  0  0  0  0  0  0  0  0\\n  1  2  1  0\\n  2  3  1  0\\n  3  4  2  0\\n  4  5  1  0\\n  5  6  2  0\\n  6  7  1  0\\n  7  8  1  0\\n  8  9  1  0\\n  9 10  1  0\\n 10 11  1  0\\n 11 12  1  0\\n 12 13  1  0\\n 13 14  1  6\\n 14 15  1  0\\n 15 16  1  6\\n 16 17  2  0\\n 17 18  1  0\\n 18 19  2  0\\n 18 20  1  0\\n 20 21  1  0\\n 20 22  1  0\\n 22 23  1  0\\n 22 24  2  0\\n 12 25  1  0\\n 12 26  1  0\\n  7 27  2  0\\n 27  3  1  0\\n 25  8  1  0\\n 26  8  1  0\\n 15 13  1  0\\n 24 16  1  0\\nM  END\\n\",\"sdf\");\n\tviewer_16681453031271644.setStyle({\"stick\": {}});\n\tviewer_16681453031271644.setBackgroundColor(\"0xeeeeee\");\n\tviewer_16681453031271644.zoomTo();\nviewer_16681453031271644.render();\n});\n</script>",
      "text/html": [
       "<div id=\"3dmolviewer_16681453031271644\"  style=\"position: relative; width: 400px; height: 400px\">\n",
       "        <p id=\"3dmolwarning_16681453031271644\" style=\"background-color:#ffcccc;color:black\">You appear to be running in JupyterLab (or JavaScript failed to load for some other reason).  You need to install the 3dmol extension: <br>\n",
       "        <tt>jupyter labextension install jupyterlab_3dmol</tt></p>\n",
       "        </div>\n",
       "<script>\n",
       "\n",
       "var loadScriptAsync = function(uri){\n",
       "  return new Promise((resolve, reject) => {\n",
       "    var tag = document.createElement('script');\n",
       "    tag.src = uri;\n",
       "    tag.async = true;\n",
       "    tag.onload = () => {\n",
       "      resolve();\n",
       "    };\n",
       "  var firstScriptTag = document.getElementsByTagName('script')[0];\n",
       "  firstScriptTag.parentNode.insertBefore(tag, firstScriptTag);\n",
       "});\n",
       "};\n",
       "\n",
       "if(typeof $3Dmolpromise === 'undefined') {\n",
       "$3Dmolpromise = null;\n",
       "  $3Dmolpromise = loadScriptAsync('https://3dmol.csb.pitt.edu/build/3Dmol.js');\n",
       "}\n",
       "\n",
       "var viewer_16681453031271644 = null;\n",
       "var warn = document.getElementById(\"3dmolwarning_16681453031271644\");\n",
       "if(warn) {\n",
       "    warn.parentNode.removeChild(warn);\n",
       "}\n",
       "$3Dmolpromise.then(function() {\n",
       "viewer_16681453031271644 = $3Dmol.createViewer($(\"#3dmolviewer_16681453031271644\"),{backgroundColor:\"white\"});\n",
       "\tviewer_16681453031271644.removeAllModels();\n",
       "\tviewer_16681453031271644.addModel(\"\\n     RDKit          3D\\n\\n 27 31  0  0  0  0  0  0  0  0999 V2000\\n  -21.3380  -43.3460   -4.0910 C   0  0  0  0  0  0  0  0  0  0  0  0\\n  -21.1810  -42.1640   -3.2940 O   0  0  0  0  0  0  0  0  0  0  0  0\\n  -20.6420  -40.9900   -3.7890 C   0  0  0  0  0  0  0  0  0  0  0  0\\n  -20.1000  -40.0390   -2.9260 C   0  0  0  0  0  0  0  0  0  0  0  0\\n  -19.5410  -38.8580   -3.4200 C   0  0  0  0  0  0  0  0  0  0  0  0\\n  -19.5490  -38.6110   -4.7940 C   0  0  0  0  0  0  0  0  0  0  0  0\\n  -20.0920  -39.5630   -5.6630 C   0  0  0  0  0  0  0  0  0  0  0  0\\n  -20.1290  -39.3320   -7.1310 C   0  0  0  0  0  0  0  0  0  0  0  0\\n    1.9199    1.1831   -2.2194 C   0  0  0  0  0  0  0  0  0  0  0  0\\n    0.7861    0.8756   -3.1676 C   0  0  0  0  0  0  0  0  0  0  0  0\\n   -0.3763    0.3290   -2.4009 C   0  0  0  0  0  0  0  0  0  0  0  0\\n  -16.2780  -39.2020   -9.3200 C   0  0  0  0  0  0  0  0  0  0  0  0\\n  -16.2890  -40.3040  -10.1980 C   0  0  1  0  0  0  0  0  0  0  0  0\\n  -15.9080  -41.5710   -9.7390 C   0  0  0  0  0  0  0  0  0  0  0  0\\n  -15.9190  -42.5680  -10.5060 C   0  0  2  0  0  0  0  0  0  0  0  0\\n  -15.5030  -41.7340   -8.3890 C   0  0  0  0  0  0  0  0  0  0  0  0\\n  -15.1220  -43.0760   -7.9240 C   0  0  0  0  0  0  0  0  0  0  0  0\\n  -15.1090  -40.7460   -6.2170 C   0  0  0  0  0  0  0  0  0  0  0  0\\n   -6.1771   -2.0437   -0.0180 O   0  0  0  0  0  0  0  0  0  0  0  0\\n   -5.8630    0.1185    0.6106 N   0  0  0  0  0  0  0  0  0  0  0  0\\n   -7.2854    0.4141    0.5784 C   0  0  0  0  0  0  0  0  0  0  0  0\\n   -4.9457    1.0656    0.9492 C   0  0  0  0  0  0  0  0  0  0  0  0\\n   -5.4689    2.3571    1.2660 N   0  0  0  0  0  0  0  0  0  0  0  0\\n  -15.4950  -40.5980   -7.5260 N   0  0  0  0  0  0  0  0  0  0  0  0\\n    0.7605    0.4920   -0.1615 C   0  0  0  0  0  0  0  0  0  0  0  0\\n    1.3277   -1.1093   -1.3513 C   0  0  0  0  0  0  0  0  0  0  0  0\\n  -20.6380  -40.7370   -5.1580 C   0  0  0  0  0  0  0  0  0  0  0  0\\n  1  2  1  0\\n  2  3  1  0\\n  3  4  2  0\\n  4  5  1  0\\n  5  6  2  0\\n  6  7  1  0\\n  7  8  1  0\\n  8  9  1  0\\n  9 10  1  0\\n 10 11  1  0\\n 11 12  1  0\\n 12 13  1  0\\n 13 14  1  6\\n 14 15  1  0\\n 15 16  1  6\\n 16 17  2  0\\n 17 18  1  0\\n 18 19  2  0\\n 18 20  1  0\\n 20 21  1  0\\n 20 22  1  0\\n 22 23  1  0\\n 22 24  2  0\\n 12 25  1  0\\n 12 26  1  0\\n  7 27  2  0\\n 27  3  1  0\\n 25  8  1  0\\n 26  8  1  0\\n 15 13  1  0\\n 24 16  1  0\\nM  END\\n\",\"sdf\");\n",
       "\tviewer_16681453031271644.setStyle({\"stick\": {}});\n",
       "\tviewer_16681453031271644.setBackgroundColor(\"0xeeeeee\");\n",
       "\tviewer_16681453031271644.zoomTo();\n",
       "viewer_16681453031271644.render();\n",
       "});\n",
       "</script>"
      ]
     },
     "metadata": {},
     "output_type": "display_data"
    }
   ],
   "source": [
    "drawit(inpmol)"
   ]
  },
  {
   "cell_type": "code",
   "execution_count": 24,
   "metadata": {},
   "outputs": [
    {
     "data": {
      "application/3dmoljs_load.v0": "<div id=\"3dmolviewer_16685650465146945\"  style=\"position: relative; width: 400px; height: 400px\">\n        <p id=\"3dmolwarning_16685650465146945\" style=\"background-color:#ffcccc;color:black\">You appear to be running in JupyterLab (or JavaScript failed to load for some other reason).  You need to install the 3dmol extension: <br>\n        <tt>jupyter labextension install jupyterlab_3dmol</tt></p>\n        </div>\n<script>\n\nvar loadScriptAsync = function(uri){\n  return new Promise((resolve, reject) => {\n    var tag = document.createElement('script');\n    tag.src = uri;\n    tag.async = true;\n    tag.onload = () => {\n      resolve();\n    };\n  var firstScriptTag = document.getElementsByTagName('script')[0];\n  firstScriptTag.parentNode.insertBefore(tag, firstScriptTag);\n});\n};\n\nif(typeof $3Dmolpromise === 'undefined') {\n$3Dmolpromise = null;\n  $3Dmolpromise = loadScriptAsync('https://cdn.jsdelivr.net/npm/3dmol@latest/build/3Dmol-min.min.js');\n}\n\nvar viewer_16685650465146945 = null;\nvar warn = document.getElementById(\"3dmolwarning_16685650465146945\");\nif(warn) {\n    warn.parentNode.removeChild(warn);\n}\n$3Dmolpromise.then(function() {\nviewer_16685650465146945 = $3Dmol.createViewer($(\"#3dmolviewer_16685650465146945\"),{backgroundColor:\"white\"});\nviewer_16685650465146945.zoomTo();\n\tviewer_16685650465146945.removeAllModels();\n\tviewer_16685650465146945.addModel(\"\\n     RDKit          3D\\n\\n 26 28  0  0  0  0  0  0  0  0999 V2000\\n   -0.7950  -17.2410   54.2360 O   0  0  0  0  0  0  0  0  0  0  0  0\\n   -0.5910  -17.1750   55.4620 C   0  0  0  0  0  0  0  0  0  0  0  0\\n   -1.6030  -17.0930   56.3360 N   0  0  0  0  0  0  0  0  0  0  0  0\\n   -1.3400  -16.9660   57.7740 C   0  0  0  0  0  0  0  0  0  0  0  0\\n   -2.2460  -15.8690   58.3160 C   0  0  0  0  0  0  0  0  0  0  0  0\\n   -2.9740  -17.1650   55.8480 C   0  0  0  0  0  0  0  0  0  0  0  0\\n   -3.8210  -16.0730   56.4750 C   0  0  0  0  0  0  0  0  0  0  0  0\\n   -3.7150  -16.0930   57.9890 C   0  0  2  0  0  0  0  0  0  0  0  0\\n   -4.5080  -14.9450   58.5840 C   0  0  0  0  0  0  0  0  0  0  0  0\\n   -6.0140  -15.1210   58.5080 C   0  0  0  0  0  0  0  0  0  0  0  0\\n   -6.6560  -15.7770   59.5400 C   0  0  0  0  0  0  0  0  0  0  0  0\\n   -8.0250  -15.9410   59.5240 C   0  0  0  0  0  0  0  0  0  0  0  0\\n   -8.7700  -15.4360   58.4770 C   0  0  0  0  0  0  0  0  0  0  0  0\\n   -6.7610  -14.5960   57.4620 C   0  0  0  0  0  0  0  0  0  0  0  0\\n   -8.1410  -14.7650   57.4470 C   0  0  0  0  0  0  0  0  0  0  0  0\\n   -8.9080  -14.2960   56.4180 O   0  0  0  0  0  0  0  0  0  0  0  0\\n   -9.3020  -12.9930   56.4000 C   0  0  0  0  0  0  0  0  0  0  0  0\\n   -9.8590  -12.4730   55.2430 C   0  0  0  0  0  0  0  0  0  0  0  0\\n  -10.2610  -11.1580   55.2230 C   0  0  0  0  0  0  0  0  0  0  0  0\\n   -9.1600  -12.2220   57.5070 N   0  0  0  0  0  0  0  0  0  0  0  0\\n   -9.5470  -10.9430   57.5060 C   0  0  0  0  0  0  0  0  0  0  0  0\\n  -10.1050  -10.3820   56.3630 C   0  0  0  0  0  0  0  0  0  0  0  0\\n  -10.5350   -8.9420   56.3570 C   0  0  1  0  0  0  0  0  0  0  0  0\\n  -11.6130   -8.7980   55.6120 F   0  0  0  0  0  0  0  0  0  0  0  0\\n  -10.7640   -8.5650   57.6050 F   0  0  0  0  0  0  0  0  0  0  0  0\\n   -9.5890   -8.1890   55.8350 F   0  0  0  0  0  0  0  0  0  0  0  0\\n  2  1  1  0\\n  3  2  1  0\\n  4  3  1  0\\n  5  4  1  0\\n  6  3  1  0\\n  7  6  1  0\\n  8  7  1  0\\n  8  5  1  0\\n  8  9  1  1\\n 10  9  1  0\\n 11 10  1  0\\n 12 11  1  0\\n 13 12  1  0\\n 14 10  1  0\\n 15 14  1  0\\n 15 13  1  0\\n 16 15  1  0\\n 17 16  1  0\\n 18 17  1  0\\n 19 18  1  0\\n 20 17  1  0\\n 21 20  1  0\\n 22 21  1  0\\n 22 19  1  0\\n 23 22  1  0\\n 23 24  1  6\\n 25 23  1  0\\n 26 23  1  0\\nM  END\\n\",\"sdf\");\n\tviewer_16685650465146945.setStyle({\"stick\": {}});\n\tviewer_16685650465146945.setBackgroundColor(\"0xeeeeee\");\n\tviewer_16685650465146945.zoomTo();\nviewer_16685650465146945.render();\n});\n</script>",
      "text/html": [
       "<div id=\"3dmolviewer_16685650465146945\"  style=\"position: relative; width: 400px; height: 400px\">\n",
       "        <p id=\"3dmolwarning_16685650465146945\" style=\"background-color:#ffcccc;color:black\">You appear to be running in JupyterLab (or JavaScript failed to load for some other reason).  You need to install the 3dmol extension: <br>\n",
       "        <tt>jupyter labextension install jupyterlab_3dmol</tt></p>\n",
       "        </div>\n",
       "<script>\n",
       "\n",
       "var loadScriptAsync = function(uri){\n",
       "  return new Promise((resolve, reject) => {\n",
       "    var tag = document.createElement('script');\n",
       "    tag.src = uri;\n",
       "    tag.async = true;\n",
       "    tag.onload = () => {\n",
       "      resolve();\n",
       "    };\n",
       "  var firstScriptTag = document.getElementsByTagName('script')[0];\n",
       "  firstScriptTag.parentNode.insertBefore(tag, firstScriptTag);\n",
       "});\n",
       "};\n",
       "\n",
       "if(typeof $3Dmolpromise === 'undefined') {\n",
       "$3Dmolpromise = null;\n",
       "  $3Dmolpromise = loadScriptAsync('https://cdn.jsdelivr.net/npm/3dmol@latest/build/3Dmol-min.min.js');\n",
       "}\n",
       "\n",
       "var viewer_16685650465146945 = null;\n",
       "var warn = document.getElementById(\"3dmolwarning_16685650465146945\");\n",
       "if(warn) {\n",
       "    warn.parentNode.removeChild(warn);\n",
       "}\n",
       "$3Dmolpromise.then(function() {\n",
       "viewer_16685650465146945 = $3Dmol.createViewer($(\"#3dmolviewer_16685650465146945\"),{backgroundColor:\"white\"});\n",
       "viewer_16685650465146945.zoomTo();\n",
       "\tviewer_16685650465146945.removeAllModels();\n",
       "\tviewer_16685650465146945.addModel(\"\\n     RDKit          3D\\n\\n 26 28  0  0  0  0  0  0  0  0999 V2000\\n   -0.7950  -17.2410   54.2360 O   0  0  0  0  0  0  0  0  0  0  0  0\\n   -0.5910  -17.1750   55.4620 C   0  0  0  0  0  0  0  0  0  0  0  0\\n   -1.6030  -17.0930   56.3360 N   0  0  0  0  0  0  0  0  0  0  0  0\\n   -1.3400  -16.9660   57.7740 C   0  0  0  0  0  0  0  0  0  0  0  0\\n   -2.2460  -15.8690   58.3160 C   0  0  0  0  0  0  0  0  0  0  0  0\\n   -2.9740  -17.1650   55.8480 C   0  0  0  0  0  0  0  0  0  0  0  0\\n   -3.8210  -16.0730   56.4750 C   0  0  0  0  0  0  0  0  0  0  0  0\\n   -3.7150  -16.0930   57.9890 C   0  0  2  0  0  0  0  0  0  0  0  0\\n   -4.5080  -14.9450   58.5840 C   0  0  0  0  0  0  0  0  0  0  0  0\\n   -6.0140  -15.1210   58.5080 C   0  0  0  0  0  0  0  0  0  0  0  0\\n   -6.6560  -15.7770   59.5400 C   0  0  0  0  0  0  0  0  0  0  0  0\\n   -8.0250  -15.9410   59.5240 C   0  0  0  0  0  0  0  0  0  0  0  0\\n   -8.7700  -15.4360   58.4770 C   0  0  0  0  0  0  0  0  0  0  0  0\\n   -6.7610  -14.5960   57.4620 C   0  0  0  0  0  0  0  0  0  0  0  0\\n   -8.1410  -14.7650   57.4470 C   0  0  0  0  0  0  0  0  0  0  0  0\\n   -8.9080  -14.2960   56.4180 O   0  0  0  0  0  0  0  0  0  0  0  0\\n   -9.3020  -12.9930   56.4000 C   0  0  0  0  0  0  0  0  0  0  0  0\\n   -9.8590  -12.4730   55.2430 C   0  0  0  0  0  0  0  0  0  0  0  0\\n  -10.2610  -11.1580   55.2230 C   0  0  0  0  0  0  0  0  0  0  0  0\\n   -9.1600  -12.2220   57.5070 N   0  0  0  0  0  0  0  0  0  0  0  0\\n   -9.5470  -10.9430   57.5060 C   0  0  0  0  0  0  0  0  0  0  0  0\\n  -10.1050  -10.3820   56.3630 C   0  0  0  0  0  0  0  0  0  0  0  0\\n  -10.5350   -8.9420   56.3570 C   0  0  1  0  0  0  0  0  0  0  0  0\\n  -11.6130   -8.7980   55.6120 F   0  0  0  0  0  0  0  0  0  0  0  0\\n  -10.7640   -8.5650   57.6050 F   0  0  0  0  0  0  0  0  0  0  0  0\\n   -9.5890   -8.1890   55.8350 F   0  0  0  0  0  0  0  0  0  0  0  0\\n  2  1  1  0\\n  3  2  1  0\\n  4  3  1  0\\n  5  4  1  0\\n  6  3  1  0\\n  7  6  1  0\\n  8  7  1  0\\n  8  5  1  0\\n  8  9  1  1\\n 10  9  1  0\\n 11 10  1  0\\n 12 11  1  0\\n 13 12  1  0\\n 14 10  1  0\\n 15 14  1  0\\n 15 13  1  0\\n 16 15  1  0\\n 17 16  1  0\\n 18 17  1  0\\n 19 18  1  0\\n 20 17  1  0\\n 21 20  1  0\\n 22 21  1  0\\n 22 19  1  0\\n 23 22  1  0\\n 23 24  1  6\\n 25 23  1  0\\n 26 23  1  0\\nM  END\\n\",\"sdf\");\n",
       "\tviewer_16685650465146945.setStyle({\"stick\": {}});\n",
       "\tviewer_16685650465146945.setBackgroundColor(\"0xeeeeee\");\n",
       "\tviewer_16685650465146945.zoomTo();\n",
       "viewer_16685650465146945.render();\n",
       "});\n",
       "</script>"
      ]
     },
     "metadata": {},
     "output_type": "display_data"
    }
   ],
   "source": [
    "pdb = Chem.MolFromPDBBlock(lig_Block)\n",
    "drawit(pdb)"
   ]
  },
  {
   "cell_type": "code",
   "execution_count": null,
   "metadata": {},
   "outputs": [],
   "source": [
    "def phe2bch_with_smiles(smi):\n",
    "    # 用于将给定配体中的*间位苯环骨架*替换为*螺旋桨烷骨架*的脚本\n",
    "    # 用smi指定ligand的结构\n",
    "\n",
    "    # 读入分子\n",
    "    mol = Chem.MolFromSmiles(smi)\n",
    "    # 识别间位取代部分: * 匹配任意原子；'!:' 非芳香键； *!:ccc(!:*)ccc 含间位取代的苯环\n",
    "    patt = Chem.MolFromSmarts(\"*!:ccc(!:*)ccc\")\n",
    "    match = mol.GetSubstructMatches(patt)\n",
    "    \n",
    "    # 识别需要被替换苯环原子\n",
    "    ri = mol.GetRingInfo()\n",
    "    for r in ri.AtomRings():\n",
    "        count = 0\n",
    "        for item in match[0]:\n",
    "            if item in set(r):\n",
    "                count+=1\n",
    "        if count == len(match[0])-2:\n",
    "            phenyl_num = set(r)\n",
    "    # 识别两个间位取代基与苯环的连接原子\n",
    "    connect_atoms = list(set(match[0])-phenyl_num)\n",
    "    # 记录第一部分的原子数目\n",
    "    mol1_Atom_num = mol.GetNumAtoms()\n",
    "    # 引入螺旋桨烷，并将其与原分子置于一处，使得其编号从·mol1_Atom_num+0·开始\n",
    "    re_pat = Chem.MolFromSmiles(\"C12CCCC(C2)C1\")\n",
    "    mid_mol = Chem.CombineMols(mol,re_pat)\n",
    "    # 开始成键\n",
    "    mid_edited = Chem.EditableMol(mid_mol)\n",
    "    # 螺旋桨烷烃的桥头碳分别为mol1_Atom_num和mol1_Atom_num+4\n",
    "    mid_edited.AddBond(connect_atoms[0],mol1_Atom_num,order=Chem.rdchem.BondType.SINGLE)\n",
    "    mid_edited.AddBond(connect_atoms[1],mol1_Atom_num+4,order=Chem.rdchem.BondType.SINGLE)\n",
    "    # 删除原来的苯环\n",
    "    # 每删除一个原子后原子序号都会发生改变，所以需要倒序删除。\n",
    "    phenyl_atoms = list(phenyl_num)\n",
    "    phenyl_atoms.sort(reverse=True)\n",
    "    for i in phenyl_atoms:\n",
    "        mid_edited.RemoveAtom(i)\n",
    "    BCHep_mol = mid_edited.GetMol()\n",
    "    return [BCHep_mol,mol1_Atom_num-6]  \n",
    "\n",
    "test = phe2bch_with_smiles(\"Cc1c(sc(n1)N)c2ccnc(n2)Nc3cccc(c3)n4oo4\")"
   ]
  },
  {
   "cell_type": "code",
   "execution_count": null,
   "metadata": {},
   "outputs": [],
   "source": [
    "def getpdb(refmol,inpmol,pdbfile):\n",
    "    mcs = rdFMCS.FindMCS([refmol, inpmol],timeout=3,bondCompare=rdFMCS.BondCompare.CompareOrderExact)\n",
    "    bonded_conf = refmol.GetConformer()\n",
    "    conf_res = inpmol.GetConformer()\n",
    "    inpmol_prop = Chem.rdForceFieldHelpers.MMFFGetMoleculeProperties(inpmol)\n",
    "    ff_mcs = Chem.rdForceFieldHelpers.MMFFGetMoleculeForceField(inpmol,inpmol_prop)\n",
    "    for i, j in zip(refmol.GetSubstructMatch(mcs.queryMol), inpmol.GetSubstructMatch(mcs.queryMol)):\n",
    "        ff_mcs.AddFixedPoint(j)\n",
    "        conf_res.SetAtomPosition(j, bonded_conf.GetAtomPosition(i))\n",
    "    Chem.MolToPDBFile(inpmol, pdbfile)\n",
    "    return inpmol\n"
   ]
  },
  {
   "cell_type": "code",
   "execution_count": null,
   "metadata": {},
   "outputs": [],
   "source": []
  }
 ],
 "metadata": {
  "kernelspec": {
   "display_name": "Python 3.8.13 ('rdkit_new')",
   "language": "python",
   "name": "python3"
  },
  "language_info": {
   "codemirror_mode": {
    "name": "ipython",
    "version": 3
   },
   "file_extension": ".py",
   "mimetype": "text/x-python",
   "name": "python",
   "nbconvert_exporter": "python",
   "pygments_lexer": "ipython3",
   "version": "3.8.13"
  },
  "orig_nbformat": 4,
  "vscode": {
   "interpreter": {
    "hash": "ef7ff853cff2c5df01e22c007126fc9faf677f8af9c79862f6155dbd80f6c983"
   }
  }
 },
 "nbformat": 4,
 "nbformat_minor": 2
}
