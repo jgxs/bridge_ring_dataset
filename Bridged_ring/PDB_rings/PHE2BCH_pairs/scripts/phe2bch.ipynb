{
 "cells": [
  {
   "cell_type": "code",
   "execution_count": 3,
   "metadata": {},
   "outputs": [],
   "source": [
    "from rdkit import Chem\n",
    "from rdkit.Chem import AllChem\n",
    "from rdkit.Chem import rdFMCS\n",
    "from rdkit.Chem.Draw import IPythonConsole\n",
    "from rdkit.Chem import rdRGroupDecomposition as rdRGD\n",
    "# 显示图片\n",
    "\n",
    "import py3Dmol\n",
    "def drawit(m,p=None,confId=-1):\n",
    "        mb = Chem.MolToMolBlock(m,confId=confId)\n",
    "        if p is None:\n",
    "            p = py3Dmol.view(width=400,height=400)\n",
    "        p.removeAllModels()\n",
    "        p.addModel(mb,'sdf')\n",
    "        p.setStyle({'stick':{}})\n",
    "        p.setBackgroundColor('0xeeeeee')\n",
    "        p.zoomTo()\n",
    "        return p.show()\n",
    "\n",
    "def mol_with_atom_index(mol):\n",
    "    atoms = mol.GetNumAtoms()\n",
    "    for idx in range(atoms):\n",
    "        mol.GetAtomWithIdx(idx).SetProp('molAtomMapNumber',str(idx))\n",
    "    return mol"
   ]
  },
  {
   "cell_type": "code",
   "execution_count": 110,
   "metadata": {},
   "outputs": [
    {
     "name": "stdout",
     "output_type": "stream",
     "text": [
      "break HETATM 2090  FAI 1D9 B 401      -1.291  25.793  19.460  1.00 34.94           F  \n",
      "\n",
      "38\n",
      "76\n",
      "1\n"
     ]
    },
    {
     "name": "stderr",
     "output_type": "stream",
     "text": [
      "[13:14:13] WARNING: More than one matching pattern found - picking one\n",
      "\n"
     ]
    },
    {
     "ename": "ArgumentError",
     "evalue": "Python argument types in\n    AtomPDBResidueInfo.__init__(AtomPDBResidueInfo, Atom)\ndid not match C++ signature:\n    __init__(_object*, std::__cxx11::basic_string<char, std::char_traits<char>, std::allocator<char> > atomName, int serialNumber=1, std::__cxx11::basic_string<char, std::char_traits<char>, std::allocator<char> > altLoc='', std::__cxx11::basic_string<char, std::char_traits<char>, std::allocator<char> > residueName='', int residueNumber=0, std::__cxx11::basic_string<char, std::char_traits<char>, std::allocator<char> > chainId='', std::__cxx11::basic_string<char, std::char_traits<char>, std::allocator<char> > insertionCode='', double occupancy=1.0, double tempFactor=0.0, bool isHeteroAtom=False, unsigned int secondaryStructure=0, unsigned int segmentNumber=0)\n    __init__(_object*)",
     "output_type": "error",
     "traceback": [
      "\u001b[0;31m---------------------------------------------------------------------------\u001b[0m",
      "\u001b[0;31mArgumentError\u001b[0m                             Traceback (most recent call last)",
      "Cell \u001b[0;32mIn [110], line 79\u001b[0m\n\u001b[1;32m     77\u001b[0m     \u001b[39mpass\u001b[39;00m\n\u001b[1;32m     78\u001b[0m \u001b[39melse\u001b[39;00m:\n\u001b[0;32m---> 79\u001b[0m     \u001b[39mprint\u001b[39m(Chem\u001b[39m.\u001b[39;49mAtomPDBResidueInfo(item))\n\u001b[1;32m     80\u001b[0m     \u001b[39mif\u001b[39;00m item\u001b[39m.\u001b[39mGetPDBResidueInfo():\n\u001b[1;32m     81\u001b[0m         \u001b[39mprint\u001b[39m(Chem\u001b[39m.\u001b[39mAtomPDBResidueInfo\u001b[39m.\u001b[39mGetResidueName(item\u001b[39m.\u001b[39mGetPDBResidueInfo()))\n",
      "\u001b[0;31mArgumentError\u001b[0m: Python argument types in\n    AtomPDBResidueInfo.__init__(AtomPDBResidueInfo, Atom)\ndid not match C++ signature:\n    __init__(_object*, std::__cxx11::basic_string<char, std::char_traits<char>, std::allocator<char> > atomName, int serialNumber=1, std::__cxx11::basic_string<char, std::char_traits<char>, std::allocator<char> > altLoc='', std::__cxx11::basic_string<char, std::char_traits<char>, std::allocator<char> > residueName='', int residueNumber=0, std::__cxx11::basic_string<char, std::char_traits<char>, std::allocator<char> > chainId='', std::__cxx11::basic_string<char, std::char_traits<char>, std::allocator<char> > insertionCode='', double occupancy=1.0, double tempFactor=0.0, bool isHeteroAtom=False, unsigned int secondaryStructure=0, unsigned int segmentNumber=0)\n    __init__(_object*)"
     ]
    }
   ],
   "source": [
    "ligands_smi = {}\n",
    "with open(\"/home/chengyj/kinase_work/dataset/Bridged_ring/PDB_rings/PHE2BCH_pairs/lig_menu/AaaaA_only3.csv\") as AaaaA:\n",
    "    for line in AaaaA:\n",
    "        info = line.split()\n",
    "        ligands_smi[info[1]] = [info[0]]\n",
    "\n",
    "def rename_atom(atom_to_rename):\n",
    "    name = str(atom_to_rename.GetSymbol())+str(atom_to_rename.GetIdx()+1)\n",
    "    if len(name) == 2:\n",
    "        name = \" \" + name + \" \"\n",
    "    elif len(name) == 3:\n",
    "        name = \" \"+name\n",
    "    elif len(name) == 4:\n",
    "        pass\n",
    "    pdbinfo = atom.GetPDBResidueInfo()\n",
    "    Chem.AtomMonomerInfo.SetName(pdbinfo,name)\n",
    "    Chem.AtomPDBResidueInfo.SetAltLoc(pdbinfo,\" \")\n",
    "    Chem.AtomPDBResidueInfo.SetResidueNumber(pdbinfo,1)\n",
    "    return name\n",
    "\n",
    "def pdb_2_lig_block(pdb_path,lig_id,smiles):\n",
    "    # 抽取pdbfile中的ligand部分\n",
    "    # rdkit可读字符串形式的pdbBlock\n",
    "    num = Chem.MolFromSmiles(smiles).GetNumAtoms()\n",
    "    ligand_lines = []\n",
    "    with open(pdb_path) as ent:\n",
    "        for line in ent:\n",
    "            if line[0:6] == \"HETATM\" and line[17:20] == lig_id and line[77] != 'H':\n",
    "                ligand_lines.append(line)\n",
    "    ligand_start = 0\n",
    "    ligand_end = len(ligand_lines)\n",
    "    for i in range(1,len(ligand_lines)):\n",
    "        if ligand_lines[i][17:26] != ligand_lines[i-1][17:26]:\n",
    "            # print(ligand_lines[i])\n",
    "            ligand_end = i\n",
    "            if ligand_end - ligand_start >= num:\n",
    "                print(f\"break {ligand_lines[i]}\")\n",
    "                break\n",
    "            else:\n",
    "                ligand_start = i\n",
    "                ligand_end = len(ligand_lines)\n",
    "        else:\n",
    "            pass\n",
    "    print(num)\n",
    "    print(ligand_end - ligand_start)\n",
    "    if ligand_end - ligand_start <= 2*num:\n",
    "        print(1)\n",
    "        lig_Block=\"\".join(ligand_lines[ligand_start:ligand_end])\n",
    "    else:\n",
    "        print(2)\n",
    "        lig_Block=\"\".join(ligand_lines[ligand_start:ligand_start+num])\n",
    "    return lig_Block\n",
    "\n",
    "\n",
    "\n",
    "key='1D9'\n",
    "pdb_id='4ibj'\n",
    "lig_smi=ligands_smi[key][0]\n",
    "pdb_path = f\"/home/chengyj/kinase_work/dataset/Bridged_ring/PDB_rings/PHE2BCH_pairs/pdb_dataset/pdb/pdb{pdb_id}.ent\"\n",
    "lig_Block = pdb_2_lig_block(pdb_path,key,lig_smi)\n",
    "structure_from_pdb = Chem.MolFromPDBBlock(lig_Block)\n",
    "\n",
    "for atom in structure_from_pdb.GetAtoms():\n",
    "    # print(Chem.AtomMonomerInfo.GetName(atom.GetPDBResidueInfo()))\n",
    "    rename_atom(atom)\n",
    "    # print(Chem.AtomMonomerInfo.GetName(atom.GetPDBResidueInfo()))\n",
    "\n",
    "\n",
    "mol_tem = Chem.MolFromSmiles(lig_smi)\n",
    "structure_refine = AllChem.AssignBondOrdersFromTemplate(mol_tem,structure_from_pdb)\n",
    "ligwithH = Chem.AddHs(structure_refine,addCoords=True)\n",
    "\n",
    "atom_tmp = ligwithH.GetAtomWithIdx(1).GetPDBResidueInfo()\n",
    "for item in ligwithH.GetAtoms():\n",
    "    if item.GetSymbol() == \"H\":\n",
    "        if item.GetPDBResidueInfo():\n",
    "            pass\n",
    "        else:\n",
    "            print(Chem.AtomPDBResidueInfo(item))\n",
    "            if item.GetPDBResidueInfo():\n",
    "                print(Chem.AtomPDBResidueInfo.GetResidueName(item.GetPDBResidueInfo()))\n",
    "        #print(Chem.AtomMonomerInfo.GetName(item.SetPDBResidueInfo()))\n",
    "Chem.MolToPDBFile(ligwithH,\"test.pdb\")"
   ]
  },
  {
   "cell_type": "code",
   "execution_count": 82,
   "metadata": {},
   "outputs": [
    {
     "data": {
      "image/png": "[encoded data removed]",
      "text/plain": [
       "<rdkit.Chem.rdchem.Mol at 0x7f9be8673120>"
      ]
     },
     "execution_count": 82,
     "metadata": {},
     "output_type": "execute_result"
    }
   ],
   "source": [
    "ligwithH"
   ]
  },
  {
   "cell_type": "code",
   "execution_count": null,
   "metadata": {},
   "outputs": [],
   "source": [
    "def get_connect_atom_in_core(orimol,sidechain_atom_idxes):\n",
    "    # mol is the whole molecule, the sidechain_atom_idx is the a tuple of the atom idx of a sidechain;\n",
    "    # this function will get the atom connected with the .\n",
    "    connect_atoms_in_core = []\n",
    "    for idx in sidechain_atom_idxes:\n",
    "        for atom in orimol.GetAtomWithIdx(idx).GetNeighbors():\n",
    "            if atom.GetIdx() not in sidechain_atom_idxes:\n",
    "                connect_atoms_in_core.append(atom.GetIdx())\n",
    "    return connect_atoms_in_core"
   ]
  },
  {
   "cell_type": "code",
   "execution_count": null,
   "metadata": {},
   "outputs": [],
   "source": [
    "def get_connect_atom_in_sidechain(orimol,core):\n",
    "    rings = orimol.GetRingInfo()\n",
    "    for r in rings.AtomRings():\n",
    "        count = 0\n",
    "        for idx in core:\n",
    "            if idx in set(r):\n",
    "                count += 1\n",
    "        if count == len(core) - 2:\n",
    "            core_atom_idx = set(r)\n",
    "            connect_atom_in_sidechain = set(core) - core_atom_idx\n",
    "    return list(connect_atom_in_sidechain)\n"
   ]
  },
  {
   "cell_type": "code",
   "execution_count": null,
   "metadata": {},
   "outputs": [],
   "source": [
    "def phe2bch_test(smi):\n",
    "    # 用于将给定配体中的*间位苯环骨架*替换为*螺旋桨烷骨架*的脚本\n",
    "    # 用smi指定ligand的结构\n",
    "\n",
    "    # 读入分子\n",
    "    mol = Chem.MolFromSmiles(smi)\n",
    "    # 识别间位取代部分: * 匹配任意原子；'!:' 非芳香键； *!:ccc(!:*)ccc 含间位取代的苯环\n",
    "    patt = Chem.MolFromSmarts(\"*!:ccc(!:*)ccc\")\n",
    "    match = mol.GetSubstructMatches(patt)\n",
    "    \n",
    "    # 识别两个间位取代基与苯环的连接原子\n",
    "    connect_atoms = get_connect_atom_in_sidechain(mol,match[0])\n",
    "    # 识别需要被替换苯环原子\n",
    "    core = set(match[0])-set(connect_atoms)\n",
    "\n",
    "    # 记录第一部分的原子数目\n",
    "    mol1_Atom_num = mol.GetNumAtoms()\n",
    "\n",
    "    # 引入螺旋桨烷，并将其与原分子置于一处，使得其编号从·mol1_Atom_num+0·开始\n",
    "    re_pat = Chem.MolFromSmiles(\"C12CCCC(C2)C1\")\n",
    "    mid_mol = Chem.CombineMols(mol,re_pat)\n",
    "    mid_edited = Chem.EditableMol(mid_mol)\n",
    "\n",
    "    # 开始成键,螺旋桨烷烃的桥头碳分别为mol1_Atom_num和mol1_Atom_num+4\n",
    "    mid_edited.AddBond(connect_atoms[0],mol1_Atom_num,order=Chem.rdchem.BondType.SINGLE)\n",
    "    mid_edited.AddBond(connect_atoms[1],mol1_Atom_num+4,order=Chem.rdchem.BondType.SINGLE)\n",
    "    # 删除原来的苯环,每删除一个原子后原子序号都会发生改变，所以需要倒序删除。\n",
    "    phenyl_atoms = list(core)\n",
    "    phenyl_atoms.sort(reverse=True)\n",
    "    for i in phenyl_atoms:\n",
    "        mid_edited.RemoveAtom(i)\n",
    "    BCHep_mol = mid_edited.GetMol()\n",
    "    return BCHep_mol\n",
    "\n",
    "test = phe2bch_test(\"CN1C(=O)C=C(N=C1N)[C@H]2C[C@H]2c3cccc(c3)c4cccc(c4)OC\")\n",
    "mol_with_atom_index(test)"
   ]
  },
  {
   "cell_type": "code",
   "execution_count": null,
   "metadata": {},
   "outputs": [],
   "source": [
    "def copy_partconf(refmol,refconf,partsmi,inpmol,inpconf,inpff):\n",
    "    # introduct a middle mol for \n",
    "    partmol = Chem.MolFromSmarts(partsmi)\n",
    "    partmol = Chem.AddHs(partmol)\n",
    "    AllChem.EmbedMolecule(partmol)\n",
    "    partmol = Chem.RemoveAllHs(partmol)\n",
    "    partconf = partmol.GetConformer()\n",
    "\n",
    "    # copy conf from refmol to middle mol\n",
    "    mcs_ref2part = rdFMCS.FindMCS([refmol, partmol],timeout=3)\n",
    "    for i, j in zip(refmol.GetSubstructMatch(mcs_ref2part),partmol.GetSubstructMatch(mcs_ref2part)):\n",
    "        partconf.SetAtomPosition(j,refconf.GetAtomPosition(i))\n",
    "    mcs_part2inp = rdFMCS.FindMCS([inpmol, partmol],timeout=3)\n",
    "    \n",
    "    # copy conf from middle mol to inpmol\n",
    "    for i, j in zip(partmol.GetSubstructMatch(mcs_part2inp),inpmol.GetSubstructMatch(mcs_part2inp)):\n",
    "        inpff.AddFixedPoint(j)\n",
    "        inpconf.SetAtomPosition(j,partconf.GetAtomPosition(i))\n",
    "    return 0\n",
    "\n"
   ]
  },
  {
   "cell_type": "code",
   "execution_count": null,
   "metadata": {},
   "outputs": [],
   "source": [
    "def getpdb_test(refmol,inpmol,pdbfile):\n",
    "    \n",
    "    bonded_conf = refmol.GetConformer()\n",
    "    conf_res = inpmol.GetConformer()\n",
    "    inpmol_prop = Chem.rdForceFieldHelpers.MMFFGetMoleculeProperties(inpmol)\n",
    "    if inpmol_prop:\n",
    "        ff_mcs = Chem.rdForceFieldHelpers.MMFFGetMoleculeForceField(inpmol,inpmol_prop)\n",
    "    else:\n",
    "        ff_mcs = Chem.rdForceFieldHelpers.UFFGetMoleculeForceField(inpmol)\n",
    "\n",
    "\n",
    "    core = Chem.MolFromSmiles(\"C12CCCC(C2)C1\")\n",
    "    side_chains, unmatched = rdRGD.RGroupDecompose([core],[inpmol])\n",
    "    for R in ['R1','R2']:\n",
    "        sidechain = side_chains[0][R]\n",
    "        sidechain_conf = sidechain.GetConformer()\n",
    "\n",
    "        mcs_ref2mid = rdFMCS.FindMCS([refmol, sidechain],timeout=3,bondCompare=rdFMCS.BondCompare.CompareAny)\n",
    "        for i, j in zip(refmol.GetSubstructMatch(mcs_ref2mid.queryMol),sidechain.GetSubstructMatch(mcs_ref2mid.queryMol)):\n",
    "            sidechain_conf.SetAtomPosition(j, bonded_conf.GetAtomPosition(i))\n",
    "        \n",
    "        mcs_mid2inp = rdFMCS.FindMCS([inpmol, sidechain],timeout=3,bondCompare=rdFMCS.BondCompare.CompareOrderExact)\n",
    "        for i, j in zip(sidechain.GetSubstructMatch(mcs_mid2inp.queryMol),inpmol.GetSubstructMatch(mcs_mid2inp.queryMol)):\n",
    "            try:\n",
    "                ff_mcs.AddFixedPoint(j)\n",
    "                conf_res.SetAtomPosition(j, sidechain_conf.GetAtomPosition(i))\n",
    "            except:\n",
    "                print(f\"error {inpmol.GetAtomWithIdx(j).GetSymbol()}\")\n",
    "        \n",
    "        mcs1 = rdFMCS.FindMCS([refmol, sidechain],timeout=3,bondCompare=rdFMCS.BondCompare.CompareAny)\n",
    "        mcs3 = rdFMCS.FindMCS([inpmol, sidechain],timeout=3,bondCompare=rdFMCS.BondCompare.CompareOrderExact)\n",
    "        sidechain_ref = refmol.GetSubstructMatch(mcs1.queryMol)\n",
    "        sidechain_gen = inpmol.GetSubstructMatch(mcs3.queryMol)\n",
    "        atom_connect_sidechain_core_ref = get_connect_atom_in_core(refmol, sidechain_ref)[0]\n",
    "        atom_connect_sidechain_core_gen = get_connect_atom_in_core(inpmol, sidechain_gen)[0]\n",
    "        ff_mcs.AddFixedPoint(atom_connect_sidechain_core_gen)\n",
    "        conf_res.SetAtomPosition(atom_connect_sidechain_core_gen,bonded_conf.GetAtomPosition(atom_connect_sidechain_core_ref))\n",
    "        \n",
    "    for i in range(6):\n",
    "        try:\n",
    "            ff_mcs.Minimize()\n",
    "        except:\n",
    "            pass\n",
    "\n",
    "#    for i, j in zip(refmol.GetSubstructMatch(mcs.queryMol), inpmol.GetSubstructMatch(mcs.queryMol)):\n",
    "#        ff_mcs.AddFixedPoint(j)\n",
    "#        conf_res.SetAtomPosition(j, bonded_conf.GetAtomPosition(i))\n",
    "#    for i in range(10):\n",
    "#        try:\n",
    "#            ff_mcs.Minimize()\n",
    "#        except:\n",
    "#            pass\n",
    "    Chem.MolToPDBFile(inpmol, pdbfile)\n",
    "    return inpmol"
   ]
  },
  {
   "cell_type": "code",
   "execution_count": null,
   "metadata": {},
   "outputs": [],
   "source": [
    "def phe2bch_topdb_test(smi0,refpdb,name):\n",
    "    mol = phe2bch_test(smi0)\n",
    "    smi = Chem.MolToSmiles(mol)\n",
    "    mol = Chem.MolFromSmiles(smi)\n",
    "    mol = Chem.AddHs(mol)\n",
    "    AllChem.EmbedMolecule(mol)\n",
    "    mol = Chem.RemoveAllHs(mol)\n",
    "\n",
    "    structure_from_pdb = Chem.MolFromPDBBlock(refpdb)\n",
    "    structure_from_pdb = Chem.RemoveAllHs(structure_from_pdb)\n",
    "    mol_tem = Chem.MolFromSmiles(smi0)\n",
    "    try:\n",
    "        structure_refine = AllChem.AssignBondOrdersFromTemplate(mol_tem,structure_from_pdb)\n",
    "    except:\n",
    "        structure_refine = structure_from_pdb\n",
    "    return getpdb_test(structure_refine,mol,f\"{name}\")"
   ]
  },
  {
   "cell_type": "code",
   "execution_count": null,
   "metadata": {},
   "outputs": [],
   "source": [
    "key='PIX'\n",
    "pdbid='3lj6'\n",
    "lig_smi=ligands_smi[key][0]\n",
    "pdb_file_path=f\"/home/chengyj/kinase_work/dataset/Bridged_ring/PDB_rings/PHE2BCH_pairs/pdb_dataset/pdb/pdb{pdbid}.ent\"\n",
    "lig_Block = pdb_2_lig_block(pdb_file_path,key,lig_smi)\n",
    "ligand_text = []\n",
    "with open(pdb_file_path) as pdb:\n",
    "    for line in pdb:\n",
    "        if line[0:6] == \"HETATM\" and \"HOH\" not in line and \"WAT\" not in line and \"SO4\" not in line:\n",
    "            ligand_text.append(line)\n",
    "lig_re_test = \"\".join(ligand_text) \n",
    "mol = Chem.MolFromSmiles(lig_smi)\n",
    "# test = phe2bch_topdb_test(lig_smi,lig_Block,f\"{key}_{pdbid}.pdb\")\n",
    "drawit(test)\n",
    "\n"
   ]
  },
  {
   "cell_type": "code",
   "execution_count": null,
   "metadata": {},
   "outputs": [],
   "source": [
    "mol_file = Chem.MolFromPDBBlock(lig_Block,sanitize=False,flavor=1)\n",
    "Chem.AddHs(mol_file)\n",
    "mol_file"
   ]
  },
  {
   "cell_type": "code",
   "execution_count": null,
   "metadata": {},
   "outputs": [],
   "source": [
    "smi0,refpdb,name = lig_smi,lig_Block,f\"{key}_{pdbid}.pdb\"\n",
    "mol = phe2bch_test(smi0)\n",
    "smi = Chem.MolToSmiles(mol)\n",
    "mol = Chem.MolFromSmiles(smi)\n",
    "mol = Chem.AddHs(mol)\n",
    "AllChem.EmbedMolecule(mol)\n",
    "mol = Chem.RemoveAllHs(mol)\n",
    "\n",
    "structure_from_pdb = Chem.MolFromPDBBlock(refpdb)\n",
    "structure_from_pdb = Chem.RemoveAllHs(structure_from_pdb)\n",
    "mol_tem = Chem.MolFromSmiles(smi0)\n",
    "mol_tem = Chem.RemoveHs(mol_tem,sanitize=False)\n",
    "try:\n",
    "    structure_refine = AllChem.AssignBondOrdersFromTemplate(mol_tem,structure_from_pdb)\n",
    "except:\n",
    "    structure_refine = structure_from_pdb\n"
   ]
  },
  {
   "cell_type": "code",
   "execution_count": null,
   "metadata": {},
   "outputs": [],
   "source": [
    "mol_tem"
   ]
  },
  {
   "cell_type": "code",
   "execution_count": null,
   "metadata": {},
   "outputs": [],
   "source": [
    "mol"
   ]
  },
  {
   "cell_type": "code",
   "execution_count": null,
   "metadata": {},
   "outputs": [],
   "source": [
    "refmol,inpmol,pdbfile =structure_refine,mol,f\"{name}\"\n",
    "    \n",
    "bonded_conf = refmol.GetConformer()\n",
    "conf_res = inpmol.GetConformer()\n",
    "inpmol_prop = Chem.rdForceFieldHelpers.MMFFGetMoleculeProperties(inpmol,mmffVariant='MMFF94s')\n",
    "ff_mcs = Chem.rdForceFieldHelpers.MMFFGetMoleculeForceField(inpmol,inpmol_prop)\n",
    "print(ff_mcs)"
   ]
  },
  {
   "cell_type": "code",
   "execution_count": null,
   "metadata": {},
   "outputs": [],
   "source": [
    "core = Chem.MolFromSmiles(\"C12CCCC(C2)C1\")\n",
    "res, unmatched = rdRGD.RGroupDecompose([core],[inpmol])\n",
    "mol_with_atom_index(refmol)\n",
    "drawit(res[0]['R2'])\n",
    "Chem.MolFromSmiles(Chem.MolToSmiles(res[0]['R2']).replace(\"[*:2]\",'').replace(\"[*:1]\",''))"
   ]
  },
  {
   "cell_type": "code",
   "execution_count": null,
   "metadata": {},
   "outputs": [],
   "source": [
    "drawit(refmol)"
   ]
  },
  {
   "cell_type": "code",
   "execution_count": null,
   "metadata": {},
   "outputs": [],
   "source": [
    "mol_with_atom_index(refmol)"
   ]
  },
  {
   "cell_type": "code",
   "execution_count": null,
   "metadata": {},
   "outputs": [],
   "source": [
    "mcs1 = rdFMCS.FindMCS([refmol, res[0]['R2']],timeout=5,bondCompare=rdFMCS.BondCompare.CompareAny)\n",
    "mcs3 = rdFMCS.FindMCS([inpmol, res[0]['R2']],timeout=3,bondCompare=rdFMCS.BondCompare.CompareOrderExact)\n",
    "sidechain_ref = refmol.GetSubstructMatch(mcs1.queryMol)\n",
    "sidechain_gen = inpmol.GetSubstructMatch(mcs3.queryMol)\n",
    "print(sidechain_ref)\n",
    "print(sidechain_gen)\n",
    "\n",
    "atom_connect_sidechain_core_gen = get_connect_atom_in_core(inpmol, sidechain_gen)[0]\n",
    "\n",
    "drawit(refmol)\n",
    "drawit(res[0]['R2'])\n",
    "mcs1.queryMol\n"
   ]
  },
  {
   "cell_type": "code",
   "execution_count": null,
   "metadata": {},
   "outputs": [],
   "source": [
    "test_smi = Chem.MolToSmiles(res[0]['R2'])\n",
    "side_chain_mol = Chem.MolFromSmiles(test_smi)\n",
    "mcs2 = rdFMCS.FindMCS([refmol, side_chain_mol],timeout=5,ringCompare=Chem.rdFMCS.RingCompare.StrictRingFusion)\n",
    "mcs2.queryMol\n",
    "sidechain_ref = refmol.GetSubstructMatch(mcs2.queryMol)\n",
    "sidechain_ref"
   ]
  },
  {
   "cell_type": "code",
   "execution_count": null,
   "metadata": {},
   "outputs": [],
   "source": [
    "for R in ['R1','R2']:\n",
    "    mcs1 = rdFMCS.FindMCS([refmol, res[0][R]],timeout=3,)\n",
    "    mcs3 = rdFMCS.FindMCS([inpmol, res[0][R]],timeout=3,bondCompare=rdFMCS.BondCompare.CompareOrderExact)\n",
    "    sidechain_ref = refmol.GetSubstructMatch(mcs1.queryMol)\n",
    "    sidechain_gen = inpmol.GetSubstructMatch(mcs3.queryMol)\n",
    "    for i, j in zip(sidechain_ref,sidechain_gen):\n",
    "        # print(f\"{R} {i} {j}\")\n",
    "        ff_mcs.AddFixedPoint(j)\n",
    "        conf_res.SetAtomPosition(j, bonded_conf.GetAtomPosition(i))\n",
    "    atom_connect_sidechain_core_ref = get_connect_atom_in_core(refmol, sidechain_ref)[0]\n",
    "    atom_connect_sidechain_core_gen = get_connect_atom_in_core(inpmol, sidechain_gen)[0]\n",
    "    print(atom_connect_sidechain_core_gen)\n",
    "    ff_mcs.AddFixedPoint(atom_connect_sidechain_core_gen)\n",
    "    conf_res.SetAtomPosition(atom_connect_sidechain_core_gen,bonded_conf.GetAtomPosition(atom_connect_sidechain_core_ref))"
   ]
  },
  {
   "cell_type": "code",
   "execution_count": null,
   "metadata": {},
   "outputs": [],
   "source": [
    "drawit(inpmol)"
   ]
  },
  {
   "cell_type": "code",
   "execution_count": null,
   "metadata": {},
   "outputs": [],
   "source": [
    "pdb = Chem.MolFromPDBBlock(lig_Block)\n",
    "drawit(pdb)"
   ]
  },
  {
   "cell_type": "code",
   "execution_count": null,
   "metadata": {},
   "outputs": [],
   "source": [
    "def phe2bch_with_smiles(smi):\n",
    "    # 用于将给定配体中的*间位苯环骨架*替换为*螺旋桨烷骨架*的脚本\n",
    "    # 用smi指定ligand的结构\n",
    "\n",
    "    # 读入分子\n",
    "    mol = Chem.MolFromSmiles(smi)\n",
    "    # 识别间位取代部分: * 匹配任意原子；'!:' 非芳香键； *!:ccc(!:*)ccc 含间位取代的苯环\n",
    "    patt = Chem.MolFromSmarts(\"*!:ccc(!:*)ccc\")\n",
    "    match = mol.GetSubstructMatches(patt)\n",
    "    \n",
    "    # 识别需要被替换苯环原子\n",
    "    ri = mol.GetRingInfo()\n",
    "    for r in ri.AtomRings():\n",
    "        count = 0\n",
    "        for item in match[0]:\n",
    "            if item in set(r):\n",
    "                count+=1\n",
    "        if count == len(match[0])-2:\n",
    "            phenyl_num = set(r)\n",
    "    # 识别两个间位取代基与苯环的连接原子\n",
    "    connect_atoms = list(set(match[0])-phenyl_num)\n",
    "    # 记录第一部分的原子数目\n",
    "    mol1_Atom_num = mol.GetNumAtoms()\n",
    "    # 引入螺旋桨烷，并将其与原分子置于一处，使得其编号从·mol1_Atom_num+0·开始\n",
    "    re_pat = Chem.MolFromSmiles(\"C12CCCC(C2)C1\")\n",
    "    mid_mol = Chem.CombineMols(mol,re_pat)\n",
    "    # 开始成键\n",
    "    mid_edited = Chem.EditableMol(mid_mol)\n",
    "    # 螺旋桨烷烃的桥头碳分别为mol1_Atom_num和mol1_Atom_num+4\n",
    "    mid_edited.AddBond(connect_atoms[0],mol1_Atom_num,order=Chem.rdchem.BondType.SINGLE)\n",
    "    mid_edited.AddBond(connect_atoms[1],mol1_Atom_num+4,order=Chem.rdchem.BondType.SINGLE)\n",
    "    # 删除原来的苯环\n",
    "    # 每删除一个原子后原子序号都会发生改变，所以需要倒序删除。\n",
    "    phenyl_atoms = list(phenyl_num)\n",
    "    phenyl_atoms.sort(reverse=True)\n",
    "    for i in phenyl_atoms:\n",
    "        mid_edited.RemoveAtom(i)\n",
    "    BCHep_mol = mid_edited.GetMol()\n",
    "    return [BCHep_mol,mol1_Atom_num-6]  \n",
    "\n",
    "test = phe2bch_with_smiles(\"Cc1c(sc(n1)N)c2ccnc(n2)Nc3cccc(c3)n4oo4\")"
   ]
  },
  {
   "cell_type": "code",
   "execution_count": null,
   "metadata": {},
   "outputs": [],
   "source": [
    "def getpdb(refmol,inpmol,pdbfile):\n",
    "    mcs = rdFMCS.FindMCS([refmol, inpmol],timeout=3,bondCompare=rdFMCS.BondCompare.CompareOrderExact)\n",
    "    bonded_conf = refmol.GetConformer()\n",
    "    conf_res = inpmol.GetConformer()\n",
    "    inpmol_prop = Chem.rdForceFieldHelpers.MMFFGetMoleculeProperties(inpmol)\n",
    "    ff_mcs = Chem.rdForceFieldHelpers.MMFFGetMoleculeForceField(inpmol,inpmol_prop)\n",
    "    for i, j in zip(refmol.GetSubstructMatch(mcs.queryMol), inpmol.GetSubstructMatch(mcs.queryMol)):\n",
    "        ff_mcs.AddFixedPoint(j)\n",
    "        conf_res.SetAtomPosition(j, bonded_conf.GetAtomPosition(i))\n",
    "    Chem.MolToPDBFile(inpmol, pdbfile)\n",
    "    return inpmol\n"
   ]
  },
  {
   "cell_type": "code",
   "execution_count": null,
   "metadata": {},
   "outputs": [],
   "source": []
  }
 ],
 "metadata": {
  "kernelspec": {
   "display_name": "Python 3.8.13 ('rdkit_new')",
   "language": "python",
   "name": "python3"
  },
  "language_info": {
   "codemirror_mode": {
    "name": "ipython",
    "version": 3
   },
   "file_extension": ".py",
   "mimetype": "text/x-python",
   "name": "python",
   "nbconvert_exporter": "python",
   "pygments_lexer": "ipython3",
   "version": "3.8.13"
  },
  "orig_nbformat": 4,
  "vscode": {
   "interpreter": {
    "hash": "ef7ff853cff2c5df01e22c007126fc9faf677f8af9c79862f6155dbd80f6c983"
   }
  }
 },
 "nbformat": 4,
 "nbformat_minor": 2
}
