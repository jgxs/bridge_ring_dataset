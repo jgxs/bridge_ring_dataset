{
 "cells": [
  {
   "cell_type": "code",
   "execution_count": 176,
   "metadata": {},
   "outputs": [],
   "source": [
    "from rdkit import Chem\n",
    "from rdkit.Chem import AllChem\n",
    "from rdkit.Chem import rdFMCS\n",
    "from rdkit.Chem.Draw import IPythonConsole\n",
    "from rdkit.Chem import rdRGroupDecomposition as rdRGD\n",
    "from rdkit.Geometry.rdGeometry import Point3D\n",
    "# 显示图片\n",
    "\n",
    "import py3Dmol\n",
    "def drawit(m,p=None,confId=-1):\n",
    "        mb = Chem.MolToMolBlock(m,confId=confId)\n",
    "        if p is None:\n",
    "            p = py3Dmol.view(width=400,height=400)\n",
    "        p.removeAllModels()\n",
    "        p.addModel(mb,'sdf')\n",
    "        p.setStyle({'stick':{}})\n",
    "        p.setBackgroundColor('0xeeeeee')\n",
    "        p.zoomTo()\n",
    "        return p.show()\n",
    "\n",
    "def mol_with_atom_index(mol):\n",
    "    atoms = mol.GetNumAtoms()\n",
    "    for idx in range(atoms):\n",
    "        mol.GetAtomWithIdx(idx).SetProp('molAtomMapNumber',str(idx))\n",
    "    return mol"
   ]
  },
  {
   "cell_type": "code",
   "execution_count": 197,
   "metadata": {},
   "outputs": [
    {
     "name": "stdout",
     "output_type": "stream",
     "text": [
      "None\n"
     ]
    }
   ],
   "source": [
    "from Phe2BCH import *\n",
    "\n",
    "\n",
    "ligands_smi = {}\n",
    "with open(\"/home/chengyj/kinase_work/dataset/Bridged_ring/PDB_rings/PHE2BCH_pairs/lig_menu/AaaaA_only3.csv\") as AaaaA:\n",
    "    for line in AaaaA:\n",
    "        info = line.split()\n",
    "        ligands_smi[info[1]] = [info[0]]\n",
    "inp = \"2RG_6zrh\"\n",
    "key = inp.split(\"_\")[0]\n",
    "pdb_id=inp.split(\"_\")[1]\n",
    "lig_smi=ligands_smi[key][0]\n",
    "# print(lig_smi)\n",
    "pdb_path = f\"/home/chengyj/kinase_work/dataset/Bridged_ring/PDB_rings/PHE2BCH_pairs/pdb_dataset/pdb/pdb{pdb_id}.ent\"\n",
    "\n",
    "\n",
    "lig_Block = exctract_ligand_from_pdb(pdb_path,key,lig_smi,f\"{key}_{pdb_id}_sin.pdb\")\n",
    "test = phe2bch_topdb(lig_smi,lig_Block,f\"{key}_{pdb_id}_bch.pdb\")\n",
    "print(test)\n"
   ]
  }
 ],
 "metadata": {
  "kernelspec": {
   "display_name": "Python 3.8.13 ('rdkit_new')",
   "language": "python",
   "name": "python3"
  },
  "language_info": {
   "codemirror_mode": {
    "name": "ipython",
    "version": 3
   },
   "file_extension": ".py",
   "mimetype": "text/x-python",
   "name": "python",
   "nbconvert_exporter": "python",
   "pygments_lexer": "ipython3",
   "version": "3.8.13"
  },
  "orig_nbformat": 4,
  "vscode": {
   "interpreter": {
    "hash": "ef7ff853cff2c5df01e22c007126fc9faf677f8af9c79862f6155dbd80f6c983"
   }
  }
 },
 "nbformat": 4,
 "nbformat_minor": 2
}
