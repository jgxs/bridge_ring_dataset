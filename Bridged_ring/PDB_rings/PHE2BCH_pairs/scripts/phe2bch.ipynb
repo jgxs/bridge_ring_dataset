{
 "cells": [
  {
   "cell_type": "code",
   "execution_count": 176,
   "metadata": {},
   "outputs": [],
   "source": [
    "from rdkit import Chem\n",
    "from rdkit.Chem import AllChem\n",
    "from rdkit.Chem import rdFMCS\n",
    "from rdkit.Chem.Draw import IPythonConsole\n",
    "from rdkit.Chem import rdRGroupDecomposition as rdRGD\n",
    "from rdkit.Geometry.rdGeometry import Point3D\n",
    "# 显示图片\n",
    "\n",
    "import py3Dmol\n",
    "def drawit(m,p=None,confId=-1):\n",
    "        mb = Chem.MolToMolBlock(m,confId=confId)\n",
    "        if p is None:\n",
    "            p = py3Dmol.view(width=400,height=400)\n",
    "        p.removeAllModels()\n",
    "        p.addModel(mb,'sdf')\n",
    "        p.setStyle({'stick':{}})\n",
    "        p.setBackgroundColor('0xeeeeee')\n",
    "        p.zoomTo()\n",
    "        return p.show()\n",
    "\n",
    "def mol_with_atom_index(mol):\n",
    "    atoms = mol.GetNumAtoms()\n",
    "    for idx in range(atoms):\n",
    "        mol.GetAtomWithIdx(idx).SetProp('molAtomMapNumber',str(idx))\n",
    "    return mol"
   ]
  },
  {
   "cell_type": "code",
   "execution_count": 179,
   "metadata": {},
   "outputs": [
    {
     "name": "stderr",
     "output_type": "stream",
     "text": [
      "[17:50:39] WARNING: More than one matching pattern found - picking one\n",
      "\n"
     ]
    },
    {
     "data": {
      "application/3dmoljs_load.v0": "<div id=\"3dmolviewer_16688514391480453\"  style=\"position: relative; width: 400px; height: 400px\">\n        <p id=\"3dmolwarning_16688514391480453\" style=\"background-color:#ffcccc;color:black\">You appear to be running in JupyterLab (or JavaScript failed to load for some other reason).  You need to install the 3dmol extension: <br>\n        <tt>jupyter labextension install jupyterlab_3dmol</tt></p>\n        </div>\n<script>\n\nvar loadScriptAsync = function(uri){\n  return new Promise((resolve, reject) => {\n    var tag = document.createElement('script');\n    tag.src = uri;\n    tag.async = true;\n    tag.onload = () => {\n      resolve();\n    };\n  var firstScriptTag = document.getElementsByTagName('script')[0];\n  firstScriptTag.parentNode.insertBefore(tag, firstScriptTag);\n});\n};\n\nif(typeof $3Dmolpromise === 'undefined') {\n$3Dmolpromise = null;\n  $3Dmolpromise = loadScriptAsync('https://cdn.jsdelivr.net/npm/3dmol@latest/build/3Dmol-min.min.js');\n}\n\nvar viewer_16688514391480453 = null;\nvar warn = document.getElementById(\"3dmolwarning_16688514391480453\");\nif(warn) {\n    warn.parentNode.removeChild(warn);\n}\n$3Dmolpromise.then(function() {\nviewer_16688514391480453 = $3Dmol.createViewer($(\"#3dmolviewer_16688514391480453\"),{backgroundColor:\"white\"});\nviewer_16688514391480453.zoomTo();\n\tviewer_16688514391480453.removeAllModels();\n\tviewer_16688514391480453.addModel(\"\\n     RDKit          3D\\n\\n 33 35  0  0  0  0  0  0  0  0999 V2000\\n  -24.3650  -16.2980  -10.1480 C   0  0  0  0  0  0  0  0  0  0  0  0\\n  -25.2580  -17.1860   -9.4910 C   0  0  0  0  0  0  0  0  0  0  0  0\\n  -26.0780  -16.6760   -8.4300 C   0  0  0  0  0  0  0  0  0  0  0  0\\n  -25.9800  -15.3060   -8.0740 C   0  0  0  0  0  0  0  0  0  0  0  0\\n  -25.1070  -14.4440   -8.7500 C   0  0  0  0  0  0  0  0  0  0  0  0\\n  -24.3100  -14.9300   -9.7710 C   0  0  0  0  0  0  0  0  0  0  0  0\\n  -23.3070  -14.2500  -10.5600 C   0  0  1  0  0  0  0  0  0  0  0  0\\n  -23.6360  -13.2070  -11.6010 C   0  0  0  0  0  0  0  0  0  0  0  0\\n  -22.1000  -13.6940   -9.7000 C   0  0  0  0  0  0  0  0  0  0  0  0\\n  -21.8760  -14.0040   -8.2700 N   0  0  0  0  0  0  0  0  0  0  0  0\\n  -21.9150  -15.1280   -7.6040 C   0  0  0  0  0  0  0  0  0  0  0  0\\n  -21.6350  -13.1760   -7.5780 N   0  0  0  0  0  0  0  0  0  0  0  0\\n  -21.5010  -13.4040   -6.6300 N   0  0  0  0  0  0  0  0  0  0  0  0\\n  -21.6420  -14.6760   -6.4170 C   0  0  0  0  0  0  0  0  0  0  0  0\\n  -21.5220  -15.4830   -5.0960 C   0  0  0  0  0  0  0  0  0  0  0  0\\n  -20.2490  -15.1200   -4.4560 N   0  0  0  0  0  0  0  0  0  0  0  0\\n  -19.1020  -15.6920   -4.6810 C   0  0  0  0  0  0  0  0  0  0  0  0\\n  -19.0190  -16.6160   -5.4620 O   0  0  0  0  0  0  0  0  0  0  0  0\\n  -17.8110  -15.1640   -3.9010 C   0  0  0  0  0  0  0  0  0  0  0  0\\n  -17.2670  -16.3320   -3.0320 C   0  0  0  0  0  0  0  0  0  0  0  0\\n  -18.2580  -16.6570   -1.8490 C   0  0  0  0  0  0  0  0  0  0  0  0\\n  -18.3090  -15.5480   -0.7590 C   0  0  0  0  0  0  0  0  0  0  0  0\\n  -17.4640  -14.6930   -0.7030 O   0  0  0  0  0  0  0  0  0  0  0  0\\n  -19.3730  -15.5610    0.1000 N   0  0  0  0  0  0  0  0  0  0  0  0\\n  -19.5870  -14.7160    1.1470 C   0  0  1  0  0  0  0  0  0  0  0  0\\n  -20.8810  -14.5820    1.7280 C   0  0  0  0  0  0  0  0  0  0  0  0\\n  -18.5030  -14.0410    1.8240 C   0  0  0  0  0  0  0  0  0  0  0  0\\n  -18.7070  -13.2680    2.9860 C   0  0  0  0  0  0  0  0  0  0  0  0\\n  -19.9930  -13.1470    3.4960 C   0  0  0  0  0  0  0  0  0  0  0  0\\n  -21.1240  -13.7870    2.8960 C   0  0  0  0  0  0  0  0  0  0  0  0\\n  -22.4280  -13.6210    3.4920 C   0  0  1  0  0  0  0  0  0  0  0  0\\n  -22.7090  -12.5720    4.0210 O   0  0  0  0  0  0  0  0  0  0  0  0\\n  -23.3170  -14.6090    3.3800 N   0  0  0  0  0  0  0  0  0  0  0  0\\n  2  1  1  0\\n  3  2  1  0\\n  4  3  1  0\\n  5  4  1  0\\n  6  5  1  0\\n  6  1  1  0\\n  7  6  1  0\\n  7  8  1  1\\n  9  7  1  0\\n 10  9  1  0\\n 11 10  1  0\\n 12 10  1  0\\n 13 12  1  0\\n 14 11  1  0\\n 14 13  1  0\\n 15 14  1  0\\n 16 15  1  0\\n 17 16  1  0\\n 18 17  1  0\\n 19 17  1  0\\n 20 19  1  0\\n 21 20  1  0\\n 22 21  1  0\\n 23 22  1  0\\n 24 22  1  0\\n 25 24  1  1\\n 26 25  1  0\\n 27 25  1  0\\n 28 27  1  0\\n 29 28  1  0\\n 30 29  1  0\\n 30 26  1  0\\n 31 30  1  0\\n 32 31  1  0\\n 31 33  1  6\\nM  CHG  1  10   1\\nM  END\\n\",\"sdf\");\n\tviewer_16688514391480453.setStyle({\"stick\": {}});\n\tviewer_16688514391480453.setBackgroundColor(\"0xeeeeee\");\n\tviewer_16688514391480453.zoomTo();\nviewer_16688514391480453.render();\n});\n</script>",
      "text/html": [
       "<div id=\"3dmolviewer_16688514391480453\"  style=\"position: relative; width: 400px; height: 400px\">\n",
       "        <p id=\"3dmolwarning_16688514391480453\" style=\"background-color:#ffcccc;color:black\">You appear to be running in JupyterLab (or JavaScript failed to load for some other reason).  You need to install the 3dmol extension: <br>\n",
       "        <tt>jupyter labextension install jupyterlab_3dmol</tt></p>\n",
       "        </div>\n",
       "<script>\n",
       "\n",
       "var loadScriptAsync = function(uri){\n",
       "  return new Promise((resolve, reject) => {\n",
       "    var tag = document.createElement('script');\n",
       "    tag.src = uri;\n",
       "    tag.async = true;\n",
       "    tag.onload = () => {\n",
       "      resolve();\n",
       "    };\n",
       "  var firstScriptTag = document.getElementsByTagName('script')[0];\n",
       "  firstScriptTag.parentNode.insertBefore(tag, firstScriptTag);\n",
       "});\n",
       "};\n",
       "\n",
       "if(typeof $3Dmolpromise === 'undefined') {\n",
       "$3Dmolpromise = null;\n",
       "  $3Dmolpromise = loadScriptAsync('https://cdn.jsdelivr.net/npm/3dmol@latest/build/3Dmol-min.min.js');\n",
       "}\n",
       "\n",
       "var viewer_16688514391480453 = null;\n",
       "var warn = document.getElementById(\"3dmolwarning_16688514391480453\");\n",
       "if(warn) {\n",
       "    warn.parentNode.removeChild(warn);\n",
       "}\n",
       "$3Dmolpromise.then(function() {\n",
       "viewer_16688514391480453 = $3Dmol.createViewer($(\"#3dmolviewer_16688514391480453\"),{backgroundColor:\"white\"});\n",
       "viewer_16688514391480453.zoomTo();\n",
       "\tviewer_16688514391480453.removeAllModels();\n",
       "\tviewer_16688514391480453.addModel(\"\\n     RDKit          3D\\n\\n 33 35  0  0  0  0  0  0  0  0999 V2000\\n  -24.3650  -16.2980  -10.1480 C   0  0  0  0  0  0  0  0  0  0  0  0\\n  -25.2580  -17.1860   -9.4910 C   0  0  0  0  0  0  0  0  0  0  0  0\\n  -26.0780  -16.6760   -8.4300 C   0  0  0  0  0  0  0  0  0  0  0  0\\n  -25.9800  -15.3060   -8.0740 C   0  0  0  0  0  0  0  0  0  0  0  0\\n  -25.1070  -14.4440   -8.7500 C   0  0  0  0  0  0  0  0  0  0  0  0\\n  -24.3100  -14.9300   -9.7710 C   0  0  0  0  0  0  0  0  0  0  0  0\\n  -23.3070  -14.2500  -10.5600 C   0  0  1  0  0  0  0  0  0  0  0  0\\n  -23.6360  -13.2070  -11.6010 C   0  0  0  0  0  0  0  0  0  0  0  0\\n  -22.1000  -13.6940   -9.7000 C   0  0  0  0  0  0  0  0  0  0  0  0\\n  -21.8760  -14.0040   -8.2700 N   0  0  0  0  0  0  0  0  0  0  0  0\\n  -21.9150  -15.1280   -7.6040 C   0  0  0  0  0  0  0  0  0  0  0  0\\n  -21.6350  -13.1760   -7.5780 N   0  0  0  0  0  0  0  0  0  0  0  0\\n  -21.5010  -13.4040   -6.6300 N   0  0  0  0  0  0  0  0  0  0  0  0\\n  -21.6420  -14.6760   -6.4170 C   0  0  0  0  0  0  0  0  0  0  0  0\\n  -21.5220  -15.4830   -5.0960 C   0  0  0  0  0  0  0  0  0  0  0  0\\n  -20.2490  -15.1200   -4.4560 N   0  0  0  0  0  0  0  0  0  0  0  0\\n  -19.1020  -15.6920   -4.6810 C   0  0  0  0  0  0  0  0  0  0  0  0\\n  -19.0190  -16.6160   -5.4620 O   0  0  0  0  0  0  0  0  0  0  0  0\\n  -17.8110  -15.1640   -3.9010 C   0  0  0  0  0  0  0  0  0  0  0  0\\n  -17.2670  -16.3320   -3.0320 C   0  0  0  0  0  0  0  0  0  0  0  0\\n  -18.2580  -16.6570   -1.8490 C   0  0  0  0  0  0  0  0  0  0  0  0\\n  -18.3090  -15.5480   -0.7590 C   0  0  0  0  0  0  0  0  0  0  0  0\\n  -17.4640  -14.6930   -0.7030 O   0  0  0  0  0  0  0  0  0  0  0  0\\n  -19.3730  -15.5610    0.1000 N   0  0  0  0  0  0  0  0  0  0  0  0\\n  -19.5870  -14.7160    1.1470 C   0  0  1  0  0  0  0  0  0  0  0  0\\n  -20.8810  -14.5820    1.7280 C   0  0  0  0  0  0  0  0  0  0  0  0\\n  -18.5030  -14.0410    1.8240 C   0  0  0  0  0  0  0  0  0  0  0  0\\n  -18.7070  -13.2680    2.9860 C   0  0  0  0  0  0  0  0  0  0  0  0\\n  -19.9930  -13.1470    3.4960 C   0  0  0  0  0  0  0  0  0  0  0  0\\n  -21.1240  -13.7870    2.8960 C   0  0  0  0  0  0  0  0  0  0  0  0\\n  -22.4280  -13.6210    3.4920 C   0  0  1  0  0  0  0  0  0  0  0  0\\n  -22.7090  -12.5720    4.0210 O   0  0  0  0  0  0  0  0  0  0  0  0\\n  -23.3170  -14.6090    3.3800 N   0  0  0  0  0  0  0  0  0  0  0  0\\n  2  1  1  0\\n  3  2  1  0\\n  4  3  1  0\\n  5  4  1  0\\n  6  5  1  0\\n  6  1  1  0\\n  7  6  1  0\\n  7  8  1  1\\n  9  7  1  0\\n 10  9  1  0\\n 11 10  1  0\\n 12 10  1  0\\n 13 12  1  0\\n 14 11  1  0\\n 14 13  1  0\\n 15 14  1  0\\n 16 15  1  0\\n 17 16  1  0\\n 18 17  1  0\\n 19 17  1  0\\n 20 19  1  0\\n 21 20  1  0\\n 22 21  1  0\\n 23 22  1  0\\n 24 22  1  0\\n 25 24  1  1\\n 26 25  1  0\\n 27 25  1  0\\n 28 27  1  0\\n 29 28  1  0\\n 30 29  1  0\\n 30 26  1  0\\n 31 30  1  0\\n 32 31  1  0\\n 31 33  1  6\\nM  CHG  1  10   1\\nM  END\\n\",\"sdf\");\n",
       "\tviewer_16688514391480453.setStyle({\"stick\": {}});\n",
       "\tviewer_16688514391480453.setBackgroundColor(\"0xeeeeee\");\n",
       "\tviewer_16688514391480453.zoomTo();\n",
       "viewer_16688514391480453.render();\n",
       "});\n",
       "</script>"
      ]
     },
     "metadata": {},
     "output_type": "display_data"
    }
   ],
   "source": [
    "ligands_smi = {}\n",
    "with open(\"/home/chengyj/kinase_work/dataset/Bridged_ring/PDB_rings/PHE2BCH_pairs/lig_menu/AaaaA_only3.csv\") as AaaaA:\n",
    "    for line in AaaaA:\n",
    "        info = line.split()\n",
    "        ligands_smi[info[1]] = [info[0]]\n",
    "\n",
    "def rename_atom(atom_to_rename):\n",
    "    name = str(atom_to_rename.GetSymbol())+str(atom_to_rename.GetIdx()+1)\n",
    "    if len(name) == 2:\n",
    "        name = \" \" + name + \" \"\n",
    "    elif len(name) == 3:\n",
    "        name = \" \"+name\n",
    "    elif len(name) == 4:\n",
    "        pass\n",
    "    pdbinfo = atom_to_rename.GetPDBResidueInfo()\n",
    "    Chem.AtomMonomerInfo.SetName(pdbinfo,name)\n",
    "    Chem.AtomPDBResidueInfo.SetAltLoc(pdbinfo,\" \")\n",
    "    Chem.AtomPDBResidueInfo.SetResidueNumber(pdbinfo,1)\n",
    "    return name\n",
    "\n",
    "def pdb_2_lig_block(pdb_path,lig_id,smiles):\n",
    "    # 抽取pdbfile中的ligand部分\n",
    "    # rdkit可读字符串形式的pdbBlock\n",
    "    num = Chem.MolFromSmiles(smiles).GetNumAtoms()\n",
    "    ligand_lines = []\n",
    "    with open(pdb_path) as ent:\n",
    "        for line in ent:\n",
    "            if line[0:6] == \"HETATM\" and line[17:20] == lig_id:\n",
    "                ligand_lines.append(line[0:78]+\"  \\n\")\n",
    "    ligand_start = 0\n",
    "    ligand_end = len(ligand_lines)\n",
    "    altLoc = ligand_lines[16]\n",
    "    for i in range(1,len(ligand_lines)):\n",
    "        if ligand_lines[i][17:26] != ligand_lines[i-1][17:26]:\n",
    "            # print(ligand_lines[i])\n",
    "            ligand_end = i\n",
    "            if ligand_end - ligand_start >= num:\n",
    "                # print(f\"break {ligand_lines[i]}\")\n",
    "                break\n",
    "            else:\n",
    "                ligand_start = i\n",
    "                ligand_end = len(ligand_lines)\n",
    "        else:\n",
    "            pass\n",
    "    # print(num)\n",
    "    # print(ligand_end - ligand_start)\n",
    "    if ligand_end - ligand_start <= 2*num:\n",
    "        # print(1)\n",
    "        lig_Block=\"\".join(ligand_lines[ligand_start:ligand_end])\n",
    "    else:\n",
    "        # print(2)\n",
    "        lig_Block=\"\".join(ligand_lines[ligand_start:ligand_start+num])\n",
    "    # print(lig_Block)\n",
    "    return lig_Block\n",
    "\n",
    "\n",
    "def check_triazole_pdb(mol_pdb,smi):\n",
    "    # sometimes the PDBparser will connect atoms uncorrectly\n",
    "    # this function will remove the extra bond of the atom of \"CN1N=NC=C1\"\n",
    "    mol_check = Chem.MolFromSmiles(smi)\n",
    "    triazole = Chem.MolFromSmiles(\"CN1N=NC=C1\")\n",
    "    match_triazole = mol_check.GetSubstructMatch(triazole)\n",
    "    if not match_triazole:\n",
    "        return mol_pdb\n",
    "    else:\n",
    "        conf = mol_pdb.GetConformer()\n",
    "        mol_edited = Chem.EditableMol(mol_pdb)\n",
    "        for atom in mol_pdb.GetAtoms():\n",
    "            atom_symbol = atom.GetSymbol()\n",
    "            neighors = atom.GetNeighbors()\n",
    "            if atom_symbol == \"N\" and len(neighors) > 3:\n",
    "                N_idx = atom.GetIdx()\n",
    "                dist_Idx = [(Point3D.Distance(conf.GetAtomPosition(item.GetIdx()),conf.GetAtomPosition(N_idx)), item.GetIdx()) for item in neighors]\n",
    "        dist_Idx.sort()\n",
    "        mol_edited.RemoveBond(N_idx,dist_Idx[-1][1])\n",
    "        return mol_edited.GetMol()\n",
    "\n",
    "\n",
    "key='7AG'\n",
    "pdb_id='5lxp'\n",
    "lig_smi = ligands_smi[key][0]\n",
    "lig_smi = Chem.MolToSmiles(Chem.MolFromSmiles(lig_smi),kekuleSmiles=True)\n",
    "# lig_smi=\"[H]/N=C(\\c1cccc(c1)OCC)/[N+H2]\"\n",
    "pdb_path = f\"/home/chengyj/kinase_work/dataset/Bridged_ring/PDB_rings/PHE2BCH_pairs/pdb_dataset/pdb/pdb{pdb_id}.ent\"\n",
    "# print(lig_smi)\n",
    "lig_Block = pdb_2_lig_block(pdb_path,key,lig_smi)\n",
    "structure_from_pdb = Chem.MolFromPDBBlock(lig_Block,flavor=1)\n",
    "structure_from_pdb = check_triazole_pdb(structure_from_pdb,lig_smi)\n",
    "# print(structure_from_pdb.GetAtomWithIdx(1).GetSymbol())\n",
    "#for atom in structure_from_pdb.GetAtoms():\n",
    "    # print(Chem.AtomMonomerInfo.GetName(atom.GetPDBResidueInfo()))\n",
    "#    rename_atom(atom)\n",
    "    # print(Chem.AtomMonomerInfo.GetName(atom.GetPDBResidueInfo()))\n",
    "\n",
    "\n",
    "mol_tem = Chem.MolFromSmiles(lig_smi)\n",
    "structure_refine = AllChem.AssignBondOrdersFromTemplate(mol_tem,structure_from_pdb)\n",
    "drawit(structure_from_pdb)\n",
    "\n"
   ]
  },
  {
   "cell_type": "code",
   "execution_count": 134,
   "metadata": {},
   "outputs": [
    {
     "name": "stdout",
     "output_type": "stream",
     "text": [
      "inp bond before:SINGLE False\n",
      "inp bond before:SINGLE False\n",
      "inp bond before:SINGLE False\n",
      "inp bond before:AROMATIC True\n",
      "inp bond before:AROMATIC True\n",
      "inp bond before:SINGLE False\n",
      "inp bond before:SINGLE False\n",
      "inp bond before:SINGLE False\n",
      "inp bond before:DOUBLE False\n",
      "inp bond before:SINGLE False\n",
      "inp bond before:SINGLE False\n",
      "inp bond before:SINGLE False\n",
      "inp bond before:SINGLE False\n",
      "inp bond before:DOUBLE False\n",
      "inp bond before:SINGLE False\n",
      "inp bond before:SINGLE False\n",
      "inp bond before:AROMATIC True\n",
      "inp bond before:AROMATIC True\n",
      "inp bond before:AROMATIC True\n",
      "inp bond before:AROMATIC True\n",
      "inp bond before:SINGLE False\n",
      "inp bond before:SINGLE False\n",
      "inp bond before:DOUBLE False\n",
      "inp bond before:AROMATIC True\n",
      "inp bond before:AROMATIC True\n",
      "inp bond before:AROMATIC True\n",
      "inp bond before:SINGLE False\n",
      "inp bond before:AROMATIC True\n",
      "inp bond before:AROMATIC True\n",
      "inp bond before:AROMATIC True\n",
      "inp bond before:AROMATIC True\n",
      "inp bond before:AROMATIC True\n",
      "inp bond before:AROMATIC True\n",
      "inp bond before:AROMATIC True\n",
      "inp bond before:AROMATIC True\n"
     ]
    },
    {
     "ename": "ValueError",
     "evalue": "No matching found",
     "output_type": "error",
     "traceback": [
      "\u001b[0;31m---------------------------------------------------------------------------\u001b[0m",
      "\u001b[0;31mValueError\u001b[0m                                Traceback (most recent call last)",
      "Cell \u001b[0;32mIn [134], line 2\u001b[0m\n\u001b[1;32m      1\u001b[0m \u001b[39mtry\u001b[39;00m:\n\u001b[0;32m----> 2\u001b[0m     structure_refine \u001b[39m=\u001b[39m AllChem\u001b[39m.\u001b[39;49mAssignBondOrdersFromTemplate(mol_tem,structure_from_pdb)\n\u001b[1;32m      3\u001b[0m \u001b[39mexcept\u001b[39;00m:\n",
      "File \u001b[0;32m~/miniconda3/envs/rdkit_new/lib/python3.8/site-packages/rdkit/Chem/AllChem.py:438\u001b[0m, in \u001b[0;36mAssignBondOrdersFromTemplate\u001b[0;34m(refmol, mol)\u001b[0m\n\u001b[1;32m    437\u001b[0m   \u001b[39melse\u001b[39;00m:\n\u001b[0;32m--> 438\u001b[0m     \u001b[39mraise\u001b[39;00m \u001b[39mValueError\u001b[39;00m(\u001b[39m\"\u001b[39m\u001b[39mNo matching found\u001b[39m\u001b[39m\"\u001b[39m)\n\u001b[1;32m    439\u001b[0m \u001b[39mreturn\u001b[39;00m mol2\n",
      "\u001b[0;31mValueError\u001b[0m: No matching found",
      "\nDuring handling of the above exception, another exception occurred:\n",
      "\u001b[0;31mValueError\u001b[0m                                Traceback (most recent call last)",
      "Cell \u001b[0;32mIn [134], line 6\u001b[0m\n\u001b[1;32m      4\u001b[0m     mol_tem \u001b[39m=\u001b[39m AllChem\u001b[39m.\u001b[39mRemoveAllHs(mol_tem)\n\u001b[1;32m      5\u001b[0m     structure_from_pdb \u001b[39m=\u001b[39m AllChem\u001b[39m.\u001b[39mRemoveAllHs(structure_from_pdb)\n\u001b[0;32m----> 6\u001b[0m     structure_refine \u001b[39m=\u001b[39m AssignBond(mol_tem,structure_from_pdb)\n\u001b[1;32m      7\u001b[0m ligwithH \u001b[39m=\u001b[39m Chem\u001b[39m.\u001b[39mAddHs(structure_refine,addCoords\u001b[39m=\u001b[39m\u001b[39mTrue\u001b[39;00m)\n\u001b[1;32m      9\u001b[0m atom_tmp \u001b[39m=\u001b[39m ligwithH\u001b[39m.\u001b[39mGetAtomWithIdx(\u001b[39m1\u001b[39m)\u001b[39m.\u001b[39mGetPDBResidueInfo()\n",
      "Cell \u001b[0;32mIn [132], line 103\u001b[0m, in \u001b[0;36mAssignBond\u001b[0;34m(refmol, mol)\u001b[0m\n\u001b[1;32m    101\u001b[0m       mol2\u001b[39m.\u001b[39m__sssAtoms \u001b[39m=\u001b[39m \u001b[39mNone\u001b[39;00m  \u001b[39m# we don't want all bonds highlighted\u001b[39;00m\n\u001b[1;32m    102\u001b[0m   \u001b[39melse\u001b[39;00m:\n\u001b[0;32m--> 103\u001b[0m     \u001b[39mraise\u001b[39;00m \u001b[39mValueError\u001b[39;00m(\u001b[39m\"\u001b[39m\u001b[39mNo matching found\u001b[39m\u001b[39m\"\u001b[39m)\n\u001b[1;32m    104\u001b[0m \u001b[39mreturn\u001b[39;00m mol2\n",
      "\u001b[0;31mValueError\u001b[0m: No matching found"
     ]
    }
   ],
   "source": [
    "try:\n",
    "    structure_refine = AllChem.AssignBondOrdersFromTemplate(mol_tem,structure_from_pdb)\n",
    "except:\n",
    "    mol_tem = AllChem.RemoveAllHs(mol_tem)\n",
    "    structure_from_pdb = AllChem.RemoveAllHs(structure_from_pdb)\n",
    "    structure_refine = AssignBond(mol_tem,structure_from_pdb)\n",
    "ligwithH = Chem.AddHs(structure_refine,addCoords=True)\n",
    "\n",
    "atom_tmp = ligwithH.GetAtomWithIdx(1).GetPDBResidueInfo()\n",
    "for item in ligwithH.GetAtoms():\n",
    "    if item.GetSymbol() == \"H\":\n",
    "        if item.GetPDBResidueInfo():\n",
    "            pass\n",
    "        else:\n",
    "            # print(Chem.AtomPDBResidueInfo(item))\n",
    "            if item.GetPDBResidueInfo():\n",
    "                print(Chem.AtomPDBResidueInfo.GetResidueName(item.GetPDBResidueInfo()))\n",
    "        #print(Chem.AtomMonomerInfo.GetName(item.SetPDBResidueInfo()))\n",
    "Chem.MolToPDBFile(ligwithH,\"test.pdb\")\n",
    "structure_refine"
   ]
  },
  {
   "cell_type": "code",
   "execution_count": 83,
   "metadata": {},
   "outputs": [
    {
     "data": {
      "text/plain": [
       "' NAU'"
      ]
     },
     "execution_count": 83,
     "metadata": {},
     "output_type": "execute_result"
    }
   ],
   "source": [
    "Chem.AtomPDBResidueInfo.GetName(structure_from_pdb.GetAtomWithIdx(9).GetPDBResidueInfo())"
   ]
  },
  {
   "cell_type": "code",
   "execution_count": 53,
   "metadata": {},
   "outputs": [
    {
     "name": "stdout",
     "output_type": "stream",
     "text": [
      "C[C@@H](Cn1cc(nn1)CNC(=O)CCCC(=O)Nc2cccc(c2)C(=O)N)c3ccccc3\n",
      "C[C@@H](CN1C=C(CNC(=O)CCCC(=O)NC2=CC=CC(C(N)=O)=C2)N=N1)C1=CC=CC=C1\n"
     ]
    }
   ],
   "source": [
    "print(lig_smi)\n",
    "Chem.Kekulize(mol_tem)\n",
    "lig_smi2 = Chem.MolToSmiles(mol_tem,kekuleSmiles=True)\n",
    "print(lig_smi2)"
   ]
  },
  {
   "cell_type": "code",
   "execution_count": 135,
   "metadata": {},
   "outputs": [],
   "source": [
    "lig_smi_triazole = \"CN1N=NC=C1\"\n",
    "triazole_from_smi = Chem.MolFromSmiles(lig_smi_triazole)\n",
    "triazole_from_pdb = Chem.MolFromPDBFile(\"triazole.pdb\",proximityBonding=False)\n",
    "triazole_assign_order = AllChem.AssignBondOrdersFromTemplate(triazole_from_smi,triazole_from_pdb)\n",
    "Chem.MolToPDBFile(triazole_assign_order,\"triazole_assigned.pdb\")"
   ]
  },
  {
   "cell_type": "code",
   "execution_count": 136,
   "metadata": {},
   "outputs": [
    {
     "data": {
      "image/png": "[encoded data removed]",
      "text/plain": [
       "<rdkit.Chem.rdchem.Mol at 0x7f19d5afab30>"
      ]
     },
     "execution_count": 136,
     "metadata": {},
     "output_type": "execute_result"
    }
   ],
   "source": [
    "triazole_assign_order"
   ]
  },
  {
   "cell_type": "code",
   "execution_count": 137,
   "metadata": {},
   "outputs": [
    {
     "name": "stdout",
     "output_type": "stream",
     "text": [
      "SINGLE\n",
      "AROMATIC\n",
      "AROMATIC\n"
     ]
    },
    {
     "data": {
      "image/png": "[encoded data removed]",
      "text/plain": [
       "<rdkit.Chem.rdchem.Mol at 0x7f19d5af6970>"
      ]
     },
     "execution_count": 137,
     "metadata": {},
     "output_type": "execute_result"
    }
   ],
   "source": [
    "for atom in triazole_from_smi.GetAtoms():\n",
    "    if len(atom.GetBonds()) == 3:\n",
    "        for b in atom.GetBonds():\n",
    "            print(b.GetBondType())\n",
    "Chem.SanitizeMol(triazole_from_smi)\n",
    "triazole_from_smi\n"
   ]
  },
  {
   "cell_type": "code",
   "execution_count": 143,
   "metadata": {},
   "outputs": [
    {
     "data": {
      "image/png": "[encoded data removed]",
      "text/plain": [
       "<rdkit.Chem.rdchem.Mol at 0x7f19d5a89190>"
      ]
     },
     "execution_count": 143,
     "metadata": {},
     "output_type": "execute_result"
    }
   ],
   "source": [
    "triazole_from_pdb = Chem.MolFromPDBFile(\"triazole.pdb\",proximityBonding=False)\n",
    "triazole_from_pdb"
   ]
  },
  {
   "cell_type": "code",
   "execution_count": 153,
   "metadata": {},
   "outputs": [
    {
     "name": "stdout",
     "output_type": "stream",
     "text": [
      "0  CAV [1]\n",
      "1  NAU [2, 0, 3]\n",
      "2  CAT [5, 1]\n",
      "3  NAD [4, 1]\n",
      "4  NAC [5, 3]\n",
      "5  CAS [4, 2]\n"
     ]
    }
   ],
   "source": [
    "triazole_from_pdb = Chem.MolFromPDBFile(\"triazole.pdb\",proximityBonding=False)\n",
    "for atom in triazole_from_pdb.GetAtoms():\n",
    "    name = Chem.AtomPDBResidueInfo.GetName(atom.GetPDBResidueInfo())\n",
    "    atom_idx = atom.GetIdx()\n",
    "    neighors = atom.GetNeighbors()\n",
    "    neighors_idx = [at.GetIdx() for at in neighors]\n",
    "    print(f\"{atom_idx} {name} {neighors_idx}\")"
   ]
  },
  {
   "cell_type": "code",
   "execution_count": 116,
   "metadata": {},
   "outputs": [
    {
     "name": "stdout",
     "output_type": "stream",
     "text": [
      "ref bond after:SINGLE False\n",
      "ref bond after:AROMATIC True\n",
      "ref bond after:AROMATIC True\n",
      "ref bond after:AROMATIC True\n",
      "ref bond after:AROMATIC True\n",
      "ref bond after:AROMATIC True\n"
     ]
    },
    {
     "data": {
      "image/png": "[encoded data removed]",
      "text/plain": [
       "<rdkit.Chem.rdchem.Mol at 0x7f19d5b8da40>"
      ]
     },
     "execution_count": 116,
     "metadata": {},
     "output_type": "execute_result"
    }
   ],
   "source": [
    "def AssignBond_inhouse(refmol, mol):\n",
    "  refmol2 = Chem.rdchem.Mol(refmol)\n",
    "  mol2 = Chem.rdchem.Mol(mol)\n",
    "  # do the molecules match already?\n",
    "  matching = mol2.GetSubstructMatch(refmol2)\n",
    "  if not matching:  # no, they don't match\n",
    "    # check if bonds of mol are SINGLE\n",
    "    for b in mol2.GetBonds():\n",
    "      # print(f\"ref bond before:{b.GetBondType()} {b.GetIsAromatic()}\")\n",
    "      if b.GetBondType() != Chem.rdchem.BondType.SINGLE:\n",
    "        b.SetBondType(Chem.rdchem.BondType.SINGLE)\n",
    "        b.SetIsAromatic(False)\n",
    "    # set the bonds of mol to SINGLE\n",
    "    for b in refmol2.GetBonds():\n",
    "      # print(f\"inp bond before:{b.GetBondType()} {b.GetIsAromatic()}\")\n",
    "      b.SetBondType(Chem.rdchem.BondType.SINGLE)\n",
    "      b.SetIsAromatic(False)\n",
    "    # set atom charges to zero;\n",
    "    for a in refmol2.GetAtoms():\n",
    "      a.SetFormalCharge(0)\n",
    "    for a in mol2.GetAtoms():\n",
    "      a.SetFormalCharge(0)\n",
    "\n",
    "    matching = mol2.GetSubstructMatches(refmol2, uniquify=True)\n",
    "    # do the molecules match now?\n",
    "    if matching:\n",
    "      matching = matching[0]\n",
    "      # apply matching: set bond properties\n",
    "      for b in refmol.GetBonds():\n",
    "        print(f\"ref bond after:{b.GetBondType()} {b.GetIsAromatic()}\")\n",
    "        atom1 = matching[b.GetBeginAtomIdx()]\n",
    "        atom2 = matching[b.GetEndAtomIdx()]\n",
    "        b2 = mol2.GetBondBetweenAtoms(atom1, atom2)\n",
    "        b2.SetBondType(b.GetBondType())\n",
    "        b2.SetIsAromatic(b.GetIsAromatic())\n",
    "      # apply matching: set atom properties\n",
    "      for a in refmol.GetAtoms():\n",
    "        a2 = mol2.GetAtomWithIdx(matching[a.GetIdx()])\n",
    "        a2.SetHybridization(a.GetHybridization())\n",
    "        a2.SetIsAromatic(a.GetIsAromatic())\n",
    "        a2.SetNumExplicitHs(a.GetNumExplicitHs())\n",
    "        a2.SetFormalCharge(a.GetFormalCharge())\n",
    "      # Chem.SanitizeMol(mol2,sanitizeOps=Chem.rdmolops.SanitizeFlags.SANITIZE_NONE) \n",
    "      if hasattr(mol2, '__sssAtoms'):\n",
    "        mol2.__sssAtoms = None  # we don't want all bonds highlighted\n",
    "    else:\n",
    "      raise ValueError(\"No matching found\")\n",
    "  return mol2\n",
    "triazole_assign_order = AssignBond_inhouse(triazole_from_smi,triazole_from_pdb)\n",
    "triazole_assign_order"
   ]
  },
  {
   "cell_type": "code",
   "execution_count": null,
   "metadata": {},
   "outputs": [],
   "source": [
    "def get_connect_atom_in_core(orimol,sidechain_atom_idxes):\n",
    "    # mol is the whole molecule, the sidechain_atom_idx is the a tuple of the atom idx of a sidechain;\n",
    "    # this function will get the atom connected with the .\n",
    "    connect_atoms_in_core = []\n",
    "    for idx in sidechain_atom_idxes:\n",
    "        for atom in orimol.GetAtomWithIdx(idx).GetNeighbors():\n",
    "            if atom.GetIdx() not in sidechain_atom_idxes:\n",
    "                connect_atoms_in_core.append(atom.GetIdx())\n",
    "    return connect_atoms_in_core"
   ]
  },
  {
   "cell_type": "code",
   "execution_count": null,
   "metadata": {},
   "outputs": [],
   "source": [
    "def get_connect_atom_in_sidechain(orimol,core):\n",
    "    rings = orimol.GetRingInfo()\n",
    "    for r in rings.AtomRings():\n",
    "        count = 0\n",
    "        for idx in core:\n",
    "            if idx in set(r):\n",
    "                count += 1\n",
    "        if count == len(core) - 2:\n",
    "            core_atom_idx = set(r)\n",
    "            connect_atom_in_sidechain = set(core) - core_atom_idx\n",
    "    return list(connect_atom_in_sidechain)\n"
   ]
  },
  {
   "cell_type": "code",
   "execution_count": null,
   "metadata": {},
   "outputs": [],
   "source": [
    "def phe2bch_test(smi):\n",
    "    # 用于将给定配体中的*间位苯环骨架*替换为*螺旋桨烷骨架*的脚本\n",
    "    # 用smi指定ligand的结构\n",
    "\n",
    "    # 读入分子\n",
    "    mol = Chem.MolFromSmiles(smi)\n",
    "    # 识别间位取代部分: * 匹配任意原子；'!:' 非芳香键； *!:ccc(!:*)ccc 含间位取代的苯环\n",
    "    patt = Chem.MolFromSmarts(\"*!:ccc(!:*)ccc\")\n",
    "    match = mol.GetSubstructMatches(patt)\n",
    "    \n",
    "    # 识别两个间位取代基与苯环的连接原子\n",
    "    connect_atoms = get_connect_atom_in_sidechain(mol,match[0])\n",
    "    # 识别需要被替换苯环原子\n",
    "    core = set(match[0])-set(connect_atoms)\n",
    "\n",
    "    # 记录第一部分的原子数目\n",
    "    mol1_Atom_num = mol.GetNumAtoms()\n",
    "\n",
    "    # 引入螺旋桨烷，并将其与原分子置于一处，使得其编号从·mol1_Atom_num+0·开始\n",
    "    re_pat = Chem.MolFromSmiles(\"C12CCCC(C2)C1\")\n",
    "    mid_mol = Chem.CombineMols(mol,re_pat)\n",
    "    mid_edited = Chem.EditableMol(mid_mol)\n",
    "\n",
    "    # 开始成键,螺旋桨烷烃的桥头碳分别为mol1_Atom_num和mol1_Atom_num+4\n",
    "    mid_edited.AddBond(connect_atoms[0],mol1_Atom_num,order=Chem.rdchem.BondType.SINGLE)\n",
    "    mid_edited.AddBond(connect_atoms[1],mol1_Atom_num+4,order=Chem.rdchem.BondType.SINGLE)\n",
    "    # 删除原来的苯环,每删除一个原子后原子序号都会发生改变，所以需要倒序删除。\n",
    "    phenyl_atoms = list(core)\n",
    "    phenyl_atoms.sort(reverse=True)\n",
    "    for i in phenyl_atoms:\n",
    "        mid_edited.RemoveAtom(i)\n",
    "    BCHep_mol = mid_edited.GetMol()\n",
    "    return BCHep_mol\n",
    "\n",
    "test = phe2bch_test(\"CN1C(=O)C=C(N=C1N)[C@H]2C[C@H]2c3cccc(c3)c4cccc(c4)OC\")\n",
    "mol_with_atom_index(test)"
   ]
  },
  {
   "cell_type": "code",
   "execution_count": null,
   "metadata": {},
   "outputs": [],
   "source": [
    "def copy_partconf(refmol,refconf,partsmi,inpmol,inpconf,inpff):\n",
    "    # introduct a middle mol for \n",
    "    partmol = Chem.MolFromSmarts(partsmi)\n",
    "    partmol = Chem.AddHs(partmol)\n",
    "    AllChem.EmbedMolecule(partmol)\n",
    "    partmol = Chem.RemoveAllHs(partmol)\n",
    "    partconf = partmol.GetConformer()\n",
    "\n",
    "    # copy conf from refmol to middle mol\n",
    "    mcs_ref2part = rdFMCS.FindMCS([refmol, partmol],timeout=3)\n",
    "    for i, j in zip(refmol.GetSubstructMatch(mcs_ref2part),partmol.GetSubstructMatch(mcs_ref2part)):\n",
    "        partconf.SetAtomPosition(j,refconf.GetAtomPosition(i))\n",
    "    mcs_part2inp = rdFMCS.FindMCS([inpmol, partmol],timeout=3)\n",
    "    \n",
    "    # copy conf from middle mol to inpmol\n",
    "    for i, j in zip(partmol.GetSubstructMatch(mcs_part2inp),inpmol.GetSubstructMatch(mcs_part2inp)):\n",
    "        inpff.AddFixedPoint(j)\n",
    "        inpconf.SetAtomPosition(j,partconf.GetAtomPosition(i))\n",
    "    return 0\n",
    "\n"
   ]
  },
  {
   "cell_type": "code",
   "execution_count": null,
   "metadata": {},
   "outputs": [],
   "source": [
    "def getpdb_test(refmol,inpmol,pdbfile):\n",
    "    \n",
    "    bonded_conf = refmol.GetConformer()\n",
    "    conf_res = inpmol.GetConformer()\n",
    "    inpmol_prop = Chem.rdForceFieldHelpers.MMFFGetMoleculeProperties(inpmol)\n",
    "    if inpmol_prop:\n",
    "        ff_mcs = Chem.rdForceFieldHelpers.MMFFGetMoleculeForceField(inpmol,inpmol_prop)\n",
    "    else:\n",
    "        ff_mcs = Chem.rdForceFieldHelpers.UFFGetMoleculeForceField(inpmol)\n",
    "\n",
    "\n",
    "    core = Chem.MolFromSmiles(\"C12CCCC(C2)C1\")\n",
    "    side_chains, unmatched = rdRGD.RGroupDecompose([core],[inpmol])\n",
    "    for R in ['R1','R2']:\n",
    "        sidechain = side_chains[0][R]\n",
    "        sidechain_conf = sidechain.GetConformer()\n",
    "\n",
    "        mcs_ref2mid = rdFMCS.FindMCS([refmol, sidechain],timeout=3,bondCompare=rdFMCS.BondCompare.CompareAny)\n",
    "        for i, j in zip(refmol.GetSubstructMatch(mcs_ref2mid.queryMol),sidechain.GetSubstructMatch(mcs_ref2mid.queryMol)):\n",
    "            sidechain_conf.SetAtomPosition(j, bonded_conf.GetAtomPosition(i))\n",
    "        \n",
    "        mcs_mid2inp = rdFMCS.FindMCS([inpmol, sidechain],timeout=3,bondCompare=rdFMCS.BondCompare.CompareOrderExact)\n",
    "        for i, j in zip(sidechain.GetSubstructMatch(mcs_mid2inp.queryMol),inpmol.GetSubstructMatch(mcs_mid2inp.queryMol)):\n",
    "            try:\n",
    "                ff_mcs.AddFixedPoint(j)\n",
    "                conf_res.SetAtomPosition(j, sidechain_conf.GetAtomPosition(i))\n",
    "            except:\n",
    "                print(f\"error {inpmol.GetAtomWithIdx(j).GetSymbol()}\")\n",
    "        \n",
    "        mcs1 = rdFMCS.FindMCS([refmol, sidechain],timeout=3,bondCompare=rdFMCS.BondCompare.CompareAny)\n",
    "        mcs3 = rdFMCS.FindMCS([inpmol, sidechain],timeout=3,bondCompare=rdFMCS.BondCompare.CompareOrderExact)\n",
    "        sidechain_ref = refmol.GetSubstructMatch(mcs1.queryMol)\n",
    "        sidechain_gen = inpmol.GetSubstructMatch(mcs3.queryMol)\n",
    "        atom_connect_sidechain_core_ref = get_connect_atom_in_core(refmol, sidechain_ref)[0]\n",
    "        atom_connect_sidechain_core_gen = get_connect_atom_in_core(inpmol, sidechain_gen)[0]\n",
    "        ff_mcs.AddFixedPoint(atom_connect_sidechain_core_gen)\n",
    "        conf_res.SetAtomPosition(atom_connect_sidechain_core_gen,bonded_conf.GetAtomPosition(atom_connect_sidechain_core_ref))\n",
    "        \n",
    "    for i in range(6):\n",
    "        try:\n",
    "            ff_mcs.Minimize()\n",
    "        except:\n",
    "            pass\n",
    "\n",
    "#    for i, j in zip(refmol.GetSubstructMatch(mcs.queryMol), inpmol.GetSubstructMatch(mcs.queryMol)):\n",
    "#        ff_mcs.AddFixedPoint(j)\n",
    "#        conf_res.SetAtomPosition(j, bonded_conf.GetAtomPosition(i))\n",
    "#    for i in range(10):\n",
    "#        try:\n",
    "#            ff_mcs.Minimize()\n",
    "#        except:\n",
    "#            pass\n",
    "    Chem.MolToPDBFile(inpmol, pdbfile)\n",
    "    return inpmol"
   ]
  },
  {
   "cell_type": "code",
   "execution_count": null,
   "metadata": {},
   "outputs": [],
   "source": [
    "def phe2bch_topdb_test(smi0,refpdb,name):\n",
    "    mol = phe2bch_test(smi0)\n",
    "    smi = Chem.MolToSmiles(mol)\n",
    "    mol = Chem.MolFromSmiles(smi)\n",
    "    mol = Chem.AddHs(mol)\n",
    "    AllChem.EmbedMolecule(mol)\n",
    "    mol = Chem.RemoveAllHs(mol)\n",
    "\n",
    "    structure_from_pdb = Chem.MolFromPDBBlock(refpdb)\n",
    "    structure_from_pdb = Chem.RemoveAllHs(structure_from_pdb)\n",
    "    mol_tem = Chem.MolFromSmiles(smi0)\n",
    "    try:\n",
    "        structure_refine = AllChem.AssignBondOrdersFromTemplate(mol_tem,structure_from_pdb)\n",
    "    except:\n",
    "        structure_refine = structure_from_pdb\n",
    "    return getpdb_test(structure_refine,mol,f\"{name}\")"
   ]
  },
  {
   "cell_type": "code",
   "execution_count": null,
   "metadata": {},
   "outputs": [],
   "source": [
    "key='PIX'\n",
    "pdbid='3lj6'\n",
    "lig_smi=ligands_smi[key][0]\n",
    "pdb_file_path=f\"/home/chengyj/kinase_work/dataset/Bridged_ring/PDB_rings/PHE2BCH_pairs/pdb_dataset/pdb/pdb{pdbid}.ent\"\n",
    "lig_Block = pdb_2_lig_block(pdb_file_path,key,lig_smi)\n",
    "ligand_text = []\n",
    "with open(pdb_file_path) as pdb:\n",
    "    for line in pdb:\n",
    "        if line[0:6] == \"HETATM\" and \"HOH\" not in line and \"WAT\" not in line and \"SO4\" not in line:\n",
    "            ligand_text.append(line)\n",
    "lig_re_test = \"\".join(ligand_text) \n",
    "mol = Chem.MolFromSmiles(lig_smi)\n",
    "# test = phe2bch_topdb_test(lig_smi,lig_Block,f\"{key}_{pdbid}.pdb\")\n",
    "drawit(test)\n",
    "\n"
   ]
  },
  {
   "cell_type": "code",
   "execution_count": null,
   "metadata": {},
   "outputs": [],
   "source": [
    "mol_file = Chem.MolFromPDBBlock(lig_Block,sanitize=False,flavor=1)\n",
    "Chem.AddHs(mol_file)\n",
    "mol_file"
   ]
  },
  {
   "cell_type": "code",
   "execution_count": null,
   "metadata": {},
   "outputs": [],
   "source": [
    "smi0,refpdb,name = lig_smi,lig_Block,f\"{key}_{pdbid}.pdb\"\n",
    "mol = phe2bch_test(smi0)\n",
    "smi = Chem.MolToSmiles(mol)\n",
    "mol = Chem.MolFromSmiles(smi)\n",
    "mol = Chem.AddHs(mol)\n",
    "AllChem.EmbedMolecule(mol)\n",
    "mol = Chem.RemoveAllHs(mol)\n",
    "\n",
    "structure_from_pdb = Chem.MolFromPDBBlock(refpdb)\n",
    "structure_from_pdb = Chem.RemoveAllHs(structure_from_pdb)\n",
    "mol_tem = Chem.MolFromSmiles(smi0)\n",
    "mol_tem = Chem.RemoveHs(mol_tem,sanitize=False)\n",
    "try:\n",
    "    structure_refine = AllChem.AssignBondOrdersFromTemplate(mol_tem,structure_from_pdb)\n",
    "except:\n",
    "    structure_refine = structure_from_pdb\n"
   ]
  },
  {
   "cell_type": "code",
   "execution_count": null,
   "metadata": {},
   "outputs": [],
   "source": [
    "mol_tem"
   ]
  },
  {
   "cell_type": "code",
   "execution_count": null,
   "metadata": {},
   "outputs": [],
   "source": [
    "mol"
   ]
  },
  {
   "cell_type": "code",
   "execution_count": null,
   "metadata": {},
   "outputs": [],
   "source": [
    "refmol,inpmol,pdbfile =structure_refine,mol,f\"{name}\"\n",
    "    \n",
    "bonded_conf = refmol.GetConformer()\n",
    "conf_res = inpmol.GetConformer()\n",
    "inpmol_prop = Chem.rdForceFieldHelpers.MMFFGetMoleculeProperties(inpmol,mmffVariant='MMFF94s')\n",
    "ff_mcs = Chem.rdForceFieldHelpers.MMFFGetMoleculeForceField(inpmol,inpmol_prop)\n",
    "print(ff_mcs)"
   ]
  },
  {
   "cell_type": "code",
   "execution_count": null,
   "metadata": {},
   "outputs": [],
   "source": [
    "core = Chem.MolFromSmiles(\"C12CCCC(C2)C1\")\n",
    "res, unmatched = rdRGD.RGroupDecompose([core],[inpmol])\n",
    "mol_with_atom_index(refmol)\n",
    "drawit(res[0]['R2'])\n",
    "Chem.MolFromSmiles(Chem.MolToSmiles(res[0]['R2']).replace(\"[*:2]\",'').replace(\"[*:1]\",''))"
   ]
  },
  {
   "cell_type": "code",
   "execution_count": null,
   "metadata": {},
   "outputs": [],
   "source": [
    "drawit(refmol)"
   ]
  },
  {
   "cell_type": "code",
   "execution_count": null,
   "metadata": {},
   "outputs": [],
   "source": [
    "mol_with_atom_index(refmol)"
   ]
  },
  {
   "cell_type": "code",
   "execution_count": null,
   "metadata": {},
   "outputs": [],
   "source": [
    "mcs1 = rdFMCS.FindMCS([refmol, res[0]['R2']],timeout=5,bondCompare=rdFMCS.BondCompare.CompareAny)\n",
    "mcs3 = rdFMCS.FindMCS([inpmol, res[0]['R2']],timeout=3,bondCompare=rdFMCS.BondCompare.CompareOrderExact)\n",
    "sidechain_ref = refmol.GetSubstructMatch(mcs1.queryMol)\n",
    "sidechain_gen = inpmol.GetSubstructMatch(mcs3.queryMol)\n",
    "print(sidechain_ref)\n",
    "print(sidechain_gen)\n",
    "\n",
    "atom_connect_sidechain_core_gen = get_connect_atom_in_core(inpmol, sidechain_gen)[0]\n",
    "\n",
    "drawit(refmol)\n",
    "drawit(res[0]['R2'])\n",
    "mcs1.queryMol\n"
   ]
  },
  {
   "cell_type": "code",
   "execution_count": null,
   "metadata": {},
   "outputs": [],
   "source": [
    "test_smi = Chem.MolToSmiles(res[0]['R2'])\n",
    "side_chain_mol = Chem.MolFromSmiles(test_smi)\n",
    "mcs2 = rdFMCS.FindMCS([refmol, side_chain_mol],timeout=5,ringCompare=Chem.rdFMCS.RingCompare.StrictRingFusion)\n",
    "mcs2.queryMol\n",
    "sidechain_ref = refmol.GetSubstructMatch(mcs2.queryMol)\n",
    "sidechain_ref"
   ]
  },
  {
   "cell_type": "code",
   "execution_count": null,
   "metadata": {},
   "outputs": [],
   "source": [
    "for R in ['R1','R2']:\n",
    "    mcs1 = rdFMCS.FindMCS([refmol, res[0][R]],timeout=3,)\n",
    "    mcs3 = rdFMCS.FindMCS([inpmol, res[0][R]],timeout=3,bondCompare=rdFMCS.BondCompare.CompareOrderExact)\n",
    "    sidechain_ref = refmol.GetSubstructMatch(mcs1.queryMol)\n",
    "    sidechain_gen = inpmol.GetSubstructMatch(mcs3.queryMol)\n",
    "    for i, j in zip(sidechain_ref,sidechain_gen):\n",
    "        # print(f\"{R} {i} {j}\")\n",
    "        ff_mcs.AddFixedPoint(j)\n",
    "        conf_res.SetAtomPosition(j, bonded_conf.GetAtomPosition(i))\n",
    "    atom_connect_sidechain_core_ref = get_connect_atom_in_core(refmol, sidechain_ref)[0]\n",
    "    atom_connect_sidechain_core_gen = get_connect_atom_in_core(inpmol, sidechain_gen)[0]\n",
    "    print(atom_connect_sidechain_core_gen)\n",
    "    ff_mcs.AddFixedPoint(atom_connect_sidechain_core_gen)\n",
    "    conf_res.SetAtomPosition(atom_connect_sidechain_core_gen,bonded_conf.GetAtomPosition(atom_connect_sidechain_core_ref))"
   ]
  },
  {
   "cell_type": "code",
   "execution_count": null,
   "metadata": {},
   "outputs": [],
   "source": [
    "drawit(inpmol)"
   ]
  },
  {
   "cell_type": "code",
   "execution_count": null,
   "metadata": {},
   "outputs": [],
   "source": [
    "pdb = Chem.MolFromPDBBlock(lig_Block)\n",
    "drawit(pdb)"
   ]
  },
  {
   "cell_type": "code",
   "execution_count": null,
   "metadata": {},
   "outputs": [],
   "source": [
    "def phe2bch_with_smiles(smi):\n",
    "    # 用于将给定配体中的*间位苯环骨架*替换为*螺旋桨烷骨架*的脚本\n",
    "    # 用smi指定ligand的结构\n",
    "\n",
    "    # 读入分子\n",
    "    mol = Chem.MolFromSmiles(smi)\n",
    "    # 识别间位取代部分: * 匹配任意原子；'!:' 非芳香键； *!:ccc(!:*)ccc 含间位取代的苯环\n",
    "    patt = Chem.MolFromSmarts(\"*!:ccc(!:*)ccc\")\n",
    "    match = mol.GetSubstructMatches(patt)\n",
    "    \n",
    "    # 识别需要被替换苯环原子\n",
    "    ri = mol.GetRingInfo()\n",
    "    for r in ri.AtomRings():\n",
    "        count = 0\n",
    "        for item in match[0]:\n",
    "            if item in set(r):\n",
    "                count+=1\n",
    "        if count == len(match[0])-2:\n",
    "            phenyl_num = set(r)\n",
    "    # 识别两个间位取代基与苯环的连接原子\n",
    "    connect_atoms = list(set(match[0])-phenyl_num)\n",
    "    # 记录第一部分的原子数目\n",
    "    mol1_Atom_num = mol.GetNumAtoms()\n",
    "    # 引入螺旋桨烷，并将其与原分子置于一处，使得其编号从·mol1_Atom_num+0·开始\n",
    "    re_pat = Chem.MolFromSmiles(\"C12CCCC(C2)C1\")\n",
    "    mid_mol = Chem.CombineMols(mol,re_pat)\n",
    "    # 开始成键\n",
    "    mid_edited = Chem.EditableMol(mid_mol)\n",
    "    # 螺旋桨烷烃的桥头碳分别为mol1_Atom_num和mol1_Atom_num+4\n",
    "    mid_edited.AddBond(connect_atoms[0],mol1_Atom_num,order=Chem.rdchem.BondType.SINGLE)\n",
    "    mid_edited.AddBond(connect_atoms[1],mol1_Atom_num+4,order=Chem.rdchem.BondType.SINGLE)\n",
    "    # 删除原来的苯环\n",
    "    # 每删除一个原子后原子序号都会发生改变，所以需要倒序删除。\n",
    "    phenyl_atoms = list(phenyl_num)\n",
    "    phenyl_atoms.sort(reverse=True)\n",
    "    for i in phenyl_atoms:\n",
    "        mid_edited.RemoveAtom(i)\n",
    "    BCHep_mol = mid_edited.GetMol()\n",
    "    return [BCHep_mol,mol1_Atom_num-6]  \n",
    "\n",
    "test = phe2bch_with_smiles(\"Cc1c(sc(n1)N)c2ccnc(n2)Nc3cccc(c3)n4oo4\")"
   ]
  },
  {
   "cell_type": "code",
   "execution_count": null,
   "metadata": {},
   "outputs": [],
   "source": [
    "def getpdb(refmol,inpmol,pdbfile):\n",
    "    mcs = rdFMCS.FindMCS([refmol, inpmol],timeout=3,bondCompare=rdFMCS.BondCompare.CompareOrderExact)\n",
    "    bonded_conf = refmol.GetConformer()\n",
    "    conf_res = inpmol.GetConformer()\n",
    "    inpmol_prop = Chem.rdForceFieldHelpers.MMFFGetMoleculeProperties(inpmol)\n",
    "    ff_mcs = Chem.rdForceFieldHelpers.MMFFGetMoleculeForceField(inpmol,inpmol_prop)\n",
    "    for i, j in zip(refmol.GetSubstructMatch(mcs.queryMol), inpmol.GetSubstructMatch(mcs.queryMol)):\n",
    "        ff_mcs.AddFixedPoint(j)\n",
    "        conf_res.SetAtomPosition(j, bonded_conf.GetAtomPosition(i))\n",
    "    Chem.MolToPDBFile(inpmol, pdbfile)\n",
    "    return inpmol\n"
   ]
  },
  {
   "cell_type": "code",
   "execution_count": null,
   "metadata": {},
   "outputs": [],
   "source": []
  }
 ],
 "metadata": {
  "kernelspec": {
   "display_name": "Python 3.8.13 ('rdkit_new')",
   "language": "python",
   "name": "python3"
  },
  "language_info": {
   "codemirror_mode": {
    "name": "ipython",
    "version": 3
   },
   "file_extension": ".py",
   "mimetype": "text/x-python",
   "name": "python",
   "nbconvert_exporter": "python",
   "pygments_lexer": "ipython3",
   "version": "3.8.13"
  },
  "orig_nbformat": 4,
  "vscode": {
   "interpreter": {
    "hash": "ef7ff853cff2c5df01e22c007126fc9faf677f8af9c79862f6155dbd80f6c983"
   }
  }
 },
 "nbformat": 4,
 "nbformat_minor": 2
}
