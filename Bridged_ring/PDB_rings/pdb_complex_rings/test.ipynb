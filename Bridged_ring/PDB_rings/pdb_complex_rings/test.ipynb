{
 "cells": [
  {
   "cell_type": "code",
   "execution_count": 3,
   "metadata": {},
   "outputs": [],
   "source": [
    "\n",
    "from urllib.parse import quote\n",
    "url = \"\"\"\n",
    "    {\n",
    "        \"query\":\n",
    "            {\n",
    "                \"type\":\"terminal\",\n",
    "                \"service\":\"chemical\",\n",
    "                \"parameters\":\n",
    "                    {\n",
    "                        \"value\":\"Cc1ccc(cc1Nc2nc(cs2)c3cccnc3)NC(=O)c4ccc(cc4)CN5CCN(CC5)C\",\n",
    "                        \"type\":\"descriptor\",\n",
    "                        \"descriptor_type\":\"SMILES\",\n",
    "                        \"match_type\":\"graph-strict\"\n",
    "                    }\n",
    "            },\n",
    "        \"return_type\":\"entry\"\n",
    "    }\"\"\"\n",
    "url_re = \"https://search.rcsb.org/rcsbsearch/v2/query?json=\"+url.replace(\"\\\"\",quote(\"\\\"\")).replace(\"{\",quote(\"{\")).replace(\"}\",quote(\"}\")).replace(\":\",quote(\":\")).replace(\",\",quote(\",\"))\n",
    "\n"
   ]
  },
  {
   "cell_type": "code",
   "execution_count": null,
   "metadata": {},
   "outputs": [],
   "source": [
    "url = \"\"\"\n",
    "    {\n",
    "        \"query\":\n",
    "            {\n",
    "                \"type\":\"terminal\",\n",
    "                \"service\":\"chemical\",\n",
    "                \"parameters\":\n",
    "                    {\n",
    "                        \"value\":\"Cc1ccc(cc1Nc2nc(cs2)c3cccnc3)NC(=O)c4ccc(cc4)CN5CCN(CC5)C\",\n",
    "                        \"type\":\"descriptor\",\n",
    "                        \"descriptor_type\":\"SMILES\",\n",
    "                        \"match_type\":\"graph-strict\"\n",
    "                    }\n",
    "            },\n",
    "        \"return_type\":\"entry\"\n",
    "    }\"\"\"\n",
    "url_re = \"https://search.rcsb.org/rcsbsearch/v2/query?json=\"+url.replace(\"\\\"\",quote(\"\\\"\")).replace(\"{\",quote(\"{\")).replace(\"}\",quote(\"}\")).replace(\":\",quote(\":\")).replace(\",\",quote(\",\"))"
   ]
  },
  {
   "cell_type": "code",
   "execution_count": 2,
   "metadata": {},
   "outputs": [],
   "source": [
    "with open(\"text.txt\",\"w\") as out:\n",
    "    out.write(url_re)"
   ]
  },
  {
   "cell_type": "code",
   "execution_count": 4,
   "metadata": {},
   "outputs": [
    {
     "data": {
      "text/plain": [
       "200"
      ]
     },
     "execution_count": 4,
     "metadata": {},
     "output_type": "execute_result"
    }
   ],
   "source": [
    "import requests\n",
    "r = requests.get(url_re) # 豆瓣首页\n",
    "r.status_code\n"
   ]
  },
  {
   "cell_type": "code",
   "execution_count": 5,
   "metadata": {},
   "outputs": [
    {
     "data": {
      "text/plain": [
       "['7JU7:1.0,', '5MQL:1.0,', '7TVX:1.0']"
      ]
     },
     "execution_count": 5,
     "metadata": {},
     "output_type": "execute_result"
    }
   ],
   "source": [
    "result = [item.replace(\"\\\"\",\"\").replace(\"\\n\",\"\").replace(\" \",\"\").replace(\"{\",\"\").replace(\"}\",\"\").replace(\"]\",\"\").replace(\",score\",\"\").replace(\":\",\"\",1) for item in r.text.split(\"identifier\")[1:]]\n",
    "result"
   ]
  },
  {
   "cell_type": "code",
   "execution_count": 39,
   "metadata": {},
   "outputs": [],
   "source": [
    "smi = {}\n",
    "with open(\"/home/chengyj/kinase_work/Bridged_ring/chembl_rings/KI_chembl/spiro_bridged_ki.csv\") as smi_file:\n",
    "    for line in smi_file:\n",
    "        smi[line.split()[0]] = line.split()[1]\n",
    "with open(\"/home/chengyj/kinase_work/Bridged_ring/chembl_rings/KI_chembl/data_refined/spiro_ki.csv\") as smi_file:\n",
    "    for line in smi_file:\n",
    "        smi[line.split()[0]] = line.split()[1]\n",
    "with open(\"/home/chengyj/kinase_work/Bridged_ring/chembl_rings/KI_chembl/data_refined/bridged_ki.csv\") as smi_file:\n",
    "    for line in smi_file:\n",
    "        smi[line.split()[0]] = line.split()[1]\n"
   ]
  },
  {
   "cell_type": "code",
   "execution_count": 40,
   "metadata": {},
   "outputs": [
    {
     "name": "stdout",
     "output_type": "stream",
     "text": [
      "True\n"
     ]
    }
   ],
   "source": [
    "item=smi[\"24793\"]\n",
    "url = \"\"\"{\"query\":{\"type\":\"terminal\",\"service\":\"chemical\",\"parameters\":{\"value\":\"SMILES_INPUT\",\"type\":\"descriptor\",\"descriptor_type\":\"SMILES\",\"match_type\":\"graph-strict\"}},\"return_type\":\"entry\"}\"\"\"\n",
    "url_re = \"https://search.rcsb.org/rcsbsearch/v2/query?json=\"+url.replace(\"\\\"\",quote(\"\\\"\")).replace(\"{\",quote(\"{\")).replace(\"}\",quote(\"}\")).replace(\":\",quote(\":\")).replace(\",\",quote(\",\")).replace(\"SMILES_INPUT\",item)\n",
    "r = requests.get(url_re) # 豆瓣首页\n",
    "print(r.status_code==204)"
   ]
  },
  {
   "cell_type": "code",
   "execution_count": 42,
   "metadata": {},
   "outputs": [
    {
     "ename": "AttributeError",
     "evalue": "'str' object has no attribute 'write'",
     "output_type": "error",
     "traceback": [
      "\u001b[0;31m---------------------------------------------------------------------------\u001b[0m",
      "\u001b[0;31mAttributeError\u001b[0m                            Traceback (most recent call last)",
      "\u001b[0;32m/tmp/ipykernel_19658/1116504269.py\u001b[0m in \u001b[0;36m<module>\u001b[0;34m\u001b[0m\n\u001b[1;32m      1\u001b[0m \u001b[0;32mfor\u001b[0m \u001b[0mkey\u001b[0m \u001b[0;32min\u001b[0m \u001b[0msmi\u001b[0m\u001b[0;34m:\u001b[0m\u001b[0;34m\u001b[0m\u001b[0;34m\u001b[0m\u001b[0m\n\u001b[0;32m----> 2\u001b[0;31m     \u001b[0mprint\u001b[0m\u001b[0;34m(\u001b[0m\u001b[0mkey\u001b[0m\u001b[0;34m,\u001b[0m\u001b[0mfile\u001b[0m\u001b[0;34m=\u001b[0m\u001b[0;34m\"/home/chengyj/kinase_work/Bridged_ring/pdb_rings/log\"\u001b[0m\u001b[0;34m)\u001b[0m\u001b[0;34m\u001b[0m\u001b[0;34m\u001b[0m\u001b[0m\n\u001b[0m\u001b[1;32m      3\u001b[0m     \u001b[0murl_re\u001b[0m \u001b[0;34m=\u001b[0m \u001b[0;34m\"https://search.rcsb.org/rcsbsearch/v2/query?json=\"\u001b[0m\u001b[0;34m+\u001b[0m\u001b[0murl\u001b[0m\u001b[0;34m.\u001b[0m\u001b[0mreplace\u001b[0m\u001b[0;34m(\u001b[0m\u001b[0;34m\"\\\"\"\u001b[0m\u001b[0;34m,\u001b[0m\u001b[0mquote\u001b[0m\u001b[0;34m(\u001b[0m\u001b[0;34m\"\\\"\"\u001b[0m\u001b[0;34m)\u001b[0m\u001b[0;34m)\u001b[0m\u001b[0;34m.\u001b[0m\u001b[0mreplace\u001b[0m\u001b[0;34m(\u001b[0m\u001b[0;34m\"{\"\u001b[0m\u001b[0;34m,\u001b[0m\u001b[0mquote\u001b[0m\u001b[0;34m(\u001b[0m\u001b[0;34m\"{\"\u001b[0m\u001b[0;34m)\u001b[0m\u001b[0;34m)\u001b[0m\u001b[0;34m.\u001b[0m\u001b[0mreplace\u001b[0m\u001b[0;34m(\u001b[0m\u001b[0;34m\"}\"\u001b[0m\u001b[0;34m,\u001b[0m\u001b[0mquote\u001b[0m\u001b[0;34m(\u001b[0m\u001b[0;34m\"}\"\u001b[0m\u001b[0;34m)\u001b[0m\u001b[0;34m)\u001b[0m\u001b[0;34m.\u001b[0m\u001b[0mreplace\u001b[0m\u001b[0;34m(\u001b[0m\u001b[0;34m\":\"\u001b[0m\u001b[0;34m,\u001b[0m\u001b[0mquote\u001b[0m\u001b[0;34m(\u001b[0m\u001b[0;34m\":\"\u001b[0m\u001b[0;34m)\u001b[0m\u001b[0;34m)\u001b[0m\u001b[0;34m.\u001b[0m\u001b[0mreplace\u001b[0m\u001b[0;34m(\u001b[0m\u001b[0;34m\",\"\u001b[0m\u001b[0;34m,\u001b[0m\u001b[0mquote\u001b[0m\u001b[0;34m(\u001b[0m\u001b[0;34m\",\"\u001b[0m\u001b[0;34m)\u001b[0m\u001b[0;34m)\u001b[0m\u001b[0;34m.\u001b[0m\u001b[0mreplace\u001b[0m\u001b[0;34m(\u001b[0m\u001b[0;34m\"SMILES_INPUT\"\u001b[0m\u001b[0;34m,\u001b[0m\u001b[0msmi\u001b[0m\u001b[0;34m[\u001b[0m\u001b[0mkey\u001b[0m\u001b[0;34m]\u001b[0m\u001b[0;34m)\u001b[0m\u001b[0;34m\u001b[0m\u001b[0;34m\u001b[0m\u001b[0m\n\u001b[1;32m      4\u001b[0m     \u001b[0mr\u001b[0m \u001b[0;34m=\u001b[0m \u001b[0mrequests\u001b[0m\u001b[0;34m.\u001b[0m\u001b[0mget\u001b[0m\u001b[0;34m(\u001b[0m\u001b[0murl_re\u001b[0m\u001b[0;34m)\u001b[0m\u001b[0;34m\u001b[0m\u001b[0;34m\u001b[0m\u001b[0m\n\u001b[1;32m      5\u001b[0m     \u001b[0;32mif\u001b[0m \u001b[0mr\u001b[0m\u001b[0;34m.\u001b[0m\u001b[0mstatus_code\u001b[0m \u001b[0;34m==\u001b[0m \u001b[0;36m200\u001b[0m\u001b[0;34m:\u001b[0m\u001b[0;34m\u001b[0m\u001b[0;34m\u001b[0m\u001b[0m\n",
      "\u001b[0;31mAttributeError\u001b[0m: 'str' object has no attribute 'write'"
     ]
    }
   ],
   "source": [
    "for key in smi:\n",
    "    print(key,file=\"/home/chengyj/kinase_work/Bridged_ring/pdb_rings/log\")\n",
    "    url_re = \"https://search.rcsb.org/rcsbsearch/v2/query?json=\"+url.replace(\"\\\"\",quote(\"\\\"\")).replace(\"{\",quote(\"{\")).replace(\"}\",quote(\"}\")).replace(\":\",quote(\":\")).replace(\",\",quote(\",\")).replace(\"SMILES_INPUT\",smi[key])\n",
    "    r = requests.get(url_re) \n",
    "    if r.status_code == 200:\n",
    "        result = [item.replace(\"\\\"\",\"\").replace(\"\\n\",\"\").replace(\" \",\"\").replace(\"{\",\"\").replace(\"}\",\"\").replace(\"]\",\"\").replace(\",score\",\"\").replace(\":\",\"\",1) for item in r.text.split(\"identifier\")[1:]]\n",
    "        with open(\"/home/chengyj/kinase_work/Bridged_ring/pdb_rings/bridge_complex.csv\",\"a\") as output:\n",
    "            output.write(f\"{key:>8} {result}\")"
   ]
  }
 ],
 "metadata": {
  "interpreter": {
   "hash": "d0dde89e51fec503cb74275711d19eaeeb460448a8e1343133d627822a59156f"
  },
  "kernelspec": {
   "display_name": "Python 3.7.4 ('base')",
   "language": "python",
   "name": "python3"
  },
  "language_info": {
   "codemirror_mode": {
    "name": "ipython",
    "version": 3
   },
   "file_extension": ".py",
   "mimetype": "text/x-python",
   "name": "python",
   "nbconvert_exporter": "python",
   "pygments_lexer": "ipython3",
   "version": "3.7.4"
  },
  "orig_nbformat": 4
 },
 "nbformat": 4,
 "nbformat_minor": 2
}
